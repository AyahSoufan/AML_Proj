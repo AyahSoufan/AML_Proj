{
 "cells": [
  {
   "cell_type": "code",
   "execution_count": 1,
   "metadata": {
    "collapsed": false
   },
   "outputs": [],
   "source": [
    "#File to average the probability in prediction\n",
    "import pandas as pd\n",
    "method = \"glove_lstm_2_20000\"\n",
    "df0 = pd.read_csv('submission_' + method +  '0.csv')\n",
    "df1 = pd.read_csv('submission_'  + method +  '1.csv')\n",
    "df2 = pd.read_csv('submission_'  + method +  '2.csv')\n",
    "df3 = pd.read_csv('submission_'  + method +  '3.csv')\n",
    "df4 = pd.read_csv('submission_'  + method + '4.csv')"
   ]
  },
  {
   "cell_type": "code",
   "execution_count": 2,
   "metadata": {
    "collapsed": false
   },
   "outputs": [],
   "source": [
    "df_sub = pd.DataFrame()\n",
    "df_sub[\"id\"] = df0[\"id\"]"
   ]
  },
  {
   "cell_type": "code",
   "execution_count": 3,
   "metadata": {
    "collapsed": true
   },
   "outputs": [],
   "source": [
    "classes = [\"toxic\", \"severe_toxic\", \"obscene\" ,\"threat\", \"insult\" ,\"identity_hate\"]\n",
    "for cls in classes:\n",
    "    df_sub[cls] = (df0[cls] + df1[cls] + df2[cls] + df3[cls] + df4[cls]) / 5"
   ]
  },
  {
   "cell_type": "code",
   "execution_count": 4,
   "metadata": {
    "collapsed": false
   },
   "outputs": [
    {
     "data": {
      "text/html": [
       "<div>\n",
       "<style scoped>\n",
       "    .dataframe tbody tr th:only-of-type {\n",
       "        vertical-align: middle;\n",
       "    }\n",
       "\n",
       "    .dataframe tbody tr th {\n",
       "        vertical-align: top;\n",
       "    }\n",
       "\n",
       "    .dataframe thead th {\n",
       "        text-align: right;\n",
       "    }\n",
       "</style>\n",
       "<table border=\"1\" class=\"dataframe\">\n",
       "  <thead>\n",
       "    <tr style=\"text-align: right;\">\n",
       "      <th></th>\n",
       "      <th>id</th>\n",
       "      <th>toxic</th>\n",
       "      <th>severe_toxic</th>\n",
       "      <th>obscene</th>\n",
       "      <th>threat</th>\n",
       "      <th>insult</th>\n",
       "      <th>identity_hate</th>\n",
       "    </tr>\n",
       "  </thead>\n",
       "  <tbody>\n",
       "    <tr>\n",
       "      <th>0</th>\n",
       "      <td>00001cee341fdb12</td>\n",
       "      <td>0.989411</td>\n",
       "      <td>0.974221</td>\n",
       "      <td>0.983964</td>\n",
       "      <td>0.995040</td>\n",
       "      <td>0.989483</td>\n",
       "      <td>0.957824</td>\n",
       "    </tr>\n",
       "    <tr>\n",
       "      <th>1</th>\n",
       "      <td>0000247867823ef7</td>\n",
       "      <td>0.078295</td>\n",
       "      <td>0.199086</td>\n",
       "      <td>0.207206</td>\n",
       "      <td>0.152441</td>\n",
       "      <td>0.115524</td>\n",
       "      <td>0.423133</td>\n",
       "    </tr>\n",
       "    <tr>\n",
       "      <th>2</th>\n",
       "      <td>00013b17ad220c46</td>\n",
       "      <td>0.023435</td>\n",
       "      <td>0.047769</td>\n",
       "      <td>0.035932</td>\n",
       "      <td>0.119854</td>\n",
       "      <td>0.037205</td>\n",
       "      <td>0.119495</td>\n",
       "    </tr>\n",
       "    <tr>\n",
       "      <th>3</th>\n",
       "      <td>00017563c3f7919a</td>\n",
       "      <td>0.005041</td>\n",
       "      <td>0.003980</td>\n",
       "      <td>0.008004</td>\n",
       "      <td>0.019229</td>\n",
       "      <td>0.005480</td>\n",
       "      <td>0.010683</td>\n",
       "    </tr>\n",
       "    <tr>\n",
       "      <th>4</th>\n",
       "      <td>00017695ad8997eb</td>\n",
       "      <td>0.051579</td>\n",
       "      <td>0.101253</td>\n",
       "      <td>0.054970</td>\n",
       "      <td>0.126503</td>\n",
       "      <td>0.039047</td>\n",
       "      <td>0.183260</td>\n",
       "    </tr>\n",
       "  </tbody>\n",
       "</table>\n",
       "</div>"
      ],
      "text/plain": [
       "                 id     toxic  severe_toxic   obscene    threat    insult  \\\n",
       "0  00001cee341fdb12  0.989411      0.974221  0.983964  0.995040  0.989483   \n",
       "1  0000247867823ef7  0.078295      0.199086  0.207206  0.152441  0.115524   \n",
       "2  00013b17ad220c46  0.023435      0.047769  0.035932  0.119854  0.037205   \n",
       "3  00017563c3f7919a  0.005041      0.003980  0.008004  0.019229  0.005480   \n",
       "4  00017695ad8997eb  0.051579      0.101253  0.054970  0.126503  0.039047   \n",
       "\n",
       "   identity_hate  \n",
       "0       0.957824  \n",
       "1       0.423133  \n",
       "2       0.119495  \n",
       "3       0.010683  \n",
       "4       0.183260  "
      ]
     },
     "execution_count": 4,
     "metadata": {},
     "output_type": "execute_result"
    }
   ],
   "source": [
    "df_sub.head()"
   ]
  },
  {
   "cell_type": "code",
   "execution_count": 5,
   "metadata": {
    "collapsed": false
   },
   "outputs": [],
   "source": [
    "df_sub.set_index('id',inplace=True) \n",
    "df_sub.to_csv(\"submission_\" + method +  \"_comp\" +  \".csv\")"
   ]
  },
  {
   "cell_type": "code",
   "execution_count": null,
   "metadata": {
    "collapsed": true
   },
   "outputs": [],
   "source": []
  },
  {
   "cell_type": "code",
   "execution_count": null,
   "metadata": {
    "collapsed": true
   },
   "outputs": [],
   "source": []
  }
 ],
 "metadata": {
  "anaconda-cloud": {},
  "kernelspec": {
   "display_name": "Python [default]",
   "language": "python",
   "name": "python3"
  },
  "language_info": {
   "codemirror_mode": {
    "name": "ipython",
    "version": 3
   },
   "file_extension": ".py",
   "mimetype": "text/x-python",
   "name": "python",
   "nbconvert_exporter": "python",
   "pygments_lexer": "ipython3",
   "version": "3.5.2"
  }
 },
 "nbformat": 4,
 "nbformat_minor": 1
}
