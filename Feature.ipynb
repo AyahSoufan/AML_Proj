{
 "cells": [
  {
   "cell_type": "code",
   "execution_count": 22,
   "metadata": {},
   "outputs": [
    {
     "name": "stdout",
     "output_type": "stream",
     "text": [
      "<class 'pandas.core.frame.DataFrame'>\n"
     ]
    }
   ],
   "source": [
    "import pandas as pd\n",
    "import numpy as np\n",
    "df=pd.read_csv(\"clean_train.csv\",header=0)"
   ]
  },
  {
   "cell_type": "code",
   "execution_count": 2,
   "metadata": {},
   "outputs": [
    {
     "name": "stdout",
     "output_type": "stream",
     "text": [
      "ExplanationWhy edit make username Hardcore Metallica Fan reverted? They vandalisms, closure GAs I vote New York Dolls FAC. And please remove template talk page since I'm retire now.89.205.38.27\n"
     ]
    }
   ],
   "source": [
    "comment=df[\"comment_text\"].values\n",
    "print(comment[0])\n",
    "#words = comment[0].split()"
   ]
  },
  {
   "cell_type": "code",
   "execution_count": 55,
   "metadata": {
    "collapsed": true
   },
   "outputs": [],
   "source": [
    "def feature(comment):\n",
    "    words = comment.split()\n",
    "    upper=0\n",
    "    title=0\n",
    "    star=0\n",
    "    exclamation=0\n",
    "    ls=[]\n",
    "    star_mark=\"*\"\n",
    "    exclamation_mark=\"!!\"\n",
    "    if len(words)>35:\n",
    "        words35=1\n",
    "    else:\n",
    "        words35=0\n",
    "    \n",
    "    for i in words:\n",
    "        if i!=\"I\" and i.isupper():\n",
    "            upper+=1\n",
    "        if i!=\"I\" and i.istitle():\n",
    "            title+=1\n",
    "        if star_mark in i:\n",
    "            star+=1\n",
    "        if exclamation_mark in i:\n",
    "            exclamation+=1\n",
    "    ls.append(comment)\n",
    "    ls.append(words35)\n",
    "    ls.append(upper/len(words))\n",
    "    ls.append(title/len(words))\n",
    "    ls.append(star)\n",
    "    ls.append(exclamation)\n",
    "    return ls"
   ]
  },
  {
   "cell_type": "code",
   "execution_count": 56,
   "metadata": {},
   "outputs": [
    {
     "name": "stderr",
     "output_type": "stream",
     "text": [
      "100%|██████████| 159571/159571 [00:03<00:00, 41148.33it/s]"
     ]
    },
    {
     "name": "stdout",
     "output_type": "stream",
     "text": [
      "[[\"ExplanationWhy edit make username Hardcore Metallica Fan reverted? They vandalisms, closure GAs I vote New York Dolls FAC. And please remove template talk page since I'm retire now.89.205.38.27\", 0, 0.03571428571428571, 0.2857142857142857, 0, 0], [\"D'aww! He match background colour I'm seemingly stick with. Thanks. (talk) 21:51, January 11, 2016 (UTC)\", 0, 0.0625, 0.1875, 0, 0], [\"Hey man, I'm really try edit war. It's guy constantly remove relevant information talk edit instead talk page. He seem care format actual info.\", 0, 0.0, 0.08333333333333333, 0, 0], ['\"MoreI can\\'t make real suggestions improvement - I wonder section statistics later on, subsection \"\"types accidents\"\" -I think reference may need tidy exact format ie date format etc. I later on, no-one else first - preferences format style reference want please let know.There appear backlog article review I guess may delay reviewer turn up. It\\'s list relevant form eg Wikipedia:Good_article_nominations#Transport \"', 1, 0.01639344262295082, 0.01639344262295082, 0, 0], [\"You, sir, hero. Any chance remember page that's on?\", 0, 0.0, 0.2222222222222222, 0, 0], ['\"Congratulations well, use tool well. · talk \"', 0, 0.0, 0.125, 0, 0], ['COCKSUCKER BEFORE YOU PISS AROUND ON MY WORK', 0, 1.0, 0.0, 0, 0], ['Your vandalism Matt Shirvington article reverted. Please again, banned.', 0, 0.0, 0.4444444444444444, 0, 0], [\"Sorry word 'nonsense' offensive you. Anyway, I'm intend write anything article(wow would jump vandalism), I'm merely request encyclopedic one use school reference. I selective breed page almost stub. It point 'animal breeding' short messy article give info. There must someone around expertise eugenics? 93.161.107.169\", 1, 0.0, 0.09090909090909091, 0, 0], ['alignment subject contrary DuLithgow', 0, 0.0, 0.0, 0, 0]]\n"
     ]
    },
    {
     "name": "stderr",
     "output_type": "stream",
     "text": [
      "\n"
     ]
    }
   ],
   "source": [
    "from tqdm import tqdm\n",
    "ls = []\n",
    "for i in tqdm(range(0,len(comment))):\n",
    "    ls.append(feature(comment[i]))\n",
    "print(ls[0:10])"
   ]
  },
  {
   "cell_type": "code",
   "execution_count": 57,
   "metadata": {
    "collapsed": true
   },
   "outputs": [],
   "source": [
    "array=np.array(ls).reshape(len(comment),6)"
   ]
  },
  {
   "cell_type": "code",
   "execution_count": 58,
   "metadata": {
    "collapsed": true
   },
   "outputs": [],
   "source": [
    "dataFrame = pd.DataFrame(array,columns=['comment_text','length35','upper','title','star','exclamation'])"
   ]
  },
  {
   "cell_type": "code",
   "execution_count": 59,
   "metadata": {},
   "outputs": [],
   "source": [
    "#del dataFrame[\"comment_text\"]\n",
    "DF=dataFrame.loc[:,['length35','upper','title','star','exclamation']]\n",
    "DF1=df.loc[:,['toxic','severe_toxic','obscene','threat','insult','identity_hate']]\n",
    "df2 = pd.concat([DF1,DF],axis =1 )"
   ]
  },
  {
   "cell_type": "code",
   "execution_count": 60,
   "metadata": {},
   "outputs": [
    {
     "data": {
      "text/html": [
       "<div>\n",
       "<style scoped>\n",
       "    .dataframe tbody tr th:only-of-type {\n",
       "        vertical-align: middle;\n",
       "    }\n",
       "\n",
       "    .dataframe tbody tr th {\n",
       "        vertical-align: top;\n",
       "    }\n",
       "\n",
       "    .dataframe thead th {\n",
       "        text-align: right;\n",
       "    }\n",
       "</style>\n",
       "<table border=\"1\" class=\"dataframe\">\n",
       "  <thead>\n",
       "    <tr style=\"text-align: right;\">\n",
       "      <th></th>\n",
       "      <th>toxic</th>\n",
       "      <th>severe_toxic</th>\n",
       "      <th>obscene</th>\n",
       "      <th>threat</th>\n",
       "      <th>insult</th>\n",
       "      <th>identity_hate</th>\n",
       "      <th>length35</th>\n",
       "      <th>upper</th>\n",
       "      <th>title</th>\n",
       "      <th>star</th>\n",
       "      <th>exclamation</th>\n",
       "    </tr>\n",
       "  </thead>\n",
       "  <tbody>\n",
       "    <tr>\n",
       "      <th>0</th>\n",
       "      <td>0</td>\n",
       "      <td>0</td>\n",
       "      <td>0</td>\n",
       "      <td>0</td>\n",
       "      <td>0</td>\n",
       "      <td>0</td>\n",
       "      <td>0</td>\n",
       "      <td>0.03571428571428571</td>\n",
       "      <td>0.2857142857142857</td>\n",
       "      <td>0</td>\n",
       "      <td>0</td>\n",
       "    </tr>\n",
       "    <tr>\n",
       "      <th>1</th>\n",
       "      <td>0</td>\n",
       "      <td>0</td>\n",
       "      <td>0</td>\n",
       "      <td>0</td>\n",
       "      <td>0</td>\n",
       "      <td>0</td>\n",
       "      <td>0</td>\n",
       "      <td>0.0625</td>\n",
       "      <td>0.1875</td>\n",
       "      <td>0</td>\n",
       "      <td>0</td>\n",
       "    </tr>\n",
       "    <tr>\n",
       "      <th>2</th>\n",
       "      <td>0</td>\n",
       "      <td>0</td>\n",
       "      <td>0</td>\n",
       "      <td>0</td>\n",
       "      <td>0</td>\n",
       "      <td>0</td>\n",
       "      <td>0</td>\n",
       "      <td>0.0</td>\n",
       "      <td>0.08333333333333333</td>\n",
       "      <td>0</td>\n",
       "      <td>0</td>\n",
       "    </tr>\n",
       "    <tr>\n",
       "      <th>3</th>\n",
       "      <td>0</td>\n",
       "      <td>0</td>\n",
       "      <td>0</td>\n",
       "      <td>0</td>\n",
       "      <td>0</td>\n",
       "      <td>0</td>\n",
       "      <td>1</td>\n",
       "      <td>0.01639344262295082</td>\n",
       "      <td>0.01639344262295082</td>\n",
       "      <td>0</td>\n",
       "      <td>0</td>\n",
       "    </tr>\n",
       "    <tr>\n",
       "      <th>4</th>\n",
       "      <td>0</td>\n",
       "      <td>0</td>\n",
       "      <td>0</td>\n",
       "      <td>0</td>\n",
       "      <td>0</td>\n",
       "      <td>0</td>\n",
       "      <td>0</td>\n",
       "      <td>0.0</td>\n",
       "      <td>0.2222222222222222</td>\n",
       "      <td>0</td>\n",
       "      <td>0</td>\n",
       "    </tr>\n",
       "  </tbody>\n",
       "</table>\n",
       "</div>"
      ],
      "text/plain": [
       "   toxic  severe_toxic  obscene  threat  insult  identity_hate length35  \\\n",
       "0      0             0        0       0       0              0        0   \n",
       "1      0             0        0       0       0              0        0   \n",
       "2      0             0        0       0       0              0        0   \n",
       "3      0             0        0       0       0              0        1   \n",
       "4      0             0        0       0       0              0        0   \n",
       "\n",
       "                 upper                title star exclamation  \n",
       "0  0.03571428571428571   0.2857142857142857    0           0  \n",
       "1               0.0625               0.1875    0           0  \n",
       "2                  0.0  0.08333333333333333    0           0  \n",
       "3  0.01639344262295082  0.01639344262295082    0           0  \n",
       "4                  0.0   0.2222222222222222    0           0  "
      ]
     },
     "execution_count": 60,
     "metadata": {},
     "output_type": "execute_result"
    }
   ],
   "source": [
    "df2.head()"
   ]
  },
  {
   "cell_type": "code",
   "execution_count": 61,
   "metadata": {},
   "outputs": [],
   "source": [
    "df2.to_csv('newfeature.csv')"
   ]
  },
  {
   "cell_type": "code",
   "execution_count": 71,
   "metadata": {},
   "outputs": [
    {
     "data": {
      "image/png": "[encoded data removed]",
      "text/plain": [
       "<matplotlib.figure.Figure at 0x5acbdccc0>"
      ]
     },
     "metadata": {},
     "output_type": "display_data"
    }
   ],
   "source": [
    "import seaborn as sns\n",
    "from matplotlib import pyplot as plt\n",
    "df3=pd.read_csv('newfeature.csv',header=0)\n",
    "corr=df3.corr()\n",
    "sns.heatmap(corr.iloc[1:,1:], vmin=-0.3, vmax=0.3, center=0.0)\n",
    "sns.plt.show()"
   ]
  },
  {
   "cell_type": "code",
   "execution_count": null,
   "metadata": {
    "collapsed": true
   },
   "outputs": [],
   "source": []
  }
 ],
 "metadata": {
  "kernelspec": {
   "display_name": "Python 3",
   "language": "python",
   "name": "python3"
  },
  "language_info": {
   "codemirror_mode": {
    "name": "ipython",
    "version": 3
   },
   "file_extension": ".py",
   "mimetype": "text/x-python",
   "name": "python",
   "nbconvert_exporter": "python",
   "pygments_lexer": "ipython3",
   "version": "3.6.1"
  }
 },
 "nbformat": 4,
 "nbformat_minor": 2
}
