{
 "cells": [
  {
   "cell_type": "code",
   "execution_count": 1,
   "metadata": {
    "collapsed": true
   },
   "outputs": [],
   "source": [
    "#Libraries\n",
    "import pandas as pd"
   ]
  },
  {
   "cell_type": "code",
   "execution_count": 2,
   "metadata": {
    "collapsed": true
   },
   "outputs": [],
   "source": [
    "#Load Data\n",
    "df = pd.read_csv('train1.csv')"
   ]
  },
  {
   "cell_type": "code",
   "execution_count": 3,
   "metadata": {
    "collapsed": true
   },
   "outputs": [],
   "source": [
    "#Before Cleaning Add Features\n",
    "\n",
    "#Comment Lrngth\n",
    "df['total_length'] = df['comment_text'].apply(len)\n",
    "#Capitals\n",
    "df['capitals'] = df['comment_text'].apply(lambda comment: sum(1 for c in comment if c.isupper()))\n",
    "#Percentages of Capitals\n",
    "df['caps_vs_length'] = df.apply(lambda row: float(row['capitals'])/float(row['total_length']),\n",
    "                                axis=1)\n",
    "#Exclamatons\n",
    "df['num_exclamation_marks'] = df['comment_text'].apply(lambda comment: comment.count('!'))\n",
    "#Questions marks\n",
    "df['num_question_marks'] = df['comment_text'].apply(lambda comment: comment.count('?'))\n",
    "#Punctuation\n",
    "df['num_punctuation'] = df['comment_text'].apply(\n",
    "    lambda comment: sum(comment.count(w) for w in '.,;:'))\n",
    "#Symbols\n",
    "df['num_symbols'] = df['comment_text'].apply(\n",
    "    lambda comment: sum(comment.count(w) for w in '*&$%'))\n",
    "#Number of words\n",
    "df['num_words'] = df['comment_text'].apply(lambda comment: len(comment.split()))\n",
    "#Number of unique words\n",
    "df['num_unique_words'] = df['comment_text'].apply(\n",
    "    lambda comment: len(set(w for w in comment.split())))\n",
    "#percentage of unique words\n",
    "df['words_vs_unique'] = df['num_unique_words'] / df['num_words']\n",
    "#Number of smiles\n",
    "df['num_smilies'] = df['comment_text'].apply(\n",
    "    lambda comment: sum(comment.count(w) for w in (':-)', ':)', ';-)', ';)')))"
   ]
  },
  {
   "cell_type": "code",
   "execution_count": 4,
   "metadata": {
    "collapsed": false
   },
   "outputs": [
    {
     "data": {
      "text/html": [
       "<div>\n",
       "<style scoped>\n",
       "    .dataframe tbody tr th:only-of-type {\n",
       "        vertical-align: middle;\n",
       "    }\n",
       "\n",
       "    .dataframe tbody tr th {\n",
       "        vertical-align: top;\n",
       "    }\n",
       "\n",
       "    .dataframe thead th {\n",
       "        text-align: right;\n",
       "    }\n",
       "</style>\n",
       "<table border=\"1\" class=\"dataframe\">\n",
       "  <thead>\n",
       "    <tr style=\"text-align: right;\">\n",
       "      <th></th>\n",
       "      <th>id</th>\n",
       "      <th>comment_text</th>\n",
       "      <th>toxic</th>\n",
       "      <th>severe_toxic</th>\n",
       "      <th>obscene</th>\n",
       "      <th>threat</th>\n",
       "      <th>insult</th>\n",
       "      <th>identity_hate</th>\n",
       "      <th>labeled</th>\n",
       "      <th>total_length</th>\n",
       "      <th>capitals</th>\n",
       "      <th>caps_vs_length</th>\n",
       "      <th>num_exclamation_marks</th>\n",
       "      <th>num_question_marks</th>\n",
       "      <th>num_punctuation</th>\n",
       "      <th>num_symbols</th>\n",
       "      <th>num_words</th>\n",
       "      <th>num_unique_words</th>\n",
       "      <th>words_vs_unique</th>\n",
       "      <th>num_smilies</th>\n",
       "    </tr>\n",
       "  </thead>\n",
       "  <tbody>\n",
       "    <tr>\n",
       "      <th>0</th>\n",
       "      <td>aad7994cb36e5185</td>\n",
       "      <td>Hate All Of You're Work</td>\n",
       "      <td>1</td>\n",
       "      <td>0</td>\n",
       "      <td>0</td>\n",
       "      <td>0</td>\n",
       "      <td>0</td>\n",
       "      <td>0</td>\n",
       "      <td>1</td>\n",
       "      <td>23</td>\n",
       "      <td>5</td>\n",
       "      <td>0.217391</td>\n",
       "      <td>0</td>\n",
       "      <td>0</td>\n",
       "      <td>0</td>\n",
       "      <td>0</td>\n",
       "      <td>5</td>\n",
       "      <td>5</td>\n",
       "      <td>1.000000</td>\n",
       "      <td>0</td>\n",
       "    </tr>\n",
       "    <tr>\n",
       "      <th>1</th>\n",
       "      <td>cc805ab7f7edf1ef</td>\n",
       "      <td>OH NOES TEH IP BAND FROM EDITING? =[</td>\n",
       "      <td>0</td>\n",
       "      <td>0</td>\n",
       "      <td>0</td>\n",
       "      <td>0</td>\n",
       "      <td>0</td>\n",
       "      <td>0</td>\n",
       "      <td>0</td>\n",
       "      <td>36</td>\n",
       "      <td>26</td>\n",
       "      <td>0.722222</td>\n",
       "      <td>0</td>\n",
       "      <td>1</td>\n",
       "      <td>0</td>\n",
       "      <td>0</td>\n",
       "      <td>8</td>\n",
       "      <td>8</td>\n",
       "      <td>1.000000</td>\n",
       "      <td>0</td>\n",
       "    </tr>\n",
       "    <tr>\n",
       "      <th>2</th>\n",
       "      <td>29bc5b83eba03c92</td>\n",
       "      <td>Wha's a reliable source mike? Something that c...</td>\n",
       "      <td>1</td>\n",
       "      <td>1</td>\n",
       "      <td>1</td>\n",
       "      <td>0</td>\n",
       "      <td>1</td>\n",
       "      <td>0</td>\n",
       "      <td>4</td>\n",
       "      <td>112</td>\n",
       "      <td>3</td>\n",
       "      <td>0.026786</td>\n",
       "      <td>0</td>\n",
       "      <td>2</td>\n",
       "      <td>1</td>\n",
       "      <td>0</td>\n",
       "      <td>19</td>\n",
       "      <td>19</td>\n",
       "      <td>1.000000</td>\n",
       "      <td>0</td>\n",
       "    </tr>\n",
       "    <tr>\n",
       "      <th>3</th>\n",
       "      <td>c7600d185651455f</td>\n",
       "      <td>Blocked for marking link rot????????????? \\r\\n...</td>\n",
       "      <td>1</td>\n",
       "      <td>0</td>\n",
       "      <td>0</td>\n",
       "      <td>0</td>\n",
       "      <td>0</td>\n",
       "      <td>0</td>\n",
       "      <td>1</td>\n",
       "      <td>269</td>\n",
       "      <td>6</td>\n",
       "      <td>0.022305</td>\n",
       "      <td>0</td>\n",
       "      <td>19</td>\n",
       "      <td>6</td>\n",
       "      <td>0</td>\n",
       "      <td>43</td>\n",
       "      <td>35</td>\n",
       "      <td>0.813953</td>\n",
       "      <td>0</td>\n",
       "    </tr>\n",
       "    <tr>\n",
       "      <th>4</th>\n",
       "      <td>dfce7de3667da10e</td>\n",
       "      <td>\"I like what you've asked.  Why do we see our ...</td>\n",
       "      <td>0</td>\n",
       "      <td>0</td>\n",
       "      <td>0</td>\n",
       "      <td>0</td>\n",
       "      <td>0</td>\n",
       "      <td>0</td>\n",
       "      <td>0</td>\n",
       "      <td>884</td>\n",
       "      <td>18</td>\n",
       "      <td>0.020362</td>\n",
       "      <td>0</td>\n",
       "      <td>5</td>\n",
       "      <td>10</td>\n",
       "      <td>0</td>\n",
       "      <td>140</td>\n",
       "      <td>106</td>\n",
       "      <td>0.757143</td>\n",
       "      <td>0</td>\n",
       "    </tr>\n",
       "  </tbody>\n",
       "</table>\n",
       "</div>"
      ],
      "text/plain": [
       "                 id                                       comment_text  toxic  \\\n",
       "0  aad7994cb36e5185                            Hate All Of You're Work      1   \n",
       "1  cc805ab7f7edf1ef               OH NOES TEH IP BAND FROM EDITING? =[      0   \n",
       "2  29bc5b83eba03c92  Wha's a reliable source mike? Something that c...      1   \n",
       "3  c7600d185651455f  Blocked for marking link rot????????????? \\r\\n...      1   \n",
       "4  dfce7de3667da10e  \"I like what you've asked.  Why do we see our ...      0   \n",
       "\n",
       "   severe_toxic  obscene  threat  insult  identity_hate  labeled  \\\n",
       "0             0        0       0       0              0        1   \n",
       "1             0        0       0       0              0        0   \n",
       "2             1        1       0       1              0        4   \n",
       "3             0        0       0       0              0        1   \n",
       "4             0        0       0       0              0        0   \n",
       "\n",
       "   total_length  capitals  caps_vs_length  num_exclamation_marks  \\\n",
       "0            23         5        0.217391                      0   \n",
       "1            36        26        0.722222                      0   \n",
       "2           112         3        0.026786                      0   \n",
       "3           269         6        0.022305                      0   \n",
       "4           884        18        0.020362                      0   \n",
       "\n",
       "   num_question_marks  num_punctuation  num_symbols  num_words  \\\n",
       "0                   0                0            0          5   \n",
       "1                   1                0            0          8   \n",
       "2                   2                1            0         19   \n",
       "3                  19                6            0         43   \n",
       "4                   5               10            0        140   \n",
       "\n",
       "   num_unique_words  words_vs_unique  num_smilies  \n",
       "0                 5         1.000000            0  \n",
       "1                 8         1.000000            0  \n",
       "2                19         1.000000            0  \n",
       "3                35         0.813953            0  \n",
       "4               106         0.757143            0  "
      ]
     },
     "execution_count": 4,
     "metadata": {},
     "output_type": "execute_result"
    }
   ],
   "source": [
    "df.head()"
   ]
  },
  {
   "cell_type": "code",
   "execution_count": null,
   "metadata": {
    "collapsed": true
   },
   "outputs": [],
   "source": [
    "#CLEANING:\n",
    "    # Remove \\n\n",
    "df[\"comment_text\"] = df[\"comment_text\"].str.replace(\"\\n\",\" \") \n",
    "df[\"comment_text\"] = df[\"comment_text\"].str.replace(\"\\r\",\" \")   \n"
   ]
  },
  {
   "cell_type": "code",
   "execution_count": 1,
   "metadata": {
    "collapsed": false
   },
   "outputs": [],
   "source": [
    "# Dealing with capitalization \n",
    "#TAKUYA\n",
    "#Argument should be string\n",
    "def c_to_l(s):\n",
    "    s = s.lower()\n",
    "    return s"
   ]
  },
  {
   "cell_type": "code",
   "execution_count": null,
   "metadata": {
    "collapsed": true
   },
   "outputs": [],
   "source": [
    "    # Remove special characters\n",
    "    Qi"
   ]
  },
  {
   "cell_type": "code",
   "execution_count": null,
   "metadata": {
    "collapsed": true
   },
   "outputs": [],
   "source": [
    "# Remove Punctuation \n",
    "#TAKUYA\n",
    "def remove_punctuation(s):\n",
    "    s = s.replace('\"',\"\")\n",
    "    s = s.replace(',',\"\")\n",
    "    s = s.replace('.',\"\")\n",
    "    s = s.replace(\"?\",\"\")\n",
    "    s = s.replace(\"!\",\"\")\n",
    "    s = s.replace(\"[\",\"\")\n",
    "    s = s.replace(\"]\",\"\")\n",
    "    s = s.replace(\"{\",\"\")\n",
    "    s = s.replace(\"}\",\"\")\n",
    "    s = s.replace(\"(\",\"\")\n",
    "    s = s.replace(\")\",\"\")\n",
    "    s = s.replace(\":\",\"\")\n",
    "    s = s.replace(\";\",\"\")\n",
    "    return s"
   ]
  },
  {
   "cell_type": "code",
   "execution_count": null,
   "metadata": {
    "collapsed": true
   },
   "outputs": [],
   "source": [
    "    # Remove numbers\n",
    "    TAKUYA\n",
    "    def remove_number(s):\n",
    "        s = re.sub(r'[0-9]', \"\", s)\n",
    "        return s"
   ]
  },
  {
   "cell_type": "code",
   "execution_count": null,
   "metadata": {
    "collapsed": true
   },
   "outputs": [],
   "source": [
    "# Remove stopword \n",
    "#TAKUYA\n",
    "#argument for this function should be list (after tokenization)\n",
    "#words = s.split(\" \")\n",
    "def stopword_removal(words):\n",
    "    stops = set(stopwords.words(\"english\"))\n",
    "    meaningful_words = [w for w in words if not w in stops]\n",
    "    return meaningful_words"
   ]
  },
  {
   "cell_type": "code",
   "execution_count": null,
   "metadata": {
    "collapsed": true
   },
   "outputs": [],
   "source": [
    "    #Strip white space – Eliminate extra white spaces.\n",
    "    qi"
   ]
  },
  {
   "cell_type": "code",
   "execution_count": 55,
   "metadata": {
    "collapsed": true
   },
   "outputs": [],
   "source": [
    "#ANNOTATION\n",
    "    # it may include structural markup and part-of-speech tagging HTML\n",
    "    #Fay\n",
    "from bs4 import BeautifulSoup \n",
    "def ANNOTATION(df):\n",
    "    length=df.shape[0]\n",
    "    for i in range(length):\n",
    "        soup = BeautifulSoup(df.loc[i,['comment_text']].values[0],\"lxml\")\n",
    "        [s.extract() for s in soup('script','iframe','html')] \n",
    "        df.loc[i,['comment_text']]=soup.get_text()\n",
    "    return df\n",
    "DF=ANNOTATION(df)\n",
    "\"\"\"\n",
    "from bs4 import BeautifulSoup\n",
    "\n",
    "soup = BeautifulSoup('<script>a</script>baba<script>b</script><h1>','lxml')\n",
    "[s.extract() for s in soup('script')]\n",
    "print(soup.get_text())\n",
    "\"\"\""
   ]
  },
  {
   "cell_type": "code",
   "execution_count": null,
   "metadata": {
    "collapsed": true
   },
   "outputs": [],
   "source": [
    "#NORMALIZATION\n",
    "    # translation (mapping) of terms in the scheme \n",
    "    Ayah"
   ]
  },
  {
   "cell_type": "code",
   "execution_count": null,
   "metadata": {
    "collapsed": true
   },
   "outputs": [],
   "source": [
    " # linguistic reductions through:\n",
    "#Stemming and lemmazation\n",
    "#TAKUYA\n",
    "def stemming(words):\n",
    "    lemmatizer = stem.WordNetLemmatizer()\n",
    "    for i in range(len(words)):\n",
    "        words[i] = lemmatizer.lemmatize(words[i],pos='v')\n",
    "    return words"
   ]
  },
  {
   "cell_type": "code",
   "execution_count": null,
   "metadata": {
    "collapsed": true
   },
   "outputs": [],
   "source": [
    " #Sparse terms ??\n",
    "        #We are often not interested in infrequent terms in our documents. Such “sparse” terms should be \n",
    "        #removed from the document term matrix.\n",
    "        Ayah"
   ]
  },
  {
   "cell_type": "code",
   "execution_count": 1,
   "metadata": {
    "collapsed": true
   },
   "outputs": [],
   "source": [
    "#Word Embedding/Text Vectors\n",
    "tak"
   ]
  },
  {
   "cell_type": "code",
   "execution_count": null,
   "metadata": {
    "collapsed": true
   },
   "outputs": [],
   "source": [
    "#Save_To_Excel"
   ]
  }
 ],
 "metadata": {
  "anaconda-cloud": {},
  "kernelspec": {
   "display_name": "Python [default]",
   "language": "python",
   "name": "python3"
  },
  "language_info": {
   "codemirror_mode": {
    "name": "ipython",
    "version": 3
   },
   "file_extension": ".py",
   "mimetype": "text/x-python",
   "name": "python",
   "nbconvert_exporter": "python",
   "pygments_lexer": "ipython3",
   "version": "3.5.2"
  }
 },
 "nbformat": 4,
 "nbformat_minor": 2
}
