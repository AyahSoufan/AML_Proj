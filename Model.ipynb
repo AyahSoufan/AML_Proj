{
 "cells": [
  {
   "cell_type": "code",
   "execution_count": 54,
   "metadata": {
    "collapsed": true
   },
   "outputs": [],
   "source": [
    "import pandas as pd\n",
    "from nltk import tokenize\n",
    "import re\n",
    "from nltk.corpus import stopwords\n",
    "from nltk import stem\n",
    "import numpy as np\n",
    "import math\n",
    "import random\n",
    "from sklearn.model_selection import KFold\n",
    "train=pd.read_csv('train.csv')\n"
   ]
  },
  {
   "cell_type": "code",
   "execution_count": 66,
   "metadata": {
    "collapsed": true
   },
   "outputs": [],
   "source": [
    "#It takes lot of memory though it improve speed of learning \n",
    "#train_data_features = train_data_features.toarray()\n",
    "#Split data into train and validation\n",
    "#Try to predict toxic or not\n",
    "from sklearn.model_selection import train_test_split\n",
    "X_train, X_valid, y_train, y_valid = train_test_split(\n",
    "    train_data_features, df_train[\"toxic\"], test_size=0.5, random_state=5)"
   ]
  },
  {
   "cell_type": "code",
   "execution_count": 67,
   "metadata": {},
   "outputs": [
    {
     "name": "stdout",
     "output_type": "stream",
     "text": [
      "[ 0.87376     0.87904     0.87104     0.87165947  0.87211908]\n",
      "0.873523708724\n"
     ]
    }
   ],
   "source": [
    "from sklearn.ensemble import RandomForestClassifier\n",
    "from sklearn.model_selection import cross_val_score\n",
    "forest = RandomForestClassifier(n_estimators = 100) \n",
    "forest = forest.fit(X_train, y_train)\n",
    "scores = cross_val_score(forest,  train_data_features, df_train[\"toxic\"], cv=5, scoring='accuracy')\n",
    "print(scores)\n",
    "print(scores.mean())"
   ]
  },
  {
   "cell_type": "code",
   "execution_count": 69,
   "metadata": {},
   "outputs": [
    {
     "name": "stdout",
     "output_type": "stream",
     "text": [
      "             precision    recall  f1-score   support\n",
      "\n",
      "          0       0.84      0.91      0.88      7959\n",
      "          1       0.90      0.82      0.86      7665\n",
      "\n",
      "avg / total       0.87      0.87      0.87     15624\n",
      "\n"
     ]
    }
   ],
   "source": [
    "from sklearn import metrics as mtr\n",
    "print(mtr.classification_report(y_valid, result))"
   ]
  },
  {
   "cell_type": "code",
   "execution_count": 70,
   "metadata": {},
   "outputs": [
    {
     "data": {
      "image/png": "[encoded data removed]",
      "text/plain": [
       "<matplotlib.figure.Figure at 0x11b526668>"
      ]
     },
     "metadata": {},
     "output_type": "display_data"
    }
   ],
   "source": [
    "#Probability to calculate ROC curve\n",
    "prob = forest.predict_proba(X_valid)[:,1]\n",
    "#fpr:False Positive, tpr: True Positive\n",
    "#Positive = Toxic comment\n",
    "fpr, tpr, thresholds = mtr.roc_curve(y_valid, prob)\n",
    "from matplotlib import pyplot as plt\n",
    "plt.plot(fpr, tpr)\n",
    "plt.title(\"ROC curve\")\n",
    "plt.xlabel(\"False Positive Rate\")\n",
    "plt.ylabel(\"True Positive Rate\")\n",
    "plt.show()"
   ]
  },
  {
   "cell_type": "code",
   "execution_count": 43,
   "metadata": {},
   "outputs": [
    {
     "name": "stdout",
     "output_type": "stream",
     "text": [
      "[[ 0.85175879  0.14824121]\n",
      " [ 0.05506884  0.94493116]]\n"
     ]
    }
   ],
   "source": [
    "from sklearn.metrics import confusion_matrix \n",
    "import numpy as np\n",
    "cm = confusion_matrix(y_valid, result)\n",
    "cm = cm.astype('float') / cm.sum(axis=1)[:, np.newaxis]\n",
    "print(cm)"
   ]
  },
  {
   "cell_type": "code",
   "execution_count": 71,
   "metadata": {},
   "outputs": [
    {
     "name": "stdout",
     "output_type": "stream",
     "text": [
      "[ 0.89216     0.89296     0.89696     0.88862218  0.89068502]\n",
      "0.892277439751\n"
     ]
    }
   ],
   "source": [
    "from sklearn.linear_model import LogisticRegression\n",
    "from sklearn.model_selection import cross_val_score\n",
    "logist = LogisticRegression()\n",
    "logist = logist.fit(X_train, y_train)\n",
    "scores = cross_val_score(logist,  train_data_features, df_train[\"toxic\"], cv=5, scoring='accuracy')\n",
    "print(scores)\n",
    "print(scores.mean())\n",
    "result1 = logist.predict(X_valid)"
   ]
  },
  {
   "cell_type": "code",
   "execution_count": 72,
   "metadata": {},
   "outputs": [
    {
     "name": "stdout",
     "output_type": "stream",
     "text": [
      "             precision    recall  f1-score   support\n",
      "\n",
      "          0       0.88      0.91      0.89      7959\n",
      "          1       0.90      0.87      0.89      7665\n",
      "\n",
      "avg / total       0.89      0.89      0.89     15624\n",
      "\n"
     ]
    }
   ],
   "source": [
    "from sklearn import metrics as mtr\n",
    "print(mtr.classification_report(y_valid, result1))"
   ]
  },
  {
   "cell_type": "code",
   "execution_count": 73,
   "metadata": {},
   "outputs": [
    {
     "data": {
      "image/png": "[encoded data removed]",
      "text/plain": [
       "<matplotlib.figure.Figure at 0x1187d04e0>"
      ]
     },
     "metadata": {},
     "output_type": "display_data"
    }
   ],
   "source": [
    "#Probability to calculate ROC curve\n",
    "prob = logist.predict_proba(X_valid)[:,1]\n",
    "#fpr:False Positive, tpr: True Positive\n",
    "#Positive = Toxic comment\n",
    "fpr, tpr, thresholds = mtr.roc_curve(y_valid, prob)\n",
    "from matplotlib import pyplot as plt\n",
    "plt.plot(fpr, tpr)\n",
    "plt.title(\"ROC curve\")\n",
    "plt.xlabel(\"False Positive Rate\")\n",
    "plt.ylabel(\"True Positive Rate\")\n",
    "plt.show()"
   ]
  },
  {
   "cell_type": "code",
   "execution_count": 74,
   "metadata": {},
   "outputs": [
    {
     "name": "stdout",
     "output_type": "stream",
     "text": [
      "[[ 0.91129539  0.08870461]\n",
      " [ 0.13150685  0.86849315]]\n"
     ]
    }
   ],
   "source": [
    "from sklearn.metrics import confusion_matrix \n",
    "import numpy as np\n",
    "# confusion_matrix(y_valid, result1)\n",
    "cm = confusion_matrix(y_valid, result1)\n",
    "cm = cm.astype('float') / cm.sum(axis=1)[:, np.newaxis]\n",
    "print(cm)"
   ]
  },
  {
   "cell_type": "code",
   "execution_count": 76,
   "metadata": {},
   "outputs": [
    {
     "name": "stdout",
     "output_type": "stream",
     "text": [
      "[ 0.80976     0.81504     0.8112      0.80828933  0.80745839]\n",
      "0.810349542595\n"
     ]
    }
   ],
   "source": [
    "from sklearn.svm import SVC\n",
    "from sklearn.model_selection import cross_val_score\n",
    "svm = SVC()\n",
    "svm = svm.fit(X_train, y_train)\n",
    "scores = cross_val_score(svm,  train_data_features, df_train[\"toxic\"], cv=5, scoring='accuracy')\n",
    "print(scores)\n",
    "print(scores.mean())\n",
    "result2 = svm.predict(X_valid)"
   ]
  },
  {
   "cell_type": "code",
   "execution_count": 77,
   "metadata": {},
   "outputs": [
    {
     "name": "stdout",
     "output_type": "stream",
     "text": [
      "             precision    recall  f1-score   support\n",
      "\n",
      "          0       0.73      0.92      0.82      7959\n",
      "          1       0.88      0.66      0.75      7665\n",
      "\n",
      "avg / total       0.81      0.79      0.79     15624\n",
      "\n"
     ]
    }
   ],
   "source": [
    "from sklearn import metrics as mtr\n",
    "print(mtr.classification_report(y_valid, result2))"
   ]
  },
  {
   "cell_type": "code",
   "execution_count": 79,
   "metadata": {},
   "outputs": [
    {
     "name": "stdout",
     "output_type": "stream",
     "text": [
      "[[ 0.91669808  0.08330192]\n",
      " [ 0.34363992  0.65636008]]\n"
     ]
    }
   ],
   "source": [
    "from sklearn.metrics import confusion_matrix \n",
    "import numpy as np\n",
    "# confusion_matrix(y_valid, result1)\n",
    "cm = confusion_matrix(y_valid, result2)\n",
    "cm = cm.astype('float') / cm.sum(axis=1)[:, np.newaxis]\n",
    "print(cm)"
   ]
  },
  {
   "cell_type": "code",
   "execution_count": null,
   "metadata": {
    "collapsed": true
   },
   "outputs": [],
   "source": []
  }
 ],
 "metadata": {
  "kernelspec": {
   "display_name": "Python 3",
   "language": "python",
   "name": "python3"
  },
  "language_info": {
   "codemirror_mode": {
    "name": "ipython",
    "version": 3
   },
   "file_extension": ".py",
   "mimetype": "text/x-python",
   "name": "python",
   "nbconvert_exporter": "python",
   "pygments_lexer": "ipython3",
   "version": "3.6.1"
  }
 },
 "nbformat": 4,
 "nbformat_minor": 2
}
