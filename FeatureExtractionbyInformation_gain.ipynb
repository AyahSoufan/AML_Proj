{
 "cells": [
  {
   "cell_type": "code",
   "execution_count": 53,
   "metadata": {
    "collapsed": false
   },
   "outputs": [],
   "source": [
    "#This notebook try to show information gain to confirm what kind of words is frequently appeared in each class. \n",
    "import pandas as pd  \n",
    "df_train = pd.read_csv(\"clean_train.csv\")"
   ]
  },
  {
   "cell_type": "code",
   "execution_count": 54,
   "metadata": {
    "collapsed": false
   },
   "outputs": [
    {
     "data": {
      "text/html": [
       "<div>\n",
       "<style scoped>\n",
       "    .dataframe tbody tr th:only-of-type {\n",
       "        vertical-align: middle;\n",
       "    }\n",
       "\n",
       "    .dataframe tbody tr th {\n",
       "        vertical-align: top;\n",
       "    }\n",
       "\n",
       "    .dataframe thead th {\n",
       "        text-align: right;\n",
       "    }\n",
       "</style>\n",
       "<table border=\"1\" class=\"dataframe\">\n",
       "  <thead>\n",
       "    <tr style=\"text-align: right;\">\n",
       "      <th></th>\n",
       "      <th>id</th>\n",
       "      <th>comment_text</th>\n",
       "      <th>toxic</th>\n",
       "      <th>severe_toxic</th>\n",
       "      <th>obscene</th>\n",
       "      <th>threat</th>\n",
       "      <th>insult</th>\n",
       "      <th>identity_hate</th>\n",
       "    </tr>\n",
       "  </thead>\n",
       "  <tbody>\n",
       "    <tr>\n",
       "      <th>0</th>\n",
       "      <td>0000997932d777bf</td>\n",
       "      <td>Explanation Why edit make username Hardcore Me...</td>\n",
       "      <td>0</td>\n",
       "      <td>0</td>\n",
       "      <td>0</td>\n",
       "      <td>0</td>\n",
       "      <td>0</td>\n",
       "      <td>0</td>\n",
       "    </tr>\n",
       "    <tr>\n",
       "      <th>1</th>\n",
       "      <td>000103f0d9cfb60f</td>\n",
       "      <td>D'aww! He match background colour I'm seemingl...</td>\n",
       "      <td>0</td>\n",
       "      <td>0</td>\n",
       "      <td>0</td>\n",
       "      <td>0</td>\n",
       "      <td>0</td>\n",
       "      <td>0</td>\n",
       "    </tr>\n",
       "    <tr>\n",
       "      <th>2</th>\n",
       "      <td>000113f07ec002fd</td>\n",
       "      <td>Hey man, I'm really try edit war. It's guy con...</td>\n",
       "      <td>0</td>\n",
       "      <td>0</td>\n",
       "      <td>0</td>\n",
       "      <td>0</td>\n",
       "      <td>0</td>\n",
       "      <td>0</td>\n",
       "    </tr>\n",
       "    <tr>\n",
       "      <th>3</th>\n",
       "      <td>0001b41b1c6bb37e</td>\n",
       "      <td>\" More I can't make real suggestions improveme...</td>\n",
       "      <td>0</td>\n",
       "      <td>0</td>\n",
       "      <td>0</td>\n",
       "      <td>0</td>\n",
       "      <td>0</td>\n",
       "      <td>0</td>\n",
       "    </tr>\n",
       "    <tr>\n",
       "      <th>4</th>\n",
       "      <td>0001d958c54c6e35</td>\n",
       "      <td>You, sir, hero. Any chance remember page that'...</td>\n",
       "      <td>0</td>\n",
       "      <td>0</td>\n",
       "      <td>0</td>\n",
       "      <td>0</td>\n",
       "      <td>0</td>\n",
       "      <td>0</td>\n",
       "    </tr>\n",
       "  </tbody>\n",
       "</table>\n",
       "</div>"
      ],
      "text/plain": [
       "                 id                                       comment_text  toxic  \\\n",
       "0  0000997932d777bf  Explanation Why edit make username Hardcore Me...      0   \n",
       "1  000103f0d9cfb60f  D'aww! He match background colour I'm seemingl...      0   \n",
       "2  000113f07ec002fd  Hey man, I'm really try edit war. It's guy con...      0   \n",
       "3  0001b41b1c6bb37e  \" More I can't make real suggestions improveme...      0   \n",
       "4  0001d958c54c6e35  You, sir, hero. Any chance remember page that'...      0   \n",
       "\n",
       "   severe_toxic  obscene  threat  insult  identity_hate  \n",
       "0             0        0       0       0              0  \n",
       "1             0        0       0       0              0  \n",
       "2             0        0       0       0              0  \n",
       "3             0        0       0       0              0  \n",
       "4             0        0       0       0              0  "
      ]
     },
     "execution_count": 54,
     "metadata": {},
     "output_type": "execute_result"
    }
   ],
   "source": [
    "del df_train[\"Unnamed: 0\"]\n",
    "df_train.head()"
   ]
  },
  {
   "cell_type": "code",
   "execution_count": 60,
   "metadata": {
    "collapsed": false
   },
   "outputs": [],
   "source": [
    "#Function to culculate the number of occurance of each words\n",
    "from tqdm import tqdm\n",
    "def word_counter_for_list(ls):\n",
    "    s = \"\"\n",
    "    for i in tqdm(range(len(ls))):\n",
    "        s += ls[i] + \" \"\n",
    "    word = s.split(\" \")\n",
    "    word = sorted(word)\n",
    "    ls_word = []\n",
    "    c = 0\n",
    "    for j in tqdm(range(len(word))):\n",
    "        if(j > 0):\n",
    "            if(ls_word[c][0] == word[j]):\n",
    "                ls_word[c][1] += 1\n",
    "            else:\n",
    "                ls_word.append([word[j],1])\n",
    "                c += 1\n",
    "        else:\n",
    "            ls_word.append([word[j],1])\n",
    "    return ls_word"
   ]
  },
  {
   "cell_type": "code",
   "execution_count": 61,
   "metadata": {
    "collapsed": false
   },
   "outputs": [
    {
     "name": "stderr",
     "output_type": "stream",
     "text": [
      "100%|██████████| 159571/159571 [00:06<00:00, 26160.19it/s]\n",
      "100%|██████████| 6460455/6460455 [00:05<00:00, 1083694.02it/s]\n",
      "100%|██████████| 15294/15294 [00:00<00:00, 671316.89it/s]\n",
      "100%|██████████| 532506/532506 [00:00<00:00, 1102735.77it/s]\n"
     ]
    }
   ],
   "source": [
    "from operator import itemgetter\n",
    "ls = df_train[\"comment_text\"].values\n",
    "ls_word = word_counter_for_list(ls)\n",
    "ls_toxic = df_train[df_train.toxic == 1][\"comment_text\"].values\n",
    "ls_word_in_toxic = word_counter_for_list(ls_toxic)\n",
    "#ls_sorted = sorted(ls_word, key=itemgetter(1), reverse = True)"
   ]
  },
  {
   "cell_type": "code",
   "execution_count": 64,
   "metadata": {
    "collapsed": false
   },
   "outputs": [
    {
     "name": "stderr",
     "output_type": "stream",
     "text": [
      "100%|██████████| 521435/521435 [00:00<00:00, 697094.59it/s]\n"
     ]
    }
   ],
   "source": [
    "#merge the number of occurance of each words between toxic and non-toxic\n",
    "import copy\n",
    "ls_tog_3 = copy.deepcopy(ls_word)\n",
    "c1 = 0\n",
    "c2 = 0\n",
    "c = 0\n",
    "for i in tqdm(range(len(ls_tog_3))):\n",
    "    if(c != len(ls_word_in_toxic)):\n",
    "        if(ls_tog_3[i][0] == ls_word_in_toxic[c][0]):\n",
    "            ls_tog_3[i].append(ls_tog_3[i][1] - ls_word_in_toxic[c][1])\n",
    "            ls_tog_3[i].append(ls_word_in_toxic[c][1])\n",
    "            c += 1\n",
    "        else:\n",
    "            ls_tog_3[i].append(ls_tog_3[i][1])\n",
    "            ls_tog_3[i].append(0)\n",
    "    else:\n",
    "        ls_tog_3[i].append(ls_tog_3[i][1])\n",
    "        ls_tog_3[i].append(0)"
   ]
  },
  {
   "cell_type": "code",
   "execution_count": 86,
   "metadata": {
    "collapsed": false
   },
   "outputs": [],
   "source": [
    "from operator import itemgetter\n",
    "ls_sorted = sorted(ls_tog_3, key=itemgetter(1), reverse = True)"
   ]
  },
  {
   "cell_type": "code",
   "execution_count": 90,
   "metadata": {
    "collapsed": true
   },
   "outputs": [],
   "source": [
    "ls_name = []\n",
    "q1 = []\n",
    "q2 = []\n",
    "for i in range (len(ls_tog_3)):\n",
    "    #print(ls_word[i])\n",
    "    ls_name.append(ls_tog_3[i][0])\n",
    "    q1.append(ls_tog_3[i][2])\n",
    "    q2.append(ls_tog_3[i][3])"
   ]
  },
  {
   "cell_type": "code",
   "execution_count": 95,
   "metadata": {
    "collapsed": false
   },
   "outputs": [
    {
     "name": "stdout",
     "output_type": "stream",
     "text": [
      "6460455\n"
     ]
    }
   ],
   "source": [
    "#Culculating the information gain by splitting toxic and non-toxic\n",
    "import math\n",
    "ls_entropy = []\n",
    "ls_gain = []\n",
    "total = sum(q1) + sum(q2)\n",
    "print(total)\n",
    "H = - sum(q1)/total * math.log(sum(q1)/total) - sum(q2)/total * math.log(sum(q2)/total)\n",
    "for i in range(len(q1)):\n",
    "    temp_total = q1[i] + q2[i]\n",
    "    if(q1[i] != 0 and q2[i] != 0):\n",
    "        entropy =  - (q1[i]/temp_total) * math.log(q1[i]/temp_total) - (q2[i]/temp_total) * math.log(q2[i] / temp_total)\n",
    "    elif(q2[i] == 0):\n",
    "        entropy =  - (q1[i]/temp_total) * math.log(q1[i]/temp_total)\n",
    "    elif(q1[i] == 0):\n",
    "        entropy =  - (q2[i]/temp_total) * math.log(q2[i] /temp_total)\n",
    "    else:\n",
    "        entropy = 0\n",
    "    gain = H - entropy\n",
    "    ls_entropy.append(gain)\n",
    "    ls_gain.append(gain)"
   ]
  },
  {
   "cell_type": "code",
   "execution_count": 98,
   "metadata": {
    "collapsed": false
   },
   "outputs": [],
   "source": [
    "ls_set_gain = []\n",
    "for i in range(len(ls_word)):\n",
    "    ls_set_gain.append([ls_name[i] ,ls_gain[i], q1[i], q2[i]])"
   ]
  },
  {
   "cell_type": "code",
   "execution_count": 99,
   "metadata": {
    "collapsed": false
   },
   "outputs": [],
   "source": [
    "ls_sorted = sorted(ls_set_gain, key=itemgetter(1), reverse = True)"
   ]
  },
  {
   "cell_type": "code",
   "execution_count": 121,
   "metadata": {
    "collapsed": false
   },
   "outputs": [],
   "source": [
    "#Omit the words which have maximum information gain to see clearly. \n",
    "ls = [[\"word\",\"IG\",\"non_toxic\",\"toxic\"]]\n",
    "for i in range(len(ls_sorted)):\n",
    "    if(ls_sorted[i][1] != 0.2846535942430254):\n",
    "        ls.append(ls_sorted[i])"
   ]
  },
  {
   "cell_type": "code",
   "execution_count": 122,
   "metadata": {
    "collapsed": false
   },
   "outputs": [
    {
     "name": "stdout",
     "output_type": "stream",
     "text": [
      "['word', 'IG', 'non_toxic', 'toxic']\n",
      "['SHIT', 0.2790190578650154, 1, 1471]\n",
      "['FAT', 0.27882362384489223, 1, 1415]\n",
      "['specify', 0.27850189650897744, 1331, 1]\n",
      "['Style', 0.27746421207326677, 1114, 1]\n",
      "['SUCK', 0.277135821417685, 2, 2117]\n",
      "['FUCK', 0.27633578114404095, 3, 2828]\n",
      "['|-', 0.2756162735875774, 857, 1]\n",
      "['Tutorial', 0.2755701556125151, 852, 1]\n",
      "['welcome!', 0.2755141489733381, 846, 1]\n",
      "['Wikipedian!', 0.2746220882776423, 760, 1]\n",
      "['{{helpme}}', 0.27431456034046686, 734, 1]\n",
      "['FAG', 0.27324292624571994, 1, 655]\n",
      "['worked,', 0.2730277233975339, 641, 1]\n",
      "['freezer', 0.27267147715834783, 619, 1]\n",
      "['company,', 0.2707976078341105, 523, 1]\n",
      "['RAPE', 0.2706826118293761, 1, 518]\n",
      "['Welcome!', 0.269602403701636, 475, 1]\n",
      "['WikiProject', 0.2687514246068522, 891, 2]\n",
      "['Wikipedia:Image', 0.2686124679844655, 441, 1]\n",
      "['deletion,', 0.26807158241563017, 1697, 4]\n",
      "['sites,', 0.267650601601617, 412, 1]\n",
      "['explicitly', 0.267508137850341, 408, 1]\n",
      "['Wikipedia:Articles', 0.2672895871967058, 402, 1]\n",
      "['delay.', 0.267140543526611, 398, 1]\n",
      "['{|', 0.2671028538651571, 794, 2]\n",
      "['2003', 0.26592882349834257, 368, 1]\n",
      "['DYK', 0.26588532519373387, 367, 1]\n",
      "['DOG', 0.2658416100165206, 1, 366]\n",
      "['Manual', 0.26576826491294864, 1093, 3]\n",
      "['non-free', 0.2655520582931005, 719, 2]\n",
      "['SUCKS', 0.26552938909090334, 1, 359]\n",
      "['LOSER', 0.26482143847673534, 1, 344]\n",
      "['ANAL', 0.26477223738682876, 1, 343]\n",
      "['Notability', 0.2644203664059059, 336, 1]\n",
      "['Bark', 0.2642827822014701, 3, 1000]\n",
      "['JEW', 0.26300222621441594, 4, 1241]\n",
      "['Commons', 0.2629874094546257, 310, 1]\n",
      "['guideline', 0.26292792438126367, 618, 2]\n",
      "['[', 0.26274734892758234, 612, 2]\n",
      "['speedily', 0.2626864395627379, 915, 3]\n",
      "['(~~~~);', 0.2625015123218101, 906, 3]\n",
      "['intro', 0.2625015123218101, 302, 1]\n",
      "['date.', 0.26247036594377515, 1206, 4]\n",
      "['biographies,', 0.2623132143995418, 299, 1]\n",
      "['poll', 0.2621857628530631, 297, 1]\n",
      "['tag.', 0.2620567416765557, 295, 1]\n",
      "['DIE', 0.2619523745044244, 5, 1467]\n",
      "['admin-', 0.261592367304131, 1, 288]\n",
      "['criteria', 0.26132464239723807, 2841, 10]\n"
     ]
    }
   ],
   "source": [
    "for i in range(50):\n",
    "    print(ls[i])"
   ]
  },
  {
   "cell_type": "code",
   "execution_count": null,
   "metadata": {
    "collapsed": true
   },
   "outputs": [],
   "source": []
  }
 ],
 "metadata": {
  "anaconda-cloud": {},
  "kernelspec": {
   "display_name": "Python [default]",
   "language": "python",
   "name": "python3"
  },
  "language_info": {
   "codemirror_mode": {
    "name": "ipython",
    "version": 3
   },
   "file_extension": ".py",
   "mimetype": "text/x-python",
   "name": "python",
   "nbconvert_exporter": "python",
   "pygments_lexer": "ipython3",
   "version": "3.5.2"
  }
 },
 "nbformat": 4,
 "nbformat_minor": 1
}
