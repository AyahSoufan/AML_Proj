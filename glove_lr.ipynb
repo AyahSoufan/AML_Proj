{
 "cells": [
  {
   "cell_type": "code",
   "execution_count": 13,
   "metadata": {},
   "outputs": [],
   "source": [
    "import numpy as np \n",
    "import pandas as pd\n",
    "from keras.layers import Dense, Embedding, Input\n",
    "from keras.layers import LSTM, Bidirectional, GlobalMaxPool1D, Dropout\n",
    "from keras.preprocessing import text, sequence\n",
    "from sklearn.feature_extraction.text import TfidfVectorizer\n",
    "from keras.callbacks import EarlyStopping, ModelCheckpoint\n",
    "max_features = 20000\n",
    "maxlen = 100\n",
    "train = pd.read_csv(\"train.csv\")\n",
    "train = train.sample(frac=1)\n",
    "list_sentences_train = train[\"comment_text\"].fillna(\"\").values\n",
    "list_classes = [\"toxic\", \"severe_toxic\", \"obscene\", \"threat\", \"insult\", \"identity_hate\"]\n",
    "y = train[list_classes[0]].values"
   ]
  },
  {
   "cell_type": "code",
   "execution_count": 14,
   "metadata": {},
   "outputs": [],
   "source": [
    "#Tokenize \n",
    "\n",
    "# from keras.utils.np_utils import to_categorical\n",
    "# y = to_categorical(y, num_classes=None)\n",
    "\n",
    "tokenizer = text.Tokenizer(num_words=max_features)\n",
    "tokenizer.fit_on_texts(list(list_sentences_train))\n",
    "list_tokenized_train = tokenizer.texts_to_sequences(list_sentences_train)"
   ]
  },
  {
   "cell_type": "code",
   "execution_count": 15,
   "metadata": {
    "collapsed": true
   },
   "outputs": [],
   "source": [
    "from sklearn.model_selection import train_test_split\n",
    "X_train, X_valid, y_train, y_valid = train_test_split(\n",
    "   list_tokenized_train, y, test_size=0.50, random_state=42)"
   ]
  },
  {
   "cell_type": "code",
   "execution_count": 16,
   "metadata": {
    "collapsed": true
   },
   "outputs": [],
   "source": [
    "#Padding\n",
    "X_t = sequence.pad_sequences(X_train, maxlen=maxlen)\n",
    "X_v = sequence.pad_sequences(X_valid, maxlen=maxlen)"
   ]
  },
  {
   "cell_type": "code",
   "execution_count": 17,
   "metadata": {
    "collapsed": true
   },
   "outputs": [],
   "source": [
    "from keras.models import Model\n",
    "def get_model(embed_size):\n",
    "    inp = Input(shape=(maxlen, ))\n",
    "    x = Embedding(max_features, embed_size, weights=[embedding_matrix])(inp)\n",
    "    model = Model(inputs=inp, outputs=x)\n",
    "    model.compile(loss='mean_squared_error', optimizer='sgd',\n",
    "                  metrics=['accuracy'])\n",
    "    return model\n",
    "def get_coefs(word,*arr): return word, np.asarray(arr, dtype='float32')"
   ]
  },
  {
   "cell_type": "code",
   "execution_count": 18,
   "metadata": {},
   "outputs": [],
   "source": [
    "EMBEDDING_FILE= 'glove.6B.50d.txt'\n",
    "embeddings_index = dict(get_coefs(*o.strip().split()) for o in open(EMBEDDING_FILE))\n",
    "embed_size = 50\n",
    "all_embs = np.stack(embeddings_index.values())\n",
    "emb_mean,emb_std = all_embs.mean(), all_embs.std()\n",
    "emb_mean,emb_std\n",
    "word_index = tokenizer.word_index\n",
    "nb_words = min(max_features, len(word_index))\n",
    "embedding_matrix = np.random.normal(emb_mean, emb_std, (nb_words, embed_size))\n",
    "for word, j in word_index.items():\n",
    "    if j >= max_features: continue\n",
    "    embedding_vector = embeddings_index.get(word)\n",
    "    if embedding_vector is not None: embedding_matrix[j] = embedding_vector"
   ]
  },
  {
   "cell_type": "code",
   "execution_count": 19,
   "metadata": {
    "collapsed": true
   },
   "outputs": [],
   "source": [
    "#print(model.summary())\n",
    "model = None\n",
    "list_sentences_train\n",
    "model = get_model(embed_size)"
   ]
  },
  {
   "cell_type": "code",
   "execution_count": null,
   "metadata": {},
   "outputs": [
    {
     "name": "stderr",
     "output_type": "stream",
     "text": [
      "100%|██████████| 79785/79785 [00:13<00:00, 5720.36it/s] \n"
     ]
    }
   ],
   "source": [
    "#y_test\n",
    "from tqdm import tqdm\n",
    "emb_train = model.predict(X_t)\n",
    "emb_valid = model.predict(X_v)\n",
    "norm_train = []\n",
    "norm_valid = []\n",
    "\"\"\"\n",
    "for i in tqdm(range(len(emb_train))):\n",
    "    temp = []\n",
    "    temp_2 = []\n",
    "    for j in range(len(emb_train[i])):\n",
    "        temp.append(np.linalg.norm(emb_train[i][j]))\n",
    "        temp_2.append(np.linalg.norm(emb_valid[i][j]))\n",
    "    norm_train.append(temp)\n",
    "    norm_valid.append(temp_2)\n",
    "\"\"\"\n",
    "for i in tqdm(range(len(emb_train))):\n",
    "    norm_train.append(np.ndarray.flatten(emb_train[i]))\n",
    "    norm_valid.append(np.ndarray.flatten(emb_valid[i]))\n",
    "from sklearn.linear_model import LogisticRegression\n",
    "from sklearn import metrics as mtr\n",
    "from sklearn.preprocessing import minmax_scale , normalize\n",
    "\n",
    "lr = LogisticRegression()\n",
    "lr.fit(norm_train,y_train)\n",
    "#prob = lr.predict_proba(norm_valid)\n",
    "prob = lr.predict(norm_valid)\n",
    "print(mtr.roc_auc_score(y_valid, prob))"
   ]
  },
  {
   "cell_type": "code",
   "execution_count": 29,
   "metadata": {},
   "outputs": [
    {
     "data": {
      "text/plain": [
       "5000"
      ]
     },
     "execution_count": 29,
     "metadata": {},
     "output_type": "execute_result"
    }
   ],
   "source": [
    "len(norm_train[0])"
   ]
  },
  {
   "cell_type": "code",
   "execution_count": 22,
   "metadata": {},
   "outputs": [
    {
     "data": {
      "text/plain": [
       "array([[0.62810803, 0.37189197],\n",
       "       [0.45719746, 0.54280254],\n",
       "       [0.45307746, 0.54692254],\n",
       "       ...,\n",
       "       [0.6265642 , 0.3734358 ],\n",
       "       [0.44356738, 0.55643262],\n",
       "       [0.44424747, 0.55575253]])"
      ]
     },
     "execution_count": 22,
     "metadata": {},
     "output_type": "execute_result"
    }
   ],
   "source": [
    "prob\n",
    "#print(mtr.roc_auc_score(y_valid, prob))"
   ]
  },
  {
   "cell_type": "code",
   "execution_count": 13,
   "metadata": {},
   "outputs": [
    {
     "data": {
      "text/plain": [
       "array([[-0.03543852,  0.9391847 ,  0.98451626, ..., -0.6024291 ,\n",
       "         0.54854643, -1.0524588 ],\n",
       "       [-0.03543852,  0.9391847 ,  0.98451626, ..., -0.6024291 ,\n",
       "         0.54854643, -1.0524588 ],\n",
       "       [-0.03543852,  0.9391847 ,  0.98451626, ..., -0.6024291 ,\n",
       "         0.54854643, -1.0524588 ],\n",
       "       ...,\n",
       "       [-0.37085   , -0.072561  , -0.44149   , ...,  0.29768   ,\n",
       "        -0.94829   ,  1.9092    ],\n",
       "       [ 0.1591    , -0.21428   ,  0.63099   , ...,  0.021215  ,\n",
       "        -0.14219   ,  0.66955   ],\n",
       "       [-0.37085   , -0.072561  , -0.44149   , ...,  0.29768   ,\n",
       "        -0.94829   ,  1.9092    ]], dtype=float32)"
      ]
     },
     "execution_count": 13,
     "metadata": {},
     "output_type": "execute_result"
    }
   ],
   "source": []
  },
  {
   "cell_type": "code",
   "execution_count": null,
   "metadata": {
    "collapsed": true
   },
   "outputs": [],
   "source": []
  }
 ],
 "metadata": {
  "anaconda-cloud": {},
  "kernelspec": {
   "display_name": "Python 3",
   "language": "python",
   "name": "python3"
  },
  "language_info": {
   "codemirror_mode": {
    "name": "ipython",
    "version": 3
   },
   "file_extension": ".py",
   "mimetype": "text/x-python",
   "name": "python",
   "nbconvert_exporter": "python",
   "pygments_lexer": "ipython3",
   "version": "3.6.1"
  }
 },
 "nbformat": 4,
 "nbformat_minor": 1
}
