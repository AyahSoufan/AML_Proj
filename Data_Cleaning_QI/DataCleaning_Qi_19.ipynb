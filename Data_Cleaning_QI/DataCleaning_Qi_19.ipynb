{
 "cells": [
  {
   "cell_type": "code",
   "execution_count": 1,
   "metadata": {
    "collapsed": true
   },
   "outputs": [],
   "source": [
    "import pandas as pd\n",
    "import os"
   ]
  },
  {
   "cell_type": "code",
   "execution_count": 3,
   "metadata": {},
   "outputs": [
    {
     "data": {
      "text/plain": [
       "'C:\\\\Users\\\\warmp\\\\Documents\\\\pythonlearning\\\\AML'"
      ]
     },
     "execution_count": 3,
     "metadata": {},
     "output_type": "execute_result"
    }
   ],
   "source": [
    "os.getcwd()"
   ]
  },
  {
   "cell_type": "code",
   "execution_count": 2,
   "metadata": {},
   "outputs": [
    {
     "data": {
      "text/plain": [
       "0                             cocksucker piss around work\n",
       "1       stupid peace shit stop delete stuff asshole go...\n",
       "2                         stupid fuck mother's cunt stink\n",
       "3                                        hi im fuck bitch\n",
       "4             motherfucking piece crap fuckheads block us\n",
       "5       know think nobody really attack reveal age ann...\n",
       "6                          here's idea go fuck cumshitter\n",
       "7       motherfucking safety guarantee fuck hope i'm b...\n",
       "8       gay motherfucker know livei go sand face offth...\n",
       "9       first time bitch fuck i'll find live sodomize ...\n",
       "10      fuck faggot care get block long everyone know ...\n",
       "11                          cavort heretics fuck heretics\n",
       "12                                     dick bigger hahaha\n",
       "13                           fuck people information find\n",
       "14                                 shut fat poop kick ass\n",
       "15      blanchardb dumb motherfucker go sue shit watch...\n",
       "16                                       fuck small penis\n",
       "17      closedmouth dick-fuck guy jackass sux cock fuc...\n",
       "18      hey fuck fuck check phnom nam lyr wildlife san...\n",
       "19      yo fuck problem fuck around page leave fuck alone\n",
       "20      igho otegheri deletion hell decide delete coul...\n",
       "21                @ nobody care fuck shit like fuck bitch\n",
       "22                                         baklava fuck =\n",
       "23      page fuckers say want fuck drini naconkantari ...\n",
       "24      hey wiki nerd u suck man dont like nasty comen...\n",
       "25      mothjer fucker cocksucker mothjer fucker cocks...\n",
       "26             motherfucker dont change fuck gta timeline\n",
       "27      fuck paranoid bitch ugly unwanted bucket sludg...\n",
       "28      fascit nazi socialist bastard filthy hippy dar...\n",
       "29      fuck nazi propaganda odpierdalcie sie jebani f...\n",
       "                              ...                        \n",
       "3158    i'm stil entirely happy lack citations section...\n",
       "3159    lennon page want know reformatted post change ...\n",
       "3160    redirect talkvirtual machine lifecycle management\n",
       "3161    i'm pretty good program could see hide lookup ...\n",
       "3162    sooooo admin want come delete idea sake shallo...\n",
       "3163    hih princess salaha sultana b th june d/o ashu...\n",
       "3164    hi please edit revise opinion whophd's comment...\n",
       "3165    please refrain add nonsense wikipedia wwe raw ...\n",
       "3166    people write languages wikipedia discussion board\n",
       "3167                             sham solar power station\n",
       "3168    curious around quite assume familiar edit camp...\n",
       "3169    editor refuse mt contribution claim reliable h...\n",
       "3170    keep update make page dioptinae subfamily make...\n",
       "3171    please remove change image especially intro bo...\n",
       "3172    rule rule entitle make comment conceirning pop...\n",
       "3173    riflemen's song bennington remove however isol...\n",
       "3174    hey oswald i'm sorry say stuff let friends dud...\n",
       "3175               can't see african activity clearly try\n",
       "3176    *lol @ connection obama here' obama really thi...\n",
       "3177    please stop continue vandalize page block edit...\n",
       "3178    electrolysis water article stand single two se...\n",
       "3179    note admins - page delete please move basin se...\n",
       "3180    uthersrg talk highlight inferiority consensus ...\n",
       "3181                           unless provide good reason\n",
       "3182     block forever right go ahead care less fact want\n",
       "3183                                  look unprofessional\n",
       "3184    lead paragraph lead refer little girl siblings...\n",
       "3185    apologize sorry misuse wikipedia make source edit\n",
       "3186    redirect talkshooting summer olympics – men's ...\n",
       "3187    i've undo promotion move nom ttdyk#special occ...\n",
       "Name: comment_text, Length: 3188, dtype: object"
      ]
     },
     "execution_count": 2,
     "metadata": {},
     "output_type": "execute_result"
    }
   ],
   "source": [
    "severe_toxic4 = pd.read_csv(r'C:\\Users\\warmp\\Documents\\pythonlearning\\AML\\balanced_dataset\\balanced_dataset\\severe_toxic4.csv')\n",
    "severe_toxic4['comment_text']"
   ]
  },
  {
   "cell_type": "code",
   "execution_count": 3,
   "metadata": {},
   "outputs": [
    {
     "data": {
      "text/plain": [
       "0                             cocksucker piss around work\n",
       "1       stupid peace shit stop delete stuff asshole go...\n",
       "2                         stupid fuck mother's cunt stink\n",
       "3                                        hi im fuck bitch\n",
       "4             motherfucking piece crap fuckheads block us\n",
       "5       know think nobody really attack reveal age ann...\n",
       "6                          here's idea go fuck cumshitter\n",
       "7       motherfucking safety guarantee fuck hope i'm b...\n",
       "8       gay motherfucker know livei go sand face offth...\n",
       "9       first time bitch fuck i'll find live sodomize ...\n",
       "10      fuck faggot care get block long everyone know ...\n",
       "11                          cavort heretics fuck heretics\n",
       "12                                     dick bigger hahaha\n",
       "13                           fuck people information find\n",
       "14                                 shut fat poop kick ass\n",
       "15      blanchardb dumb motherfucker go sue shit watch...\n",
       "16                                       fuck small penis\n",
       "17      closedmouth dick fuck guy jackass sux cock fuc...\n",
       "18      hey fuck fuck check phnom nam lyr wildlife san...\n",
       "19      yo fuck problem fuck around page leave fuck alone\n",
       "20      igho otegheri deletion hell decide delete coul...\n",
       "21                  nobody care fuck shit like fuck bitch\n",
       "22                                         baklava fuck  \n",
       "23      page fuckers say want fuck drini naconkantari ...\n",
       "24      hey wiki nerd u suck man dont like nasty comen...\n",
       "25      mothjer fucker cocksucker mothjer fucker cocks...\n",
       "26             motherfucker dont change fuck gta timeline\n",
       "27      fuck paranoid bitch ugly unwanted bucket sludg...\n",
       "28      fascit nazi socialist bastard filthy hippy dar...\n",
       "29      fuck nazi propaganda odpierdalcie sie jebani f...\n",
       "                              ...                        \n",
       "3158    i'm stil entirely happy lack citations section...\n",
       "3159    lennon page want know reformatted post change ...\n",
       "3160    redirect talkvirtual machine lifecycle management\n",
       "3161    i'm pretty good program could see hide lookup ...\n",
       "3162    sooooo admin want come delete idea sake shallo...\n",
       "3163    hih princess salaha sultana b th june d o ashu...\n",
       "3164    hi please edit revise opinion whophd's comment...\n",
       "3165    please refrain add nonsense wikipedia wwe raw ...\n",
       "3166    people write languages wikipedia discussion board\n",
       "3167                             sham solar power station\n",
       "3168    curious around quite assume familiar edit camp...\n",
       "3169    editor refuse mt contribution claim reliable h...\n",
       "3170    keep update make page dioptinae subfamily make...\n",
       "3171    please remove change image especially intro bo...\n",
       "3172    rule rule entitle make comment conceirning pop...\n",
       "3173    riflemen's song bennington remove however isol...\n",
       "3174    hey oswald i'm sorry say stuff let friends dud...\n",
       "3175               can't see african activity clearly try\n",
       "3176     lol   connection obama here' obama really thi...\n",
       "3177    please stop continue vandalize page block edit...\n",
       "3178    electrolysis water article stand single two se...\n",
       "3179    note admins   page delete please move basin se...\n",
       "3180    uthersrg talk highlight inferiority consensus ...\n",
       "3181                           unless provide good reason\n",
       "3182     block forever right go ahead care less fact want\n",
       "3183                                  look unprofessional\n",
       "3184    lead paragraph lead refer little girl siblings...\n",
       "3185    apologize sorry misuse wikipedia make source edit\n",
       "3186    redirect talkshooting summer olympics – men's ...\n",
       "3187    i've undo promotion move nom ttdyk special occ...\n",
       "Name: comment_text, Length: 3188, dtype: object"
      ]
     },
     "execution_count": 3,
     "metadata": {},
     "output_type": "execute_result"
    }
   ],
   "source": [
    "severe_toxic4['comment_text'] = severe_toxic4['comment_text'].str.replace(\"@\",\" \")\n",
    "severe_toxic4['comment_text'] = severe_toxic4['comment_text'].str.replace(\"/\",\" \")\n",
    "severe_toxic4['comment_text'] = severe_toxic4['comment_text'].str.replace(\"=\",\" \")\n",
    "severe_toxic4['comment_text'] = severe_toxic4['comment_text'].str.replace(\"-\",\" \")\n",
    "severe_toxic4['comment_text'] = severe_toxic4['comment_text'].str.replace(\"±\",\" \")\n",
    "severe_toxic4['comment_text'] = severe_toxic4['comment_text'].str.replace(\"*\",\" \")\n",
    "severe_toxic4['comment_text'] = severe_toxic4['comment_text'].str.replace(\"+\",\" \")\n",
    "severe_toxic4['comment_text'] = severe_toxic4['comment_text'].str.replace(\"-\",\" \")\n",
    "severe_toxic4['comment_text'] = severe_toxic4['comment_text'].str.replace(\"#\",\" \")\n",
    "severe_toxic4['comment_text'] = severe_toxic4['comment_text'].str.replace(\"€\",\" \")\n",
    "severe_toxic4['comment_text'] = severe_toxic4['comment_text'].str.replace(\"Ã\",\" \")\n",
    "severe_toxic4['comment_text'] = severe_toxic4['comment_text'].str.replace(\"©\",\" \")\n",
    "severe_toxic4['comment_text'] = severe_toxic4['comment_text'].str.replace(\"Â\",\" \")\n",
    "severe_toxic4['comment_text'] = severe_toxic4['comment_text'].str.replace(\"$\",\" \")\n",
    "severe_toxic4['comment_text'] = severe_toxic4['comment_text'].str.replace(\"Ù\",\" \")\n",
    "severe_toxic4['comment_text'] = severe_toxic4['comment_text'].str.replace(\"#\",\" \")\n",
    "severe_toxic4['comment_text'] = severe_toxic4['comment_text'].str.replace(\"Ø\",\" \")\n",
    "severe_toxic4['comment_text'] = severe_toxic4['comment_text'].str.replace(\"§\",\" \")\n",
    "severe_toxic4['comment_text'] = severe_toxic4['comment_text'].str.replace(\"%\",\" \")\n",
    "severe_toxic4['comment_text'] = severe_toxic4['comment_text'].str.replace(\"¶\",\" \")\n",
    "severe_toxic4['comment_text'] = severe_toxic4['comment_text'].str.replace(\"?\",\" \")\n",
    "severe_toxic4['comment_text'] = severe_toxic4['comment_text'].str.replace(\"&\",\" \")\n",
    "severe_toxic4['comment_text'] = severe_toxic4['comment_text'].str.replace(\"_\",\" \")\n",
    "severe_toxic4['comment_text'] = severe_toxic4['comment_text'].str.replace(\"â\",\" \")\n",
    "severe_toxic4['comment_text'] = severe_toxic4['comment_text'].str.replace(\"Ž\",\" \")\n",
    "severe_toxic4['comment_text'] = severe_toxic4['comment_text'].str.replace(\"¢\",\" \")\n",
    "severe_toxic4['comment_text'] = severe_toxic4['comment_text'].str.replace(\"Ý\",\" \")\n",
    "severe_toxic4['comment_text'] = severe_toxic4['comment_text'].str.replace(\"£\",\" \")\n",
    "severe_toxic4['comment_text'] = severe_toxic4['comment_text'].str.replace(\"»\",\" \")\n",
    "severe_toxic4['comment_text'] = severe_toxic4['comment_text'].str.replace(\"œ\",\" \")\n",
    "severe_toxic4['comment_text'] = severe_toxic4['comment_text'].str.replace(\"¬\",\" \")\n",
    "severe_toxic4['comment_text'] = severe_toxic4['comment_text'].str.replace(\"Ð\",\" \")\n",
    "severe_toxic4['comment_text'] = severe_toxic4['comment_text'].str.replace(\"Ç\",\" \")\n",
    "severe_toxic4['comment_text'] = severe_toxic4['comment_text'].str.replace(\"~\",\" \")\n",
    "severe_toxic4['comment_text'] = severe_toxic4['comment_text'].str.replace(\"™\",\" \")\n",
    "severe_toxic4['comment_text'] = severe_toxic4['comment_text'].str.replace(\"·\",\" \")\n",
    "severe_toxic4['comment_text'] = severe_toxic4['comment_text'].str.replace(\"†\",\" \")\n",
    "severe_toxic4['comment_text'] = severe_toxic4['comment_text'].str.replace(\"ˆ\",\" \")\n",
    "severe_toxic4['comment_text'] = severe_toxic4['comment_text'].str.replace(\"Î\",\" \")                                            \n",
    "severe_toxic4['comment_text']"
   ]
  },
  {
   "cell_type": "code",
   "execution_count": 4,
   "metadata": {
    "collapsed": true
   },
   "outputs": [],
   "source": [
    "severe_toxic4.to_csv('severe_toxic4.csv')"
   ]
  },
  {
   "cell_type": "code",
   "execution_count": null,
   "metadata": {
    "collapsed": true
   },
   "outputs": [],
   "source": []
  }
 ],
 "metadata": {
  "kernelspec": {
   "display_name": "Python 3",
   "language": "python",
   "name": "python3"
  },
  "language_info": {
   "codemirror_mode": {
    "name": "ipython",
    "version": 3
   },
   "file_extension": ".py",
   "mimetype": "text/x-python",
   "name": "python",
   "nbconvert_exporter": "python",
   "pygments_lexer": "ipython3",
   "version": "3.6.3"
  }
 },
 "nbformat": 4,
 "nbformat_minor": 2
}
