{
 "cells": [
  {
   "cell_type": "code",
   "execution_count": 1,
   "metadata": {
    "collapsed": true
   },
   "outputs": [],
   "source": [
    "import pandas as pd\n",
    "import os"
   ]
  },
  {
   "cell_type": "code",
   "execution_count": 3,
   "metadata": {},
   "outputs": [
    {
     "data": {
      "text/plain": [
       "'C:\\\\Users\\\\warmp\\\\Documents\\\\pythonlearning\\\\AML'"
      ]
     },
     "execution_count": 3,
     "metadata": {},
     "output_type": "execute_result"
    }
   ],
   "source": [
    "os.getcwd()"
   ]
  },
  {
   "cell_type": "code",
   "execution_count": 2,
   "metadata": {},
   "outputs": [
    {
     "data": {
      "text/plain": [
       "0                              cocksucker piss around work\n",
       "1        gay antisemmitian archangel white tiger meow g...\n",
       "2                               fuck filthy mother ass dry\n",
       "3        stupid peace shit stop delete stuff asshole go...\n",
       "4          =tony sidaway obviously fistfuckee love arm ass\n",
       "5        edit good cunts like revert good edit stupid u...\n",
       "6           would shut run wikipedia especially stupid kid\n",
       "7                     pair jew-hating weiner nazi schmucks\n",
       "8        fire moronic wimp lazy research make sick peop...\n",
       "9        think fagget get oife burn hell hate 'm sorry ...\n",
       "10       reply loser un define vietnam part southeast a...\n",
       "11                         stupid fuck mother's cunt stink\n",
       "12                                 fuck block faggot pussy\n",
       "13       kill niggers hard others say include racists s...\n",
       "14       burn deck that'd guy's burn deck like think bl...\n",
       "15       u r tw@ fuck u gay boyu r smellyfuck ur mum po...\n",
       "16               user worthless goddamn faggot fuck faggot\n",
       "17                                 fuck fuck award go fuck\n",
       "18       keep eye one care ok people put want clean wan...\n",
       "19       fuck -userthe bohemian shinobis yeah that's ri...\n",
       "20       dear mokele right tell people die fire ip addr...\n",
       "21       thank racist experiment page katherine heigl w...\n",
       "22       gay existence cdvf proof sad twat also ugly wi...\n",
       "23       never fuck make mother fuck article fuck edit ...\n",
       "24                                        hi im fuck bitch\n",
       "25       f**k rid worlds fun hate rid worlds fun sh_tty...\n",
       "26                             nazi filth impolite jan utc\n",
       "27       dictionaries dare call contribution spam kurd ...\n",
       "28             motherfucking piece crap fuckheads block us\n",
       "29                                    sir imbecile pervert\n",
       "                               ...                        \n",
       "15818    hi luna santin thank offer help truly see free...\n",
       "15819        nej nej- shall mean completley totally awsome\n",
       "15820    inertion mestake could happen everyone officia...\n",
       "15821    see language first source unthinking hype puff...\n",
       "15822    malta nazi party accord wikipedia's reliable s...\n",
       "15823                       thank last warn wax work way -\n",
       "15824    work third opinion third opinion award#if many...\n",
       "15825    april utc tabloids accurate source - sometimes...\n",
       "15826    want good edit check time fab four delete lie ...\n",
       "15827    find ommanney sgt r j british squadron kill fe...\n",
       "15828    still think totaly fuck page help suck dont de...\n",
       "15829    hey thank edit article serbs croatia lot thing...\n",
       "15830    local anesthesia text remove local anesthesia ...\n",
       "15831    warn iraqi kurdish team last warn stop change ...\n",
       "15832           crucial information checkuser sockpuppetry\n",
       "15833    i'm sorry sorry make edit constructive vandali...\n",
       "15834    stop johnspring stop constant reversions go he...\n",
       "15835    that's ok interest editor article stop ga revi...\n",
       "15836    hello welcome wikipedia tip help get start rea...\n",
       "15837    actually possible know mbk email without messa...\n",
       "15838    state piketty say smooth figure absolute accor...\n",
       "15839              seem already aware think warn ss member\n",
       "15840    please vandalize page edit elizabeth bowes-lyo...\n",
       "15841                                            like butt\n",
       "15842    go block little effort ezra pound | blarneyman...\n",
       "15843    ultra-heavy deuterium solid massive weight ext...\n",
       "15844    cancer claim russle miss cold chips/fries errr...\n",
       "15845    please google image flag northern ireland noon...\n",
       "15846                   controversial change anybody sense\n",
       "15847    regard header article culture malaysia think w...\n",
       "Name: comment_text, Length: 15848, dtype: object"
      ]
     },
     "execution_count": 2,
     "metadata": {},
     "output_type": "execute_result"
    }
   ],
   "source": [
    "insult3 = pd.read_csv(r'C:\\Users\\warmp\\Documents\\pythonlearning\\AML\\balanced_dataset\\balanced_dataset\\insult3.csv')\n",
    "insult3['comment_text']"
   ]
  },
  {
   "cell_type": "code",
   "execution_count": 3,
   "metadata": {},
   "outputs": [
    {
     "data": {
      "text/plain": [
       "0                              cocksucker piss around work\n",
       "1        gay antisemmitian archangel white tiger meow g...\n",
       "2                               fuck filthy mother ass dry\n",
       "3        stupid peace shit stop delete stuff asshole go...\n",
       "4           tony sidaway obviously fistfuckee love arm ass\n",
       "5        edit good cunts like revert good edit stupid u...\n",
       "6           would shut run wikipedia especially stupid kid\n",
       "7                     pair jew hating weiner nazi schmucks\n",
       "8        fire moronic wimp lazy research make sick peop...\n",
       "9        think fagget get oife burn hell hate 'm sorry ...\n",
       "10       reply loser un define vietnam part southeast a...\n",
       "11                         stupid fuck mother's cunt stink\n",
       "12                                 fuck block faggot pussy\n",
       "13       kill niggers hard others say include racists s...\n",
       "14       burn deck that'd guy's burn deck like think bl...\n",
       "15       u r tw  fuck u gay boyu r smellyfuck ur mum po...\n",
       "16               user worthless goddamn faggot fuck faggot\n",
       "17                                 fuck fuck award go fuck\n",
       "18       keep eye one care ok people put want clean wan...\n",
       "19       fuck  userthe bohemian shinobis yeah that's ri...\n",
       "20       dear mokele right tell people die fire ip addr...\n",
       "21       thank racist experiment page katherine heigl w...\n",
       "22       gay existence cdvf proof sad twat also ugly wi...\n",
       "23       never fuck make mother fuck article fuck edit ...\n",
       "24                                        hi im fuck bitch\n",
       "25       f  k rid worlds fun hate rid worlds fun sh tty...\n",
       "26                             nazi filth impolite jan utc\n",
       "27       dictionaries dare call contribution spam kurd ...\n",
       "28             motherfucking piece crap fuckheads block us\n",
       "29                                    sir imbecile pervert\n",
       "                               ...                        \n",
       "15818    hi luna santin thank offer help truly see free...\n",
       "15819        nej nej  shall mean completley totally awsome\n",
       "15820    inertion mestake could happen everyone officia...\n",
       "15821    see language first source unthinking hype puff...\n",
       "15822    malta nazi party accord wikipedia's reliable s...\n",
       "15823                       thank last warn wax work way  \n",
       "15824    work third opinion third opinion award if many...\n",
       "15825    april utc tabloids accurate source   sometimes...\n",
       "15826    want good edit check time fab four delete lie ...\n",
       "15827    find ommanney sgt r j british squadron kill fe...\n",
       "15828    still think totaly fuck page help suck dont de...\n",
       "15829    hey thank edit article serbs croatia lot thing...\n",
       "15830    local anesthesia text remove local anesthesia ...\n",
       "15831    warn iraqi kurdish team last warn stop change ...\n",
       "15832           crucial information checkuser sockpuppetry\n",
       "15833    i'm sorry sorry make edit constructive vandali...\n",
       "15834    stop johnspring stop constant reversions go he...\n",
       "15835    that's ok interest editor article stop ga revi...\n",
       "15836    hello welcome wikipedia tip help get start rea...\n",
       "15837    actually possible know mbk email without messa...\n",
       "15838    state piketty say smooth figure absolute accor...\n",
       "15839              seem already aware think warn ss member\n",
       "15840    please vandalize page edit elizabeth bowes lyo...\n",
       "15841                                            like butt\n",
       "15842    go block little effort ezra pound | blarneyman...\n",
       "15843    ultra heavy deuterium solid massive weight ext...\n",
       "15844    cancer claim russle miss cold chips fries errr...\n",
       "15845    please google image flag northern ireland noon...\n",
       "15846                   controversial change anybody sense\n",
       "15847    regard header article culture malaysia think w...\n",
       "Name: comment_text, Length: 15848, dtype: object"
      ]
     },
     "execution_count": 3,
     "metadata": {},
     "output_type": "execute_result"
    }
   ],
   "source": [
    "insult3['comment_text'] = insult3['comment_text'].str.replace(\"@\",\" \")\n",
    "insult3['comment_text'] = insult3['comment_text'].str.replace(\"/\",\" \")\n",
    "insult3['comment_text'] = insult3['comment_text'].str.replace(\"=\",\" \")\n",
    "insult3['comment_text'] = insult3['comment_text'].str.replace(\"-\",\" \")\n",
    "insult3['comment_text'] = insult3['comment_text'].str.replace(\"±\",\" \")\n",
    "insult3['comment_text'] = insult3['comment_text'].str.replace(\"*\",\" \")\n",
    "insult3['comment_text'] = insult3['comment_text'].str.replace(\"+\",\" \")\n",
    "insult3['comment_text'] = insult3['comment_text'].str.replace(\"-\",\" \")\n",
    "insult3['comment_text'] = insult3['comment_text'].str.replace(\"#\",\" \")\n",
    "insult3['comment_text'] = insult3['comment_text'].str.replace(\"€\",\" \")\n",
    "insult3['comment_text'] = insult3['comment_text'].str.replace(\"Ã\",\" \")\n",
    "insult3['comment_text'] = insult3['comment_text'].str.replace(\"©\",\" \")\n",
    "insult3['comment_text'] = insult3['comment_text'].str.replace(\"Â\",\" \")\n",
    "insult3['comment_text'] = insult3['comment_text'].str.replace(\"$\",\" \")\n",
    "insult3['comment_text'] = insult3['comment_text'].str.replace(\"Ù\",\" \")\n",
    "insult3['comment_text'] = insult3['comment_text'].str.replace(\"#\",\" \")\n",
    "insult3['comment_text'] = insult3['comment_text'].str.replace(\"Ø\",\" \")\n",
    "insult3['comment_text'] = insult3['comment_text'].str.replace(\"§\",\" \")\n",
    "insult3['comment_text'] = insult3['comment_text'].str.replace(\"%\",\" \")\n",
    "insult3['comment_text'] = insult3['comment_text'].str.replace(\"¶\",\" \")\n",
    "insult3['comment_text'] = insult3['comment_text'].str.replace(\"?\",\" \")\n",
    "insult3['comment_text'] = insult3['comment_text'].str.replace(\"&\",\" \")\n",
    "insult3['comment_text'] = insult3['comment_text'].str.replace(\"_\",\" \")\n",
    "insult3['comment_text'] = insult3['comment_text'].str.replace(\"â\",\" \")\n",
    "insult3['comment_text'] = insult3['comment_text'].str.replace(\"Ž\",\" \")\n",
    "insult3['comment_text'] = insult3['comment_text'].str.replace(\"¢\",\" \")\n",
    "insult3['comment_text'] = insult3['comment_text'].str.replace(\"Ý\",\" \")\n",
    "insult3['comment_text'] = insult3['comment_text'].str.replace(\"£\",\" \")\n",
    "insult3['comment_text'] = insult3['comment_text'].str.replace(\"»\",\" \")\n",
    "insult3['comment_text'] = insult3['comment_text'].str.replace(\"œ\",\" \")\n",
    "insult3['comment_text'] = insult3['comment_text'].str.replace(\"¬\",\" \")\n",
    "insult3['comment_text'] = insult3['comment_text'].str.replace(\"Ð\",\" \")\n",
    "insult3['comment_text'] = insult3['comment_text'].str.replace(\"Ç\",\" \")\n",
    "insult3['comment_text'] = insult3['comment_text'].str.replace(\"~\",\" \")\n",
    "insult3['comment_text'] = insult3['comment_text'].str.replace(\"™\",\" \")\n",
    "insult3['comment_text'] = insult3['comment_text'].str.replace(\"·\",\" \")\n",
    "insult3['comment_text'] = insult3['comment_text'].str.replace(\"†\",\" \")\n",
    "insult3['comment_text'] = insult3['comment_text'].str.replace(\"ˆ\",\" \")\n",
    "insult3['comment_text'] = insult3['comment_text'].str.replace(\"Î\",\" \")                                            \n",
    "insult3['comment_text']"
   ]
  },
  {
   "cell_type": "code",
   "execution_count": 4,
   "metadata": {
    "collapsed": true
   },
   "outputs": [],
   "source": [
    "insult3.to_csv('insult3.csv')"
   ]
  },
  {
   "cell_type": "code",
   "execution_count": null,
   "metadata": {
    "collapsed": true
   },
   "outputs": [],
   "source": []
  }
 ],
 "metadata": {
  "kernelspec": {
   "display_name": "Python 3",
   "language": "python",
   "name": "python3"
  },
  "language_info": {
   "codemirror_mode": {
    "name": "ipython",
    "version": 3
   },
   "file_extension": ".py",
   "mimetype": "text/x-python",
   "name": "python",
   "nbconvert_exporter": "python",
   "pygments_lexer": "ipython3",
   "version": "3.6.3"
  }
 },
 "nbformat": 4,
 "nbformat_minor": 2
}
