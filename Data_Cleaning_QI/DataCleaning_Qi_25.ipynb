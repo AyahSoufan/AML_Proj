{
 "cells": [
  {
   "cell_type": "code",
   "execution_count": 1,
   "metadata": {
    "collapsed": true
   },
   "outputs": [],
   "source": [
    "import pandas as pd\n",
    "import os"
   ]
  },
  {
   "cell_type": "code",
   "execution_count": 3,
   "metadata": {},
   "outputs": [
    {
     "data": {
      "text/plain": [
       "'C:\\\\Users\\\\warmp\\\\Documents\\\\pythonlearning\\\\AML'"
      ]
     },
     "execution_count": 3,
     "metadata": {},
     "output_type": "execute_result"
    }
   ],
   "source": [
    "os.getcwd()"
   ]
  },
  {
   "cell_type": "code",
   "execution_count": 2,
   "metadata": {},
   "outputs": [
    {
     "data": {
      "text/plain": [
       "0                              cocksucker piss around work\n",
       "1        hey @ | talk exclusive group wp talibanswho go...\n",
       "2                  bye look come think comming back tosser\n",
       "3        gay antisemmitian archangel white tiger meow g...\n",
       "4                               fuck filthy mother ass dry\n",
       "5        i'm sorry i'm sorry screw around someones talk...\n",
       "6        get fuck get fuckeeed get drink cant put down/...\n",
       "7        stupid peace shit stop delete stuff asshole go...\n",
       "8          =tony sidaway obviously fistfuckee love arm ass\n",
       "9        band page's deletion think go delete comment p...\n",
       "10       can't believe fat artie see recent appearence ...\n",
       "11       edit good cunts like revert good edit stupid u...\n",
       "12                    hi back last warn stop undo edit die\n",
       "13          would shut run wikipedia especially stupid kid\n",
       "14                    pair jew-hating weiner nazi schmucks\n",
       "15       sorry puck one ever say dick number one clearl...\n",
       "16       unblock i'll get lawyers block constitutional ...\n",
       "17       fire moronic wimp lazy research make sick peop...\n",
       "18       think fagget get oife burn hell hate 'm sorry ...\n",
       "19                         stupid fuck mother's cunt stink\n",
       "20       blatant pov push neither guy make contribution...\n",
       "21       give permanat block raseac remember muslims do...\n",
       "22                                 fuck block faggot pussy\n",
       "23       kill niggers hard others say include racists s...\n",
       "24       burn deck that'd guy's burn deck like think bl...\n",
       "25       u r tw@ fuck u gay boyu r smellyfuck ur mum po...\n",
       "26                                  atheism full bias shit\n",
       "27       hey spread misconceptions try spread false inf...\n",
       "28           let know crawl arses '''''' dick laurent dead\n",
       "29               user worthless goddamn faggot fuck faggot\n",
       "                               ...                        \n",
       "31296    another one archive wpadministrators' noticebo...\n",
       "31297    thank thank dont like roads connect togher wis...\n",
       "31298    july utc pettid j korean cuisine illustrate hi...\n",
       "31299    elonka dunin == lord person constant menance w...\n",
       "31300    delete post post delete editors like facts leg...\n",
       "31301    usual criterion inclusion wikipedia explain ba...\n",
       "31302    thank experiment wikipedia test work revert re...\n",
       "31303                           welcome richly deserve | c\n",
       "31304                i'm programmer here's next best thing\n",
       "31305    agree sort self compose press release business...\n",
       "31306                               yup hey yeah thank tip\n",
       "31307    alisha heng page say create create also find s...\n",
       "31308    spi hey clean spi clerk list wonder still inte...\n",
       "31309    cold war eu rise americans longer need pettine...\n",
       "31310    hello privet commodore sloat person add info t...\n",
       "31311    minor comment i'm put article hold drop note q...\n",
       "31312                                    comment calculate\n",
       "31313    explanation change nbc abc several place artic...\n",
       "31314                                           spay stuff\n",
       "31315    hello nagyon szviesen live near hatzfeldneben ...\n",
       "31316                                        agree restore\n",
       "31317    previous run-ins mention page delete nothing h...\n",
       "31318    freedom flotilla ii paul murphy irish member e...\n",
       "31319    jam john better effect teacher create leave al...\n",
       "31320                            minuscule entry page form\n",
       "31321          read first line carefully last couple weeks\n",
       "31322    i'm longer angry sorry fume find post block ne...\n",
       "31323    question literary forgery issue ie hoax claim ...\n",
       "31324    disagree merger know stub fix make think episo...\n",
       "31325    new train schedule hello folks want know make ...\n",
       "Name: comment_text, Length: 31326, dtype: object"
      ]
     },
     "execution_count": 2,
     "metadata": {},
     "output_type": "execute_result"
    }
   ],
   "source": [
    "toxic0 = pd.read_csv(r'C:\\Users\\warmp\\Documents\\pythonlearning\\AML\\balanced_dataset\\balanced_dataset\\toxic0.csv')\n",
    "toxic0['comment_text']"
   ]
  },
  {
   "cell_type": "code",
   "execution_count": 3,
   "metadata": {},
   "outputs": [
    {
     "data": {
      "text/plain": [
       "0                              cocksucker piss around work\n",
       "1        hey   | talk exclusive group wp talibanswho go...\n",
       "2                  bye look come think comming back tosser\n",
       "3        gay antisemmitian archangel white tiger meow g...\n",
       "4                               fuck filthy mother ass dry\n",
       "5        i'm sorry i'm sorry screw around someones talk...\n",
       "6        get fuck get fuckeeed get drink cant put down ...\n",
       "7        stupid peace shit stop delete stuff asshole go...\n",
       "8           tony sidaway obviously fistfuckee love arm ass\n",
       "9        band page's deletion think go delete comment p...\n",
       "10       can't believe fat artie see recent appearence ...\n",
       "11       edit good cunts like revert good edit stupid u...\n",
       "12                    hi back last warn stop undo edit die\n",
       "13          would shut run wikipedia especially stupid kid\n",
       "14                    pair jew hating weiner nazi schmucks\n",
       "15       sorry puck one ever say dick number one clearl...\n",
       "16       unblock i'll get lawyers block constitutional ...\n",
       "17       fire moronic wimp lazy research make sick peop...\n",
       "18       think fagget get oife burn hell hate 'm sorry ...\n",
       "19                         stupid fuck mother's cunt stink\n",
       "20       blatant pov push neither guy make contribution...\n",
       "21       give permanat block raseac remember muslims do...\n",
       "22                                 fuck block faggot pussy\n",
       "23       kill niggers hard others say include racists s...\n",
       "24       burn deck that'd guy's burn deck like think bl...\n",
       "25       u r tw  fuck u gay boyu r smellyfuck ur mum po...\n",
       "26                                  atheism full bias shit\n",
       "27       hey spread misconceptions try spread false inf...\n",
       "28           let know crawl arses '''''' dick laurent dead\n",
       "29               user worthless goddamn faggot fuck faggot\n",
       "                               ...                        \n",
       "31296    another one archive wpadministrators' noticebo...\n",
       "31297    thank thank dont like roads connect togher wis...\n",
       "31298    july utc pettid j korean cuisine illustrate hi...\n",
       "31299    elonka dunin    lord person constant menance w...\n",
       "31300    delete post post delete editors like facts leg...\n",
       "31301    usual criterion inclusion wikipedia explain ba...\n",
       "31302    thank experiment wikipedia test work revert re...\n",
       "31303                           welcome richly deserve | c\n",
       "31304                i'm programmer here's next best thing\n",
       "31305    agree sort self compose press release business...\n",
       "31306                               yup hey yeah thank tip\n",
       "31307    alisha heng page say create create also find s...\n",
       "31308    spi hey clean spi clerk list wonder still inte...\n",
       "31309    cold war eu rise americans longer need pettine...\n",
       "31310    hello privet commodore sloat person add info t...\n",
       "31311    minor comment i'm put article hold drop note q...\n",
       "31312                                    comment calculate\n",
       "31313    explanation change nbc abc several place artic...\n",
       "31314                                           spay stuff\n",
       "31315    hello nagyon szviesen live near hatzfeldneben ...\n",
       "31316                                        agree restore\n",
       "31317    previous run ins mention page delete nothing h...\n",
       "31318    freedom flotilla ii paul murphy irish member e...\n",
       "31319    jam john better effect teacher create leave al...\n",
       "31320                            minuscule entry page form\n",
       "31321          read first line carefully last couple weeks\n",
       "31322    i'm longer angry sorry fume find post block ne...\n",
       "31323    question literary forgery issue ie hoax claim ...\n",
       "31324    disagree merger know stub fix make think episo...\n",
       "31325    new train schedule hello folks want know make ...\n",
       "Name: comment_text, Length: 31326, dtype: object"
      ]
     },
     "execution_count": 3,
     "metadata": {},
     "output_type": "execute_result"
    }
   ],
   "source": [
    "toxic0['comment_text'] = toxic0['comment_text'].str.replace(\"@\",\" \")\n",
    "toxic0['comment_text'] = toxic0['comment_text'].str.replace(\"/\",\" \")\n",
    "toxic0['comment_text'] = toxic0['comment_text'].str.replace(\"=\",\" \")\n",
    "toxic0['comment_text'] = toxic0['comment_text'].str.replace(\"-\",\" \")\n",
    "toxic0['comment_text'] = toxic0['comment_text'].str.replace(\"±\",\" \")\n",
    "toxic0['comment_text'] = toxic0['comment_text'].str.replace(\"*\",\" \")\n",
    "toxic0['comment_text'] = toxic0['comment_text'].str.replace(\"+\",\" \")\n",
    "toxic0['comment_text'] = toxic0['comment_text'].str.replace(\"-\",\" \")\n",
    "toxic0['comment_text'] = toxic0['comment_text'].str.replace(\"#\",\" \")\n",
    "toxic0['comment_text'] = toxic0['comment_text'].str.replace(\"€\",\" \")\n",
    "toxic0['comment_text'] = toxic0['comment_text'].str.replace(\"Ã\",\" \")\n",
    "toxic0['comment_text'] = toxic0['comment_text'].str.replace(\"©\",\" \")\n",
    "toxic0['comment_text'] = toxic0['comment_text'].str.replace(\"Â\",\" \")\n",
    "toxic0['comment_text'] = toxic0['comment_text'].str.replace(\"$\",\" \")\n",
    "toxic0['comment_text'] = toxic0['comment_text'].str.replace(\"Ù\",\" \")\n",
    "toxic0['comment_text'] = toxic0['comment_text'].str.replace(\"#\",\" \")\n",
    "toxic0['comment_text'] = toxic0['comment_text'].str.replace(\"Ø\",\" \")\n",
    "toxic0['comment_text'] = toxic0['comment_text'].str.replace(\"§\",\" \")\n",
    "toxic0['comment_text'] = toxic0['comment_text'].str.replace(\"%\",\" \")\n",
    "toxic0['comment_text'] = toxic0['comment_text'].str.replace(\"¶\",\" \")\n",
    "toxic0['comment_text'] = toxic0['comment_text'].str.replace(\"?\",\" \")\n",
    "toxic0['comment_text'] = toxic0['comment_text'].str.replace(\"&\",\" \")\n",
    "toxic0['comment_text'] = toxic0['comment_text'].str.replace(\"_\",\" \")\n",
    "toxic0['comment_text'] = toxic0['comment_text'].str.replace(\"â\",\" \")\n",
    "toxic0['comment_text'] = toxic0['comment_text'].str.replace(\"Ž\",\" \")\n",
    "toxic0['comment_text'] = toxic0['comment_text'].str.replace(\"¢\",\" \")\n",
    "toxic0['comment_text'] = toxic0['comment_text'].str.replace(\"Ý\",\" \")\n",
    "toxic0['comment_text'] = toxic0['comment_text'].str.replace(\"£\",\" \")\n",
    "toxic0['comment_text'] = toxic0['comment_text'].str.replace(\"»\",\" \")\n",
    "toxic0['comment_text'] = toxic0['comment_text'].str.replace(\"œ\",\" \")\n",
    "toxic0['comment_text'] = toxic0['comment_text'].str.replace(\"¬\",\" \")\n",
    "toxic0['comment_text'] = toxic0['comment_text'].str.replace(\"Ð\",\" \")\n",
    "toxic0['comment_text'] = toxic0['comment_text'].str.replace(\"Ç\",\" \")\n",
    "toxic0['comment_text'] = toxic0['comment_text'].str.replace(\"~\",\" \")\n",
    "toxic0['comment_text'] = toxic0['comment_text'].str.replace(\"™\",\" \")\n",
    "toxic0['comment_text'] = toxic0['comment_text'].str.replace(\"·\",\" \")\n",
    "toxic0['comment_text'] = toxic0['comment_text'].str.replace(\"†\",\" \")\n",
    "toxic0['comment_text'] = toxic0['comment_text'].str.replace(\"ˆ\",\" \")\n",
    "toxic0['comment_text'] = toxic0['comment_text'].str.replace(\"Î\",\" \")                                            \n",
    "toxic0['comment_text']"
   ]
  },
  {
   "cell_type": "code",
   "execution_count": 4,
   "metadata": {
    "collapsed": true
   },
   "outputs": [],
   "source": [
    "toxic0.to_csv('toxic0.csv')"
   ]
  },
  {
   "cell_type": "code",
   "execution_count": null,
   "metadata": {
    "collapsed": true
   },
   "outputs": [],
   "source": []
  }
 ],
 "metadata": {
  "kernelspec": {
   "display_name": "Python 3",
   "language": "python",
   "name": "python3"
  },
  "language_info": {
   "codemirror_mode": {
    "name": "ipython",
    "version": 3
   },
   "file_extension": ".py",
   "mimetype": "text/x-python",
   "name": "python",
   "nbconvert_exporter": "python",
   "pygments_lexer": "ipython3",
   "version": "3.6.3"
  }
 },
 "nbformat": 4,
 "nbformat_minor": 2
}
