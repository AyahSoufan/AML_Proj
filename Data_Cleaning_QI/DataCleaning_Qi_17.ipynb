{
 "cells": [
  {
   "cell_type": "code",
   "execution_count": 1,
   "metadata": {
    "collapsed": true
   },
   "outputs": [],
   "source": [
    "import pandas as pd\n",
    "import os"
   ]
  },
  {
   "cell_type": "code",
   "execution_count": 3,
   "metadata": {},
   "outputs": [
    {
     "data": {
      "text/plain": [
       "'C:\\\\Users\\\\warmp\\\\Documents\\\\pythonlearning\\\\AML'"
      ]
     },
     "execution_count": 3,
     "metadata": {},
     "output_type": "execute_result"
    }
   ],
   "source": [
    "os.getcwd()"
   ]
  },
  {
   "cell_type": "code",
   "execution_count": 2,
   "metadata": {},
   "outputs": [
    {
     "data": {
      "text/plain": [
       "0                             cocksucker piss around work\n",
       "1       stupid peace shit stop delete stuff asshole go...\n",
       "2                         stupid fuck mother's cunt stink\n",
       "3                                        hi im fuck bitch\n",
       "4             motherfucking piece crap fuckheads block us\n",
       "5       know think nobody really attack reveal age ann...\n",
       "6                          here's idea go fuck cumshitter\n",
       "7       motherfucking safety guarantee fuck hope i'm b...\n",
       "8       gay motherfucker know livei go sand face offth...\n",
       "9       first time bitch fuck i'll find live sodomize ...\n",
       "10      fuck faggot care get block long everyone know ...\n",
       "11                          cavort heretics fuck heretics\n",
       "12                                     dick bigger hahaha\n",
       "13                           fuck people information find\n",
       "14                                 shut fat poop kick ass\n",
       "15      blanchardb dumb motherfucker go sue shit watch...\n",
       "16                                       fuck small penis\n",
       "17      closedmouth dick-fuck guy jackass sux cock fuc...\n",
       "18      hey fuck fuck check phnom nam lyr wildlife san...\n",
       "19      yo fuck problem fuck around page leave fuck alone\n",
       "20      igho otegheri deletion hell decide delete coul...\n",
       "21                @ nobody care fuck shit like fuck bitch\n",
       "22                                         baklava fuck =\n",
       "23      page fuckers say want fuck drini naconkantari ...\n",
       "24      hey wiki nerd u suck man dont like nasty comen...\n",
       "25      mothjer fucker cocksucker mothjer fucker cocks...\n",
       "26             motherfucker dont change fuck gta timeline\n",
       "27      fuck paranoid bitch ugly unwanted bucket sludg...\n",
       "28      fascit nazi socialist bastard filthy hippy dar...\n",
       "29      fuck nazi propaganda odpierdalcie sie jebani f...\n",
       "                              ...                        \n",
       "3161    reference wireless modem make sound confuse tw...\n",
       "3162    urgent section delete per advice several relev...\n",
       "3163    march continue recent edit seem constructive e...\n",
       "3164    think possibly scope separate article applicat...\n",
       "3165            everyone supporters native german speaker\n",
       "3166                  block like jizzballs care slightest\n",
       "3167           mean grammatical problems grammar problems\n",
       "3168    please stop continue vandalize wikipedia brian...\n",
       "3169                              way past due — • talk •\n",
       "3170    unfounded comment griffin common consent white...\n",
       "3171    hello hello deco decide leave message talk pag...\n",
       "3172    londonderry reason delete oh see could slight ...\n",
       "3173    lead picture better modern high-res color phot...\n",
       "3174                                   um see controversy\n",
       "3175    thank review hit nearly could answer one last ...\n",
       "3176    yo delete f-ing article f-ing series f-ing wan...\n",
       "3177    page start review thank create nokia lumia kri...\n",
       "3178         stop troll write suggestion think would work\n",
       "3179               thats yopu fix problem delelte entirly\n",
       "3180    old groundhog back think miss ah well alert da...\n",
       "3181                        absolutely business associate\n",
       "3182    off-topic need fix break page's layout possibl...\n",
       "3183    spell flak correct spell use adjective jacket ...\n",
       "3184    girls revert edit please email fax first tend ...\n",
       "3185    list european list still survive part europe b...\n",
       "3186    welcome hello welcome wikipedia thank contribu...\n",
       "3187    yet examples ideologically motivate false labe...\n",
       "3188    well gun pocket battleships deutschland britis...\n",
       "3189    would cite reference i've make bold freakin' t...\n",
       "3190    controversy may issue true reference remove ma...\n",
       "Name: comment_text, Length: 3191, dtype: object"
      ]
     },
     "execution_count": 2,
     "metadata": {},
     "output_type": "execute_result"
    }
   ],
   "source": [
    "severe_toxic2 = pd.read_csv(r'C:\\Users\\warmp\\Documents\\pythonlearning\\AML\\balanced_dataset\\balanced_dataset\\severe_toxic2.csv')\n",
    "severe_toxic2['comment_text']"
   ]
  },
  {
   "cell_type": "code",
   "execution_count": 3,
   "metadata": {},
   "outputs": [
    {
     "data": {
      "text/plain": [
       "0                             cocksucker piss around work\n",
       "1       stupid peace shit stop delete stuff asshole go...\n",
       "2                         stupid fuck mother's cunt stink\n",
       "3                                        hi im fuck bitch\n",
       "4             motherfucking piece crap fuckheads block us\n",
       "5       know think nobody really attack reveal age ann...\n",
       "6                          here's idea go fuck cumshitter\n",
       "7       motherfucking safety guarantee fuck hope i'm b...\n",
       "8       gay motherfucker know livei go sand face offth...\n",
       "9       first time bitch fuck i'll find live sodomize ...\n",
       "10      fuck faggot care get block long everyone know ...\n",
       "11                          cavort heretics fuck heretics\n",
       "12                                     dick bigger hahaha\n",
       "13                           fuck people information find\n",
       "14                                 shut fat poop kick ass\n",
       "15      blanchardb dumb motherfucker go sue shit watch...\n",
       "16                                       fuck small penis\n",
       "17      closedmouth dick fuck guy jackass sux cock fuc...\n",
       "18      hey fuck fuck check phnom nam lyr wildlife san...\n",
       "19      yo fuck problem fuck around page leave fuck alone\n",
       "20      igho otegheri deletion hell decide delete coul...\n",
       "21                  nobody care fuck shit like fuck bitch\n",
       "22                                         baklava fuck  \n",
       "23      page fuckers say want fuck drini naconkantari ...\n",
       "24      hey wiki nerd u suck man dont like nasty comen...\n",
       "25      mothjer fucker cocksucker mothjer fucker cocks...\n",
       "26             motherfucker dont change fuck gta timeline\n",
       "27      fuck paranoid bitch ugly unwanted bucket sludg...\n",
       "28      fascit nazi socialist bastard filthy hippy dar...\n",
       "29      fuck nazi propaganda odpierdalcie sie jebani f...\n",
       "                              ...                        \n",
       "3161    reference wireless modem make sound confuse tw...\n",
       "3162    urgent section delete per advice several relev...\n",
       "3163    march continue recent edit seem constructive e...\n",
       "3164    think possibly scope separate article applicat...\n",
       "3165            everyone supporters native german speaker\n",
       "3166                  block like jizzballs care slightest\n",
       "3167           mean grammatical problems grammar problems\n",
       "3168    please stop continue vandalize wikipedia brian...\n",
       "3169                              way past due — • talk •\n",
       "3170    unfounded comment griffin common consent white...\n",
       "3171    hello hello deco decide leave message talk pag...\n",
       "3172    londonderry reason delete oh see could slight ...\n",
       "3173    lead picture better modern high res color phot...\n",
       "3174                                   um see controversy\n",
       "3175    thank review hit nearly could answer one last ...\n",
       "3176    yo delete f ing article f ing series f ing wan...\n",
       "3177    page start review thank create nokia lumia kri...\n",
       "3178         stop troll write suggestion think would work\n",
       "3179               thats yopu fix problem delelte entirly\n",
       "3180    old groundhog back think miss ah well alert da...\n",
       "3181                        absolutely business associate\n",
       "3182    off topic need fix break page's layout possibl...\n",
       "3183    spell flak correct spell use adjective jacket ...\n",
       "3184    girls revert edit please email fax first tend ...\n",
       "3185    list european list still survive part europe b...\n",
       "3186    welcome hello welcome wikipedia thank contribu...\n",
       "3187    yet examples ideologically motivate false labe...\n",
       "3188    well gun pocket battleships deutschland britis...\n",
       "3189    would cite reference i've make bold freakin' t...\n",
       "3190    controversy may issue true reference remove ma...\n",
       "Name: comment_text, Length: 3191, dtype: object"
      ]
     },
     "execution_count": 3,
     "metadata": {},
     "output_type": "execute_result"
    }
   ],
   "source": [
    "severe_toxic2['comment_text'] = severe_toxic2['comment_text'].str.replace(\"@\",\" \")\n",
    "severe_toxic2['comment_text'] = severe_toxic2['comment_text'].str.replace(\"/\",\" \")\n",
    "severe_toxic2['comment_text'] = severe_toxic2['comment_text'].str.replace(\"=\",\" \")\n",
    "severe_toxic2['comment_text'] = severe_toxic2['comment_text'].str.replace(\"-\",\" \")\n",
    "severe_toxic2['comment_text'] = severe_toxic2['comment_text'].str.replace(\"±\",\" \")\n",
    "severe_toxic2['comment_text'] = severe_toxic2['comment_text'].str.replace(\"*\",\" \")\n",
    "severe_toxic2['comment_text'] = severe_toxic2['comment_text'].str.replace(\"+\",\" \")\n",
    "severe_toxic2['comment_text'] = severe_toxic2['comment_text'].str.replace(\"-\",\" \")\n",
    "severe_toxic2['comment_text'] = severe_toxic2['comment_text'].str.replace(\"#\",\" \")\n",
    "severe_toxic2['comment_text'] = severe_toxic2['comment_text'].str.replace(\"€\",\" \")\n",
    "severe_toxic2['comment_text'] = severe_toxic2['comment_text'].str.replace(\"Ã\",\" \")\n",
    "severe_toxic2['comment_text'] = severe_toxic2['comment_text'].str.replace(\"©\",\" \")\n",
    "severe_toxic2['comment_text'] = severe_toxic2['comment_text'].str.replace(\"Â\",\" \")\n",
    "severe_toxic2['comment_text'] = severe_toxic2['comment_text'].str.replace(\"$\",\" \")\n",
    "severe_toxic2['comment_text'] = severe_toxic2['comment_text'].str.replace(\"Ù\",\" \")\n",
    "severe_toxic2['comment_text'] = severe_toxic2['comment_text'].str.replace(\"#\",\" \")\n",
    "severe_toxic2['comment_text'] = severe_toxic2['comment_text'].str.replace(\"Ø\",\" \")\n",
    "severe_toxic2['comment_text'] = severe_toxic2['comment_text'].str.replace(\"§\",\" \")\n",
    "severe_toxic2['comment_text'] = severe_toxic2['comment_text'].str.replace(\"%\",\" \")\n",
    "severe_toxic2['comment_text'] = severe_toxic2['comment_text'].str.replace(\"¶\",\" \")\n",
    "severe_toxic2['comment_text'] = severe_toxic2['comment_text'].str.replace(\"?\",\" \")\n",
    "severe_toxic2['comment_text'] = severe_toxic2['comment_text'].str.replace(\"&\",\" \")\n",
    "severe_toxic2['comment_text'] = severe_toxic2['comment_text'].str.replace(\"_\",\" \")\n",
    "severe_toxic2['comment_text'] = severe_toxic2['comment_text'].str.replace(\"â\",\" \")\n",
    "severe_toxic2['comment_text'] = severe_toxic2['comment_text'].str.replace(\"Ž\",\" \")\n",
    "severe_toxic2['comment_text'] = severe_toxic2['comment_text'].str.replace(\"¢\",\" \")\n",
    "severe_toxic2['comment_text'] = severe_toxic2['comment_text'].str.replace(\"Ý\",\" \")\n",
    "severe_toxic2['comment_text'] = severe_toxic2['comment_text'].str.replace(\"£\",\" \")\n",
    "severe_toxic2['comment_text'] = severe_toxic2['comment_text'].str.replace(\"»\",\" \")\n",
    "severe_toxic2['comment_text'] = severe_toxic2['comment_text'].str.replace(\"œ\",\" \")\n",
    "severe_toxic2['comment_text'] = severe_toxic2['comment_text'].str.replace(\"¬\",\" \")\n",
    "severe_toxic2['comment_text'] = severe_toxic2['comment_text'].str.replace(\"Ð\",\" \")\n",
    "severe_toxic2['comment_text'] = severe_toxic2['comment_text'].str.replace(\"Ç\",\" \")\n",
    "severe_toxic2['comment_text'] = severe_toxic2['comment_text'].str.replace(\"~\",\" \")\n",
    "severe_toxic2['comment_text'] = severe_toxic2['comment_text'].str.replace(\"™\",\" \")\n",
    "severe_toxic2['comment_text'] = severe_toxic2['comment_text'].str.replace(\"·\",\" \")\n",
    "severe_toxic2['comment_text'] = severe_toxic2['comment_text'].str.replace(\"†\",\" \")\n",
    "severe_toxic2['comment_text'] = severe_toxic2['comment_text'].str.replace(\"ˆ\",\" \")\n",
    "severe_toxic2['comment_text'] = severe_toxic2['comment_text'].str.replace(\"Î\",\" \")                                            \n",
    "severe_toxic2['comment_text']"
   ]
  },
  {
   "cell_type": "code",
   "execution_count": 4,
   "metadata": {
    "collapsed": true
   },
   "outputs": [],
   "source": [
    "severe_toxic2.to_csv('severe_toxic2.csv')"
   ]
  },
  {
   "cell_type": "code",
   "execution_count": null,
   "metadata": {
    "collapsed": true
   },
   "outputs": [],
   "source": []
  }
 ],
 "metadata": {
  "kernelspec": {
   "display_name": "Python 3",
   "language": "python",
   "name": "python3"
  },
  "language_info": {
   "codemirror_mode": {
    "name": "ipython",
    "version": 3
   },
   "file_extension": ".py",
   "mimetype": "text/x-python",
   "name": "python",
   "nbconvert_exporter": "python",
   "pygments_lexer": "ipython3",
   "version": "3.6.3"
  }
 },
 "nbformat": 4,
 "nbformat_minor": 2
}
