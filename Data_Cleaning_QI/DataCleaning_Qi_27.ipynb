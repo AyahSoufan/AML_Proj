{
 "cells": [
  {
   "cell_type": "code",
   "execution_count": 1,
   "metadata": {
    "collapsed": true
   },
   "outputs": [],
   "source": [
    "import pandas as pd\n",
    "import os"
   ]
  },
  {
   "cell_type": "code",
   "execution_count": 3,
   "metadata": {},
   "outputs": [
    {
     "data": {
      "text/plain": [
       "'C:\\\\Users\\\\warmp\\\\Documents\\\\pythonlearning\\\\AML'"
      ]
     },
     "execution_count": 3,
     "metadata": {},
     "output_type": "execute_result"
    }
   ],
   "source": [
    "os.getcwd()"
   ]
  },
  {
   "cell_type": "code",
   "execution_count": 2,
   "metadata": {},
   "outputs": [
    {
     "data": {
      "text/plain": [
       "0                              cocksucker piss around work\n",
       "1        hey @ | talk exclusive group wp talibanswho go...\n",
       "2                  bye look come think comming back tosser\n",
       "3        gay antisemmitian archangel white tiger meow g...\n",
       "4                               fuck filthy mother ass dry\n",
       "5        i'm sorry i'm sorry screw around someones talk...\n",
       "6        get fuck get fuckeeed get drink cant put down/...\n",
       "7        stupid peace shit stop delete stuff asshole go...\n",
       "8          =tony sidaway obviously fistfuckee love arm ass\n",
       "9        band page's deletion think go delete comment p...\n",
       "10       can't believe fat artie see recent appearence ...\n",
       "11       edit good cunts like revert good edit stupid u...\n",
       "12                    hi back last warn stop undo edit die\n",
       "13          would shut run wikipedia especially stupid kid\n",
       "14                    pair jew-hating weiner nazi schmucks\n",
       "15       sorry puck one ever say dick number one clearl...\n",
       "16       unblock i'll get lawyers block constitutional ...\n",
       "17       fire moronic wimp lazy research make sick peop...\n",
       "18       think fagget get oife burn hell hate 'm sorry ...\n",
       "19                         stupid fuck mother's cunt stink\n",
       "20       blatant pov push neither guy make contribution...\n",
       "21       give permanat block raseac remember muslims do...\n",
       "22                                 fuck block faggot pussy\n",
       "23       kill niggers hard others say include racists s...\n",
       "24       burn deck that'd guy's burn deck like think bl...\n",
       "25       u r tw@ fuck u gay boyu r smellyfuck ur mum po...\n",
       "26                                  atheism full bias shit\n",
       "27       hey spread misconceptions try spread false inf...\n",
       "28           let know crawl arses '''''' dick laurent dead\n",
       "29               user worthless goddamn faggot fuck faggot\n",
       "                               ...                        \n",
       "31209       redirect talkjelena janković career statistics\n",
       "31210    gee tell editors work article article totally ...\n",
       "31211    user page quote refer reverse christianity def...\n",
       "31212    page half == screen see large space history pa...\n",
       "31213    suffer-not-injustice pure oliver cromwell vime...\n",
       "31214    helio say hogwash consider real fight even ste...\n",
       "31215    read source date work sloppy slipshod read lin...\n",
       "31216                redirect talkrobert wexler politician\n",
       "31217    attention use asswipe love god please stop ban...\n",
       "31218                           important things seem drop\n",
       "31219    budget infobox write budget $ est article writ...\n",
       "31220                               leave comment thatcher\n",
       "31221    first think refs tome horrors could save artic...\n",
       "31222    welcome hello welcome wikipedia thank contribu...\n",
       "31223                              respect trust objective\n",
       "31224    whole india except tamil nadu regard idiots to...\n",
       "31225    march utc ask source call propagandist rhetori...\n",
       "31226    ok fine block days im sure copebut still would...\n",
       "31227    february utc - oun official zknysh declare his...\n",
       "31228                     cheer message best follow format\n",
       "31229    neil per advice respond charge detail result b...\n",
       "31230    user dlabtot indicate edit improvement idea dl...\n",
       "31231    please stop make test edit wikipedia osama bin...\n",
       "31232    article proposal tb would mind comment proposa...\n",
       "31233    hope take another attack - example table kafka...\n",
       "31234                                          quick thank\n",
       "31235    everything alright wikipedia bull essing - dif...\n",
       "31236             user might even see deletion warn notice\n",
       "31237    edit page fact i've never edit page wikipedia ...\n",
       "31238    medvedev's advisers think medvedev would stop ...\n",
       "Name: comment_text, Length: 31239, dtype: object"
      ]
     },
     "execution_count": 2,
     "metadata": {},
     "output_type": "execute_result"
    }
   ],
   "source": [
    "toxic2= pd.read_csv(r'C:\\Users\\warmp\\Documents\\pythonlearning\\AML\\balanced_dataset\\balanced_dataset\\toxic2.csv')\n",
    "toxic2['comment_text']"
   ]
  },
  {
   "cell_type": "code",
   "execution_count": 3,
   "metadata": {},
   "outputs": [
    {
     "data": {
      "text/plain": [
       "0                              cocksucker piss around work\n",
       "1        hey   | talk exclusive group wp talibanswho go...\n",
       "2                  bye look come think comming back tosser\n",
       "3        gay antisemmitian archangel white tiger meow g...\n",
       "4                               fuck filthy mother ass dry\n",
       "5        i'm sorry i'm sorry screw around someones talk...\n",
       "6        get fuck get fuckeeed get drink cant put down ...\n",
       "7        stupid peace shit stop delete stuff asshole go...\n",
       "8           tony sidaway obviously fistfuckee love arm ass\n",
       "9        band page's deletion think go delete comment p...\n",
       "10       can't believe fat artie see recent appearence ...\n",
       "11       edit good cunts like revert good edit stupid u...\n",
       "12                    hi back last warn stop undo edit die\n",
       "13          would shut run wikipedia especially stupid kid\n",
       "14                    pair jew hating weiner nazi schmucks\n",
       "15       sorry puck one ever say dick number one clearl...\n",
       "16       unblock i'll get lawyers block constitutional ...\n",
       "17       fire moronic wimp lazy research make sick peop...\n",
       "18       think fagget get oife burn hell hate 'm sorry ...\n",
       "19                         stupid fuck mother's cunt stink\n",
       "20       blatant pov push neither guy make contribution...\n",
       "21       give permanat block raseac remember muslims do...\n",
       "22                                 fuck block faggot pussy\n",
       "23       kill niggers hard others say include racists s...\n",
       "24       burn deck that'd guy's burn deck like think bl...\n",
       "25       u r tw  fuck u gay boyu r smellyfuck ur mum po...\n",
       "26                                  atheism full bias shit\n",
       "27       hey spread misconceptions try spread false inf...\n",
       "28           let know crawl arses '''''' dick laurent dead\n",
       "29               user worthless goddamn faggot fuck faggot\n",
       "                               ...                        \n",
       "31209       redirect talkjelena janković career statistics\n",
       "31210    gee tell editors work article article totally ...\n",
       "31211    user page quote refer reverse christianity def...\n",
       "31212    page half    screen see large space history pa...\n",
       "31213    suffer not injustice pure oliver cromwell vime...\n",
       "31214    helio say hogwash consider real fight even ste...\n",
       "31215    read source date work sloppy slipshod read lin...\n",
       "31216                redirect talkrobert wexler politician\n",
       "31217    attention use asswipe love god please stop ban...\n",
       "31218                           important things seem drop\n",
       "31219    budget infobox write budget   est article writ...\n",
       "31220                               leave comment thatcher\n",
       "31221    first think refs tome horrors could save artic...\n",
       "31222    welcome hello welcome wikipedia thank contribu...\n",
       "31223                              respect trust objective\n",
       "31224    whole india except tamil nadu regard idiots to...\n",
       "31225    march utc ask source call propagandist rhetori...\n",
       "31226    ok fine block days im sure copebut still would...\n",
       "31227    february utc   oun official zknysh declare his...\n",
       "31228                     cheer message best follow format\n",
       "31229    neil per advice respond charge detail result b...\n",
       "31230    user dlabtot indicate edit improvement idea dl...\n",
       "31231    please stop make test edit wikipedia osama bin...\n",
       "31232    article proposal tb would mind comment proposa...\n",
       "31233    hope take another attack   example table kafka...\n",
       "31234                                          quick thank\n",
       "31235    everything alright wikipedia bull essing   dif...\n",
       "31236             user might even see deletion warn notice\n",
       "31237    edit page fact i've never edit page wikipedia ...\n",
       "31238    medvedev's advisers think medvedev would stop ...\n",
       "Name: comment_text, Length: 31239, dtype: object"
      ]
     },
     "execution_count": 3,
     "metadata": {},
     "output_type": "execute_result"
    }
   ],
   "source": [
    "toxic2['comment_text'] = toxic2['comment_text'].str.replace(\"@\",\" \")\n",
    "toxic2['comment_text'] = toxic2['comment_text'].str.replace(\"/\",\" \")\n",
    "toxic2['comment_text'] = toxic2['comment_text'].str.replace(\"=\",\" \")\n",
    "toxic2['comment_text'] = toxic2['comment_text'].str.replace(\"-\",\" \")\n",
    "toxic2['comment_text'] = toxic2['comment_text'].str.replace(\"±\",\" \")\n",
    "toxic2['comment_text'] = toxic2['comment_text'].str.replace(\"*\",\" \")\n",
    "toxic2['comment_text'] = toxic2['comment_text'].str.replace(\"+\",\" \")\n",
    "toxic2['comment_text'] = toxic2['comment_text'].str.replace(\"-\",\" \")\n",
    "toxic2['comment_text'] = toxic2['comment_text'].str.replace(\"#\",\" \")\n",
    "toxic2['comment_text'] = toxic2['comment_text'].str.replace(\"€\",\" \")\n",
    "toxic2['comment_text'] = toxic2['comment_text'].str.replace(\"Ã\",\" \")\n",
    "toxic2['comment_text'] = toxic2['comment_text'].str.replace(\"©\",\" \")\n",
    "toxic2['comment_text'] = toxic2['comment_text'].str.replace(\"Â\",\" \")\n",
    "toxic2['comment_text'] = toxic2['comment_text'].str.replace(\"$\",\" \")\n",
    "toxic2['comment_text'] = toxic2['comment_text'].str.replace(\"Ù\",\" \")\n",
    "toxic2['comment_text'] = toxic2['comment_text'].str.replace(\"#\",\" \")\n",
    "toxic2['comment_text'] = toxic2['comment_text'].str.replace(\"Ø\",\" \")\n",
    "toxic2['comment_text'] = toxic2['comment_text'].str.replace(\"§\",\" \")\n",
    "toxic2['comment_text'] = toxic2['comment_text'].str.replace(\"%\",\" \")\n",
    "toxic2['comment_text'] = toxic2['comment_text'].str.replace(\"¶\",\" \")\n",
    "toxic2['comment_text'] = toxic2['comment_text'].str.replace(\"?\",\" \")\n",
    "toxic2['comment_text'] = toxic2['comment_text'].str.replace(\"&\",\" \")\n",
    "toxic2['comment_text'] = toxic2['comment_text'].str.replace(\"_\",\" \")\n",
    "toxic2['comment_text'] = toxic2['comment_text'].str.replace(\"â\",\" \")\n",
    "toxic2['comment_text'] = toxic2['comment_text'].str.replace(\"Ž\",\" \")\n",
    "toxic2['comment_text'] = toxic2['comment_text'].str.replace(\"¢\",\" \")\n",
    "toxic2['comment_text'] = toxic2['comment_text'].str.replace(\"Ý\",\" \")\n",
    "toxic2['comment_text'] = toxic2['comment_text'].str.replace(\"£\",\" \")\n",
    "toxic2['comment_text'] = toxic2['comment_text'].str.replace(\"»\",\" \")\n",
    "toxic2['comment_text'] = toxic2['comment_text'].str.replace(\"œ\",\" \")\n",
    "toxic2['comment_text'] = toxic2['comment_text'].str.replace(\"¬\",\" \")\n",
    "toxic2['comment_text'] = toxic2['comment_text'].str.replace(\"Ð\",\" \")\n",
    "toxic2['comment_text'] = toxic2['comment_text'].str.replace(\"Ç\",\" \")\n",
    "toxic2['comment_text'] = toxic2['comment_text'].str.replace(\"~\",\" \")\n",
    "toxic2['comment_text'] = toxic2['comment_text'].str.replace(\"™\",\" \")\n",
    "toxic2['comment_text'] = toxic2['comment_text'].str.replace(\"·\",\" \")\n",
    "toxic2['comment_text'] = toxic2['comment_text'].str.replace(\"†\",\" \")\n",
    "toxic2['comment_text'] = toxic2['comment_text'].str.replace(\"ˆ\",\" \")\n",
    "toxic2['comment_text'] = toxic2['comment_text'].str.replace(\"Î\",\" \")                                            \n",
    "toxic2['comment_text']"
   ]
  },
  {
   "cell_type": "code",
   "execution_count": 4,
   "metadata": {
    "collapsed": true
   },
   "outputs": [],
   "source": [
    "toxic2.to_csv('toxic2.csv')"
   ]
  },
  {
   "cell_type": "code",
   "execution_count": null,
   "metadata": {
    "collapsed": true
   },
   "outputs": [],
   "source": []
  }
 ],
 "metadata": {
  "kernelspec": {
   "display_name": "Python 3",
   "language": "python",
   "name": "python3"
  },
  "language_info": {
   "codemirror_mode": {
    "name": "ipython",
    "version": 3
   },
   "file_extension": ".py",
   "mimetype": "text/x-python",
   "name": "python",
   "nbconvert_exporter": "python",
   "pygments_lexer": "ipython3",
   "version": "3.6.3"
  }
 },
 "nbformat": 4,
 "nbformat_minor": 2
}
