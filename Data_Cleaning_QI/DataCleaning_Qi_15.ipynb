{
 "cells": [
  {
   "cell_type": "code",
   "execution_count": 1,
   "metadata": {
    "collapsed": true
   },
   "outputs": [],
   "source": [
    "import pandas as pd\n",
    "import os"
   ]
  },
  {
   "cell_type": "code",
   "execution_count": 3,
   "metadata": {},
   "outputs": [
    {
     "data": {
      "text/plain": [
       "'C:\\\\Users\\\\warmp\\\\Documents\\\\pythonlearning\\\\AML'"
      ]
     },
     "execution_count": 3,
     "metadata": {},
     "output_type": "execute_result"
    }
   ],
   "source": [
    "os.getcwd()"
   ]
  },
  {
   "cell_type": "code",
   "execution_count": 2,
   "metadata": {},
   "outputs": [
    {
     "data": {
      "text/plain": [
       "0                             cocksucker piss around work\n",
       "1       stupid peace shit stop delete stuff asshole go...\n",
       "2                         stupid fuck mother's cunt stink\n",
       "3                                        hi im fuck bitch\n",
       "4             motherfucking piece crap fuckheads block us\n",
       "5       know think nobody really attack reveal age ann...\n",
       "6                          here's idea go fuck cumshitter\n",
       "7       motherfucking safety guarantee fuck hope i'm b...\n",
       "8       gay motherfucker know livei go sand face offth...\n",
       "9       first time bitch fuck i'll find live sodomize ...\n",
       "10      fuck faggot care get block long everyone know ...\n",
       "11                          cavort heretics fuck heretics\n",
       "12                                     dick bigger hahaha\n",
       "13                           fuck people information find\n",
       "14                                 shut fat poop kick ass\n",
       "15      blanchardb dumb motherfucker go sue shit watch...\n",
       "16                                       fuck small penis\n",
       "17      closedmouth dick-fuck guy jackass sux cock fuc...\n",
       "18      hey fuck fuck check phnom nam lyr wildlife san...\n",
       "19      yo fuck problem fuck around page leave fuck alone\n",
       "20      igho otegheri deletion hell decide delete coul...\n",
       "21                @ nobody care fuck shit like fuck bitch\n",
       "22                                         baklava fuck =\n",
       "23      page fuckers say want fuck drini naconkantari ...\n",
       "24      hey wiki nerd u suck man dont like nasty comen...\n",
       "25      mothjer fucker cocksucker mothjer fucker cocks...\n",
       "26             motherfucker dont change fuck gta timeline\n",
       "27      fuck paranoid bitch ugly unwanted bucket sludg...\n",
       "28      fascit nazi socialist bastard filthy hippy dar...\n",
       "29      fuck nazi propaganda odpierdalcie sie jebani f...\n",
       "                              ...                        \n",
       "3153    wikipediaarticles_for_deletion/terrorists_of_p...\n",
       "3154    map include article excellent blog geocurrents...\n",
       "3155    paranoia know homophobic user make uninteresti...\n",
       "3156    someone unblock i'll promise i'm go refrain ar...\n",
       "3157    please respond ass like i'm years old |talk|co...\n",
       "3158    gray powell article nominate deletion nominate...\n",
       "3159    machine elf exactly considerate civil either l...\n",
       "3160    er anon's complaints bite beyond elizabeth rau...\n",
       "3161                                june utc wpdgaf cents\n",
       "3162    well help would welcome think statistical test...\n",
       "3163    jess stay site retard pedophile look-alike dip...\n",
       "3164                              create award earn vecia\n",
       "3165    welcome hello welcome wikipedia thank contribu...\n",
       "3166    want understand coanda- experimental plane new...\n",
       "3167    everyone else seem steal good easter picture s...\n",
       "3168    tourism indonesia mean lead section worry let ...\n",
       "3169    emilia carr opinions delete raise perhaps feel...\n",
       "3170    room temperature supercritical fluid supercrit...\n",
       "3171    april fool much wit wisdom wikipedia's editors...\n",
       "3172    gendarmerie number members unknown army + para...\n",
       "3173    care present actual argument pov violations fi...\n",
       "3174    maybe streambeds generally good place look fin...\n",
       "3175    suggest look insult clearly know definition gi...\n",
       "3176    notice date roll back release - could next may...\n",
       "3177    nick gas come back come uk cyphoidbomb gay com...\n",
       "3178    first post comment middle someone else's comme...\n",
       "3179    context blur's career thus far expectations si...\n",
       "3180    speedy deletion galaxy flame tag place galaxy ...\n",
       "3181    alclad technicality ford airplane company sect...\n",
       "3182    andi please look delete moussavi supporters ca...\n",
       "Name: comment_text, Length: 3183, dtype: object"
      ]
     },
     "execution_count": 2,
     "metadata": {},
     "output_type": "execute_result"
    }
   ],
   "source": [
    "severe_toxic0 = pd.read_csv(r'C:\\Users\\warmp\\Documents\\pythonlearning\\AML\\balanced_dataset\\balanced_dataset\\severe_toxic0.csv')\n",
    "severe_toxic0['comment_text']"
   ]
  },
  {
   "cell_type": "code",
   "execution_count": 3,
   "metadata": {},
   "outputs": [
    {
     "data": {
      "text/plain": [
       "0                             cocksucker piss around work\n",
       "1       stupid peace shit stop delete stuff asshole go...\n",
       "2                         stupid fuck mother's cunt stink\n",
       "3                                        hi im fuck bitch\n",
       "4             motherfucking piece crap fuckheads block us\n",
       "5       know think nobody really attack reveal age ann...\n",
       "6                          here's idea go fuck cumshitter\n",
       "7       motherfucking safety guarantee fuck hope i'm b...\n",
       "8       gay motherfucker know livei go sand face offth...\n",
       "9       first time bitch fuck i'll find live sodomize ...\n",
       "10      fuck faggot care get block long everyone know ...\n",
       "11                          cavort heretics fuck heretics\n",
       "12                                     dick bigger hahaha\n",
       "13                           fuck people information find\n",
       "14                                 shut fat poop kick ass\n",
       "15      blanchardb dumb motherfucker go sue shit watch...\n",
       "16                                       fuck small penis\n",
       "17      closedmouth dick fuck guy jackass sux cock fuc...\n",
       "18      hey fuck fuck check phnom nam lyr wildlife san...\n",
       "19      yo fuck problem fuck around page leave fuck alone\n",
       "20      igho otegheri deletion hell decide delete coul...\n",
       "21                  nobody care fuck shit like fuck bitch\n",
       "22                                         baklava fuck  \n",
       "23      page fuckers say want fuck drini naconkantari ...\n",
       "24      hey wiki nerd u suck man dont like nasty comen...\n",
       "25      mothjer fucker cocksucker mothjer fucker cocks...\n",
       "26             motherfucker dont change fuck gta timeline\n",
       "27      fuck paranoid bitch ugly unwanted bucket sludg...\n",
       "28      fascit nazi socialist bastard filthy hippy dar...\n",
       "29      fuck nazi propaganda odpierdalcie sie jebani f...\n",
       "                              ...                        \n",
       "3153    wikipediaarticles for deletion terrorists of p...\n",
       "3154    map include article excellent blog geocurrents...\n",
       "3155    paranoia know homophobic user make uninteresti...\n",
       "3156    someone unblock i'll promise i'm go refrain ar...\n",
       "3157    please respond ass like i'm years old |talk|co...\n",
       "3158    gray powell article nominate deletion nominate...\n",
       "3159    machine elf exactly considerate civil either l...\n",
       "3160    er anon's complaints bite beyond elizabeth rau...\n",
       "3161                                june utc wpdgaf cents\n",
       "3162    well help would welcome think statistical test...\n",
       "3163    jess stay site retard pedophile look alike dip...\n",
       "3164                              create award earn vecia\n",
       "3165    welcome hello welcome wikipedia thank contribu...\n",
       "3166    want understand coanda  experimental plane new...\n",
       "3167    everyone else seem steal good easter picture s...\n",
       "3168    tourism indonesia mean lead section worry let ...\n",
       "3169    emilia carr opinions delete raise perhaps feel...\n",
       "3170    room temperature supercritical fluid supercrit...\n",
       "3171    april fool much wit wisdom wikipedia's editors...\n",
       "3172    gendarmerie number members unknown army   para...\n",
       "3173    care present actual argument pov violations fi...\n",
       "3174    maybe streambeds generally good place look fin...\n",
       "3175    suggest look insult clearly know definition gi...\n",
       "3176    notice date roll back release   could next may...\n",
       "3177    nick gas come back come uk cyphoidbomb gay com...\n",
       "3178    first post comment middle someone else's comme...\n",
       "3179    context blur's career thus far expectations si...\n",
       "3180    speedy deletion galaxy flame tag place galaxy ...\n",
       "3181    alclad technicality ford airplane company sect...\n",
       "3182    andi please look delete moussavi supporters ca...\n",
       "Name: comment_text, Length: 3183, dtype: object"
      ]
     },
     "execution_count": 3,
     "metadata": {},
     "output_type": "execute_result"
    }
   ],
   "source": [
    "severe_toxic0['comment_text'] = severe_toxic0['comment_text'].str.replace(\"@\",\" \")\n",
    "severe_toxic0['comment_text'] = severe_toxic0['comment_text'].str.replace(\"/\",\" \")\n",
    "severe_toxic0['comment_text'] = severe_toxic0['comment_text'].str.replace(\"=\",\" \")\n",
    "severe_toxic0['comment_text'] = severe_toxic0['comment_text'].str.replace(\"-\",\" \")\n",
    "severe_toxic0['comment_text'] = severe_toxic0['comment_text'].str.replace(\"±\",\" \")\n",
    "severe_toxic0['comment_text'] = severe_toxic0['comment_text'].str.replace(\"*\",\" \")\n",
    "severe_toxic0['comment_text'] = severe_toxic0['comment_text'].str.replace(\"+\",\" \")\n",
    "severe_toxic0['comment_text'] = severe_toxic0['comment_text'].str.replace(\"-\",\" \")\n",
    "severe_toxic0['comment_text'] = severe_toxic0['comment_text'].str.replace(\"#\",\" \")\n",
    "severe_toxic0['comment_text'] = severe_toxic0['comment_text'].str.replace(\"€\",\" \")\n",
    "severe_toxic0['comment_text'] = severe_toxic0['comment_text'].str.replace(\"Ã\",\" \")\n",
    "severe_toxic0['comment_text'] = severe_toxic0['comment_text'].str.replace(\"©\",\" \")\n",
    "severe_toxic0['comment_text'] = severe_toxic0['comment_text'].str.replace(\"Â\",\" \")\n",
    "severe_toxic0['comment_text'] = severe_toxic0['comment_text'].str.replace(\"$\",\" \")\n",
    "severe_toxic0['comment_text'] = severe_toxic0['comment_text'].str.replace(\"Ù\",\" \")\n",
    "severe_toxic0['comment_text'] = severe_toxic0['comment_text'].str.replace(\"#\",\" \")\n",
    "severe_toxic0['comment_text'] = severe_toxic0['comment_text'].str.replace(\"Ø\",\" \")\n",
    "severe_toxic0['comment_text'] = severe_toxic0['comment_text'].str.replace(\"§\",\" \")\n",
    "severe_toxic0['comment_text'] = severe_toxic0['comment_text'].str.replace(\"%\",\" \")\n",
    "severe_toxic0['comment_text'] = severe_toxic0['comment_text'].str.replace(\"¶\",\" \")\n",
    "severe_toxic0['comment_text'] = severe_toxic0['comment_text'].str.replace(\"?\",\" \")\n",
    "severe_toxic0['comment_text'] = severe_toxic0['comment_text'].str.replace(\"&\",\" \")\n",
    "severe_toxic0['comment_text'] = severe_toxic0['comment_text'].str.replace(\"_\",\" \")\n",
    "severe_toxic0['comment_text'] = severe_toxic0['comment_text'].str.replace(\"â\",\" \")\n",
    "severe_toxic0['comment_text'] = severe_toxic0['comment_text'].str.replace(\"Ž\",\" \")\n",
    "severe_toxic0['comment_text'] = severe_toxic0['comment_text'].str.replace(\"¢\",\" \")\n",
    "severe_toxic0['comment_text'] = severe_toxic0['comment_text'].str.replace(\"Ý\",\" \")\n",
    "severe_toxic0['comment_text'] = severe_toxic0['comment_text'].str.replace(\"£\",\" \")\n",
    "severe_toxic0['comment_text'] = severe_toxic0['comment_text'].str.replace(\"»\",\" \")\n",
    "severe_toxic0['comment_text'] = severe_toxic0['comment_text'].str.replace(\"œ\",\" \")\n",
    "severe_toxic0['comment_text'] = severe_toxic0['comment_text'].str.replace(\"¬\",\" \")\n",
    "severe_toxic0['comment_text'] = severe_toxic0['comment_text'].str.replace(\"Ð\",\" \")\n",
    "severe_toxic0['comment_text'] = severe_toxic0['comment_text'].str.replace(\"Ç\",\" \")\n",
    "severe_toxic0['comment_text'] = severe_toxic0['comment_text'].str.replace(\"~\",\" \")\n",
    "severe_toxic0['comment_text'] = severe_toxic0['comment_text'].str.replace(\"™\",\" \")\n",
    "severe_toxic0['comment_text'] = severe_toxic0['comment_text'].str.replace(\"·\",\" \")\n",
    "severe_toxic0['comment_text'] = severe_toxic0['comment_text'].str.replace(\"†\",\" \")\n",
    "severe_toxic0['comment_text'] = severe_toxic0['comment_text'].str.replace(\"ˆ\",\" \")\n",
    "severe_toxic0['comment_text'] = severe_toxic0['comment_text'].str.replace(\"Î\",\" \")                                            \n",
    "severe_toxic0['comment_text']"
   ]
  },
  {
   "cell_type": "code",
   "execution_count": 4,
   "metadata": {
    "collapsed": true
   },
   "outputs": [],
   "source": [
    "severe_toxic0.to_csv('severe_toxic0.csv')"
   ]
  },
  {
   "cell_type": "code",
   "execution_count": null,
   "metadata": {
    "collapsed": true
   },
   "outputs": [],
   "source": []
  }
 ],
 "metadata": {
  "kernelspec": {
   "display_name": "Python 3",
   "language": "python",
   "name": "python3"
  },
  "language_info": {
   "codemirror_mode": {
    "name": "ipython",
    "version": 3
   },
   "file_extension": ".py",
   "mimetype": "text/x-python",
   "name": "python",
   "nbconvert_exporter": "python",
   "pygments_lexer": "ipython3",
   "version": "3.6.3"
  }
 },
 "nbformat": 4,
 "nbformat_minor": 2
}
