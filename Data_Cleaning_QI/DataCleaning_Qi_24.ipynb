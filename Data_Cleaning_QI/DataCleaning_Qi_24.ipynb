{
 "cells": [
  {
   "cell_type": "code",
   "execution_count": 1,
   "metadata": {
    "collapsed": true
   },
   "outputs": [],
   "source": [
    "import pandas as pd\n",
    "import os"
   ]
  },
  {
   "cell_type": "code",
   "execution_count": 3,
   "metadata": {},
   "outputs": [
    {
     "data": {
      "text/plain": [
       "'C:\\\\Users\\\\warmp\\\\Documents\\\\pythonlearning\\\\AML'"
      ]
     },
     "execution_count": 3,
     "metadata": {},
     "output_type": "execute_result"
    }
   ],
   "source": [
    "os.getcwd()"
   ]
  },
  {
   "cell_type": "code",
   "execution_count": 2,
   "metadata": {},
   "outputs": [
    {
     "data": {
      "text/plain": [
       "0                   hi back last warn stop undo edit die\n",
       "1      think fagget get oife burn hell hate 'm sorry ...\n",
       "2      i'm also sock puppet accountsuprise -sincerely...\n",
       "3          fuck smith please notify die want dance grave\n",
       "4      first time bitch fuck i'll find live sodomize ...\n",
       "5                         whoever put notice page kill u\n",
       "6                                 shut fat poop kick ass\n",
       "7      demonte morton u bastard stop deletin' shit u ...\n",
       "8      aaron swartz stop fuck revert goddamn edit thi...\n",
       "9      gay homo hope choke penis die send big bleck g...\n",
       "10     go kill ashamed twoofers like scumbags deserve...\n",
       "11     important family shall burn warn troll muzemik...\n",
       "12                                       go die son bich\n",
       "13                    what's wrong go kill vile creature\n",
       "14              mothafucka son bitch shup otherwise kill\n",
       "15     please stop continue ignore policies introduce...\n",
       "16     last warn mark anymore defiant arguments subdu...\n",
       "17     go fuck bastard yyou life go fuck bastard yank...\n",
       "18               still find anything important like kill\n",
       "19     ain't bother i'm require sign posts/edit speci...\n",
       "20                  wtf delete maashel bad things happen\n",
       "21     dare send abuse fuck cockmaster dare warn mr j...\n",
       "22                             huldra sincerely hope die\n",
       "23     lock know bulgarian bullshit season fool exact...\n",
       "24     hell think dare revert edit quillacollo provin...\n",
       "25     wow one comment users comment page drool retar...\n",
       "26     supertrll live forever respect supertrll die p...\n",
       "27     stupid cunt fuck dumb arse mum hairy cunt hope...\n",
       "28     fuck u edit contrib wiki iranian army must die...\n",
       "29             everyone want kill bill god dam gate nerd\n",
       "                             ...                        \n",
       "925    stop use probation tendentious edit vague crip...\n",
       "926    wpblp think make edit please see wpblp believe...\n",
       "927    yeah know word mean like name semen something ...\n",
       "928    april utc article/book excerpt repeat allegati...\n",
       "929    jacob ebb hello welcome wikipedia article rece...\n",
       "930    hello coombe best school evveerrr also yoth cl...\n",
       "931    say name like arjuna yudishtra krishna differe...\n",
       "932    andrew mean elucidate agreement find people ma...\n",
       "933    look around see what's go hope forgive say bel...\n",
       "934    colgan reference alternative medicine supporte...\n",
       "935    satchell want know delete satchell page legita...\n",
       "936    magashito try promote pseudo-historic fairy ta...\n",
       "937    really relevant write chinese name place khana...\n",
       "938    proposal rename == article refer 'new world or...\n",
       "939    correct pertinent good faith affront response ...\n",
       "940                          rule im eat someones parent\n",
       "941    wrong scientific commity totally reject electr...\n",
       "942    new section hobo musical new section add newbi...\n",
       "943    orphan non-free image imagemydpng ''' thank up...\n",
       "944    post delete try make discussion user deepak ke...\n",
       "945    shock name wikipedia wonder serious person dig...\n",
       "946    ping|tony agree surprise see include page brin...\n",
       "947    know talk owner specific site create informati...\n",
       "948    homosexual good sir ever edit something bear e...\n",
       "949    - patriotic instincts chief executive tung che...\n",
       "950    movies canon take garlic junior saga example o...\n",
       "951    edit update inaccurate consensus data remove a...\n",
       "952    imagedandyfilmsseriesjpg list deletion image m...\n",
       "953    icc report harbhajan-ponting incdinet feel fre...\n",
       "954    apr utc question number edit hello since welco...\n",
       "Name: comment_text, Length: 955, dtype: object"
      ]
     },
     "execution_count": 2,
     "metadata": {},
     "output_type": "execute_result"
    }
   ],
   "source": [
    "threat4 = pd.read_csv(r'C:\\Users\\warmp\\Documents\\pythonlearning\\AML\\balanced_dataset\\balanced_dataset\\threat4.csv')\n",
    "threat4['comment_text']"
   ]
  },
  {
   "cell_type": "code",
   "execution_count": 3,
   "metadata": {},
   "outputs": [
    {
     "data": {
      "text/plain": [
       "0                   hi back last warn stop undo edit die\n",
       "1      think fagget get oife burn hell hate 'm sorry ...\n",
       "2      i'm also sock puppet accountsuprise  sincerely...\n",
       "3          fuck smith please notify die want dance grave\n",
       "4      first time bitch fuck i'll find live sodomize ...\n",
       "5                         whoever put notice page kill u\n",
       "6                                 shut fat poop kick ass\n",
       "7      demonte morton u bastard stop deletin' shit u ...\n",
       "8      aaron swartz stop fuck revert goddamn edit thi...\n",
       "9      gay homo hope choke penis die send big bleck g...\n",
       "10     go kill ashamed twoofers like scumbags deserve...\n",
       "11     important family shall burn warn troll muzemik...\n",
       "12                                       go die son bich\n",
       "13                    what's wrong go kill vile creature\n",
       "14              mothafucka son bitch shup otherwise kill\n",
       "15     please stop continue ignore policies introduce...\n",
       "16     last warn mark anymore defiant arguments subdu...\n",
       "17     go fuck bastard yyou life go fuck bastard yank...\n",
       "18               still find anything important like kill\n",
       "19     ain't bother i'm require sign posts edit speci...\n",
       "20                  wtf delete maashel bad things happen\n",
       "21     dare send abuse fuck cockmaster dare warn mr j...\n",
       "22                             huldra sincerely hope die\n",
       "23     lock know bulgarian bullshit season fool exact...\n",
       "24     hell think dare revert edit quillacollo provin...\n",
       "25     wow one comment users comment page drool retar...\n",
       "26     supertrll live forever respect supertrll die p...\n",
       "27     stupid cunt fuck dumb arse mum hairy cunt hope...\n",
       "28     fuck u edit contrib wiki iranian army must die...\n",
       "29             everyone want kill bill god dam gate nerd\n",
       "                             ...                        \n",
       "925    stop use probation tendentious edit vague crip...\n",
       "926    wpblp think make edit please see wpblp believe...\n",
       "927    yeah know word mean like name semen something ...\n",
       "928    april utc article book excerpt repeat allegati...\n",
       "929    jacob ebb hello welcome wikipedia article rece...\n",
       "930    hello coombe best school evveerrr also yoth cl...\n",
       "931    say name like arjuna yudishtra krishna differe...\n",
       "932    andrew mean elucidate agreement find people ma...\n",
       "933    look around see what's go hope forgive say bel...\n",
       "934    colgan reference alternative medicine supporte...\n",
       "935    satchell want know delete satchell page legita...\n",
       "936    magashito try promote pseudo historic fairy ta...\n",
       "937    really relevant write chinese name place khana...\n",
       "938    proposal rename    article refer 'new world or...\n",
       "939    correct pertinent good faith affront response ...\n",
       "940                          rule im eat someones parent\n",
       "941    wrong scientific commity totally reject electr...\n",
       "942    new section hobo musical new section add newbi...\n",
       "943    orphan non free image imagemydpng ''' thank up...\n",
       "944    post delete try make discussion user deepak ke...\n",
       "945    shock name wikipedia wonder serious person dig...\n",
       "946    ping|tony agree surprise see include page brin...\n",
       "947    know talk owner specific site create informati...\n",
       "948    homosexual good sir ever edit something bear e...\n",
       "949      patriotic instincts chief executive tung che...\n",
       "950    movies canon take garlic junior saga example o...\n",
       "951    edit update inaccurate consensus data remove a...\n",
       "952    imagedandyfilmsseriesjpg list deletion image m...\n",
       "953    icc report harbhajan ponting incdinet feel fre...\n",
       "954    apr utc question number edit hello since welco...\n",
       "Name: comment_text, Length: 955, dtype: object"
      ]
     },
     "execution_count": 3,
     "metadata": {},
     "output_type": "execute_result"
    }
   ],
   "source": [
    "threat4['comment_text'] = threat4['comment_text'].str.replace(\"@\",\" \")\n",
    "threat4['comment_text'] = threat4['comment_text'].str.replace(\"/\",\" \")\n",
    "threat4['comment_text'] = threat4['comment_text'].str.replace(\"=\",\" \")\n",
    "threat4['comment_text'] = threat4['comment_text'].str.replace(\"-\",\" \")\n",
    "threat4['comment_text'] = threat4['comment_text'].str.replace(\"±\",\" \")\n",
    "threat4['comment_text'] = threat4['comment_text'].str.replace(\"*\",\" \")\n",
    "threat4['comment_text'] = threat4['comment_text'].str.replace(\"+\",\" \")\n",
    "threat4['comment_text'] = threat4['comment_text'].str.replace(\"-\",\" \")\n",
    "threat4['comment_text'] = threat4['comment_text'].str.replace(\"#\",\" \")\n",
    "threat4['comment_text'] = threat4['comment_text'].str.replace(\"€\",\" \")\n",
    "threat4['comment_text'] = threat4['comment_text'].str.replace(\"Ã\",\" \")\n",
    "threat4['comment_text'] = threat4['comment_text'].str.replace(\"©\",\" \")\n",
    "threat4['comment_text'] = threat4['comment_text'].str.replace(\"Â\",\" \")\n",
    "threat4['comment_text'] = threat4['comment_text'].str.replace(\"$\",\" \")\n",
    "threat4['comment_text'] = threat4['comment_text'].str.replace(\"Ù\",\" \")\n",
    "threat4['comment_text'] = threat4['comment_text'].str.replace(\"#\",\" \")\n",
    "threat4['comment_text'] = threat4['comment_text'].str.replace(\"Ø\",\" \")\n",
    "threat4['comment_text'] = threat4['comment_text'].str.replace(\"§\",\" \")\n",
    "threat4['comment_text'] = threat4['comment_text'].str.replace(\"%\",\" \")\n",
    "threat4['comment_text'] = threat4['comment_text'].str.replace(\"¶\",\" \")\n",
    "threat4['comment_text'] = threat4['comment_text'].str.replace(\"?\",\" \")\n",
    "threat4['comment_text'] = threat4['comment_text'].str.replace(\"&\",\" \")\n",
    "threat4['comment_text'] = threat4['comment_text'].str.replace(\"_\",\" \")\n",
    "threat4['comment_text'] = threat4['comment_text'].str.replace(\"â\",\" \")\n",
    "threat4['comment_text'] = threat4['comment_text'].str.replace(\"Ž\",\" \")\n",
    "threat4['comment_text'] = threat4['comment_text'].str.replace(\"¢\",\" \")\n",
    "threat4['comment_text'] = threat4['comment_text'].str.replace(\"Ý\",\" \")\n",
    "threat4['comment_text'] = threat4['comment_text'].str.replace(\"£\",\" \")\n",
    "threat4['comment_text'] = threat4['comment_text'].str.replace(\"»\",\" \")\n",
    "threat4['comment_text'] = threat4['comment_text'].str.replace(\"œ\",\" \")\n",
    "threat4['comment_text'] = threat4['comment_text'].str.replace(\"¬\",\" \")\n",
    "threat4['comment_text'] = threat4['comment_text'].str.replace(\"Ð\",\" \")\n",
    "threat4['comment_text'] = threat4['comment_text'].str.replace(\"Ç\",\" \")\n",
    "threat4['comment_text'] = threat4['comment_text'].str.replace(\"~\",\" \")\n",
    "threat4['comment_text'] = threat4['comment_text'].str.replace(\"™\",\" \")\n",
    "threat4['comment_text'] = threat4['comment_text'].str.replace(\"·\",\" \")\n",
    "threat4['comment_text'] = threat4['comment_text'].str.replace(\"†\",\" \")\n",
    "threat4['comment_text'] = threat4['comment_text'].str.replace(\"ˆ\",\" \")\n",
    "threat4['comment_text'] = threat4['comment_text'].str.replace(\"Î\",\" \")                                            \n",
    "threat4['comment_text']"
   ]
  },
  {
   "cell_type": "code",
   "execution_count": 4,
   "metadata": {
    "collapsed": true
   },
   "outputs": [],
   "source": [
    "threat4.to_csv('threat4.csv')"
   ]
  },
  {
   "cell_type": "code",
   "execution_count": null,
   "metadata": {
    "collapsed": true
   },
   "outputs": [],
   "source": []
  }
 ],
 "metadata": {
  "kernelspec": {
   "display_name": "Python 3",
   "language": "python",
   "name": "python3"
  },
  "language_info": {
   "codemirror_mode": {
    "name": "ipython",
    "version": 3
   },
   "file_extension": ".py",
   "mimetype": "text/x-python",
   "name": "python",
   "nbconvert_exporter": "python",
   "pygments_lexer": "ipython3",
   "version": "3.6.3"
  }
 },
 "nbformat": 4,
 "nbformat_minor": 2
}
