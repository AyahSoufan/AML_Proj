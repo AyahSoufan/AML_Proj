{
 "cells": [
  {
   "cell_type": "code",
   "execution_count": 1,
   "metadata": {
    "collapsed": true
   },
   "outputs": [],
   "source": [
    "import pandas as pd\n",
    "import os"
   ]
  },
  {
   "cell_type": "code",
   "execution_count": 3,
   "metadata": {},
   "outputs": [
    {
     "data": {
      "text/plain": [
       "'C:\\\\Users\\\\warmp\\\\Documents\\\\pythonlearning\\\\AML'"
      ]
     },
     "execution_count": 3,
     "metadata": {},
     "output_type": "execute_result"
    }
   ],
   "source": [
    "os.getcwd()"
   ]
  },
  {
   "cell_type": "code",
   "execution_count": 2,
   "metadata": {},
   "outputs": [
    {
     "data": {
      "text/plain": [
       "0                              cocksucker piss around work\n",
       "1        gay antisemmitian archangel white tiger meow g...\n",
       "2                               fuck filthy mother ass dry\n",
       "3        get fuck get fuckeeed get drink cant put down/...\n",
       "4        stupid peace shit stop delete stuff asshole go...\n",
       "5          =tony sidaway obviously fistfuckee love arm ass\n",
       "6        band page's deletion think go delete comment p...\n",
       "7        edit good cunts like revert good edit stupid u...\n",
       "8                     pair jew-hating weiner nazi schmucks\n",
       "9        think fagget get oife burn hell hate 'm sorry ...\n",
       "10                         stupid fuck mother's cunt stink\n",
       "11       blatant pov push neither guy make contribution...\n",
       "12                                 fuck block faggot pussy\n",
       "13       kill niggers hard others say include racists s...\n",
       "14       burn deck that'd guy's burn deck like think bl...\n",
       "15       u r tw@ fuck u gay boyu r smellyfuck ur mum po...\n",
       "16               user worthless goddamn faggot fuck faggot\n",
       "17                       fuck administrator authority tell\n",
       "18                                 fuck fuck award go fuck\n",
       "19       matt hardy fucky''italic textmediaexampleogg''...\n",
       "20       fuck -userthe bohemian shinobis yeah that's ri...\n",
       "21       thank racist experiment page katherine heigl w...\n",
       "22       gay existence cdvf proof sad twat also ugly wi...\n",
       "23       never fuck make mother fuck article fuck edit ...\n",
       "24                            fuck wrong muchacho july utc\n",
       "25                                        hi im fuck bitch\n",
       "26       f**k rid worlds fun hate rid worlds fun sh_tty...\n",
       "27                      hello get somebody fix shit around\n",
       "28       dictionaries dare call contribution spam kurd ...\n",
       "29         know dead plane crash jeezz quit bust nut folks\n",
       "                               ...                        \n",
       "17318    interupting - fact advise ottava diffs need ba...\n",
       "17319    deletion discussion whatever linda == hello be...\n",
       "17320    i'll edit add something hours eloquence turn m...\n",
       "17321    ==slogan== slogan that's mums go iceland - saw...\n",
       "17322    new title article help please scholar always r...\n",
       "17323                                        goddamn crazy\n",
       "17324    actually see thishttp//wwwthelocalse// study s...\n",
       "17325    ok look look like think g-tagged article good ...\n",
       "17326    == barnstar == rickk anti-vandalism barnstar h...\n",
       "17327    anon post stupid message administrators notice...\n",
       "17328    well know buchanan-hermit can't sleep clown ea...\n",
       "17329                         hey queer boy stop mess edit\n",
       "17330       saw edit plan provide feedback within next day\n",
       "17331           wikiproject derbyshire november newsletter\n",
       "17332    feel hoax — grind speedy deletion can't figure...\n",
       "17333    | user talkjimbo wales wonder might consider w...\n",
       "17334    lot people fight israeli independence fact per...\n",
       "17335    see ways one hand find substantial rss every s...\n",
       "17336    thank i've finish credit clear also queue morn...\n",
       "17337    well tiamut replace exist source reasonable te...\n",
       "17338    ok interpret rr way certainly live thank clari...\n",
       "17339    hello maass unfortunately delete article due l...\n",
       "17340         addition poorly write make sense belong lead\n",
       "17341    | class=infobox width=px |- align=center | arc...\n",
       "17342    look site* dubya tee eff send email know go an...\n",
       "17343    fleur de lys article talk fleur de lys san fra...\n",
       "17344    hm think maybe nanguo news would better title ...\n",
       "17345    blog reference customarily unacceptable try re...\n",
       "17346    dyk september know update fact article old min...\n",
       "17347    evidence talk · contribs · email write page re...\n",
       "Name: comment_text, Length: 17348, dtype: object"
      ]
     },
     "execution_count": 2,
     "metadata": {},
     "output_type": "execute_result"
    }
   ],
   "source": [
    "obscene0 = pd.read_csv(r'C:\\Users\\warmp\\Documents\\pythonlearning\\AML\\balanced_dataset\\balanced_dataset\\obscene0.csv')\n",
    "obscene0['comment_text']"
   ]
  },
  {
   "cell_type": "code",
   "execution_count": 3,
   "metadata": {},
   "outputs": [
    {
     "data": {
      "text/plain": [
       "0                              cocksucker piss around work\n",
       "1        gay antisemmitian archangel white tiger meow g...\n",
       "2                               fuck filthy mother ass dry\n",
       "3        get fuck get fuckeeed get drink cant put down ...\n",
       "4        stupid peace shit stop delete stuff asshole go...\n",
       "5           tony sidaway obviously fistfuckee love arm ass\n",
       "6        band page's deletion think go delete comment p...\n",
       "7        edit good cunts like revert good edit stupid u...\n",
       "8                     pair jew hating weiner nazi schmucks\n",
       "9        think fagget get oife burn hell hate 'm sorry ...\n",
       "10                         stupid fuck mother's cunt stink\n",
       "11       blatant pov push neither guy make contribution...\n",
       "12                                 fuck block faggot pussy\n",
       "13       kill niggers hard others say include racists s...\n",
       "14       burn deck that'd guy's burn deck like think bl...\n",
       "15       u r tw  fuck u gay boyu r smellyfuck ur mum po...\n",
       "16               user worthless goddamn faggot fuck faggot\n",
       "17                       fuck administrator authority tell\n",
       "18                                 fuck fuck award go fuck\n",
       "19       matt hardy fucky''italic textmediaexampleogg''...\n",
       "20       fuck  userthe bohemian shinobis yeah that's ri...\n",
       "21       thank racist experiment page katherine heigl w...\n",
       "22       gay existence cdvf proof sad twat also ugly wi...\n",
       "23       never fuck make mother fuck article fuck edit ...\n",
       "24                            fuck wrong muchacho july utc\n",
       "25                                        hi im fuck bitch\n",
       "26       f  k rid worlds fun hate rid worlds fun sh tty...\n",
       "27                      hello get somebody fix shit around\n",
       "28       dictionaries dare call contribution spam kurd ...\n",
       "29         know dead plane crash jeezz quit bust nut folks\n",
       "                               ...                        \n",
       "17318    interupting   fact advise ottava diffs need ba...\n",
       "17319    deletion discussion whatever linda    hello be...\n",
       "17320    i'll edit add something hours eloquence turn m...\n",
       "17321      slogan   slogan that's mums go iceland   saw...\n",
       "17322    new title article help please scholar always r...\n",
       "17323                                        goddamn crazy\n",
       "17324    actually see thishttp  wwwthelocalse   study s...\n",
       "17325    ok look look like think g tagged article good ...\n",
       "17326       barnstar    rickk anti vandalism barnstar h...\n",
       "17327    anon post stupid message administrators notice...\n",
       "17328    well know buchanan hermit can't sleep clown ea...\n",
       "17329                         hey queer boy stop mess edit\n",
       "17330       saw edit plan provide feedback within next day\n",
       "17331           wikiproject derbyshire november newsletter\n",
       "17332    feel hoax — grind speedy deletion can't figure...\n",
       "17333    | user talkjimbo wales wonder might consider w...\n",
       "17334    lot people fight israeli independence fact per...\n",
       "17335    see ways one hand find substantial rss every s...\n",
       "17336    thank i've finish credit clear also queue morn...\n",
       "17337    well tiamut replace exist source reasonable te...\n",
       "17338    ok interpret rr way certainly live thank clari...\n",
       "17339    hello maass unfortunately delete article due l...\n",
       "17340         addition poorly write make sense belong lead\n",
       "17341    | class infobox width px |  align center | arc...\n",
       "17342    look site  dubya tee eff send email know go an...\n",
       "17343    fleur de lys article talk fleur de lys san fra...\n",
       "17344    hm think maybe nanguo news would better title ...\n",
       "17345    blog reference customarily unacceptable try re...\n",
       "17346    dyk september know update fact article old min...\n",
       "17347    evidence talk   contribs   email write page re...\n",
       "Name: comment_text, Length: 17348, dtype: object"
      ]
     },
     "execution_count": 3,
     "metadata": {},
     "output_type": "execute_result"
    }
   ],
   "source": [
    "obscene0['comment_text'] = obscene0['comment_text'].str.replace(\"@\",\" \")\n",
    "obscene0['comment_text'] = obscene0['comment_text'].str.replace(\"/\",\" \")\n",
    "obscene0['comment_text'] = obscene0['comment_text'].str.replace(\"=\",\" \")\n",
    "obscene0['comment_text'] = obscene0['comment_text'].str.replace(\"-\",\" \")\n",
    "obscene0['comment_text'] = obscene0['comment_text'].str.replace(\"±\",\" \")\n",
    "obscene0['comment_text'] = obscene0['comment_text'].str.replace(\"*\",\" \")\n",
    "obscene0['comment_text'] = obscene0['comment_text'].str.replace(\"+\",\" \")\n",
    "obscene0['comment_text'] = obscene0['comment_text'].str.replace(\"-\",\" \")\n",
    "obscene0['comment_text'] = obscene0['comment_text'].str.replace(\"#\",\" \")\n",
    "obscene0['comment_text'] = obscene0['comment_text'].str.replace(\"€\",\" \")\n",
    "obscene0['comment_text'] = obscene0['comment_text'].str.replace(\"Ã\",\" \")\n",
    "obscene0['comment_text'] = obscene0['comment_text'].str.replace(\"©\",\" \")\n",
    "obscene0['comment_text'] = obscene0['comment_text'].str.replace(\"Â\",\" \")\n",
    "obscene0['comment_text'] = obscene0['comment_text'].str.replace(\"$\",\" \")\n",
    "obscene0['comment_text'] = obscene0['comment_text'].str.replace(\"Ù\",\" \")\n",
    "obscene0['comment_text'] = obscene0['comment_text'].str.replace(\"#\",\" \")\n",
    "obscene0['comment_text'] = obscene0['comment_text'].str.replace(\"Ø\",\" \")\n",
    "obscene0['comment_text'] = obscene0['comment_text'].str.replace(\"§\",\" \")\n",
    "obscene0['comment_text'] = obscene0['comment_text'].str.replace(\"%\",\" \")\n",
    "obscene0['comment_text'] = obscene0['comment_text'].str.replace(\"¶\",\" \")\n",
    "obscene0['comment_text'] = obscene0['comment_text'].str.replace(\"?\",\" \")\n",
    "obscene0['comment_text'] = obscene0['comment_text'].str.replace(\"&\",\" \")\n",
    "obscene0['comment_text'] = obscene0['comment_text'].str.replace(\"_\",\" \")\n",
    "obscene0['comment_text'] = obscene0['comment_text'].str.replace(\"â\",\" \")\n",
    "obscene0['comment_text'] = obscene0['comment_text'].str.replace(\"Ž\",\" \")\n",
    "obscene0['comment_text'] = obscene0['comment_text'].str.replace(\"¢\",\" \")\n",
    "obscene0['comment_text'] = obscene0['comment_text'].str.replace(\"Ý\",\" \")\n",
    "obscene0['comment_text'] = obscene0['comment_text'].str.replace(\"£\",\" \")\n",
    "obscene0['comment_text'] = obscene0['comment_text'].str.replace(\"»\",\" \")\n",
    "obscene0['comment_text'] = obscene0['comment_text'].str.replace(\"œ\",\" \")\n",
    "obscene0['comment_text'] = obscene0['comment_text'].str.replace(\"¬\",\" \")\n",
    "obscene0['comment_text'] = obscene0['comment_text'].str.replace(\"Ð\",\" \")\n",
    "obscene0['comment_text'] = obscene0['comment_text'].str.replace(\"Ç\",\" \")\n",
    "obscene0['comment_text'] = obscene0['comment_text'].str.replace(\"~\",\" \")\n",
    "obscene0['comment_text'] = obscene0['comment_text'].str.replace(\"™\",\" \")\n",
    "obscene0['comment_text'] = obscene0['comment_text'].str.replace(\"·\",\" \")\n",
    "obscene0['comment_text'] = obscene0['comment_text'].str.replace(\"†\",\" \")\n",
    "obscene0['comment_text'] = obscene0['comment_text'].str.replace(\"ˆ\",\" \")\n",
    "obscene0['comment_text'] = obscene0['comment_text'].str.replace(\"Î\",\" \")                                            \n",
    "obscene0['comment_text']"
   ]
  },
  {
   "cell_type": "code",
   "execution_count": 4,
   "metadata": {
    "collapsed": true
   },
   "outputs": [],
   "source": [
    "obscene0.to_csv('obscene0.csv')"
   ]
  },
  {
   "cell_type": "code",
   "execution_count": null,
   "metadata": {
    "collapsed": true
   },
   "outputs": [],
   "source": []
  }
 ],
 "metadata": {
  "kernelspec": {
   "display_name": "Python 3",
   "language": "python",
   "name": "python3"
  },
  "language_info": {
   "codemirror_mode": {
    "name": "ipython",
    "version": 3
   },
   "file_extension": ".py",
   "mimetype": "text/x-python",
   "name": "python",
   "nbconvert_exporter": "python",
   "pygments_lexer": "ipython3",
   "version": "3.6.3"
  }
 },
 "nbformat": 4,
 "nbformat_minor": 2
}
