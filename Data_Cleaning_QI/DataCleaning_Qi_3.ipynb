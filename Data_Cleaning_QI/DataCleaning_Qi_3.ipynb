{
 "cells": [
  {
   "cell_type": "code",
   "execution_count": 2,
   "metadata": {
    "collapsed": true
   },
   "outputs": [],
   "source": [
    "import pandas as pd\n",
    "import os"
   ]
  },
  {
   "cell_type": "code",
   "execution_count": 3,
   "metadata": {},
   "outputs": [
    {
     "data": {
      "text/plain": [
       "'C:\\\\Users\\\\warmp\\\\Documents\\\\pythonlearning\\\\AML'"
      ]
     },
     "execution_count": 3,
     "metadata": {},
     "output_type": "execute_result"
    }
   ],
   "source": [
    "os.getcwd()"
   ]
  },
  {
   "cell_type": "code",
   "execution_count": 3,
   "metadata": {},
   "outputs": [
    {
     "data": {
      "text/plain": [
       "0       gay antisemmitian archangel white tiger meow g...\n",
       "1                    pair jew-hating weiner nazi schmucks\n",
       "2       think fagget get oife burn hell hate 'm sorry ...\n",
       "3       kill niggers hard others say include racists s...\n",
       "4       u r tw@ fuck u gay boyu r smellyfuck ur mum po...\n",
       "5       gay existence cdvf proof sad twat also ugly wi...\n",
       "6       dictionaries dare call contribution spam kurd ...\n",
       "7       gay motherfucker know livei go sand face offth...\n",
       "8       studid cock sucker u stop callin ok frank garr...\n",
       "9       first time bitch fuck i'll find live sodomize ...\n",
       "10      fuck faggot care get block long everyone know ...\n",
       "11      hey freak hermaphrodite please unprotect user ...\n",
       "12                                     ghe fag learn know\n",
       "13                                 shut fat poop kick ass\n",
       "14                               good edit polar bear gay\n",
       "15      demonte morton u bastard stop deletin' shit u ...\n",
       "16                             bla bla blasuck irishguy =\n",
       "17      evidence present tone evidence reject go ficti...\n",
       "18                                        faggot get life\n",
       "19           i'm glad wikipedia bias fill retard children\n",
       "20      fuck gay wad fuck mum oh wait gay dont mom hah...\n",
       "21      aaron swartz stop fuck revert goddamn edit thi...\n",
       "22      gay homo hope choke penis die send big bleck g...\n",
       "23                        racist goddamn neo-nazi big boy\n",
       "24      fascit nazi socialist bastard filthy hippy dar...\n",
       "25      usernhrhs homo like mitt romney usernhrhs homo...\n",
       "26      fuck nazi propaganda odpierdalcie sie jebani f...\n",
       "27      im sorry fuck stupid nice person give warn fuc...\n",
       "28      actually fully arabic islamic correct spell un...\n",
       "29      pedophiles sex criminals imperial japan nazi g...\n",
       "                              ...                        \n",
       "2784                             think full list belgians\n",
       "2785                               presumably afd frankly\n",
       "2786    take cbc archive http//archivescbcca/idc----/c...\n",
       "2787    objection go back call spade spade clear disru...\n",
       "2788    december utc revert redirect afd decision merg...\n",
       "2789    i'd love somebody could add bite heck use expe...\n",
       "2790    hi mdebellis thank help please see human genom...\n",
       "2791                                       stop vandalism\n",
       "2792    cut ballz send girlfriend i'm sure she'll like...\n",
       "2793    south african barnstar national merit wow expe...\n",
       "2794    well see start discussion forget well steal us...\n",
       "2795    demonstrably false since edit leave sentence f...\n",
       "2796    pooped around world war leave note tony uneven...\n",
       "2797    skyring little confidence arbcom think useful ...\n",
       "2798    complaint attempt murder phrase 'for fear deat...\n",
       "2799    note avoid answer question concern cost page t...\n",
       "2800    khoikhoi help group abberations follow wikipro...\n",
       "2801    wrong exclude party leaders fly every canadian...\n",
       "2802    yet several distinguish historians franjo rack...\n",
       "2803    account information block log – current autobl...\n",
       "2804    years th ad interim hear gonzalez june finally...\n",
       "2805    take back go ahead vandalize page much want il...\n",
       "2806               thats true post mix youve provide link\n",
       "2807    well tell piss good edit revert terrilja his/h...\n",
       "2808    agree article would look better use dio unless...\n",
       "2809    february utc - still discuss wprs guideline wp...\n",
       "2810    could please cite source reference information...\n",
       "2811    childofmidnight topic ban party obama article ...\n",
       "2812    article provide citations source require relat...\n",
       "2813    wealth justice section two section obvious way...\n",
       "Name: comment_text, Length: 2814, dtype: object"
      ]
     },
     "execution_count": 3,
     "metadata": {},
     "output_type": "execute_result"
    }
   ],
   "source": [
    "identity_hate3 = pd.read_csv(r'C:\\Users\\warmp\\Documents\\pythonlearning\\AML\\balanced_dataset\\balanced_dataset\\identity_hate3.csv')\n",
    "identity_hate3['comment_text']"
   ]
  },
  {
   "cell_type": "code",
   "execution_count": 4,
   "metadata": {},
   "outputs": [
    {
     "data": {
      "text/plain": [
       "0       gay antisemmitian archangel white tiger meow g...\n",
       "1                    pair jew hating weiner nazi schmucks\n",
       "2       think fagget get oife burn hell hate 'm sorry ...\n",
       "3       kill niggers hard others say include racists s...\n",
       "4       u r tw  fuck u gay boyu r smellyfuck ur mum po...\n",
       "5       gay existence cdvf proof sad twat also ugly wi...\n",
       "6       dictionaries dare call contribution spam kurd ...\n",
       "7       gay motherfucker know livei go sand face offth...\n",
       "8       studid cock sucker u stop callin ok frank garr...\n",
       "9       first time bitch fuck i'll find live sodomize ...\n",
       "10      fuck faggot care get block long everyone know ...\n",
       "11      hey freak hermaphrodite please unprotect user ...\n",
       "12                                     ghe fag learn know\n",
       "13                                 shut fat poop kick ass\n",
       "14                               good edit polar bear gay\n",
       "15      demonte morton u bastard stop deletin' shit u ...\n",
       "16                             bla bla blasuck irishguy  \n",
       "17      evidence present tone evidence reject go ficti...\n",
       "18                                        faggot get life\n",
       "19           i'm glad wikipedia bias fill retard children\n",
       "20      fuck gay wad fuck mum oh wait gay dont mom hah...\n",
       "21      aaron swartz stop fuck revert goddamn edit thi...\n",
       "22      gay homo hope choke penis die send big bleck g...\n",
       "23                        racist goddamn neo nazi big boy\n",
       "24      fascit nazi socialist bastard filthy hippy dar...\n",
       "25      usernhrhs homo like mitt romney usernhrhs homo...\n",
       "26      fuck nazi propaganda odpierdalcie sie jebani f...\n",
       "27      im sorry fuck stupid nice person give warn fuc...\n",
       "28      actually fully arabic islamic correct spell un...\n",
       "29      pedophiles sex criminals imperial japan nazi g...\n",
       "                              ...                        \n",
       "2784                             think full list belgians\n",
       "2785                               presumably afd frankly\n",
       "2786    take cbc archive http  archivescbcca idc     c...\n",
       "2787    objection go back call spade spade clear disru...\n",
       "2788    december utc revert redirect afd decision merg...\n",
       "2789    i'd love somebody could add bite heck use expe...\n",
       "2790    hi mdebellis thank help please see human genom...\n",
       "2791                                       stop vandalism\n",
       "2792    cut ballz send girlfriend i'm sure she'll like...\n",
       "2793    south african barnstar national merit wow expe...\n",
       "2794    well see start discussion forget well steal us...\n",
       "2795    demonstrably false since edit leave sentence f...\n",
       "2796    pooped around world war leave note tony uneven...\n",
       "2797    skyring little confidence arbcom think useful ...\n",
       "2798    complaint attempt murder phrase 'for fear deat...\n",
       "2799    note avoid answer question concern cost page t...\n",
       "2800    khoikhoi help group abberations follow wikipro...\n",
       "2801    wrong exclude party leaders fly every canadian...\n",
       "2802    yet several distinguish historians franjo rack...\n",
       "2803    account information block log – current autobl...\n",
       "2804    years th ad interim hear gonzalez june finally...\n",
       "2805    take back go ahead vandalize page much want il...\n",
       "2806               thats true post mix youve provide link\n",
       "2807    well tell piss good edit revert terrilja his h...\n",
       "2808    agree article would look better use dio unless...\n",
       "2809    february utc   still discuss wprs guideline wp...\n",
       "2810    could please cite source reference information...\n",
       "2811    childofmidnight topic ban party obama article ...\n",
       "2812    article provide citations source require relat...\n",
       "2813    wealth justice section two section obvious way...\n",
       "Name: comment_text, Length: 2814, dtype: object"
      ]
     },
     "execution_count": 4,
     "metadata": {},
     "output_type": "execute_result"
    }
   ],
   "source": [
    "identity_hate3['comment_text'] = identity_hate3['comment_text'].str.replace(\"@\",\" \")\n",
    "identity_hate3['comment_text'] = identity_hate3['comment_text'].str.replace(\"/\",\" \")\n",
    "identity_hate3['comment_text'] = identity_hate3['comment_text'].str.replace(\"=\",\" \")\n",
    "identity_hate3['comment_text'] = identity_hate3['comment_text'].str.replace(\"-\",\" \")\n",
    "identity_hate3['comment_text'] = identity_hate3['comment_text'].str.replace(\"±\",\" \")\n",
    "identity_hate3['comment_text'] = identity_hate3['comment_text'].str.replace(\"*\",\" \")\n",
    "identity_hate3['comment_text'] = identity_hate3['comment_text'].str.replace(\"+\",\" \")\n",
    "identity_hate3['comment_text'] = identity_hate3['comment_text'].str.replace(\"-\",\" \")\n",
    "identity_hate3['comment_text'] = identity_hate3['comment_text'].str.replace(\"#\",\" \")\n",
    "identity_hate3['comment_text'] = identity_hate3['comment_text'].str.replace(\"€\",\" \")\n",
    "identity_hate3['comment_text'] = identity_hate3['comment_text'].str.replace(\"Ã\",\" \")\n",
    "identity_hate3['comment_text'] = identity_hate3['comment_text'].str.replace(\"©\",\" \")\n",
    "identity_hate3['comment_text'] = identity_hate3['comment_text'].str.replace(\"Â\",\" \")\n",
    "identity_hate3['comment_text'] = identity_hate3['comment_text'].str.replace(\"$\",\" \")\n",
    "identity_hate3['comment_text'] = identity_hate3['comment_text'].str.replace(\"Ù\",\" \")\n",
    "identity_hate3['comment_text'] = identity_hate3['comment_text'].str.replace(\"#\",\" \")\n",
    "identity_hate3['comment_text'] = identity_hate3['comment_text'].str.replace(\"Ø\",\" \")\n",
    "identity_hate3['comment_text'] = identity_hate3['comment_text'].str.replace(\"§\",\" \")\n",
    "identity_hate3['comment_text'] = identity_hate3['comment_text'].str.replace(\"%\",\" \")\n",
    "identity_hate3['comment_text'] = identity_hate3['comment_text'].str.replace(\"¶\",\" \")\n",
    "identity_hate3['comment_text'] = identity_hate3['comment_text'].str.replace(\"?\",\" \")\n",
    "identity_hate3['comment_text'] = identity_hate3['comment_text'].str.replace(\"&\",\" \")\n",
    "identity_hate3['comment_text'] = identity_hate3['comment_text'].str.replace(\"_\",\" \")\n",
    "identity_hate3['comment_text'] = identity_hate3['comment_text'].str.replace(\"â\",\" \")\n",
    "identity_hate3['comment_text'] = identity_hate3['comment_text'].str.replace(\"Ž\",\" \")\n",
    "identity_hate3['comment_text'] = identity_hate3['comment_text'].str.replace(\"¢\",\" \")\n",
    "identity_hate3['comment_text'] = identity_hate3['comment_text'].str.replace(\"Ý\",\" \")\n",
    "identity_hate3['comment_text'] = identity_hate3['comment_text'].str.replace(\"£\",\" \")\n",
    "identity_hate3['comment_text'] = identity_hate3['comment_text'].str.replace(\"»\",\" \")\n",
    "identity_hate3['comment_text'] = identity_hate3['comment_text'].str.replace(\"œ\",\" \")\n",
    "identity_hate3['comment_text'] = identity_hate3['comment_text'].str.replace(\"¬\",\" \")\n",
    "identity_hate3['comment_text'] = identity_hate3['comment_text'].str.replace(\"Ð\",\" \")\n",
    "identity_hate3['comment_text'] = identity_hate3['comment_text'].str.replace(\"Ç\",\" \")\n",
    "identity_hate3['comment_text'] = identity_hate3['comment_text'].str.replace(\"~\",\" \")\n",
    "identity_hate3['comment_text'] = identity_hate3['comment_text'].str.replace(\"™\",\" \")\n",
    "identity_hate3['comment_text'] = identity_hate3['comment_text'].str.replace(\"·\",\" \")\n",
    "identity_hate3['comment_text'] = identity_hate3['comment_text'].str.replace(\"†\",\" \")\n",
    "identity_hate3['comment_text'] = identity_hate3['comment_text'].str.replace(\"ˆ\",\" \")\n",
    "identity_hate3['comment_text'] = identity_hate3['comment_text'].str.replace(\"Î\",\" \")                                            \n",
    "identity_hate3['comment_text']"
   ]
  },
  {
   "cell_type": "code",
   "execution_count": 5,
   "metadata": {
    "collapsed": true
   },
   "outputs": [],
   "source": [
    "identity_hate3.to_csv('identity_hate3.csv')"
   ]
  },
  {
   "cell_type": "code",
   "execution_count": null,
   "metadata": {
    "collapsed": true
   },
   "outputs": [],
   "source": []
  }
 ],
 "metadata": {
  "kernelspec": {
   "display_name": "Python 3",
   "language": "python",
   "name": "python3"
  },
  "language_info": {
   "codemirror_mode": {
    "name": "ipython",
    "version": 3
   },
   "file_extension": ".py",
   "mimetype": "text/x-python",
   "name": "python",
   "nbconvert_exporter": "python",
   "pygments_lexer": "ipython3",
   "version": "3.6.3"
  }
 },
 "nbformat": 4,
 "nbformat_minor": 2
}
