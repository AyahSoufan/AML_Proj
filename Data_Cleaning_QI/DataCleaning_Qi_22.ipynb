{
 "cells": [
  {
   "cell_type": "code",
   "execution_count": 1,
   "metadata": {
    "collapsed": true
   },
   "outputs": [],
   "source": [
    "import pandas as pd\n",
    "import os"
   ]
  },
  {
   "cell_type": "code",
   "execution_count": 3,
   "metadata": {},
   "outputs": [
    {
     "data": {
      "text/plain": [
       "'C:\\\\Users\\\\warmp\\\\Documents\\\\pythonlearning\\\\AML'"
      ]
     },
     "execution_count": 3,
     "metadata": {},
     "output_type": "execute_result"
    }
   ],
   "source": [
    "os.getcwd()"
   ]
  },
  {
   "cell_type": "code",
   "execution_count": 2,
   "metadata": {},
   "outputs": [
    {
     "data": {
      "text/plain": [
       "0                   hi back last warn stop undo edit die\n",
       "1      think fagget get oife burn hell hate 'm sorry ...\n",
       "2      i'm also sock puppet accountsuprise -sincerely...\n",
       "3          fuck smith please notify die want dance grave\n",
       "4      first time bitch fuck i'll find live sodomize ...\n",
       "5                         whoever put notice page kill u\n",
       "6                                 shut fat poop kick ass\n",
       "7      demonte morton u bastard stop deletin' shit u ...\n",
       "8      aaron swartz stop fuck revert goddamn edit thi...\n",
       "9      gay homo hope choke penis die send big bleck g...\n",
       "10     go kill ashamed twoofers like scumbags deserve...\n",
       "11     important family shall burn warn troll muzemik...\n",
       "12                                       go die son bich\n",
       "13                    what's wrong go kill vile creature\n",
       "14              mothafucka son bitch shup otherwise kill\n",
       "15     please stop continue ignore policies introduce...\n",
       "16     last warn mark anymore defiant arguments subdu...\n",
       "17     go fuck bastard yyou life go fuck bastard yank...\n",
       "18               still find anything important like kill\n",
       "19     ain't bother i'm require sign posts/edit speci...\n",
       "20                  wtf delete maashel bad things happen\n",
       "21     dare send abuse fuck cockmaster dare warn mr j...\n",
       "22                             huldra sincerely hope die\n",
       "23     lock know bulgarian bullshit season fool exact...\n",
       "24     hell think dare revert edit quillacollo provin...\n",
       "25     wow one comment users comment page drool retar...\n",
       "26     supertrll live forever respect supertrll die p...\n",
       "27     stupid cunt fuck dumb arse mum hairy cunt hope...\n",
       "28     fuck u edit contrib wiki iranian army must die...\n",
       "29             everyone want kill bill god dam gate nerd\n",
       "                             ...                        \n",
       "925    also want thank recent reversion vandalism th ...\n",
       "926    please stop continue vandalize page elvis pres...\n",
       "927    fuk douchbag dope need investigate kleargear f...\n",
       "928    quote reference second sentence pretty ridicul...\n",
       "929               i'm sure tell thank guess talk feb utc\n",
       "930      sweden prime minister see prime minister sweden\n",
       "931    would agree wwgb make clear relate airlines ac...\n",
       "932    khaleel mohammed hi stuart welcome wikipedia i...\n",
       "933    head plagiarism content specifically plagiaris...\n",
       "934    portalnascar hello would like nominate anythin...\n",
       "935    well look like we'll agree disagree i'm go con...\n",
       "936    think something like feline animalism assertio...\n",
       "937          uncivil behaviour userbilcat userdave|wpwqa\n",
       "938    mood weather remember probably say problem i'l...\n",
       "939                             that's good idea obvious\n",
       "940    byzantine discussion may interest know comment...\n",
       "941    replaceable fair use imageipodtouchpng thank u...\n",
       "942    generally right write white racists start edit...\n",
       "943                                         thank review\n",
       "944    qualify long back reference anyone create grap...\n",
       "945    checkuser evidence determine ip address use ab...\n",
       "946    hey beback call enmity search jerry brown's truth\n",
       "947    please explain believe flaw btw could go mater...\n",
       "948                             know full shit fuck cunt\n",
       "949                               fuck fdfdf fuck faggot\n",
       "950    retard bore contrarian troll threaten people k...\n",
       "951    inc page get much worse check talkiglesia ni c...\n",
       "952    happy thanksgiving happy thanksgiving stop wis...\n",
       "953             sentence ok latin america canary islands\n",
       "954    thank experiment wikipedia test work revert re...\n",
       "Name: comment_text, Length: 955, dtype: object"
      ]
     },
     "execution_count": 2,
     "metadata": {},
     "output_type": "execute_result"
    }
   ],
   "source": [
    "threat2 = pd.read_csv(r'C:\\Users\\warmp\\Documents\\pythonlearning\\AML\\balanced_dataset\\balanced_dataset\\threat2.csv')\n",
    "threat2['comment_text']"
   ]
  },
  {
   "cell_type": "code",
   "execution_count": 3,
   "metadata": {},
   "outputs": [
    {
     "data": {
      "text/plain": [
       "0                   hi back last warn stop undo edit die\n",
       "1      think fagget get oife burn hell hate 'm sorry ...\n",
       "2      i'm also sock puppet accountsuprise  sincerely...\n",
       "3          fuck smith please notify die want dance grave\n",
       "4      first time bitch fuck i'll find live sodomize ...\n",
       "5                         whoever put notice page kill u\n",
       "6                                 shut fat poop kick ass\n",
       "7      demonte morton u bastard stop deletin' shit u ...\n",
       "8      aaron swartz stop fuck revert goddamn edit thi...\n",
       "9      gay homo hope choke penis die send big bleck g...\n",
       "10     go kill ashamed twoofers like scumbags deserve...\n",
       "11     important family shall burn warn troll muzemik...\n",
       "12                                       go die son bich\n",
       "13                    what's wrong go kill vile creature\n",
       "14              mothafucka son bitch shup otherwise kill\n",
       "15     please stop continue ignore policies introduce...\n",
       "16     last warn mark anymore defiant arguments subdu...\n",
       "17     go fuck bastard yyou life go fuck bastard yank...\n",
       "18               still find anything important like kill\n",
       "19     ain't bother i'm require sign posts edit speci...\n",
       "20                  wtf delete maashel bad things happen\n",
       "21     dare send abuse fuck cockmaster dare warn mr j...\n",
       "22                             huldra sincerely hope die\n",
       "23     lock know bulgarian bullshit season fool exact...\n",
       "24     hell think dare revert edit quillacollo provin...\n",
       "25     wow one comment users comment page drool retar...\n",
       "26     supertrll live forever respect supertrll die p...\n",
       "27     stupid cunt fuck dumb arse mum hairy cunt hope...\n",
       "28     fuck u edit contrib wiki iranian army must die...\n",
       "29             everyone want kill bill god dam gate nerd\n",
       "                             ...                        \n",
       "925    also want thank recent reversion vandalism th ...\n",
       "926    please stop continue vandalize page elvis pres...\n",
       "927    fuk douchbag dope need investigate kleargear f...\n",
       "928    quote reference second sentence pretty ridicul...\n",
       "929               i'm sure tell thank guess talk feb utc\n",
       "930      sweden prime minister see prime minister sweden\n",
       "931    would agree wwgb make clear relate airlines ac...\n",
       "932    khaleel mohammed hi stuart welcome wikipedia i...\n",
       "933    head plagiarism content specifically plagiaris...\n",
       "934    portalnascar hello would like nominate anythin...\n",
       "935    well look like we'll agree disagree i'm go con...\n",
       "936    think something like feline animalism assertio...\n",
       "937          uncivil behaviour userbilcat userdave|wpwqa\n",
       "938    mood weather remember probably say problem i'l...\n",
       "939                             that's good idea obvious\n",
       "940    byzantine discussion may interest know comment...\n",
       "941    replaceable fair use imageipodtouchpng thank u...\n",
       "942    generally right write white racists start edit...\n",
       "943                                         thank review\n",
       "944    qualify long back reference anyone create grap...\n",
       "945    checkuser evidence determine ip address use ab...\n",
       "946    hey beback call enmity search jerry brown's truth\n",
       "947    please explain believe flaw btw could go mater...\n",
       "948                             know full shit fuck cunt\n",
       "949                               fuck fdfdf fuck faggot\n",
       "950    retard bore contrarian troll threaten people k...\n",
       "951    inc page get much worse check talkiglesia ni c...\n",
       "952    happy thanksgiving happy thanksgiving stop wis...\n",
       "953             sentence ok latin america canary islands\n",
       "954    thank experiment wikipedia test work revert re...\n",
       "Name: comment_text, Length: 955, dtype: object"
      ]
     },
     "execution_count": 3,
     "metadata": {},
     "output_type": "execute_result"
    }
   ],
   "source": [
    "threat2['comment_text'] = threat2['comment_text'].str.replace(\"@\",\" \")\n",
    "threat2['comment_text'] = threat2['comment_text'].str.replace(\"/\",\" \")\n",
    "threat2['comment_text'] = threat2['comment_text'].str.replace(\"=\",\" \")\n",
    "threat2['comment_text'] = threat2['comment_text'].str.replace(\"-\",\" \")\n",
    "threat2['comment_text'] = threat2['comment_text'].str.replace(\"±\",\" \")\n",
    "threat2['comment_text'] = threat2['comment_text'].str.replace(\"*\",\" \")\n",
    "threat2['comment_text'] = threat2['comment_text'].str.replace(\"+\",\" \")\n",
    "threat2['comment_text'] = threat2['comment_text'].str.replace(\"-\",\" \")\n",
    "threat2['comment_text'] = threat2['comment_text'].str.replace(\"#\",\" \")\n",
    "threat2['comment_text'] = threat2['comment_text'].str.replace(\"€\",\" \")\n",
    "threat2['comment_text'] = threat2['comment_text'].str.replace(\"Ã\",\" \")\n",
    "threat2['comment_text'] = threat2['comment_text'].str.replace(\"©\",\" \")\n",
    "threat2['comment_text'] = threat2['comment_text'].str.replace(\"Â\",\" \")\n",
    "threat2['comment_text'] = threat2['comment_text'].str.replace(\"$\",\" \")\n",
    "threat2['comment_text'] = threat2['comment_text'].str.replace(\"Ù\",\" \")\n",
    "threat2['comment_text'] = threat2['comment_text'].str.replace(\"#\",\" \")\n",
    "threat2['comment_text'] = threat2['comment_text'].str.replace(\"Ø\",\" \")\n",
    "threat2['comment_text'] = threat2['comment_text'].str.replace(\"§\",\" \")\n",
    "threat2['comment_text'] = threat2['comment_text'].str.replace(\"%\",\" \")\n",
    "threat2['comment_text'] = threat2['comment_text'].str.replace(\"¶\",\" \")\n",
    "threat2['comment_text'] = threat2['comment_text'].str.replace(\"?\",\" \")\n",
    "threat2['comment_text'] = threat2['comment_text'].str.replace(\"&\",\" \")\n",
    "threat2['comment_text'] = threat2['comment_text'].str.replace(\"_\",\" \")\n",
    "threat2['comment_text'] = threat2['comment_text'].str.replace(\"â\",\" \")\n",
    "threat2['comment_text'] = threat2['comment_text'].str.replace(\"Ž\",\" \")\n",
    "threat2['comment_text'] = threat2['comment_text'].str.replace(\"¢\",\" \")\n",
    "threat2['comment_text'] = threat2['comment_text'].str.replace(\"Ý\",\" \")\n",
    "threat2['comment_text'] = threat2['comment_text'].str.replace(\"£\",\" \")\n",
    "threat2['comment_text'] = threat2['comment_text'].str.replace(\"»\",\" \")\n",
    "threat2['comment_text'] = threat2['comment_text'].str.replace(\"œ\",\" \")\n",
    "threat2['comment_text'] = threat2['comment_text'].str.replace(\"¬\",\" \")\n",
    "threat2['comment_text'] = threat2['comment_text'].str.replace(\"Ð\",\" \")\n",
    "threat2['comment_text'] = threat2['comment_text'].str.replace(\"Ç\",\" \")\n",
    "threat2['comment_text'] = threat2['comment_text'].str.replace(\"~\",\" \")\n",
    "threat2['comment_text'] = threat2['comment_text'].str.replace(\"™\",\" \")\n",
    "threat2['comment_text'] = threat2['comment_text'].str.replace(\"·\",\" \")\n",
    "threat2['comment_text'] = threat2['comment_text'].str.replace(\"†\",\" \")\n",
    "threat2['comment_text'] = threat2['comment_text'].str.replace(\"ˆ\",\" \")\n",
    "threat2['comment_text'] = threat2['comment_text'].str.replace(\"Î\",\" \")                                            \n",
    "threat2['comment_text']"
   ]
  },
  {
   "cell_type": "code",
   "execution_count": 4,
   "metadata": {
    "collapsed": true
   },
   "outputs": [],
   "source": [
    "threat2.to_csv('threat2.csv')"
   ]
  },
  {
   "cell_type": "code",
   "execution_count": null,
   "metadata": {
    "collapsed": true
   },
   "outputs": [],
   "source": []
  }
 ],
 "metadata": {
  "kernelspec": {
   "display_name": "Python 3",
   "language": "python",
   "name": "python3"
  },
  "language_info": {
   "codemirror_mode": {
    "name": "ipython",
    "version": 3
   },
   "file_extension": ".py",
   "mimetype": "text/x-python",
   "name": "python",
   "nbconvert_exporter": "python",
   "pygments_lexer": "ipython3",
   "version": "3.6.3"
  }
 },
 "nbformat": 4,
 "nbformat_minor": 2
}
