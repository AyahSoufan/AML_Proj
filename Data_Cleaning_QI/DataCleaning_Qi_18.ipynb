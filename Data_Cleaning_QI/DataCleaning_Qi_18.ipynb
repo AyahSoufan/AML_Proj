{
 "cells": [
  {
   "cell_type": "code",
   "execution_count": 1,
   "metadata": {
    "collapsed": true
   },
   "outputs": [],
   "source": [
    "import pandas as pd\n",
    "import os"
   ]
  },
  {
   "cell_type": "code",
   "execution_count": 3,
   "metadata": {},
   "outputs": [
    {
     "data": {
      "text/plain": [
       "'C:\\\\Users\\\\warmp\\\\Documents\\\\pythonlearning\\\\AML'"
      ]
     },
     "execution_count": 3,
     "metadata": {},
     "output_type": "execute_result"
    }
   ],
   "source": [
    "os.getcwd()"
   ]
  },
  {
   "cell_type": "code",
   "execution_count": 2,
   "metadata": {},
   "outputs": [
    {
     "data": {
      "text/plain": [
       "0                             cocksucker piss around work\n",
       "1       stupid peace shit stop delete stuff asshole go...\n",
       "2                         stupid fuck mother's cunt stink\n",
       "3                                        hi im fuck bitch\n",
       "4             motherfucking piece crap fuckheads block us\n",
       "5       know think nobody really attack reveal age ann...\n",
       "6                          here's idea go fuck cumshitter\n",
       "7       motherfucking safety guarantee fuck hope i'm b...\n",
       "8       gay motherfucker know livei go sand face offth...\n",
       "9       first time bitch fuck i'll find live sodomize ...\n",
       "10      fuck faggot care get block long everyone know ...\n",
       "11                          cavort heretics fuck heretics\n",
       "12                                     dick bigger hahaha\n",
       "13                           fuck people information find\n",
       "14                                 shut fat poop kick ass\n",
       "15      blanchardb dumb motherfucker go sue shit watch...\n",
       "16                                       fuck small penis\n",
       "17      closedmouth dick-fuck guy jackass sux cock fuc...\n",
       "18      hey fuck fuck check phnom nam lyr wildlife san...\n",
       "19      yo fuck problem fuck around page leave fuck alone\n",
       "20      igho otegheri deletion hell decide delete coul...\n",
       "21                @ nobody care fuck shit like fuck bitch\n",
       "22                                         baklava fuck =\n",
       "23      page fuckers say want fuck drini naconkantari ...\n",
       "24      hey wiki nerd u suck man dont like nasty comen...\n",
       "25      mothjer fucker cocksucker mothjer fucker cocks...\n",
       "26             motherfucker dont change fuck gta timeline\n",
       "27      fuck paranoid bitch ugly unwanted bucket sludg...\n",
       "28      fascit nazi socialist bastard filthy hippy dar...\n",
       "29      fuck nazi propaganda odpierdalcie sie jebani f...\n",
       "                              ...                        \n",
       "3164    user frau holle notice split long introduction...\n",
       "3165    oh compare legendary phil hellmuth pint rocky ...\n",
       "3166    sorry vandalize edit best knowledge vandalism ...\n",
       "3167         redirect talkgeorgi georgiev footballer bear\n",
       "3168    trancecore synthcore way different synthcore c...\n",
       "3169    im baack research reference look reliable ref ...\n",
       "3170    nairs army well serviceswho use cook nambuthir...\n",
       "3171    change vinnie jones english despite fact play ...\n",
       "3172    reverse koebnerization question reverse koebne...\n",
       "3173    thank point mistake i've withdraw warn talk pa...\n",
       "3174    greville well revert fulke greville disambigua...\n",
       "3175    well special effort miss joe lieberman http//e...\n",
       "3176    examples well think examples instance supply m...\n",
       "3177    = roskams talk page roskams talk page reserve ...\n",
       "3178    know visual kei fashion style subculture relat...\n",
       "3179    neutral country enemies therefore cooperation ...\n",
       "3180    think misrepresentation gender brandon clearly...\n",
       "3181                               'why revert damn edit'\n",
       "3182    thank sjakkalle vote administrator kind word m...\n",
       "3183    regard iranian support south yemen ok instead ...\n",
       "3184    one would assume knowledge alcoholism imply kn...\n",
       "3185    external link site link compilation relevant n...\n",
       "3186    know also british isles course - want gb find ...\n",
       "3187    hal turner idiot everything precvious edit say...\n",
       "3188    vedrò hi gogo dodo post vedrò's page article o...\n",
       "3189    support- wpprecision policy enjoy substantial ...\n",
       "3190    telexfree worldwide operations exclude brazil ...\n",
       "3191                                suppose post yet tard\n",
       "3192    - say would meet alternate versions ie trc ver...\n",
       "3193    draw that's incredibly insult fail take accoun...\n",
       "Name: comment_text, Length: 3194, dtype: object"
      ]
     },
     "execution_count": 2,
     "metadata": {},
     "output_type": "execute_result"
    }
   ],
   "source": [
    "severe_toxic3 = pd.read_csv(r'C:\\Users\\warmp\\Documents\\pythonlearning\\AML\\balanced_dataset\\balanced_dataset\\severe_toxic3.csv')\n",
    "severe_toxic3['comment_text']"
   ]
  },
  {
   "cell_type": "code",
   "execution_count": 3,
   "metadata": {},
   "outputs": [
    {
     "data": {
      "text/plain": [
       "0                             cocksucker piss around work\n",
       "1       stupid peace shit stop delete stuff asshole go...\n",
       "2                         stupid fuck mother's cunt stink\n",
       "3                                        hi im fuck bitch\n",
       "4             motherfucking piece crap fuckheads block us\n",
       "5       know think nobody really attack reveal age ann...\n",
       "6                          here's idea go fuck cumshitter\n",
       "7       motherfucking safety guarantee fuck hope i'm b...\n",
       "8       gay motherfucker know livei go sand face offth...\n",
       "9       first time bitch fuck i'll find live sodomize ...\n",
       "10      fuck faggot care get block long everyone know ...\n",
       "11                          cavort heretics fuck heretics\n",
       "12                                     dick bigger hahaha\n",
       "13                           fuck people information find\n",
       "14                                 shut fat poop kick ass\n",
       "15      blanchardb dumb motherfucker go sue shit watch...\n",
       "16                                       fuck small penis\n",
       "17      closedmouth dick fuck guy jackass sux cock fuc...\n",
       "18      hey fuck fuck check phnom nam lyr wildlife san...\n",
       "19      yo fuck problem fuck around page leave fuck alone\n",
       "20      igho otegheri deletion hell decide delete coul...\n",
       "21                  nobody care fuck shit like fuck bitch\n",
       "22                                         baklava fuck  \n",
       "23      page fuckers say want fuck drini naconkantari ...\n",
       "24      hey wiki nerd u suck man dont like nasty comen...\n",
       "25      mothjer fucker cocksucker mothjer fucker cocks...\n",
       "26             motherfucker dont change fuck gta timeline\n",
       "27      fuck paranoid bitch ugly unwanted bucket sludg...\n",
       "28      fascit nazi socialist bastard filthy hippy dar...\n",
       "29      fuck nazi propaganda odpierdalcie sie jebani f...\n",
       "                              ...                        \n",
       "3164    user frau holle notice split long introduction...\n",
       "3165    oh compare legendary phil hellmuth pint rocky ...\n",
       "3166    sorry vandalize edit best knowledge vandalism ...\n",
       "3167         redirect talkgeorgi georgiev footballer bear\n",
       "3168    trancecore synthcore way different synthcore c...\n",
       "3169    im baack research reference look reliable ref ...\n",
       "3170    nairs army well serviceswho use cook nambuthir...\n",
       "3171    change vinnie jones english despite fact play ...\n",
       "3172    reverse koebnerization question reverse koebne...\n",
       "3173    thank point mistake i've withdraw warn talk pa...\n",
       "3174    greville well revert fulke greville disambigua...\n",
       "3175    well special effort miss joe lieberman http  e...\n",
       "3176    examples well think examples instance supply m...\n",
       "3177      roskams talk page roskams talk page reserve ...\n",
       "3178    know visual kei fashion style subculture relat...\n",
       "3179    neutral country enemies therefore cooperation ...\n",
       "3180    think misrepresentation gender brandon clearly...\n",
       "3181                               'why revert damn edit'\n",
       "3182    thank sjakkalle vote administrator kind word m...\n",
       "3183    regard iranian support south yemen ok instead ...\n",
       "3184    one would assume knowledge alcoholism imply kn...\n",
       "3185    external link site link compilation relevant n...\n",
       "3186    know also british isles course   want gb find ...\n",
       "3187    hal turner idiot everything precvious edit say...\n",
       "3188    vedrò hi gogo dodo post vedrò's page article o...\n",
       "3189    support  wpprecision policy enjoy substantial ...\n",
       "3190    telexfree worldwide operations exclude brazil ...\n",
       "3191                                suppose post yet tard\n",
       "3192      say would meet alternate versions ie trc ver...\n",
       "3193    draw that's incredibly insult fail take accoun...\n",
       "Name: comment_text, Length: 3194, dtype: object"
      ]
     },
     "execution_count": 3,
     "metadata": {},
     "output_type": "execute_result"
    }
   ],
   "source": [
    "severe_toxic3['comment_text'] = severe_toxic3['comment_text'].str.replace(\"@\",\" \")\n",
    "severe_toxic3['comment_text'] = severe_toxic3['comment_text'].str.replace(\"/\",\" \")\n",
    "severe_toxic3['comment_text'] = severe_toxic3['comment_text'].str.replace(\"=\",\" \")\n",
    "severe_toxic3['comment_text'] = severe_toxic3['comment_text'].str.replace(\"-\",\" \")\n",
    "severe_toxic3['comment_text'] = severe_toxic3['comment_text'].str.replace(\"±\",\" \")\n",
    "severe_toxic3['comment_text'] = severe_toxic3['comment_text'].str.replace(\"*\",\" \")\n",
    "severe_toxic3['comment_text'] = severe_toxic3['comment_text'].str.replace(\"+\",\" \")\n",
    "severe_toxic3['comment_text'] = severe_toxic3['comment_text'].str.replace(\"-\",\" \")\n",
    "severe_toxic3['comment_text'] = severe_toxic3['comment_text'].str.replace(\"#\",\" \")\n",
    "severe_toxic3['comment_text'] = severe_toxic3['comment_text'].str.replace(\"€\",\" \")\n",
    "severe_toxic3['comment_text'] = severe_toxic3['comment_text'].str.replace(\"Ã\",\" \")\n",
    "severe_toxic3['comment_text'] = severe_toxic3['comment_text'].str.replace(\"©\",\" \")\n",
    "severe_toxic3['comment_text'] = severe_toxic3['comment_text'].str.replace(\"Â\",\" \")\n",
    "severe_toxic3['comment_text'] = severe_toxic3['comment_text'].str.replace(\"$\",\" \")\n",
    "severe_toxic3['comment_text'] = severe_toxic3['comment_text'].str.replace(\"Ù\",\" \")\n",
    "severe_toxic3['comment_text'] = severe_toxic3['comment_text'].str.replace(\"#\",\" \")\n",
    "severe_toxic3['comment_text'] = severe_toxic3['comment_text'].str.replace(\"Ø\",\" \")\n",
    "severe_toxic3['comment_text'] = severe_toxic3['comment_text'].str.replace(\"§\",\" \")\n",
    "severe_toxic3['comment_text'] = severe_toxic3['comment_text'].str.replace(\"%\",\" \")\n",
    "severe_toxic3['comment_text'] = severe_toxic3['comment_text'].str.replace(\"¶\",\" \")\n",
    "severe_toxic3['comment_text'] = severe_toxic3['comment_text'].str.replace(\"?\",\" \")\n",
    "severe_toxic3['comment_text'] = severe_toxic3['comment_text'].str.replace(\"&\",\" \")\n",
    "severe_toxic3['comment_text'] = severe_toxic3['comment_text'].str.replace(\"_\",\" \")\n",
    "severe_toxic3['comment_text'] = severe_toxic3['comment_text'].str.replace(\"â\",\" \")\n",
    "severe_toxic3['comment_text'] = severe_toxic3['comment_text'].str.replace(\"Ž\",\" \")\n",
    "severe_toxic3['comment_text'] = severe_toxic3['comment_text'].str.replace(\"¢\",\" \")\n",
    "severe_toxic3['comment_text'] = severe_toxic3['comment_text'].str.replace(\"Ý\",\" \")\n",
    "severe_toxic3['comment_text'] = severe_toxic3['comment_text'].str.replace(\"£\",\" \")\n",
    "severe_toxic3['comment_text'] = severe_toxic3['comment_text'].str.replace(\"»\",\" \")\n",
    "severe_toxic3['comment_text'] = severe_toxic3['comment_text'].str.replace(\"œ\",\" \")\n",
    "severe_toxic3['comment_text'] = severe_toxic3['comment_text'].str.replace(\"¬\",\" \")\n",
    "severe_toxic3['comment_text'] = severe_toxic3['comment_text'].str.replace(\"Ð\",\" \")\n",
    "severe_toxic3['comment_text'] = severe_toxic3['comment_text'].str.replace(\"Ç\",\" \")\n",
    "severe_toxic3['comment_text'] = severe_toxic3['comment_text'].str.replace(\"~\",\" \")\n",
    "severe_toxic3['comment_text'] = severe_toxic3['comment_text'].str.replace(\"™\",\" \")\n",
    "severe_toxic3['comment_text'] = severe_toxic3['comment_text'].str.replace(\"·\",\" \")\n",
    "severe_toxic3['comment_text'] = severe_toxic3['comment_text'].str.replace(\"†\",\" \")\n",
    "severe_toxic3['comment_text'] = severe_toxic3['comment_text'].str.replace(\"ˆ\",\" \")\n",
    "severe_toxic3['comment_text'] = severe_toxic3['comment_text'].str.replace(\"Î\",\" \")                                            \n",
    "severe_toxic3['comment_text']"
   ]
  },
  {
   "cell_type": "code",
   "execution_count": 4,
   "metadata": {
    "collapsed": true
   },
   "outputs": [],
   "source": [
    "severe_toxic3.to_csv('severe_toxic3.csv')"
   ]
  },
  {
   "cell_type": "code",
   "execution_count": null,
   "metadata": {
    "collapsed": true
   },
   "outputs": [],
   "source": []
  }
 ],
 "metadata": {
  "kernelspec": {
   "display_name": "Python 3",
   "language": "python",
   "name": "python3"
  },
  "language_info": {
   "codemirror_mode": {
    "name": "ipython",
    "version": 3
   },
   "file_extension": ".py",
   "mimetype": "text/x-python",
   "name": "python",
   "nbconvert_exporter": "python",
   "pygments_lexer": "ipython3",
   "version": "3.6.3"
  }
 },
 "nbformat": 4,
 "nbformat_minor": 2
}
