{
 "cells": [
  {
   "cell_type": "code",
   "execution_count": 1,
   "metadata": {
    "collapsed": true
   },
   "outputs": [],
   "source": [
    "import pandas as pd\n",
    "import os"
   ]
  },
  {
   "cell_type": "code",
   "execution_count": 3,
   "metadata": {},
   "outputs": [
    {
     "data": {
      "text/plain": [
       "'C:\\\\Users\\\\warmp\\\\Documents\\\\pythonlearning\\\\AML'"
      ]
     },
     "execution_count": 3,
     "metadata": {},
     "output_type": "execute_result"
    }
   ],
   "source": [
    "os.getcwd()"
   ]
  },
  {
   "cell_type": "code",
   "execution_count": 2,
   "metadata": {},
   "outputs": [
    {
     "data": {
      "text/plain": [
       "0                   hi back last warn stop undo edit die\n",
       "1      think fagget get oife burn hell hate 'm sorry ...\n",
       "2      i'm also sock puppet accountsuprise -sincerely...\n",
       "3          fuck smith please notify die want dance grave\n",
       "4      first time bitch fuck i'll find live sodomize ...\n",
       "5                         whoever put notice page kill u\n",
       "6                                 shut fat poop kick ass\n",
       "7      demonte morton u bastard stop deletin' shit u ...\n",
       "8      aaron swartz stop fuck revert goddamn edit thi...\n",
       "9      gay homo hope choke penis die send big bleck g...\n",
       "10     go kill ashamed twoofers like scumbags deserve...\n",
       "11     important family shall burn warn troll muzemik...\n",
       "12                                       go die son bich\n",
       "13                    what's wrong go kill vile creature\n",
       "14              mothafucka son bitch shup otherwise kill\n",
       "15     please stop continue ignore policies introduce...\n",
       "16     last warn mark anymore defiant arguments subdu...\n",
       "17     go fuck bastard yyou life go fuck bastard yank...\n",
       "18               still find anything important like kill\n",
       "19     ain't bother i'm require sign posts/edit speci...\n",
       "20                  wtf delete maashel bad things happen\n",
       "21     dare send abuse fuck cockmaster dare warn mr j...\n",
       "22                             huldra sincerely hope die\n",
       "23     lock know bulgarian bullshit season fool exact...\n",
       "24     hell think dare revert edit quillacollo provin...\n",
       "25     wow one comment users comment page drool retar...\n",
       "26     supertrll live forever respect supertrll die p...\n",
       "27     stupid cunt fuck dumb arse mum hairy cunt hope...\n",
       "28     fuck u edit contrib wiki iranian army must die...\n",
       "29             everyone want kill bill god dam gate nerd\n",
       "                             ...                        \n",
       "926    fairly abusive power travis good administrator...\n",
       "927    livonia mi impossible reference every issue li...\n",
       "928    identify stable version reach weeks discussion...\n",
       "929    particularly afd two years ago part badly comp...\n",
       "930                               suffer mental problems\n",
       "931    agree sadly even pevsner's heirs give mediocre...\n",
       "932    elen oppose fact talk page use ani another use...\n",
       "933    barnstar original barnstar lovely article rich...\n",
       "934    hellenism hello edjohnson edit incorrect aware...\n",
       "935              see offical i'd think take common sense\n",
       "936    february utc talkdemocratic response state uni...\n",
       "937    information edit revert please see wikipedia's...\n",
       "938    uneducated layman definition i'm talk perceive...\n",
       "939    prevail standard /wikipediamos#article_titles ...\n",
       "940    dyk pill textile may know update fact article ...\n",
       "941    please stop change title without discuss gilab...\n",
       "942              piss get life write whatever want write\n",
       "943    remove srd labs paragraph seem paragraph singl...\n",
       "944                       yeah yeah yeah get life faggot\n",
       "945    templates display military ribbons/medals wear...\n",
       "946        answer question simply harass interest people\n",
       "947    hello welcome wikipedia i'm rock drum one thou...\n",
       "948    wikipediafeatured article candidates/new york ...\n",
       "949    herzog claim review literature accord pubmed a...\n",
       "950    people give wikipedia's front page obvious las...\n",
       "951    personally see problem list list hook hq would...\n",
       "952    since liszt's compositional output large new w...\n",
       "953    maybe best way proceed would jehochman would a...\n",
       "954    sich riflemen/urainian sich riflemen/ukranian ...\n",
       "955    baseball statistics enthusiast september issue...\n",
       "Name: comment_text, Length: 956, dtype: object"
      ]
     },
     "execution_count": 2,
     "metadata": {},
     "output_type": "execute_result"
    }
   ],
   "source": [
    "threat1 = pd.read_csv(r'C:\\Users\\warmp\\Documents\\pythonlearning\\AML\\balanced_dataset\\balanced_dataset\\threat1.csv')\n",
    "threat1['comment_text']"
   ]
  },
  {
   "cell_type": "code",
   "execution_count": 3,
   "metadata": {},
   "outputs": [
    {
     "data": {
      "text/plain": [
       "0                   hi back last warn stop undo edit die\n",
       "1      think fagget get oife burn hell hate 'm sorry ...\n",
       "2      i'm also sock puppet accountsuprise  sincerely...\n",
       "3          fuck smith please notify die want dance grave\n",
       "4      first time bitch fuck i'll find live sodomize ...\n",
       "5                         whoever put notice page kill u\n",
       "6                                 shut fat poop kick ass\n",
       "7      demonte morton u bastard stop deletin' shit u ...\n",
       "8      aaron swartz stop fuck revert goddamn edit thi...\n",
       "9      gay homo hope choke penis die send big bleck g...\n",
       "10     go kill ashamed twoofers like scumbags deserve...\n",
       "11     important family shall burn warn troll muzemik...\n",
       "12                                       go die son bich\n",
       "13                    what's wrong go kill vile creature\n",
       "14              mothafucka son bitch shup otherwise kill\n",
       "15     please stop continue ignore policies introduce...\n",
       "16     last warn mark anymore defiant arguments subdu...\n",
       "17     go fuck bastard yyou life go fuck bastard yank...\n",
       "18               still find anything important like kill\n",
       "19     ain't bother i'm require sign posts edit speci...\n",
       "20                  wtf delete maashel bad things happen\n",
       "21     dare send abuse fuck cockmaster dare warn mr j...\n",
       "22                             huldra sincerely hope die\n",
       "23     lock know bulgarian bullshit season fool exact...\n",
       "24     hell think dare revert edit quillacollo provin...\n",
       "25     wow one comment users comment page drool retar...\n",
       "26     supertrll live forever respect supertrll die p...\n",
       "27     stupid cunt fuck dumb arse mum hairy cunt hope...\n",
       "28     fuck u edit contrib wiki iranian army must die...\n",
       "29             everyone want kill bill god dam gate nerd\n",
       "                             ...                        \n",
       "926    fairly abusive power travis good administrator...\n",
       "927    livonia mi impossible reference every issue li...\n",
       "928    identify stable version reach weeks discussion...\n",
       "929    particularly afd two years ago part badly comp...\n",
       "930                               suffer mental problems\n",
       "931    agree sadly even pevsner's heirs give mediocre...\n",
       "932    elen oppose fact talk page use ani another use...\n",
       "933    barnstar original barnstar lovely article rich...\n",
       "934    hellenism hello edjohnson edit incorrect aware...\n",
       "935              see offical i'd think take common sense\n",
       "936    february utc talkdemocratic response state uni...\n",
       "937    information edit revert please see wikipedia's...\n",
       "938    uneducated layman definition i'm talk perceive...\n",
       "939    prevail standard  wikipediamos article titles ...\n",
       "940    dyk pill textile may know update fact article ...\n",
       "941    please stop change title without discuss gilab...\n",
       "942              piss get life write whatever want write\n",
       "943    remove srd labs paragraph seem paragraph singl...\n",
       "944                       yeah yeah yeah get life faggot\n",
       "945    templates display military ribbons medals wear...\n",
       "946        answer question simply harass interest people\n",
       "947    hello welcome wikipedia i'm rock drum one thou...\n",
       "948    wikipediafeatured article candidates new york ...\n",
       "949    herzog claim review literature accord pubmed a...\n",
       "950    people give wikipedia's front page obvious las...\n",
       "951    personally see problem list list hook hq would...\n",
       "952    since liszt's compositional output large new w...\n",
       "953    maybe best way proceed would jehochman would a...\n",
       "954    sich riflemen urainian sich riflemen ukranian ...\n",
       "955    baseball statistics enthusiast september issue...\n",
       "Name: comment_text, Length: 956, dtype: object"
      ]
     },
     "execution_count": 3,
     "metadata": {},
     "output_type": "execute_result"
    }
   ],
   "source": [
    "threat1['comment_text'] = threat1['comment_text'].str.replace(\"@\",\" \")\n",
    "threat1['comment_text'] = threat1['comment_text'].str.replace(\"/\",\" \")\n",
    "threat1['comment_text'] = threat1['comment_text'].str.replace(\"=\",\" \")\n",
    "threat1['comment_text'] = threat1['comment_text'].str.replace(\"-\",\" \")\n",
    "threat1['comment_text'] = threat1['comment_text'].str.replace(\"±\",\" \")\n",
    "threat1['comment_text'] = threat1['comment_text'].str.replace(\"*\",\" \")\n",
    "threat1['comment_text'] = threat1['comment_text'].str.replace(\"+\",\" \")\n",
    "threat1['comment_text'] = threat1['comment_text'].str.replace(\"-\",\" \")\n",
    "threat1['comment_text'] = threat1['comment_text'].str.replace(\"#\",\" \")\n",
    "threat1['comment_text'] = threat1['comment_text'].str.replace(\"€\",\" \")\n",
    "threat1['comment_text'] = threat1['comment_text'].str.replace(\"Ã\",\" \")\n",
    "threat1['comment_text'] = threat1['comment_text'].str.replace(\"©\",\" \")\n",
    "threat1['comment_text'] = threat1['comment_text'].str.replace(\"Â\",\" \")\n",
    "threat1['comment_text'] = threat1['comment_text'].str.replace(\"$\",\" \")\n",
    "threat1['comment_text'] = threat1['comment_text'].str.replace(\"Ù\",\" \")\n",
    "threat1['comment_text'] = threat1['comment_text'].str.replace(\"#\",\" \")\n",
    "threat1['comment_text'] = threat1['comment_text'].str.replace(\"Ø\",\" \")\n",
    "threat1['comment_text'] = threat1['comment_text'].str.replace(\"§\",\" \")\n",
    "threat1['comment_text'] = threat1['comment_text'].str.replace(\"%\",\" \")\n",
    "threat1['comment_text'] = threat1['comment_text'].str.replace(\"¶\",\" \")\n",
    "threat1['comment_text'] = threat1['comment_text'].str.replace(\"?\",\" \")\n",
    "threat1['comment_text'] = threat1['comment_text'].str.replace(\"&\",\" \")\n",
    "threat1['comment_text'] = threat1['comment_text'].str.replace(\"_\",\" \")\n",
    "threat1['comment_text'] = threat1['comment_text'].str.replace(\"â\",\" \")\n",
    "threat1['comment_text'] = threat1['comment_text'].str.replace(\"Ž\",\" \")\n",
    "threat1['comment_text'] = threat1['comment_text'].str.replace(\"¢\",\" \")\n",
    "threat1['comment_text'] = threat1['comment_text'].str.replace(\"Ý\",\" \")\n",
    "threat1['comment_text'] = threat1['comment_text'].str.replace(\"£\",\" \")\n",
    "threat1['comment_text'] = threat1['comment_text'].str.replace(\"»\",\" \")\n",
    "threat1['comment_text'] = threat1['comment_text'].str.replace(\"œ\",\" \")\n",
    "threat1['comment_text'] = threat1['comment_text'].str.replace(\"¬\",\" \")\n",
    "threat1['comment_text'] = threat1['comment_text'].str.replace(\"Ð\",\" \")\n",
    "threat1['comment_text'] = threat1['comment_text'].str.replace(\"Ç\",\" \")\n",
    "threat1['comment_text'] = threat1['comment_text'].str.replace(\"~\",\" \")\n",
    "threat1['comment_text'] = threat1['comment_text'].str.replace(\"™\",\" \")\n",
    "threat1['comment_text'] = threat1['comment_text'].str.replace(\"·\",\" \")\n",
    "threat1['comment_text'] = threat1['comment_text'].str.replace(\"†\",\" \")\n",
    "threat1['comment_text'] = threat1['comment_text'].str.replace(\"ˆ\",\" \")\n",
    "threat1['comment_text'] = threat1['comment_text'].str.replace(\"Î\",\" \")                                            \n",
    "threat1['comment_text']"
   ]
  },
  {
   "cell_type": "code",
   "execution_count": 4,
   "metadata": {
    "collapsed": true
   },
   "outputs": [],
   "source": [
    "threat1.to_csv('threat1.csv')"
   ]
  },
  {
   "cell_type": "code",
   "execution_count": null,
   "metadata": {
    "collapsed": true
   },
   "outputs": [],
   "source": []
  }
 ],
 "metadata": {
  "kernelspec": {
   "display_name": "Python 3",
   "language": "python",
   "name": "python3"
  },
  "language_info": {
   "codemirror_mode": {
    "name": "ipython",
    "version": 3
   },
   "file_extension": ".py",
   "mimetype": "text/x-python",
   "name": "python",
   "nbconvert_exporter": "python",
   "pygments_lexer": "ipython3",
   "version": "3.6.3"
  }
 },
 "nbformat": 4,
 "nbformat_minor": 2
}
