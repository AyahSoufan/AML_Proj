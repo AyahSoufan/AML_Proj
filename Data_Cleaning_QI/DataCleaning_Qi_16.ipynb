{
 "cells": [
  {
   "cell_type": "code",
   "execution_count": 1,
   "metadata": {
    "collapsed": true
   },
   "outputs": [],
   "source": [
    "import pandas as pd\n",
    "import os"
   ]
  },
  {
   "cell_type": "code",
   "execution_count": 3,
   "metadata": {},
   "outputs": [
    {
     "data": {
      "text/plain": [
       "'C:\\\\Users\\\\warmp\\\\Documents\\\\pythonlearning\\\\AML'"
      ]
     },
     "execution_count": 3,
     "metadata": {},
     "output_type": "execute_result"
    }
   ],
   "source": [
    "os.getcwd()"
   ]
  },
  {
   "cell_type": "code",
   "execution_count": 2,
   "metadata": {},
   "outputs": [
    {
     "data": {
      "text/plain": [
       "0                             cocksucker piss around work\n",
       "1       stupid peace shit stop delete stuff asshole go...\n",
       "2                         stupid fuck mother's cunt stink\n",
       "3                                        hi im fuck bitch\n",
       "4             motherfucking piece crap fuckheads block us\n",
       "5       know think nobody really attack reveal age ann...\n",
       "6                          here's idea go fuck cumshitter\n",
       "7       motherfucking safety guarantee fuck hope i'm b...\n",
       "8       gay motherfucker know livei go sand face offth...\n",
       "9       first time bitch fuck i'll find live sodomize ...\n",
       "10      fuck faggot care get block long everyone know ...\n",
       "11                          cavort heretics fuck heretics\n",
       "12                                     dick bigger hahaha\n",
       "13                           fuck people information find\n",
       "14                                 shut fat poop kick ass\n",
       "15      blanchardb dumb motherfucker go sue shit watch...\n",
       "16                                       fuck small penis\n",
       "17      closedmouth dick-fuck guy jackass sux cock fuc...\n",
       "18      hey fuck fuck check phnom nam lyr wildlife san...\n",
       "19      yo fuck problem fuck around page leave fuck alone\n",
       "20      igho otegheri deletion hell decide delete coul...\n",
       "21                @ nobody care fuck shit like fuck bitch\n",
       "22                                         baklava fuck =\n",
       "23      page fuckers say want fuck drini naconkantari ...\n",
       "24      hey wiki nerd u suck man dont like nasty comen...\n",
       "25      mothjer fucker cocksucker mothjer fucker cocks...\n",
       "26             motherfucker dont change fuck gta timeline\n",
       "27      fuck paranoid bitch ugly unwanted bucket sludg...\n",
       "28      fascit nazi socialist bastard filthy hippy dar...\n",
       "29      fuck nazi propaganda odpierdalcie sie jebani f...\n",
       "                              ...                        \n",
       "3163    iirc hear dr demento give full name band 'the ...\n",
       "3164    shoudln't give advice nonchallance delete fact...\n",
       "3165    anyone know € foster go havnt see feckin pack ...\n",
       "3166    matter whether relevant information thus appro...\n",
       "3167    entirety jingoistic term origin john dee onwar...\n",
       "3168    unblocksubjective offenses listen actually try...\n",
       "3169    goodrascal give u proof dhoni rajput chk http/...\n",
       "3170    thats right also many european countries trend...\n",
       "3171                        redirect talksaue saku parish\n",
       "3172    please add advertise inappropriate external li...\n",
       "3173    huns wall fyi http//enwikipediaorg/wiki/user_t...\n",
       "3174    say source va's unreliable since change name p...\n",
       "3175    good point apologies that's look time he's go ...\n",
       "3176      bore prick get bobby zamora's page get outdoors\n",
       "3177    clearly understand point say suggest oppositio...\n",
       "3178    talk little boys like sure utter waste time ma...\n",
       "3179                        nopesame crash persist — talk\n",
       "3180    last say rehab pass close personal friends als...\n",
       "3181    december thank experiment wikipedia test work ...\n",
       "3182           think put recycle bin get rid suppose work\n",
       "3183                              dare research dont know\n",
       "3184    corvus cornix's point delete redlinked article...\n",
       "3185    well really embarrass guy donate apparently mi...\n",
       "3186    askolnick et al happen andrew constructivelly ...\n",
       "3187    ah yes lex luthor-esque headquarter think per ...\n",
       "3188    dual survival season notice revert edit articl...\n",
       "3189    think would beneficial link word wiki page res...\n",
       "3190    november utc check edit period disappear flag ...\n",
       "3191    correct video cannot use source reporter bosno...\n",
       "3192    request community input lapse overwhelm suppor...\n",
       "Name: comment_text, Length: 3193, dtype: object"
      ]
     },
     "execution_count": 2,
     "metadata": {},
     "output_type": "execute_result"
    }
   ],
   "source": [
    "severe_toxic1 = pd.read_csv(r'C:\\Users\\warmp\\Documents\\pythonlearning\\AML\\balanced_dataset\\balanced_dataset\\severe_toxic1.csv')\n",
    "severe_toxic1['comment_text']"
   ]
  },
  {
   "cell_type": "code",
   "execution_count": 3,
   "metadata": {},
   "outputs": [
    {
     "data": {
      "text/plain": [
       "0                             cocksucker piss around work\n",
       "1       stupid peace shit stop delete stuff asshole go...\n",
       "2                         stupid fuck mother's cunt stink\n",
       "3                                        hi im fuck bitch\n",
       "4             motherfucking piece crap fuckheads block us\n",
       "5       know think nobody really attack reveal age ann...\n",
       "6                          here's idea go fuck cumshitter\n",
       "7       motherfucking safety guarantee fuck hope i'm b...\n",
       "8       gay motherfucker know livei go sand face offth...\n",
       "9       first time bitch fuck i'll find live sodomize ...\n",
       "10      fuck faggot care get block long everyone know ...\n",
       "11                          cavort heretics fuck heretics\n",
       "12                                     dick bigger hahaha\n",
       "13                           fuck people information find\n",
       "14                                 shut fat poop kick ass\n",
       "15      blanchardb dumb motherfucker go sue shit watch...\n",
       "16                                       fuck small penis\n",
       "17      closedmouth dick fuck guy jackass sux cock fuc...\n",
       "18      hey fuck fuck check phnom nam lyr wildlife san...\n",
       "19      yo fuck problem fuck around page leave fuck alone\n",
       "20      igho otegheri deletion hell decide delete coul...\n",
       "21                  nobody care fuck shit like fuck bitch\n",
       "22                                         baklava fuck  \n",
       "23      page fuckers say want fuck drini naconkantari ...\n",
       "24      hey wiki nerd u suck man dont like nasty comen...\n",
       "25      mothjer fucker cocksucker mothjer fucker cocks...\n",
       "26             motherfucker dont change fuck gta timeline\n",
       "27      fuck paranoid bitch ugly unwanted bucket sludg...\n",
       "28      fascit nazi socialist bastard filthy hippy dar...\n",
       "29      fuck nazi propaganda odpierdalcie sie jebani f...\n",
       "                              ...                        \n",
       "3163    iirc hear dr demento give full name band 'the ...\n",
       "3164    shoudln't give advice nonchallance delete fact...\n",
       "3165    anyone know   foster go havnt see feckin pack ...\n",
       "3166    matter whether relevant information thus appro...\n",
       "3167    entirety jingoistic term origin john dee onwar...\n",
       "3168    unblocksubjective offenses listen actually try...\n",
       "3169    goodrascal give u proof dhoni rajput chk http ...\n",
       "3170    thats right also many european countries trend...\n",
       "3171                        redirect talksaue saku parish\n",
       "3172    please add advertise inappropriate external li...\n",
       "3173    huns wall fyi http  enwikipediaorg wiki user t...\n",
       "3174    say source va's unreliable since change name p...\n",
       "3175    good point apologies that's look time he's go ...\n",
       "3176      bore prick get bobby zamora's page get outdoors\n",
       "3177    clearly understand point say suggest oppositio...\n",
       "3178    talk little boys like sure utter waste time ma...\n",
       "3179                        nopesame crash persist — talk\n",
       "3180    last say rehab pass close personal friends als...\n",
       "3181    december thank experiment wikipedia test work ...\n",
       "3182           think put recycle bin get rid suppose work\n",
       "3183                              dare research dont know\n",
       "3184    corvus cornix's point delete redlinked article...\n",
       "3185    well really embarrass guy donate apparently mi...\n",
       "3186    askolnick et al happen andrew constructivelly ...\n",
       "3187    ah yes lex luthor esque headquarter think per ...\n",
       "3188    dual survival season notice revert edit articl...\n",
       "3189    think would beneficial link word wiki page res...\n",
       "3190    november utc check edit period disappear flag ...\n",
       "3191    correct video cannot use source reporter bosno...\n",
       "3192    request community input lapse overwhelm suppor...\n",
       "Name: comment_text, Length: 3193, dtype: object"
      ]
     },
     "execution_count": 3,
     "metadata": {},
     "output_type": "execute_result"
    }
   ],
   "source": [
    "severe_toxic1['comment_text'] = severe_toxic1['comment_text'].str.replace(\"@\",\" \")\n",
    "severe_toxic1['comment_text'] = severe_toxic1['comment_text'].str.replace(\"/\",\" \")\n",
    "severe_toxic1['comment_text'] = severe_toxic1['comment_text'].str.replace(\"=\",\" \")\n",
    "severe_toxic1['comment_text'] = severe_toxic1['comment_text'].str.replace(\"-\",\" \")\n",
    "severe_toxic1['comment_text'] = severe_toxic1['comment_text'].str.replace(\"±\",\" \")\n",
    "severe_toxic1['comment_text'] = severe_toxic1['comment_text'].str.replace(\"*\",\" \")\n",
    "severe_toxic1['comment_text'] = severe_toxic1['comment_text'].str.replace(\"+\",\" \")\n",
    "severe_toxic1['comment_text'] = severe_toxic1['comment_text'].str.replace(\"-\",\" \")\n",
    "severe_toxic1['comment_text'] = severe_toxic1['comment_text'].str.replace(\"#\",\" \")\n",
    "severe_toxic1['comment_text'] = severe_toxic1['comment_text'].str.replace(\"€\",\" \")\n",
    "severe_toxic1['comment_text'] = severe_toxic1['comment_text'].str.replace(\"Ã\",\" \")\n",
    "severe_toxic1['comment_text'] = severe_toxic1['comment_text'].str.replace(\"©\",\" \")\n",
    "severe_toxic1['comment_text'] = severe_toxic1['comment_text'].str.replace(\"Â\",\" \")\n",
    "severe_toxic1['comment_text'] = severe_toxic1['comment_text'].str.replace(\"$\",\" \")\n",
    "severe_toxic1['comment_text'] = severe_toxic1['comment_text'].str.replace(\"Ù\",\" \")\n",
    "severe_toxic1['comment_text'] = severe_toxic1['comment_text'].str.replace(\"#\",\" \")\n",
    "severe_toxic1['comment_text'] = severe_toxic1['comment_text'].str.replace(\"Ø\",\" \")\n",
    "severe_toxic1['comment_text'] = severe_toxic1['comment_text'].str.replace(\"§\",\" \")\n",
    "severe_toxic1['comment_text'] = severe_toxic1['comment_text'].str.replace(\"%\",\" \")\n",
    "severe_toxic1['comment_text'] = severe_toxic1['comment_text'].str.replace(\"¶\",\" \")\n",
    "severe_toxic1['comment_text'] = severe_toxic1['comment_text'].str.replace(\"?\",\" \")\n",
    "severe_toxic1['comment_text'] = severe_toxic1['comment_text'].str.replace(\"&\",\" \")\n",
    "severe_toxic1['comment_text'] = severe_toxic1['comment_text'].str.replace(\"_\",\" \")\n",
    "severe_toxic1['comment_text'] = severe_toxic1['comment_text'].str.replace(\"â\",\" \")\n",
    "severe_toxic1['comment_text'] = severe_toxic1['comment_text'].str.replace(\"Ž\",\" \")\n",
    "severe_toxic1['comment_text'] = severe_toxic1['comment_text'].str.replace(\"¢\",\" \")\n",
    "severe_toxic1['comment_text'] = severe_toxic1['comment_text'].str.replace(\"Ý\",\" \")\n",
    "severe_toxic1['comment_text'] = severe_toxic1['comment_text'].str.replace(\"£\",\" \")\n",
    "severe_toxic1['comment_text'] = severe_toxic1['comment_text'].str.replace(\"»\",\" \")\n",
    "severe_toxic1['comment_text'] = severe_toxic1['comment_text'].str.replace(\"œ\",\" \")\n",
    "severe_toxic1['comment_text'] = severe_toxic1['comment_text'].str.replace(\"¬\",\" \")\n",
    "severe_toxic1['comment_text'] = severe_toxic1['comment_text'].str.replace(\"Ð\",\" \")\n",
    "severe_toxic1['comment_text'] = severe_toxic1['comment_text'].str.replace(\"Ç\",\" \")\n",
    "severe_toxic1['comment_text'] = severe_toxic1['comment_text'].str.replace(\"~\",\" \")\n",
    "severe_toxic1['comment_text'] = severe_toxic1['comment_text'].str.replace(\"™\",\" \")\n",
    "severe_toxic1['comment_text'] = severe_toxic1['comment_text'].str.replace(\"·\",\" \")\n",
    "severe_toxic1['comment_text'] = severe_toxic1['comment_text'].str.replace(\"†\",\" \")\n",
    "severe_toxic1['comment_text'] = severe_toxic1['comment_text'].str.replace(\"ˆ\",\" \")\n",
    "severe_toxic1['comment_text'] = severe_toxic1['comment_text'].str.replace(\"Î\",\" \")                                            \n",
    "severe_toxic1['comment_text']"
   ]
  },
  {
   "cell_type": "code",
   "execution_count": 4,
   "metadata": {
    "collapsed": true
   },
   "outputs": [],
   "source": [
    "severe_toxic1.to_csv('severe_toxic1.csv')"
   ]
  },
  {
   "cell_type": "code",
   "execution_count": null,
   "metadata": {
    "collapsed": true
   },
   "outputs": [],
   "source": []
  }
 ],
 "metadata": {
  "kernelspec": {
   "display_name": "Python 3",
   "language": "python",
   "name": "python3"
  },
  "language_info": {
   "codemirror_mode": {
    "name": "ipython",
    "version": 3
   },
   "file_extension": ".py",
   "mimetype": "text/x-python",
   "name": "python",
   "nbconvert_exporter": "python",
   "pygments_lexer": "ipython3",
   "version": "3.6.3"
  }
 },
 "nbformat": 4,
 "nbformat_minor": 2
}
