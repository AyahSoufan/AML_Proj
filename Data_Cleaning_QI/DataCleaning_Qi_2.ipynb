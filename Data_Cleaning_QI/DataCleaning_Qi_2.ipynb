{
 "cells": [
  {
   "cell_type": "code",
   "execution_count": 3,
   "metadata": {
    "collapsed": true
   },
   "outputs": [],
   "source": [
    "import pandas as pd\n",
    "import os"
   ]
  },
  {
   "cell_type": "code",
   "execution_count": 3,
   "metadata": {},
   "outputs": [
    {
     "data": {
      "text/plain": [
       "'C:\\\\Users\\\\warmp\\\\Documents\\\\pythonlearning\\\\AML'"
      ]
     },
     "execution_count": 3,
     "metadata": {},
     "output_type": "execute_result"
    }
   ],
   "source": [
    "os.getcwd()"
   ]
  },
  {
   "cell_type": "code",
   "execution_count": 4,
   "metadata": {},
   "outputs": [
    {
     "data": {
      "text/plain": [
       "0       gay antisemmitian archangel white tiger meow g...\n",
       "1                    pair jew-hating weiner nazi schmucks\n",
       "2       think fagget get oife burn hell hate 'm sorry ...\n",
       "3       kill niggers hard others say include racists s...\n",
       "4       u r tw@ fuck u gay boyu r smellyfuck ur mum po...\n",
       "5       gay existence cdvf proof sad twat also ugly wi...\n",
       "6       dictionaries dare call contribution spam kurd ...\n",
       "7       gay motherfucker know livei go sand face offth...\n",
       "8       studid cock sucker u stop callin ok frank garr...\n",
       "9       first time bitch fuck i'll find live sodomize ...\n",
       "10      fuck faggot care get block long everyone know ...\n",
       "11      hey freak hermaphrodite please unprotect user ...\n",
       "12                                     ghe fag learn know\n",
       "13                                 shut fat poop kick ass\n",
       "14                               good edit polar bear gay\n",
       "15      demonte morton u bastard stop deletin' shit u ...\n",
       "16                             bla bla blasuck irishguy =\n",
       "17      evidence present tone evidence reject go ficti...\n",
       "18                                        faggot get life\n",
       "19           i'm glad wikipedia bias fill retard children\n",
       "20      fuck gay wad fuck mum oh wait gay dont mom hah...\n",
       "21      aaron swartz stop fuck revert goddamn edit thi...\n",
       "22      gay homo hope choke penis die send big bleck g...\n",
       "23                        racist goddamn neo-nazi big boy\n",
       "24      fascit nazi socialist bastard filthy hippy dar...\n",
       "25      usernhrhs homo like mitt romney usernhrhs homo...\n",
       "26      fuck nazi propaganda odpierdalcie sie jebani f...\n",
       "27      im sorry fuck stupid nice person give warn fuc...\n",
       "28      actually fully arabic islamic correct spell un...\n",
       "29      pedophiles sex criminals imperial japan nazi g...\n",
       "                              ...                        \n",
       "2788    let's overstate terminology policy accept engl...\n",
       "2789             reach conclusion reread bad look usefull\n",
       "2790                     please acknowledge talk contribs\n",
       "2791    march utc petra work honey article honey use b...\n",
       "2792    possibly merge international adoption south ko...\n",
       "2793    uw-agf > recently visit page user talkrtyags n...\n",
       "2794    info== britain know fatalities since last -yea...\n",
       "2795    gamble connection casino gamble put person's f...\n",
       "2796    neither edit summary talk page text subsequent...\n",
       "2797         excellent understand mean word occasionally—\n",
       "2798    since relevant discussion available stay artic...\n",
       "2799                           i'd prefer ip address hide\n",
       "2800    welcome hello welcome wikipedia thank contribu...\n",
       "2801    look gallery flickr site coca-cola gallery con...\n",
       "2802    resassanid empire ever way wrong please hesita...\n",
       "2803    fantastic news say wait eagerly phase i'll abl...\n",
       "2804    well card-cheat characterization pro gambler t...\n",
       "2805                                            integrate\n",
       "2806        attack first kind familiar semblance fairness\n",
       "2807    objective information = neutral information least\n",
       "2808    dog greek main article lot pseudo-scientific d...\n",
       "2809    well know issue warn user talkviriditas edit w...\n",
       "2810              think ip address day ban many ban right\n",
       "2811    familiar mis church's membership database noti...\n",
       "2812                         ok i've let know we're thank\n",
       "2813    rodeo song lyric well give fuck get heater tru...\n",
       "2814    ok sorry dunno britain english omg many fact t...\n",
       "2815    ali baba variant cite nalebuff article list mu...\n",
       "2816    please vandalize page edit virginia water cont...\n",
       "2817    utc friends confirm premiere steve parr photos...\n",
       "Name: comment_text, Length: 2818, dtype: object"
      ]
     },
     "execution_count": 4,
     "metadata": {},
     "output_type": "execute_result"
    }
   ],
   "source": [
    "identity_hate2 = pd.read_csv(r'C:\\Users\\warmp\\Documents\\pythonlearning\\AML\\balanced_dataset\\balanced_dataset\\identity_hate2.csv')\n",
    "identity_hate2['comment_text']"
   ]
  },
  {
   "cell_type": "code",
   "execution_count": 5,
   "metadata": {},
   "outputs": [
    {
     "data": {
      "text/plain": [
       "0       gay antisemmitian archangel white tiger meow g...\n",
       "1                    pair jew hating weiner nazi schmucks\n",
       "2       think fagget get oife burn hell hate 'm sorry ...\n",
       "3       kill niggers hard others say include racists s...\n",
       "4       u r tw  fuck u gay boyu r smellyfuck ur mum po...\n",
       "5       gay existence cdvf proof sad twat also ugly wi...\n",
       "6       dictionaries dare call contribution spam kurd ...\n",
       "7       gay motherfucker know livei go sand face offth...\n",
       "8       studid cock sucker u stop callin ok frank garr...\n",
       "9       first time bitch fuck i'll find live sodomize ...\n",
       "10      fuck faggot care get block long everyone know ...\n",
       "11      hey freak hermaphrodite please unprotect user ...\n",
       "12                                     ghe fag learn know\n",
       "13                                 shut fat poop kick ass\n",
       "14                               good edit polar bear gay\n",
       "15      demonte morton u bastard stop deletin' shit u ...\n",
       "16                             bla bla blasuck irishguy  \n",
       "17      evidence present tone evidence reject go ficti...\n",
       "18                                        faggot get life\n",
       "19           i'm glad wikipedia bias fill retard children\n",
       "20      fuck gay wad fuck mum oh wait gay dont mom hah...\n",
       "21      aaron swartz stop fuck revert goddamn edit thi...\n",
       "22      gay homo hope choke penis die send big bleck g...\n",
       "23                        racist goddamn neo nazi big boy\n",
       "24      fascit nazi socialist bastard filthy hippy dar...\n",
       "25      usernhrhs homo like mitt romney usernhrhs homo...\n",
       "26      fuck nazi propaganda odpierdalcie sie jebani f...\n",
       "27      im sorry fuck stupid nice person give warn fuc...\n",
       "28      actually fully arabic islamic correct spell un...\n",
       "29      pedophiles sex criminals imperial japan nazi g...\n",
       "                              ...                        \n",
       "2788    let's overstate terminology policy accept engl...\n",
       "2789             reach conclusion reread bad look usefull\n",
       "2790                     please acknowledge talk contribs\n",
       "2791    march utc petra work honey article honey use b...\n",
       "2792    possibly merge international adoption south ko...\n",
       "2793    uw agf > recently visit page user talkrtyags n...\n",
       "2794    info   britain know fatalities since last  yea...\n",
       "2795    gamble connection casino gamble put person's f...\n",
       "2796    neither edit summary talk page text subsequent...\n",
       "2797         excellent understand mean word occasionally—\n",
       "2798    since relevant discussion available stay artic...\n",
       "2799                           i'd prefer ip address hide\n",
       "2800    welcome hello welcome wikipedia thank contribu...\n",
       "2801    look gallery flickr site coca cola gallery con...\n",
       "2802    resassanid empire ever way wrong please hesita...\n",
       "2803    fantastic news say wait eagerly phase i'll abl...\n",
       "2804    well card cheat characterization pro gambler t...\n",
       "2805                                            integrate\n",
       "2806        attack first kind familiar semblance fairness\n",
       "2807    objective information   neutral information least\n",
       "2808    dog greek main article lot pseudo scientific d...\n",
       "2809    well know issue warn user talkviriditas edit w...\n",
       "2810              think ip address day ban many ban right\n",
       "2811    familiar mis church's membership database noti...\n",
       "2812                         ok i've let know we're thank\n",
       "2813    rodeo song lyric well give fuck get heater tru...\n",
       "2814    ok sorry dunno britain english omg many fact t...\n",
       "2815    ali baba variant cite nalebuff article list mu...\n",
       "2816    please vandalize page edit virginia water cont...\n",
       "2817    utc friends confirm premiere steve parr photos...\n",
       "Name: comment_text, Length: 2818, dtype: object"
      ]
     },
     "execution_count": 5,
     "metadata": {},
     "output_type": "execute_result"
    }
   ],
   "source": [
    "identity_hate2['comment_text'] = identity_hate2['comment_text'].str.replace(\"@\",\" \")\n",
    "identity_hate2['comment_text'] = identity_hate2['comment_text'].str.replace(\"/\",\" \")\n",
    "identity_hate2['comment_text'] = identity_hate2['comment_text'].str.replace(\"=\",\" \")\n",
    "identity_hate2['comment_text'] = identity_hate2['comment_text'].str.replace(\"-\",\" \")\n",
    "identity_hate2['comment_text'] = identity_hate2['comment_text'].str.replace(\"±\",\" \")\n",
    "identity_hate2['comment_text'] = identity_hate2['comment_text'].str.replace(\"*\",\" \")\n",
    "identity_hate2['comment_text'] = identity_hate2['comment_text'].str.replace(\"+\",\" \")\n",
    "identity_hate2['comment_text'] = identity_hate2['comment_text'].str.replace(\"-\",\" \")\n",
    "identity_hate2['comment_text'] = identity_hate2['comment_text'].str.replace(\"#\",\" \")\n",
    "identity_hate2['comment_text'] = identity_hate2['comment_text'].str.replace(\"€\",\" \")\n",
    "identity_hate2['comment_text'] = identity_hate2['comment_text'].str.replace(\"Ã\",\" \")\n",
    "identity_hate2['comment_text'] = identity_hate2['comment_text'].str.replace(\"©\",\" \")\n",
    "identity_hate2['comment_text'] = identity_hate2['comment_text'].str.replace(\"Â\",\" \")\n",
    "identity_hate2['comment_text'] = identity_hate2['comment_text'].str.replace(\"$\",\" \")\n",
    "identity_hate2['comment_text'] = identity_hate2['comment_text'].str.replace(\"Ù\",\" \")\n",
    "identity_hate2['comment_text'] = identity_hate2['comment_text'].str.replace(\"#\",\" \")\n",
    "identity_hate2['comment_text'] = identity_hate2['comment_text'].str.replace(\"Ø\",\" \")\n",
    "identity_hate2['comment_text'] = identity_hate2['comment_text'].str.replace(\"§\",\" \")\n",
    "identity_hate2['comment_text'] = identity_hate2['comment_text'].str.replace(\"%\",\" \")\n",
    "identity_hate2['comment_text'] = identity_hate2['comment_text'].str.replace(\"¶\",\" \")\n",
    "identity_hate2['comment_text'] = identity_hate2['comment_text'].str.replace(\"?\",\" \")\n",
    "identity_hate2['comment_text'] = identity_hate2['comment_text'].str.replace(\"&\",\" \")\n",
    "identity_hate2['comment_text'] = identity_hate2['comment_text'].str.replace(\"_\",\" \")\n",
    "identity_hate2['comment_text'] = identity_hate2['comment_text'].str.replace(\"â\",\" \")\n",
    "identity_hate2['comment_text'] = identity_hate2['comment_text'].str.replace(\"Ž\",\" \")\n",
    "identity_hate2['comment_text'] = identity_hate2['comment_text'].str.replace(\"¢\",\" \")\n",
    "identity_hate2['comment_text'] = identity_hate2['comment_text'].str.replace(\"Ý\",\" \")\n",
    "identity_hate2['comment_text'] = identity_hate2['comment_text'].str.replace(\"£\",\" \")\n",
    "identity_hate2['comment_text'] = identity_hate2['comment_text'].str.replace(\"»\",\" \")\n",
    "identity_hate2['comment_text'] = identity_hate2['comment_text'].str.replace(\"œ\",\" \")\n",
    "identity_hate2['comment_text'] = identity_hate2['comment_text'].str.replace(\"¬\",\" \")\n",
    "identity_hate2['comment_text'] = identity_hate2['comment_text'].str.replace(\"Ð\",\" \")\n",
    "identity_hate2['comment_text'] = identity_hate2['comment_text'].str.replace(\"Ç\",\" \")\n",
    "identity_hate2['comment_text'] = identity_hate2['comment_text'].str.replace(\"~\",\" \")\n",
    "identity_hate2['comment_text'] = identity_hate2['comment_text'].str.replace(\"™\",\" \")\n",
    "identity_hate2['comment_text'] = identity_hate2['comment_text'].str.replace(\"·\",\" \")\n",
    "identity_hate2['comment_text'] = identity_hate2['comment_text'].str.replace(\"†\",\" \")\n",
    "identity_hate2['comment_text'] = identity_hate2['comment_text'].str.replace(\"ˆ\",\" \")\n",
    "identity_hate2['comment_text'] = identity_hate2['comment_text'].str.replace(\"Î\",\" \")                                            \n",
    "identity_hate2['comment_text']"
   ]
  },
  {
   "cell_type": "code",
   "execution_count": 6,
   "metadata": {
    "collapsed": true
   },
   "outputs": [],
   "source": [
    "identity_hate2.to_csv('identity_hate2.csv')"
   ]
  },
  {
   "cell_type": "code",
   "execution_count": null,
   "metadata": {
    "collapsed": true
   },
   "outputs": [],
   "source": []
  }
 ],
 "metadata": {
  "kernelspec": {
   "display_name": "Python 3",
   "language": "python",
   "name": "python3"
  },
  "language_info": {
   "codemirror_mode": {
    "name": "ipython",
    "version": 3
   },
   "file_extension": ".py",
   "mimetype": "text/x-python",
   "name": "python",
   "nbconvert_exporter": "python",
   "pygments_lexer": "ipython3",
   "version": "3.6.3"
  }
 },
 "nbformat": 4,
 "nbformat_minor": 2
}
