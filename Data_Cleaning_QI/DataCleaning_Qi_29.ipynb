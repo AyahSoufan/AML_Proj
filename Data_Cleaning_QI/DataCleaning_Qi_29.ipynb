{
 "cells": [
  {
   "cell_type": "code",
   "execution_count": 1,
   "metadata": {
    "collapsed": true
   },
   "outputs": [],
   "source": [
    "import pandas as pd\n",
    "import os"
   ]
  },
  {
   "cell_type": "code",
   "execution_count": 3,
   "metadata": {},
   "outputs": [
    {
     "data": {
      "text/plain": [
       "'C:\\\\Users\\\\warmp\\\\Documents\\\\pythonlearning\\\\AML'"
      ]
     },
     "execution_count": 3,
     "metadata": {},
     "output_type": "execute_result"
    }
   ],
   "source": [
    "os.getcwd()"
   ]
  },
  {
   "cell_type": "code",
   "execution_count": 2,
   "metadata": {},
   "outputs": [
    {
     "data": {
      "text/plain": [
       "0                              cocksucker piss around work\n",
       "1        hey @ | talk exclusive group wp talibanswho go...\n",
       "2                  bye look come think comming back tosser\n",
       "3        gay antisemmitian archangel white tiger meow g...\n",
       "4                               fuck filthy mother ass dry\n",
       "5        i'm sorry i'm sorry screw around someones talk...\n",
       "6        get fuck get fuckeeed get drink cant put down/...\n",
       "7        stupid peace shit stop delete stuff asshole go...\n",
       "8          =tony sidaway obviously fistfuckee love arm ass\n",
       "9        band page's deletion think go delete comment p...\n",
       "10       can't believe fat artie see recent appearence ...\n",
       "11       edit good cunts like revert good edit stupid u...\n",
       "12                    hi back last warn stop undo edit die\n",
       "13          would shut run wikipedia especially stupid kid\n",
       "14                    pair jew-hating weiner nazi schmucks\n",
       "15       sorry puck one ever say dick number one clearl...\n",
       "16       unblock i'll get lawyers block constitutional ...\n",
       "17       fire moronic wimp lazy research make sick peop...\n",
       "18       think fagget get oife burn hell hate 'm sorry ...\n",
       "19                         stupid fuck mother's cunt stink\n",
       "20       blatant pov push neither guy make contribution...\n",
       "21       give permanat block raseac remember muslims do...\n",
       "22                                 fuck block faggot pussy\n",
       "23       kill niggers hard others say include racists s...\n",
       "24       burn deck that'd guy's burn deck like think bl...\n",
       "25       u r tw@ fuck u gay boyu r smellyfuck ur mum po...\n",
       "26                                  atheism full bias shit\n",
       "27       hey spread misconceptions try spread false inf...\n",
       "28           let know crawl arses '''''' dick laurent dead\n",
       "29               user worthless goddamn faggot fuck faggot\n",
       "                               ...                        \n",
       "31254    oh felt really upset attempt jews whitewash er...\n",
       "31255                                               enlist\n",
       "31256                 selegiline dose low enough selective\n",
       "31257    update wikipediapages need attention/sexuality...\n",
       "31258    wikipedia new administrator thanksthank voice ...\n",
       "31259    since see user page know hubris value also per...\n",
       "31260    wikipedia policy dictate matter relative statu...\n",
       "31261    hi familiar wikipediatalk page guidelines wish...\n",
       "31262    talk page someone show shortly answer question...\n",
       "31263    statements like simply unecessary uninformativ...\n",
       "31264    list currently short would leave without restr...\n",
       "31265    fact guardian leftist newspapers also support ...\n",
       "31266    good work guy support ability talk hope ft wat...\n",
       "31267                        respond user talk page · talk\n",
       "31268    please contribute constructively wikipedia rat...\n",
       "31269                  hit nail head statement fisherqueen\n",
       "31270    humber car hi omotecho thank contribution humb...\n",
       "31271    obviously askolnik's comment uncivil inflammat...\n",
       "31272    heart failure medical information accurate exp...\n",
       "31273    deletion discussion monopoly star war hello as...\n",
       "31274    critically examine veracity basically call con...\n",
       "31275    hi arrive home funeral come take shower need r...\n",
       "31276    comment page see english language familiar els...\n",
       "31277    sh example poor individual fail reliability ex...\n",
       "31278    look article question may want read wpwikipedi...\n",
       "31279    please use talk page complaints administrator ...\n",
       "31280       yes add import line specialmypage/skinjs — t/c\n",
       "31281    welcome hello welcome wikipedia thank contribu...\n",
       "31282    refs tag remove i've remove 'references needed...\n",
       "31283    able use account accidently leave account log ...\n",
       "Name: comment_text, Length: 31284, dtype: object"
      ]
     },
     "execution_count": 2,
     "metadata": {},
     "output_type": "execute_result"
    }
   ],
   "source": [
    "toxic4= pd.read_csv(r'C:\\Users\\warmp\\Documents\\pythonlearning\\AML\\balanced_dataset\\balanced_dataset\\toxic4.csv')\n",
    "toxic4['comment_text']"
   ]
  },
  {
   "cell_type": "code",
   "execution_count": 3,
   "metadata": {},
   "outputs": [
    {
     "data": {
      "text/plain": [
       "0                              cocksucker piss around work\n",
       "1        hey   | talk exclusive group wp talibanswho go...\n",
       "2                  bye look come think comming back tosser\n",
       "3        gay antisemmitian archangel white tiger meow g...\n",
       "4                               fuck filthy mother ass dry\n",
       "5        i'm sorry i'm sorry screw around someones talk...\n",
       "6        get fuck get fuckeeed get drink cant put down ...\n",
       "7        stupid peace shit stop delete stuff asshole go...\n",
       "8           tony sidaway obviously fistfuckee love arm ass\n",
       "9        band page's deletion think go delete comment p...\n",
       "10       can't believe fat artie see recent appearence ...\n",
       "11       edit good cunts like revert good edit stupid u...\n",
       "12                    hi back last warn stop undo edit die\n",
       "13          would shut run wikipedia especially stupid kid\n",
       "14                    pair jew hating weiner nazi schmucks\n",
       "15       sorry puck one ever say dick number one clearl...\n",
       "16       unblock i'll get lawyers block constitutional ...\n",
       "17       fire moronic wimp lazy research make sick peop...\n",
       "18       think fagget get oife burn hell hate 'm sorry ...\n",
       "19                         stupid fuck mother's cunt stink\n",
       "20       blatant pov push neither guy make contribution...\n",
       "21       give permanat block raseac remember muslims do...\n",
       "22                                 fuck block faggot pussy\n",
       "23       kill niggers hard others say include racists s...\n",
       "24       burn deck that'd guy's burn deck like think bl...\n",
       "25       u r tw  fuck u gay boyu r smellyfuck ur mum po...\n",
       "26                                  atheism full bias shit\n",
       "27       hey spread misconceptions try spread false inf...\n",
       "28           let know crawl arses '''''' dick laurent dead\n",
       "29               user worthless goddamn faggot fuck faggot\n",
       "                               ...                        \n",
       "31254    oh felt really upset attempt jews whitewash er...\n",
       "31255                                               enlist\n",
       "31256                 selegiline dose low enough selective\n",
       "31257    update wikipediapages need attention sexuality...\n",
       "31258    wikipedia new administrator thanksthank voice ...\n",
       "31259    since see user page know hubris value also per...\n",
       "31260    wikipedia policy dictate matter relative statu...\n",
       "31261    hi familiar wikipediatalk page guidelines wish...\n",
       "31262    talk page someone show shortly answer question...\n",
       "31263    statements like simply unecessary uninformativ...\n",
       "31264    list currently short would leave without restr...\n",
       "31265    fact guardian leftist newspapers also support ...\n",
       "31266    good work guy support ability talk hope ft wat...\n",
       "31267                        respond user talk page   talk\n",
       "31268    please contribute constructively wikipedia rat...\n",
       "31269                  hit nail head statement fisherqueen\n",
       "31270    humber car hi omotecho thank contribution humb...\n",
       "31271    obviously askolnik's comment uncivil inflammat...\n",
       "31272    heart failure medical information accurate exp...\n",
       "31273    deletion discussion monopoly star war hello as...\n",
       "31274    critically examine veracity basically call con...\n",
       "31275    hi arrive home funeral come take shower need r...\n",
       "31276    comment page see english language familiar els...\n",
       "31277    sh example poor individual fail reliability ex...\n",
       "31278    look article question may want read wpwikipedi...\n",
       "31279    please use talk page complaints administrator ...\n",
       "31280       yes add import line specialmypage skinjs — t c\n",
       "31281    welcome hello welcome wikipedia thank contribu...\n",
       "31282    refs tag remove i've remove 'references needed...\n",
       "31283    able use account accidently leave account log ...\n",
       "Name: comment_text, Length: 31284, dtype: object"
      ]
     },
     "execution_count": 3,
     "metadata": {},
     "output_type": "execute_result"
    }
   ],
   "source": [
    "toxic4['comment_text'] = toxic4['comment_text'].str.replace(\"@\",\" \")\n",
    "toxic4['comment_text'] = toxic4['comment_text'].str.replace(\"/\",\" \")\n",
    "toxic4['comment_text'] = toxic4['comment_text'].str.replace(\"=\",\" \")\n",
    "toxic4['comment_text'] = toxic4['comment_text'].str.replace(\"-\",\" \")\n",
    "toxic4['comment_text'] = toxic4['comment_text'].str.replace(\"±\",\" \")\n",
    "toxic4['comment_text'] = toxic4['comment_text'].str.replace(\"*\",\" \")\n",
    "toxic4['comment_text'] = toxic4['comment_text'].str.replace(\"+\",\" \")\n",
    "toxic4['comment_text'] = toxic4['comment_text'].str.replace(\"-\",\" \")\n",
    "toxic4['comment_text'] = toxic4['comment_text'].str.replace(\"#\",\" \")\n",
    "toxic4['comment_text'] = toxic4['comment_text'].str.replace(\"€\",\" \")\n",
    "toxic4['comment_text'] = toxic4['comment_text'].str.replace(\"Ã\",\" \")\n",
    "toxic4['comment_text'] = toxic4['comment_text'].str.replace(\"©\",\" \")\n",
    "toxic4['comment_text'] = toxic4['comment_text'].str.replace(\"Â\",\" \")\n",
    "toxic4['comment_text'] = toxic4['comment_text'].str.replace(\"$\",\" \")\n",
    "toxic4['comment_text'] = toxic4['comment_text'].str.replace(\"Ù\",\" \")\n",
    "toxic4['comment_text'] = toxic4['comment_text'].str.replace(\"#\",\" \")\n",
    "toxic4['comment_text'] = toxic4['comment_text'].str.replace(\"Ø\",\" \")\n",
    "toxic4['comment_text'] = toxic4['comment_text'].str.replace(\"§\",\" \")\n",
    "toxic4['comment_text'] = toxic4['comment_text'].str.replace(\"%\",\" \")\n",
    "toxic4['comment_text'] = toxic4['comment_text'].str.replace(\"¶\",\" \")\n",
    "toxic4['comment_text'] = toxic4['comment_text'].str.replace(\"?\",\" \")\n",
    "toxic4['comment_text'] = toxic4['comment_text'].str.replace(\"&\",\" \")\n",
    "toxic4['comment_text'] = toxic4['comment_text'].str.replace(\"_\",\" \")\n",
    "toxic4['comment_text'] = toxic4['comment_text'].str.replace(\"â\",\" \")\n",
    "toxic4['comment_text'] = toxic4['comment_text'].str.replace(\"Ž\",\" \")\n",
    "toxic4['comment_text'] = toxic4['comment_text'].str.replace(\"¢\",\" \")\n",
    "toxic4['comment_text'] = toxic4['comment_text'].str.replace(\"Ý\",\" \")\n",
    "toxic4['comment_text'] = toxic4['comment_text'].str.replace(\"£\",\" \")\n",
    "toxic4['comment_text'] = toxic4['comment_text'].str.replace(\"»\",\" \")\n",
    "toxic4['comment_text'] = toxic4['comment_text'].str.replace(\"œ\",\" \")\n",
    "toxic4['comment_text'] = toxic4['comment_text'].str.replace(\"¬\",\" \")\n",
    "toxic4['comment_text'] = toxic4['comment_text'].str.replace(\"Ð\",\" \")\n",
    "toxic4['comment_text'] = toxic4['comment_text'].str.replace(\"Ç\",\" \")\n",
    "toxic4['comment_text'] = toxic4['comment_text'].str.replace(\"~\",\" \")\n",
    "toxic4['comment_text'] = toxic4['comment_text'].str.replace(\"™\",\" \")\n",
    "toxic4['comment_text'] = toxic4['comment_text'].str.replace(\"·\",\" \")\n",
    "toxic4['comment_text'] = toxic4['comment_text'].str.replace(\"†\",\" \")\n",
    "toxic4['comment_text'] = toxic4['comment_text'].str.replace(\"ˆ\",\" \")\n",
    "toxic4['comment_text'] = toxic4['comment_text'].str.replace(\"Î\",\" \")                                            \n",
    "toxic4['comment_text']"
   ]
  },
  {
   "cell_type": "code",
   "execution_count": 4,
   "metadata": {
    "collapsed": true
   },
   "outputs": [],
   "source": [
    "toxic4.to_csv('toxic4.csv')"
   ]
  },
  {
   "cell_type": "code",
   "execution_count": null,
   "metadata": {
    "collapsed": true
   },
   "outputs": [],
   "source": []
  }
 ],
 "metadata": {
  "kernelspec": {
   "display_name": "Python 3",
   "language": "python",
   "name": "python3"
  },
  "language_info": {
   "codemirror_mode": {
    "name": "ipython",
    "version": 3
   },
   "file_extension": ".py",
   "mimetype": "text/x-python",
   "name": "python",
   "nbconvert_exporter": "python",
   "pygments_lexer": "ipython3",
   "version": "3.6.3"
  }
 },
 "nbformat": 4,
 "nbformat_minor": 2
}
