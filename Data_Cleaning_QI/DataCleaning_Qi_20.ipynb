{
 "cells": [
  {
   "cell_type": "code",
   "execution_count": 1,
   "metadata": {
    "collapsed": true
   },
   "outputs": [],
   "source": [
    "import pandas as pd\n",
    "import os"
   ]
  },
  {
   "cell_type": "code",
   "execution_count": 3,
   "metadata": {},
   "outputs": [
    {
     "data": {
      "text/plain": [
       "'C:\\\\Users\\\\warmp\\\\Documents\\\\pythonlearning\\\\AML'"
      ]
     },
     "execution_count": 3,
     "metadata": {},
     "output_type": "execute_result"
    }
   ],
   "source": [
    "os.getcwd()"
   ]
  },
  {
   "cell_type": "code",
   "execution_count": 2,
   "metadata": {},
   "outputs": [
    {
     "data": {
      "text/plain": [
       "0                   hi back last warn stop undo edit die\n",
       "1      think fagget get oife burn hell hate 'm sorry ...\n",
       "2      i'm also sock puppet accountsuprise -sincerely...\n",
       "3          fuck smith please notify die want dance grave\n",
       "4      first time bitch fuck i'll find live sodomize ...\n",
       "5                         whoever put notice page kill u\n",
       "6                                 shut fat poop kick ass\n",
       "7      demonte morton u bastard stop deletin' shit u ...\n",
       "8      aaron swartz stop fuck revert goddamn edit thi...\n",
       "9      gay homo hope choke penis die send big bleck g...\n",
       "10     go kill ashamed twoofers like scumbags deserve...\n",
       "11     important family shall burn warn troll muzemik...\n",
       "12                                       go die son bich\n",
       "13                    what's wrong go kill vile creature\n",
       "14              mothafucka son bitch shup otherwise kill\n",
       "15     please stop continue ignore policies introduce...\n",
       "16     last warn mark anymore defiant arguments subdu...\n",
       "17     go fuck bastard yyou life go fuck bastard yank...\n",
       "18               still find anything important like kill\n",
       "19     ain't bother i'm require sign posts/edit speci...\n",
       "20                  wtf delete maashel bad things happen\n",
       "21     dare send abuse fuck cockmaster dare warn mr j...\n",
       "22                             huldra sincerely hope die\n",
       "23     lock know bulgarian bullshit season fool exact...\n",
       "24     hell think dare revert edit quillacollo provin...\n",
       "25     wow one comment users comment page drool retar...\n",
       "26     supertrll live forever respect supertrll die p...\n",
       "27     stupid cunt fuck dumb arse mum hairy cunt hope...\n",
       "28     fuck u edit contrib wiki iranian army must die...\n",
       "29             everyone want kill bill god dam gate nerd\n",
       "                             ...                        \n",
       "927    also see car locomotive cyclopedia user talk i...\n",
       "928    utc hi greenshed notice musical group please c...\n",
       "929                                           know sorry\n",
       "930    dr judy wood scientist speak exotic weaponry w...\n",
       "931                                fuk attack personally\n",
       "932     i'm way i've finally enough reason merge article\n",
       "933              calm guy anyway great work become admin\n",
       "934    hi hope get wrong foot little incident talk an...\n",
       "935    \\ signpost october read signpost full single-p...\n",
       "936    redirect talklist number-one adult contemporar...\n",
       "937                redirect talkstate ratify conventions\n",
       "938    spirit rangers ok seem edit war people remove ...\n",
       "939    hindenburg somebody explain honatomic hydrogen...\n",
       "940    think brushstrokes series article merge roy li...\n",
       "941                 count agree edit counter opt-in term\n",
       "942    actually idea breslau i'm work draft bismarck ...\n",
       "943            january utc object everyone granny source\n",
       "944    say culture use tag since put tag quality arti...\n",
       "945    please tamper deletion review please stop tamp...\n",
       "946    im piss right u change damn thing write let te...\n",
       "947    rust taste nice add herbs cheese one favourite...\n",
       "948    stop delete edit useful would advise stop prom...\n",
       "949    need advice fac review need advice review oppo...\n",
       "950    -thank point i'd probably go page create artic...\n",
       "951                          shovon vandal vandal shovon\n",
       "952    ok hold there's two separate issue one brevik'...\n",
       "953    jeez whizz cheese whizz okay get vote picture ...\n",
       "954                                 appropriate ask user\n",
       "955    verification unsourced edit cannot verify unle...\n",
       "956    somewhat difficult respond statement due lengt...\n",
       "Name: comment_text, Length: 957, dtype: object"
      ]
     },
     "execution_count": 2,
     "metadata": {},
     "output_type": "execute_result"
    }
   ],
   "source": [
    "threat0 = pd.read_csv(r'C:\\Users\\warmp\\Documents\\pythonlearning\\AML\\balanced_dataset\\balanced_dataset\\threat0.csv')\n",
    "threat0['comment_text']"
   ]
  },
  {
   "cell_type": "code",
   "execution_count": 3,
   "metadata": {},
   "outputs": [
    {
     "data": {
      "text/plain": [
       "0                   hi back last warn stop undo edit die\n",
       "1      think fagget get oife burn hell hate 'm sorry ...\n",
       "2      i'm also sock puppet accountsuprise  sincerely...\n",
       "3          fuck smith please notify die want dance grave\n",
       "4      first time bitch fuck i'll find live sodomize ...\n",
       "5                         whoever put notice page kill u\n",
       "6                                 shut fat poop kick ass\n",
       "7      demonte morton u bastard stop deletin' shit u ...\n",
       "8      aaron swartz stop fuck revert goddamn edit thi...\n",
       "9      gay homo hope choke penis die send big bleck g...\n",
       "10     go kill ashamed twoofers like scumbags deserve...\n",
       "11     important family shall burn warn troll muzemik...\n",
       "12                                       go die son bich\n",
       "13                    what's wrong go kill vile creature\n",
       "14              mothafucka son bitch shup otherwise kill\n",
       "15     please stop continue ignore policies introduce...\n",
       "16     last warn mark anymore defiant arguments subdu...\n",
       "17     go fuck bastard yyou life go fuck bastard yank...\n",
       "18               still find anything important like kill\n",
       "19     ain't bother i'm require sign posts edit speci...\n",
       "20                  wtf delete maashel bad things happen\n",
       "21     dare send abuse fuck cockmaster dare warn mr j...\n",
       "22                             huldra sincerely hope die\n",
       "23     lock know bulgarian bullshit season fool exact...\n",
       "24     hell think dare revert edit quillacollo provin...\n",
       "25     wow one comment users comment page drool retar...\n",
       "26     supertrll live forever respect supertrll die p...\n",
       "27     stupid cunt fuck dumb arse mum hairy cunt hope...\n",
       "28     fuck u edit contrib wiki iranian army must die...\n",
       "29             everyone want kill bill god dam gate nerd\n",
       "                             ...                        \n",
       "927    also see car locomotive cyclopedia user talk i...\n",
       "928    utc hi greenshed notice musical group please c...\n",
       "929                                           know sorry\n",
       "930    dr judy wood scientist speak exotic weaponry w...\n",
       "931                                fuk attack personally\n",
       "932     i'm way i've finally enough reason merge article\n",
       "933              calm guy anyway great work become admin\n",
       "934    hi hope get wrong foot little incident talk an...\n",
       "935    \\ signpost october read signpost full single p...\n",
       "936    redirect talklist number one adult contemporar...\n",
       "937                redirect talkstate ratify conventions\n",
       "938    spirit rangers ok seem edit war people remove ...\n",
       "939    hindenburg somebody explain honatomic hydrogen...\n",
       "940    think brushstrokes series article merge roy li...\n",
       "941                 count agree edit counter opt in term\n",
       "942    actually idea breslau i'm work draft bismarck ...\n",
       "943            january utc object everyone granny source\n",
       "944    say culture use tag since put tag quality arti...\n",
       "945    please tamper deletion review please stop tamp...\n",
       "946    im piss right u change damn thing write let te...\n",
       "947    rust taste nice add herbs cheese one favourite...\n",
       "948    stop delete edit useful would advise stop prom...\n",
       "949    need advice fac review need advice review oppo...\n",
       "950     thank point i'd probably go page create artic...\n",
       "951                          shovon vandal vandal shovon\n",
       "952    ok hold there's two separate issue one brevik'...\n",
       "953    jeez whizz cheese whizz okay get vote picture ...\n",
       "954                                 appropriate ask user\n",
       "955    verification unsourced edit cannot verify unle...\n",
       "956    somewhat difficult respond statement due lengt...\n",
       "Name: comment_text, Length: 957, dtype: object"
      ]
     },
     "execution_count": 3,
     "metadata": {},
     "output_type": "execute_result"
    }
   ],
   "source": [
    "threat0['comment_text'] = threat0['comment_text'].str.replace(\"@\",\" \")\n",
    "threat0['comment_text'] = threat0['comment_text'].str.replace(\"/\",\" \")\n",
    "threat0['comment_text'] = threat0['comment_text'].str.replace(\"=\",\" \")\n",
    "threat0['comment_text'] = threat0['comment_text'].str.replace(\"-\",\" \")\n",
    "threat0['comment_text'] = threat0['comment_text'].str.replace(\"±\",\" \")\n",
    "threat0['comment_text'] = threat0['comment_text'].str.replace(\"*\",\" \")\n",
    "threat0['comment_text'] = threat0['comment_text'].str.replace(\"+\",\" \")\n",
    "threat0['comment_text'] = threat0['comment_text'].str.replace(\"-\",\" \")\n",
    "threat0['comment_text'] = threat0['comment_text'].str.replace(\"#\",\" \")\n",
    "threat0['comment_text'] = threat0['comment_text'].str.replace(\"€\",\" \")\n",
    "threat0['comment_text'] = threat0['comment_text'].str.replace(\"Ã\",\" \")\n",
    "threat0['comment_text'] = threat0['comment_text'].str.replace(\"©\",\" \")\n",
    "threat0['comment_text'] = threat0['comment_text'].str.replace(\"Â\",\" \")\n",
    "threat0['comment_text'] = threat0['comment_text'].str.replace(\"$\",\" \")\n",
    "threat0['comment_text'] = threat0['comment_text'].str.replace(\"Ù\",\" \")\n",
    "threat0['comment_text'] = threat0['comment_text'].str.replace(\"#\",\" \")\n",
    "threat0['comment_text'] = threat0['comment_text'].str.replace(\"Ø\",\" \")\n",
    "threat0['comment_text'] = threat0['comment_text'].str.replace(\"§\",\" \")\n",
    "threat0['comment_text'] = threat0['comment_text'].str.replace(\"%\",\" \")\n",
    "threat0['comment_text'] = threat0['comment_text'].str.replace(\"¶\",\" \")\n",
    "threat0['comment_text'] = threat0['comment_text'].str.replace(\"?\",\" \")\n",
    "threat0['comment_text'] = threat0['comment_text'].str.replace(\"&\",\" \")\n",
    "threat0['comment_text'] = threat0['comment_text'].str.replace(\"_\",\" \")\n",
    "threat0['comment_text'] = threat0['comment_text'].str.replace(\"â\",\" \")\n",
    "threat0['comment_text'] = threat0['comment_text'].str.replace(\"Ž\",\" \")\n",
    "threat0['comment_text'] = threat0['comment_text'].str.replace(\"¢\",\" \")\n",
    "threat0['comment_text'] = threat0['comment_text'].str.replace(\"Ý\",\" \")\n",
    "threat0['comment_text'] = threat0['comment_text'].str.replace(\"£\",\" \")\n",
    "threat0['comment_text'] = threat0['comment_text'].str.replace(\"»\",\" \")\n",
    "threat0['comment_text'] = threat0['comment_text'].str.replace(\"œ\",\" \")\n",
    "threat0['comment_text'] = threat0['comment_text'].str.replace(\"¬\",\" \")\n",
    "threat0['comment_text'] = threat0['comment_text'].str.replace(\"Ð\",\" \")\n",
    "threat0['comment_text'] = threat0['comment_text'].str.replace(\"Ç\",\" \")\n",
    "threat0['comment_text'] = threat0['comment_text'].str.replace(\"~\",\" \")\n",
    "threat0['comment_text'] = threat0['comment_text'].str.replace(\"™\",\" \")\n",
    "threat0['comment_text'] = threat0['comment_text'].str.replace(\"·\",\" \")\n",
    "threat0['comment_text'] = threat0['comment_text'].str.replace(\"†\",\" \")\n",
    "threat0['comment_text'] = threat0['comment_text'].str.replace(\"ˆ\",\" \")\n",
    "threat0['comment_text'] = threat0['comment_text'].str.replace(\"Î\",\" \")                                            \n",
    "threat0['comment_text']"
   ]
  },
  {
   "cell_type": "code",
   "execution_count": 5,
   "metadata": {},
   "outputs": [],
   "source": [
    "threat0.to_csv('threat0.csv')"
   ]
  },
  {
   "cell_type": "code",
   "execution_count": null,
   "metadata": {
    "collapsed": true
   },
   "outputs": [],
   "source": []
  }
 ],
 "metadata": {
  "kernelspec": {
   "display_name": "Python 3",
   "language": "python",
   "name": "python3"
  },
  "language_info": {
   "codemirror_mode": {
    "name": "ipython",
    "version": 3
   },
   "file_extension": ".py",
   "mimetype": "text/x-python",
   "name": "python",
   "nbconvert_exporter": "python",
   "pygments_lexer": "ipython3",
   "version": "3.6.3"
  }
 },
 "nbformat": 4,
 "nbformat_minor": 2
}
