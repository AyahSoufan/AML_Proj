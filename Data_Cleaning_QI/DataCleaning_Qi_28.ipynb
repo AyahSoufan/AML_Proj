{
 "cells": [
  {
   "cell_type": "code",
   "execution_count": 1,
   "metadata": {
    "collapsed": true
   },
   "outputs": [],
   "source": [
    "import pandas as pd\n",
    "import os"
   ]
  },
  {
   "cell_type": "code",
   "execution_count": 3,
   "metadata": {},
   "outputs": [
    {
     "data": {
      "text/plain": [
       "'C:\\\\Users\\\\warmp\\\\Documents\\\\pythonlearning\\\\AML'"
      ]
     },
     "execution_count": 3,
     "metadata": {},
     "output_type": "execute_result"
    }
   ],
   "source": [
    "os.getcwd()"
   ]
  },
  {
   "cell_type": "code",
   "execution_count": 2,
   "metadata": {},
   "outputs": [
    {
     "data": {
      "text/plain": [
       "0                              cocksucker piss around work\n",
       "1        hey @ | talk exclusive group wp talibanswho go...\n",
       "2                  bye look come think comming back tosser\n",
       "3        gay antisemmitian archangel white tiger meow g...\n",
       "4                               fuck filthy mother ass dry\n",
       "5        i'm sorry i'm sorry screw around someones talk...\n",
       "6        get fuck get fuckeeed get drink cant put down/...\n",
       "7        stupid peace shit stop delete stuff asshole go...\n",
       "8          =tony sidaway obviously fistfuckee love arm ass\n",
       "9        band page's deletion think go delete comment p...\n",
       "10       can't believe fat artie see recent appearence ...\n",
       "11       edit good cunts like revert good edit stupid u...\n",
       "12                    hi back last warn stop undo edit die\n",
       "13          would shut run wikipedia especially stupid kid\n",
       "14                    pair jew-hating weiner nazi schmucks\n",
       "15       sorry puck one ever say dick number one clearl...\n",
       "16       unblock i'll get lawyers block constitutional ...\n",
       "17       fire moronic wimp lazy research make sick peop...\n",
       "18       think fagget get oife burn hell hate 'm sorry ...\n",
       "19                         stupid fuck mother's cunt stink\n",
       "20       blatant pov push neither guy make contribution...\n",
       "21       give permanat block raseac remember muslims do...\n",
       "22                                 fuck block faggot pussy\n",
       "23       kill niggers hard others say include racists s...\n",
       "24       burn deck that'd guy's burn deck like think bl...\n",
       "25       u r tw@ fuck u gay boyu r smellyfuck ur mum po...\n",
       "26                                  atheism full bias shit\n",
       "27       hey spread misconceptions try spread false inf...\n",
       "28           let know crawl arses '''''' dick laurent dead\n",
       "29               user worthless goddamn faggot fuck faggot\n",
       "                               ...                        \n",
       "31212    use citation nothing sentence reference excuse...\n",
       "31213    sound like good process much better agree peop...\n",
       "31214    hoosac tunnel i'm try improve article first co...\n",
       "31215    | width=% style=backgroundtransparent | width=...\n",
       "31216    removal poorly source claim vegetarianism arti...\n",
       "31217    speedy deletion nvidia gx tag place nvidia gx ...\n",
       "31218    actually correct ill-informed like remove post...\n",
       "31219    urgent complain - wikipedia tell give direct c...\n",
       "31220    amaze judge jury executioner prove wrong blog ...\n",
       "31221    wpnpa wpciv apply considerably attenuate force...\n",
       "31222    speedy deletion muraqqa tag place muraqqa requ...\n",
       "31223    think media matter criticisms mr hewitt approp...\n",
       "31224    find also couple days ago facebook group upcom...\n",
       "31225    case need way distinguish people move away peo...\n",
       "31226    mean rename account bureaucrat request wikiped...\n",
       "31227    new episodes since account let edit episodes p...\n",
       "31228          someone add article maha also synonym omaha\n",
       "31229    external link hardly neutral external link cle...\n",
       "31230    per physical appearance regard question add pi...\n",
       "31231    presentation major nasa conference exactly imp...\n",
       "31232    strong support every single encyclopedia check...\n",
       "31233                                         yes tell lol\n",
       "31234     dts slowest confuse painful system i've use life\n",
       "31235    republicanjacobite think know everything every...\n",
       "31236                                episode seperate page\n",
       "31237    thank improvements per suggestion add pertinen...\n",
       "31238    raphael room also call raphael stanze italian ...\n",
       "31239    reference oxford dictionary philosophy simon b...\n",
       "31240    requirement ψ interpret number pass goedel num...\n",
       "31241    fcip better dedicate page fcip instead summari...\n",
       "Name: comment_text, Length: 31242, dtype: object"
      ]
     },
     "execution_count": 2,
     "metadata": {},
     "output_type": "execute_result"
    }
   ],
   "source": [
    "toxic3= pd.read_csv(r'C:\\Users\\warmp\\Documents\\pythonlearning\\AML\\balanced_dataset\\balanced_dataset\\toxic3.csv')\n",
    "toxic3['comment_text']"
   ]
  },
  {
   "cell_type": "code",
   "execution_count": 3,
   "metadata": {},
   "outputs": [
    {
     "data": {
      "text/plain": [
       "0                              cocksucker piss around work\n",
       "1        hey   | talk exclusive group wp talibanswho go...\n",
       "2                  bye look come think comming back tosser\n",
       "3        gay antisemmitian archangel white tiger meow g...\n",
       "4                               fuck filthy mother ass dry\n",
       "5        i'm sorry i'm sorry screw around someones talk...\n",
       "6        get fuck get fuckeeed get drink cant put down ...\n",
       "7        stupid peace shit stop delete stuff asshole go...\n",
       "8           tony sidaway obviously fistfuckee love arm ass\n",
       "9        band page's deletion think go delete comment p...\n",
       "10       can't believe fat artie see recent appearence ...\n",
       "11       edit good cunts like revert good edit stupid u...\n",
       "12                    hi back last warn stop undo edit die\n",
       "13          would shut run wikipedia especially stupid kid\n",
       "14                    pair jew hating weiner nazi schmucks\n",
       "15       sorry puck one ever say dick number one clearl...\n",
       "16       unblock i'll get lawyers block constitutional ...\n",
       "17       fire moronic wimp lazy research make sick peop...\n",
       "18       think fagget get oife burn hell hate 'm sorry ...\n",
       "19                         stupid fuck mother's cunt stink\n",
       "20       blatant pov push neither guy make contribution...\n",
       "21       give permanat block raseac remember muslims do...\n",
       "22                                 fuck block faggot pussy\n",
       "23       kill niggers hard others say include racists s...\n",
       "24       burn deck that'd guy's burn deck like think bl...\n",
       "25       u r tw  fuck u gay boyu r smellyfuck ur mum po...\n",
       "26                                  atheism full bias shit\n",
       "27       hey spread misconceptions try spread false inf...\n",
       "28           let know crawl arses '''''' dick laurent dead\n",
       "29               user worthless goddamn faggot fuck faggot\n",
       "                               ...                        \n",
       "31212    use citation nothing sentence reference excuse...\n",
       "31213    sound like good process much better agree peop...\n",
       "31214    hoosac tunnel i'm try improve article first co...\n",
       "31215    | width   style backgroundtransparent | width ...\n",
       "31216    removal poorly source claim vegetarianism arti...\n",
       "31217    speedy deletion nvidia gx tag place nvidia gx ...\n",
       "31218    actually correct ill informed like remove post...\n",
       "31219    urgent complain   wikipedia tell give direct c...\n",
       "31220    amaze judge jury executioner prove wrong blog ...\n",
       "31221    wpnpa wpciv apply considerably attenuate force...\n",
       "31222    speedy deletion muraqqa tag place muraqqa requ...\n",
       "31223    think media matter criticisms mr hewitt approp...\n",
       "31224    find also couple days ago facebook group upcom...\n",
       "31225    case need way distinguish people move away peo...\n",
       "31226    mean rename account bureaucrat request wikiped...\n",
       "31227    new episodes since account let edit episodes p...\n",
       "31228          someone add article maha also synonym omaha\n",
       "31229    external link hardly neutral external link cle...\n",
       "31230    per physical appearance regard question add pi...\n",
       "31231    presentation major nasa conference exactly imp...\n",
       "31232    strong support every single encyclopedia check...\n",
       "31233                                         yes tell lol\n",
       "31234     dts slowest confuse painful system i've use life\n",
       "31235    republicanjacobite think know everything every...\n",
       "31236                                episode seperate page\n",
       "31237    thank improvements per suggestion add pertinen...\n",
       "31238    raphael room also call raphael stanze italian ...\n",
       "31239    reference oxford dictionary philosophy simon b...\n",
       "31240    requirement ψ interpret number pass goedel num...\n",
       "31241    fcip better dedicate page fcip instead summari...\n",
       "Name: comment_text, Length: 31242, dtype: object"
      ]
     },
     "execution_count": 3,
     "metadata": {},
     "output_type": "execute_result"
    }
   ],
   "source": [
    "toxic3['comment_text'] = toxic3['comment_text'].str.replace(\"@\",\" \")\n",
    "toxic3['comment_text'] = toxic3['comment_text'].str.replace(\"/\",\" \")\n",
    "toxic3['comment_text'] = toxic3['comment_text'].str.replace(\"=\",\" \")\n",
    "toxic3['comment_text'] = toxic3['comment_text'].str.replace(\"-\",\" \")\n",
    "toxic3['comment_text'] = toxic3['comment_text'].str.replace(\"±\",\" \")\n",
    "toxic3['comment_text'] = toxic3['comment_text'].str.replace(\"*\",\" \")\n",
    "toxic3['comment_text'] = toxic3['comment_text'].str.replace(\"+\",\" \")\n",
    "toxic3['comment_text'] = toxic3['comment_text'].str.replace(\"-\",\" \")\n",
    "toxic3['comment_text'] = toxic3['comment_text'].str.replace(\"#\",\" \")\n",
    "toxic3['comment_text'] = toxic3['comment_text'].str.replace(\"€\",\" \")\n",
    "toxic3['comment_text'] = toxic3['comment_text'].str.replace(\"Ã\",\" \")\n",
    "toxic3['comment_text'] = toxic3['comment_text'].str.replace(\"©\",\" \")\n",
    "toxic3['comment_text'] = toxic3['comment_text'].str.replace(\"Â\",\" \")\n",
    "toxic3['comment_text'] = toxic3['comment_text'].str.replace(\"$\",\" \")\n",
    "toxic3['comment_text'] = toxic3['comment_text'].str.replace(\"Ù\",\" \")\n",
    "toxic3['comment_text'] = toxic3['comment_text'].str.replace(\"#\",\" \")\n",
    "toxic3['comment_text'] = toxic3['comment_text'].str.replace(\"Ø\",\" \")\n",
    "toxic3['comment_text'] = toxic3['comment_text'].str.replace(\"§\",\" \")\n",
    "toxic3['comment_text'] = toxic3['comment_text'].str.replace(\"%\",\" \")\n",
    "toxic3['comment_text'] = toxic3['comment_text'].str.replace(\"¶\",\" \")\n",
    "toxic3['comment_text'] = toxic3['comment_text'].str.replace(\"?\",\" \")\n",
    "toxic3['comment_text'] = toxic3['comment_text'].str.replace(\"&\",\" \")\n",
    "toxic3['comment_text'] = toxic3['comment_text'].str.replace(\"_\",\" \")\n",
    "toxic3['comment_text'] = toxic3['comment_text'].str.replace(\"â\",\" \")\n",
    "toxic3['comment_text'] = toxic3['comment_text'].str.replace(\"Ž\",\" \")\n",
    "toxic3['comment_text'] = toxic3['comment_text'].str.replace(\"¢\",\" \")\n",
    "toxic3['comment_text'] = toxic3['comment_text'].str.replace(\"Ý\",\" \")\n",
    "toxic3['comment_text'] = toxic3['comment_text'].str.replace(\"£\",\" \")\n",
    "toxic3['comment_text'] = toxic3['comment_text'].str.replace(\"»\",\" \")\n",
    "toxic3['comment_text'] = toxic3['comment_text'].str.replace(\"œ\",\" \")\n",
    "toxic3['comment_text'] = toxic3['comment_text'].str.replace(\"¬\",\" \")\n",
    "toxic3['comment_text'] = toxic3['comment_text'].str.replace(\"Ð\",\" \")\n",
    "toxic3['comment_text'] = toxic3['comment_text'].str.replace(\"Ç\",\" \")\n",
    "toxic3['comment_text'] = toxic3['comment_text'].str.replace(\"~\",\" \")\n",
    "toxic3['comment_text'] = toxic3['comment_text'].str.replace(\"™\",\" \")\n",
    "toxic3['comment_text'] = toxic3['comment_text'].str.replace(\"·\",\" \")\n",
    "toxic3['comment_text'] = toxic3['comment_text'].str.replace(\"†\",\" \")\n",
    "toxic3['comment_text'] = toxic3['comment_text'].str.replace(\"ˆ\",\" \")\n",
    "toxic3['comment_text'] = toxic3['comment_text'].str.replace(\"Î\",\" \")                                            \n",
    "toxic3['comment_text']"
   ]
  },
  {
   "cell_type": "code",
   "execution_count": 4,
   "metadata": {
    "collapsed": true
   },
   "outputs": [],
   "source": [
    "toxic3.to_csv('toxic3.csv')"
   ]
  },
  {
   "cell_type": "code",
   "execution_count": null,
   "metadata": {
    "collapsed": true
   },
   "outputs": [],
   "source": []
  }
 ],
 "metadata": {
  "kernelspec": {
   "display_name": "Python 3",
   "language": "python",
   "name": "python3"
  },
  "language_info": {
   "codemirror_mode": {
    "name": "ipython",
    "version": 3
   },
   "file_extension": ".py",
   "mimetype": "text/x-python",
   "name": "python",
   "nbconvert_exporter": "python",
   "pygments_lexer": "ipython3",
   "version": "3.6.3"
  }
 },
 "nbformat": 4,
 "nbformat_minor": 2
}
