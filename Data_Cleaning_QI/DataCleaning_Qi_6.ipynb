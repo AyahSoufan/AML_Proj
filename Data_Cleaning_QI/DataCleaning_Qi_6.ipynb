{
 "cells": [
  {
   "cell_type": "code",
   "execution_count": 1,
   "metadata": {
    "collapsed": true
   },
   "outputs": [],
   "source": [
    "import pandas as pd\n",
    "import os"
   ]
  },
  {
   "cell_type": "code",
   "execution_count": 3,
   "metadata": {},
   "outputs": [
    {
     "data": {
      "text/plain": [
       "'C:\\\\Users\\\\warmp\\\\Documents\\\\pythonlearning\\\\AML'"
      ]
     },
     "execution_count": 3,
     "metadata": {},
     "output_type": "execute_result"
    }
   ],
   "source": [
    "os.getcwd()"
   ]
  },
  {
   "cell_type": "code",
   "execution_count": 2,
   "metadata": {},
   "outputs": [
    {
     "data": {
      "text/plain": [
       "0                              cocksucker piss around work\n",
       "1        gay antisemmitian archangel white tiger meow g...\n",
       "2                               fuck filthy mother ass dry\n",
       "3        stupid peace shit stop delete stuff asshole go...\n",
       "4          =tony sidaway obviously fistfuckee love arm ass\n",
       "5        edit good cunts like revert good edit stupid u...\n",
       "6           would shut run wikipedia especially stupid kid\n",
       "7                     pair jew-hating weiner nazi schmucks\n",
       "8        fire moronic wimp lazy research make sick peop...\n",
       "9        think fagget get oife burn hell hate 'm sorry ...\n",
       "10       reply loser un define vietnam part southeast a...\n",
       "11                         stupid fuck mother's cunt stink\n",
       "12                                 fuck block faggot pussy\n",
       "13       kill niggers hard others say include racists s...\n",
       "14       burn deck that'd guy's burn deck like think bl...\n",
       "15       u r tw@ fuck u gay boyu r smellyfuck ur mum po...\n",
       "16               user worthless goddamn faggot fuck faggot\n",
       "17                                 fuck fuck award go fuck\n",
       "18       keep eye one care ok people put want clean wan...\n",
       "19       fuck -userthe bohemian shinobis yeah that's ri...\n",
       "20       dear mokele right tell people die fire ip addr...\n",
       "21       thank racist experiment page katherine heigl w...\n",
       "22       gay existence cdvf proof sad twat also ugly wi...\n",
       "23       never fuck make mother fuck article fuck edit ...\n",
       "24                                        hi im fuck bitch\n",
       "25       f**k rid worlds fun hate rid worlds fun sh_tty...\n",
       "26                             nazi filth impolite jan utc\n",
       "27       dictionaries dare call contribution spam kurd ...\n",
       "28             motherfucking piece crap fuckheads block us\n",
       "29                                    sir imbecile pervert\n",
       "                               ...                        \n",
       "15831    i've try get hold wiki's latest see soros fund...\n",
       "15832    that's say assume think what's reality i've kn...\n",
       "15833                                            see think\n",
       "15834    ps oh never mind yes please rouge rule place p...\n",
       "15835    incidentally turbo exhaust manifold run red ho...\n",
       "15836    point comment apply templates find abusive acc...\n",
       "15837    incident happen tournament annual tournament t...\n",
       "15838    mu space engineer spacecraft need stuff muse p...\n",
       "15839    whatever i'm leave shit hole wikipedia fill bi...\n",
       "15840    read reoprt two reactions ill effect cause ori...\n",
       "15841    pope im sure get remove cause site doesnt allo...\n",
       "15842    much new news today two officer charge pay vac...\n",
       "15843      let give clue give fuck think anything fatuorum\n",
       "15844                                        couple people\n",
       "15845    please stop make test edit wikipedia millard w...\n",
       "15846    thank good luck canadian military aviation sec...\n",
       "15847    imagewarrenaustinjpg list deletion image media...\n",
       "15848    bias never vandalize first place that's proble...\n",
       "15849                      - reference activity user aaron\n",
       "15850          hi could please vote whether article delete\n",
       "15851    march recent edit userpage space wpvandalism t...\n",
       "15852    march utc true arabs conquer persia khorasanwh...\n",
       "15853    april please stop continue vandalize wikipedia...\n",
       "15854    first think satusuro make version faith page w...\n",
       "15855                    redirect talkbrickell world plaza\n",
       "15856    gratitude edit summary hello floydian thank co...\n",
       "15857    holocaust improvement checklist citation need ...\n",
       "15858                                     thank indeedlarf\n",
       "15859    detail add run state attorney also i'm go work...\n",
       "15860    ok - reuploaded image/logo jump right hoop est...\n",
       "Name: comment_text, Length: 15861, dtype: object"
      ]
     },
     "execution_count": 2,
     "metadata": {},
     "output_type": "execute_result"
    }
   ],
   "source": [
    "insult1 = pd.read_csv(r'C:\\Users\\warmp\\Documents\\pythonlearning\\AML\\balanced_dataset\\balanced_dataset\\insult1.csv')\n",
    "insult1['comment_text']"
   ]
  },
  {
   "cell_type": "code",
   "execution_count": 3,
   "metadata": {},
   "outputs": [
    {
     "data": {
      "text/plain": [
       "0                              cocksucker piss around work\n",
       "1        gay antisemmitian archangel white tiger meow g...\n",
       "2                               fuck filthy mother ass dry\n",
       "3        stupid peace shit stop delete stuff asshole go...\n",
       "4           tony sidaway obviously fistfuckee love arm ass\n",
       "5        edit good cunts like revert good edit stupid u...\n",
       "6           would shut run wikipedia especially stupid kid\n",
       "7                     pair jew hating weiner nazi schmucks\n",
       "8        fire moronic wimp lazy research make sick peop...\n",
       "9        think fagget get oife burn hell hate 'm sorry ...\n",
       "10       reply loser un define vietnam part southeast a...\n",
       "11                         stupid fuck mother's cunt stink\n",
       "12                                 fuck block faggot pussy\n",
       "13       kill niggers hard others say include racists s...\n",
       "14       burn deck that'd guy's burn deck like think bl...\n",
       "15       u r tw  fuck u gay boyu r smellyfuck ur mum po...\n",
       "16               user worthless goddamn faggot fuck faggot\n",
       "17                                 fuck fuck award go fuck\n",
       "18       keep eye one care ok people put want clean wan...\n",
       "19       fuck  userthe bohemian shinobis yeah that's ri...\n",
       "20       dear mokele right tell people die fire ip addr...\n",
       "21       thank racist experiment page katherine heigl w...\n",
       "22       gay existence cdvf proof sad twat also ugly wi...\n",
       "23       never fuck make mother fuck article fuck edit ...\n",
       "24                                        hi im fuck bitch\n",
       "25       f  k rid worlds fun hate rid worlds fun sh tty...\n",
       "26                             nazi filth impolite jan utc\n",
       "27       dictionaries dare call contribution spam kurd ...\n",
       "28             motherfucking piece crap fuckheads block us\n",
       "29                                    sir imbecile pervert\n",
       "                               ...                        \n",
       "15831    i've try get hold wiki's latest see soros fund...\n",
       "15832    that's say assume think what's reality i've kn...\n",
       "15833                                            see think\n",
       "15834    ps oh never mind yes please rouge rule place p...\n",
       "15835    incidentally turbo exhaust manifold run red ho...\n",
       "15836    point comment apply templates find abusive acc...\n",
       "15837    incident happen tournament annual tournament t...\n",
       "15838    mu space engineer spacecraft need stuff muse p...\n",
       "15839    whatever i'm leave shit hole wikipedia fill bi...\n",
       "15840    read reoprt two reactions ill effect cause ori...\n",
       "15841    pope im sure get remove cause site doesnt allo...\n",
       "15842    much new news today two officer charge pay vac...\n",
       "15843      let give clue give fuck think anything fatuorum\n",
       "15844                                        couple people\n",
       "15845    please stop make test edit wikipedia millard w...\n",
       "15846    thank good luck canadian military aviation sec...\n",
       "15847    imagewarrenaustinjpg list deletion image media...\n",
       "15848    bias never vandalize first place that's proble...\n",
       "15849                        reference activity user aaron\n",
       "15850          hi could please vote whether article delete\n",
       "15851    march recent edit userpage space wpvandalism t...\n",
       "15852    march utc true arabs conquer persia khorasanwh...\n",
       "15853    april please stop continue vandalize wikipedia...\n",
       "15854    first think satusuro make version faith page w...\n",
       "15855                    redirect talkbrickell world plaza\n",
       "15856    gratitude edit summary hello floydian thank co...\n",
       "15857    holocaust improvement checklist citation need ...\n",
       "15858                                     thank indeedlarf\n",
       "15859    detail add run state attorney also i'm go work...\n",
       "15860    ok   reuploaded image logo jump right hoop est...\n",
       "Name: comment_text, Length: 15861, dtype: object"
      ]
     },
     "execution_count": 3,
     "metadata": {},
     "output_type": "execute_result"
    }
   ],
   "source": [
    "insult1['comment_text'] = insult1['comment_text'].str.replace(\"@\",\" \")\n",
    "insult1['comment_text'] = insult1['comment_text'].str.replace(\"/\",\" \")\n",
    "insult1['comment_text'] = insult1['comment_text'].str.replace(\"=\",\" \")\n",
    "insult1['comment_text'] = insult1['comment_text'].str.replace(\"-\",\" \")\n",
    "insult1['comment_text'] = insult1['comment_text'].str.replace(\"±\",\" \")\n",
    "insult1['comment_text'] = insult1['comment_text'].str.replace(\"*\",\" \")\n",
    "insult1['comment_text'] = insult1['comment_text'].str.replace(\"+\",\" \")\n",
    "insult1['comment_text'] = insult1['comment_text'].str.replace(\"-\",\" \")\n",
    "insult1['comment_text'] = insult1['comment_text'].str.replace(\"#\",\" \")\n",
    "insult1['comment_text'] = insult1['comment_text'].str.replace(\"€\",\" \")\n",
    "insult1['comment_text'] = insult1['comment_text'].str.replace(\"Ã\",\" \")\n",
    "insult1['comment_text'] = insult1['comment_text'].str.replace(\"©\",\" \")\n",
    "insult1['comment_text'] = insult1['comment_text'].str.replace(\"Â\",\" \")\n",
    "insult1['comment_text'] = insult1['comment_text'].str.replace(\"$\",\" \")\n",
    "insult1['comment_text'] = insult1['comment_text'].str.replace(\"Ù\",\" \")\n",
    "insult1['comment_text'] = insult1['comment_text'].str.replace(\"#\",\" \")\n",
    "insult1['comment_text'] = insult1['comment_text'].str.replace(\"Ø\",\" \")\n",
    "insult1['comment_text'] = insult1['comment_text'].str.replace(\"§\",\" \")\n",
    "insult1['comment_text'] = insult1['comment_text'].str.replace(\"%\",\" \")\n",
    "insult1['comment_text'] = insult1['comment_text'].str.replace(\"¶\",\" \")\n",
    "insult1['comment_text'] = insult1['comment_text'].str.replace(\"?\",\" \")\n",
    "insult1['comment_text'] = insult1['comment_text'].str.replace(\"&\",\" \")\n",
    "insult1['comment_text'] = insult1['comment_text'].str.replace(\"_\",\" \")\n",
    "insult1['comment_text'] = insult1['comment_text'].str.replace(\"â\",\" \")\n",
    "insult1['comment_text'] = insult1['comment_text'].str.replace(\"Ž\",\" \")\n",
    "insult1['comment_text'] = insult1['comment_text'].str.replace(\"¢\",\" \")\n",
    "insult1['comment_text'] = insult1['comment_text'].str.replace(\"Ý\",\" \")\n",
    "insult1['comment_text'] = insult1['comment_text'].str.replace(\"£\",\" \")\n",
    "insult1['comment_text'] = insult1['comment_text'].str.replace(\"»\",\" \")\n",
    "insult1['comment_text'] = insult1['comment_text'].str.replace(\"œ\",\" \")\n",
    "insult1['comment_text'] = insult1['comment_text'].str.replace(\"¬\",\" \")\n",
    "insult1['comment_text'] = insult1['comment_text'].str.replace(\"Ð\",\" \")\n",
    "insult1['comment_text'] = insult1['comment_text'].str.replace(\"Ç\",\" \")\n",
    "insult1['comment_text'] = insult1['comment_text'].str.replace(\"~\",\" \")\n",
    "insult1['comment_text'] = insult1['comment_text'].str.replace(\"™\",\" \")\n",
    "insult1['comment_text'] = insult1['comment_text'].str.replace(\"·\",\" \")\n",
    "insult1['comment_text'] = insult1['comment_text'].str.replace(\"†\",\" \")\n",
    "insult1['comment_text'] = insult1['comment_text'].str.replace(\"ˆ\",\" \")\n",
    "insult1['comment_text'] = insult1['comment_text'].str.replace(\"Î\",\" \")                                            \n",
    "insult1['comment_text']"
   ]
  },
  {
   "cell_type": "code",
   "execution_count": 4,
   "metadata": {
    "collapsed": true
   },
   "outputs": [],
   "source": [
    "insult1.to_csv('insult1.csv')"
   ]
  },
  {
   "cell_type": "code",
   "execution_count": null,
   "metadata": {
    "collapsed": true
   },
   "outputs": [],
   "source": []
  }
 ],
 "metadata": {
  "kernelspec": {
   "display_name": "Python 3",
   "language": "python",
   "name": "python3"
  },
  "language_info": {
   "codemirror_mode": {
    "name": "ipython",
    "version": 3
   },
   "file_extension": ".py",
   "mimetype": "text/x-python",
   "name": "python",
   "nbconvert_exporter": "python",
   "pygments_lexer": "ipython3",
   "version": "3.6.3"
  }
 },
 "nbformat": 4,
 "nbformat_minor": 2
}
