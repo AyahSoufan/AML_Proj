{
 "cells": [
  {
   "cell_type": "code",
   "execution_count": 1,
   "metadata": {
    "collapsed": true
   },
   "outputs": [],
   "source": [
    "import pandas as pd\n",
    "import os"
   ]
  },
  {
   "cell_type": "code",
   "execution_count": 3,
   "metadata": {},
   "outputs": [
    {
     "data": {
      "text/plain": [
       "'C:\\\\Users\\\\warmp\\\\Documents\\\\pythonlearning\\\\AML'"
      ]
     },
     "execution_count": 3,
     "metadata": {},
     "output_type": "execute_result"
    }
   ],
   "source": [
    "os.getcwd()"
   ]
  },
  {
   "cell_type": "code",
   "execution_count": 2,
   "metadata": {},
   "outputs": [
    {
     "data": {
      "text/plain": [
       "0                   hi back last warn stop undo edit die\n",
       "1      think fagget get oife burn hell hate 'm sorry ...\n",
       "2      i'm also sock puppet accountsuprise -sincerely...\n",
       "3          fuck smith please notify die want dance grave\n",
       "4      first time bitch fuck i'll find live sodomize ...\n",
       "5                         whoever put notice page kill u\n",
       "6                                 shut fat poop kick ass\n",
       "7      demonte morton u bastard stop deletin' shit u ...\n",
       "8      aaron swartz stop fuck revert goddamn edit thi...\n",
       "9      gay homo hope choke penis die send big bleck g...\n",
       "10     go kill ashamed twoofers like scumbags deserve...\n",
       "11     important family shall burn warn troll muzemik...\n",
       "12                                       go die son bich\n",
       "13                    what's wrong go kill vile creature\n",
       "14              mothafucka son bitch shup otherwise kill\n",
       "15     please stop continue ignore policies introduce...\n",
       "16     last warn mark anymore defiant arguments subdu...\n",
       "17     go fuck bastard yyou life go fuck bastard yank...\n",
       "18               still find anything important like kill\n",
       "19     ain't bother i'm require sign posts/edit speci...\n",
       "20                  wtf delete maashel bad things happen\n",
       "21     dare send abuse fuck cockmaster dare warn mr j...\n",
       "22                             huldra sincerely hope die\n",
       "23     lock know bulgarian bullshit season fool exact...\n",
       "24     hell think dare revert edit quillacollo provin...\n",
       "25     wow one comment users comment page drool retar...\n",
       "26     supertrll live forever respect supertrll die p...\n",
       "27     stupid cunt fuck dumb arse mum hairy cunt hope...\n",
       "28     fuck u edit contrib wiki iranian army must die...\n",
       "29             everyone want kill bill god dam gate nerd\n",
       "                             ...                        \n",
       "925    debresser correct know look article seriously ...\n",
       "926    wold agee someone house lord owner house frase...\n",
       "927    little request hi delete islamic relate articl...\n",
       "928    antonia yo dudies hav questionl remove middle ...\n",
       "929    worry can't see update provide diff please tha...\n",
       "930                mid |needs-taxobox= |needs-photo= yes\n",
       "931                            response criticism course\n",
       "932                      die piece ordure deserve planet\n",
       "933    redirect talkfacilitation centre industrial pl...\n",
       "934                              new request site editor\n",
       "935    south korea start war events take place korea ...\n",
       "936    name change need change name snobby every admi...\n",
       "937    currently work page attempt give amount contex...\n",
       "938           find search orignal statement richie moore\n",
       "939    dispute copyright status image entirely create...\n",
       "940                           refs expansion/find source\n",
       "941                                   bold cookiemonster\n",
       "942    suppose surprise wikipedia jews hunt ban like ...\n",
       "943             merge brad hunstable== complete merge ==\n",
       "944    attempt represent user talkafed well represent...\n",
       "945    https//enwikipediaorg/wiki/secondary_source - ...\n",
       "946    incivility/no personal attack edit summaries l...\n",
       "947    explain x somehow clearer simpler objective x ...\n",
       "948    detroit free press consider house condition no...\n",
       "949    'editor's summary /* attack */ overly paranoid...\n",
       "950    thank experiment page kynkurogov boldov wikipe...\n",
       "951    cv sorry copyright violation make article take...\n",
       "952    movie edit think need stop revert back muchly ...\n",
       "953    bektashi thank comment bektashi article howeve...\n",
       "954    rutgers university princeton university remove...\n",
       "Name: comment_text, Length: 955, dtype: object"
      ]
     },
     "execution_count": 2,
     "metadata": {},
     "output_type": "execute_result"
    }
   ],
   "source": [
    "threat3 = pd.read_csv(r'C:\\Users\\warmp\\Documents\\pythonlearning\\AML\\balanced_dataset\\balanced_dataset\\threat3.csv')\n",
    "threat3['comment_text']"
   ]
  },
  {
   "cell_type": "code",
   "execution_count": 3,
   "metadata": {},
   "outputs": [
    {
     "data": {
      "text/plain": [
       "0                   hi back last warn stop undo edit die\n",
       "1      think fagget get oife burn hell hate 'm sorry ...\n",
       "2      i'm also sock puppet accountsuprise  sincerely...\n",
       "3          fuck smith please notify die want dance grave\n",
       "4      first time bitch fuck i'll find live sodomize ...\n",
       "5                         whoever put notice page kill u\n",
       "6                                 shut fat poop kick ass\n",
       "7      demonte morton u bastard stop deletin' shit u ...\n",
       "8      aaron swartz stop fuck revert goddamn edit thi...\n",
       "9      gay homo hope choke penis die send big bleck g...\n",
       "10     go kill ashamed twoofers like scumbags deserve...\n",
       "11     important family shall burn warn troll muzemik...\n",
       "12                                       go die son bich\n",
       "13                    what's wrong go kill vile creature\n",
       "14              mothafucka son bitch shup otherwise kill\n",
       "15     please stop continue ignore policies introduce...\n",
       "16     last warn mark anymore defiant arguments subdu...\n",
       "17     go fuck bastard yyou life go fuck bastard yank...\n",
       "18               still find anything important like kill\n",
       "19     ain't bother i'm require sign posts edit speci...\n",
       "20                  wtf delete maashel bad things happen\n",
       "21     dare send abuse fuck cockmaster dare warn mr j...\n",
       "22                             huldra sincerely hope die\n",
       "23     lock know bulgarian bullshit season fool exact...\n",
       "24     hell think dare revert edit quillacollo provin...\n",
       "25     wow one comment users comment page drool retar...\n",
       "26     supertrll live forever respect supertrll die p...\n",
       "27     stupid cunt fuck dumb arse mum hairy cunt hope...\n",
       "28     fuck u edit contrib wiki iranian army must die...\n",
       "29             everyone want kill bill god dam gate nerd\n",
       "                             ...                        \n",
       "925    debresser correct know look article seriously ...\n",
       "926    wold agee someone house lord owner house frase...\n",
       "927    little request hi delete islamic relate articl...\n",
       "928    antonia yo dudies hav questionl remove middle ...\n",
       "929    worry can't see update provide diff please tha...\n",
       "930                mid |needs taxobox  |needs photo  yes\n",
       "931                            response criticism course\n",
       "932                      die piece ordure deserve planet\n",
       "933    redirect talkfacilitation centre industrial pl...\n",
       "934                              new request site editor\n",
       "935    south korea start war events take place korea ...\n",
       "936    name change need change name snobby every admi...\n",
       "937    currently work page attempt give amount contex...\n",
       "938           find search orignal statement richie moore\n",
       "939    dispute copyright status image entirely create...\n",
       "940                           refs expansion find source\n",
       "941                                   bold cookiemonster\n",
       "942    suppose surprise wikipedia jews hunt ban like ...\n",
       "943             merge brad hunstable   complete merge   \n",
       "944    attempt represent user talkafed well represent...\n",
       "945    https  enwikipediaorg wiki secondary source   ...\n",
       "946    incivility no personal attack edit summaries l...\n",
       "947    explain x somehow clearer simpler objective x ...\n",
       "948    detroit free press consider house condition no...\n",
       "949    'editor's summary    attack    overly paranoid...\n",
       "950    thank experiment page kynkurogov boldov wikipe...\n",
       "951    cv sorry copyright violation make article take...\n",
       "952    movie edit think need stop revert back muchly ...\n",
       "953    bektashi thank comment bektashi article howeve...\n",
       "954    rutgers university princeton university remove...\n",
       "Name: comment_text, Length: 955, dtype: object"
      ]
     },
     "execution_count": 3,
     "metadata": {},
     "output_type": "execute_result"
    }
   ],
   "source": [
    "threat3['comment_text'] = threat3['comment_text'].str.replace(\"@\",\" \")\n",
    "threat3['comment_text'] = threat3['comment_text'].str.replace(\"/\",\" \")\n",
    "threat3['comment_text'] = threat3['comment_text'].str.replace(\"=\",\" \")\n",
    "threat3['comment_text'] = threat3['comment_text'].str.replace(\"-\",\" \")\n",
    "threat3['comment_text'] = threat3['comment_text'].str.replace(\"±\",\" \")\n",
    "threat3['comment_text'] = threat3['comment_text'].str.replace(\"*\",\" \")\n",
    "threat3['comment_text'] = threat3['comment_text'].str.replace(\"+\",\" \")\n",
    "threat3['comment_text'] = threat3['comment_text'].str.replace(\"-\",\" \")\n",
    "threat3['comment_text'] = threat3['comment_text'].str.replace(\"#\",\" \")\n",
    "threat3['comment_text'] = threat3['comment_text'].str.replace(\"€\",\" \")\n",
    "threat3['comment_text'] = threat3['comment_text'].str.replace(\"Ã\",\" \")\n",
    "threat3['comment_text'] = threat3['comment_text'].str.replace(\"©\",\" \")\n",
    "threat3['comment_text'] = threat3['comment_text'].str.replace(\"Â\",\" \")\n",
    "threat3['comment_text'] = threat3['comment_text'].str.replace(\"$\",\" \")\n",
    "threat3['comment_text'] = threat3['comment_text'].str.replace(\"Ù\",\" \")\n",
    "threat3['comment_text'] = threat3['comment_text'].str.replace(\"#\",\" \")\n",
    "threat3['comment_text'] = threat3['comment_text'].str.replace(\"Ø\",\" \")\n",
    "threat3['comment_text'] = threat3['comment_text'].str.replace(\"§\",\" \")\n",
    "threat3['comment_text'] = threat3['comment_text'].str.replace(\"%\",\" \")\n",
    "threat3['comment_text'] = threat3['comment_text'].str.replace(\"¶\",\" \")\n",
    "threat3['comment_text'] = threat3['comment_text'].str.replace(\"?\",\" \")\n",
    "threat3['comment_text'] = threat3['comment_text'].str.replace(\"&\",\" \")\n",
    "threat3['comment_text'] = threat3['comment_text'].str.replace(\"_\",\" \")\n",
    "threat3['comment_text'] = threat3['comment_text'].str.replace(\"â\",\" \")\n",
    "threat3['comment_text'] = threat3['comment_text'].str.replace(\"Ž\",\" \")\n",
    "threat3['comment_text'] = threat3['comment_text'].str.replace(\"¢\",\" \")\n",
    "threat3['comment_text'] = threat3['comment_text'].str.replace(\"Ý\",\" \")\n",
    "threat3['comment_text'] = threat3['comment_text'].str.replace(\"£\",\" \")\n",
    "threat3['comment_text'] = threat3['comment_text'].str.replace(\"»\",\" \")\n",
    "threat3['comment_text'] = threat3['comment_text'].str.replace(\"œ\",\" \")\n",
    "threat3['comment_text'] = threat3['comment_text'].str.replace(\"¬\",\" \")\n",
    "threat3['comment_text'] = threat3['comment_text'].str.replace(\"Ð\",\" \")\n",
    "threat3['comment_text'] = threat3['comment_text'].str.replace(\"Ç\",\" \")\n",
    "threat3['comment_text'] = threat3['comment_text'].str.replace(\"~\",\" \")\n",
    "threat3['comment_text'] = threat3['comment_text'].str.replace(\"™\",\" \")\n",
    "threat3['comment_text'] = threat3['comment_text'].str.replace(\"·\",\" \")\n",
    "threat3['comment_text'] = threat3['comment_text'].str.replace(\"†\",\" \")\n",
    "threat3['comment_text'] = threat3['comment_text'].str.replace(\"ˆ\",\" \")\n",
    "threat3['comment_text'] = threat3['comment_text'].str.replace(\"Î\",\" \")                                            \n",
    "threat3['comment_text']"
   ]
  },
  {
   "cell_type": "code",
   "execution_count": 4,
   "metadata": {
    "collapsed": true
   },
   "outputs": [],
   "source": [
    "threat3.to_csv('threat3.csv')"
   ]
  },
  {
   "cell_type": "code",
   "execution_count": null,
   "metadata": {
    "collapsed": true
   },
   "outputs": [],
   "source": []
  }
 ],
 "metadata": {
  "kernelspec": {
   "display_name": "Python 3",
   "language": "python",
   "name": "python3"
  },
  "language_info": {
   "codemirror_mode": {
    "name": "ipython",
    "version": 3
   },
   "file_extension": ".py",
   "mimetype": "text/x-python",
   "name": "python",
   "nbconvert_exporter": "python",
   "pygments_lexer": "ipython3",
   "version": "3.6.3"
  }
 },
 "nbformat": 4,
 "nbformat_minor": 2
}
