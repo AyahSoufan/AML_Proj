{
 "cells": [
  {
   "cell_type": "code",
   "execution_count": 1,
   "metadata": {
    "collapsed": true
   },
   "outputs": [],
   "source": [
    "import pandas as pd\n",
    "import os"
   ]
  },
  {
   "cell_type": "code",
   "execution_count": 3,
   "metadata": {},
   "outputs": [
    {
     "data": {
      "text/plain": [
       "'C:\\\\Users\\\\warmp\\\\Documents\\\\pythonlearning\\\\AML'"
      ]
     },
     "execution_count": 3,
     "metadata": {},
     "output_type": "execute_result"
    }
   ],
   "source": [
    "os.getcwd()"
   ]
  },
  {
   "cell_type": "code",
   "execution_count": 2,
   "metadata": {},
   "outputs": [
    {
     "data": {
      "text/plain": [
       "0                              cocksucker piss around work\n",
       "1        hey @ | talk exclusive group wp talibanswho go...\n",
       "2                  bye look come think comming back tosser\n",
       "3        gay antisemmitian archangel white tiger meow g...\n",
       "4                               fuck filthy mother ass dry\n",
       "5        i'm sorry i'm sorry screw around someones talk...\n",
       "6        get fuck get fuckeeed get drink cant put down/...\n",
       "7        stupid peace shit stop delete stuff asshole go...\n",
       "8          =tony sidaway obviously fistfuckee love arm ass\n",
       "9        band page's deletion think go delete comment p...\n",
       "10       can't believe fat artie see recent appearence ...\n",
       "11       edit good cunts like revert good edit stupid u...\n",
       "12                    hi back last warn stop undo edit die\n",
       "13          would shut run wikipedia especially stupid kid\n",
       "14                    pair jew-hating weiner nazi schmucks\n",
       "15       sorry puck one ever say dick number one clearl...\n",
       "16       unblock i'll get lawyers block constitutional ...\n",
       "17       fire moronic wimp lazy research make sick peop...\n",
       "18       think fagget get oife burn hell hate 'm sorry ...\n",
       "19                         stupid fuck mother's cunt stink\n",
       "20       blatant pov push neither guy make contribution...\n",
       "21       give permanat block raseac remember muslims do...\n",
       "22                                 fuck block faggot pussy\n",
       "23       kill niggers hard others say include racists s...\n",
       "24       burn deck that'd guy's burn deck like think bl...\n",
       "25       u r tw@ fuck u gay boyu r smellyfuck ur mum po...\n",
       "26                                  atheism full bias shit\n",
       "27       hey spread misconceptions try spread false inf...\n",
       "28           let know crawl arses '''''' dick laurent dead\n",
       "29               user worthless goddamn faggot fuck faggot\n",
       "                               ...                        \n",
       "31217    indent line bulleted list itemsmall textsubscr...\n",
       "31218    matter many ip-addresses connect accuse sock p...\n",
       "31219    january hi edit make rca record revert appear ...\n",
       "31220    idea include name article online petition anyo...\n",
       "31221    content dispute whispertome eye smith dispute ...\n",
       "31222    ps hitler declare war stalin list stalin go fa...\n",
       "31223    september utc disruptve add ukrainian israeli ...\n",
       "31224    alan watt's book alan watt's book mean purchas...\n",
       "31225    concern username admiinship big deal hello tha...\n",
       "31226    soon find public statement mark bellinghaus re...\n",
       "31227    well particular see anything non-trivial ssb c...\n",
       "31228           redirect talknobelman v american save bank\n",
       "31229    see sunnis bother fact jinnah bhutto khan shia...\n",
       "31230                             project want imformation\n",
       "31231    higher alexa number propose use different alex...\n",
       "31232    try avoid create new section useful way identi...\n",
       "31233    mccrillis nsiah= i'm welcome three day block l...\n",
       "31234    unblock request heya notice user block make un...\n",
       "31235    update recent wikileaks document show unite st...\n",
       "31236    also depite wether contention minor eye decide...\n",
       "31237    tag nix discussion talkquantum electrodynamics...\n",
       "31238    hello seem previous experience rjecina user co...\n",
       "31239    happy holiday pack wonderful trip excite -well...\n",
       "31240    page get delete people create fill nothing see...\n",
       "31241    hong kong agree taiwanese lantern festival mid...\n",
       "31242    move http//wwwfreearchiveorg/wiki/indexphp/tap...\n",
       "31243    == slow film == regina viarum queen roads spot...\n",
       "31244    argument without end citations historical tran...\n",
       "31245    i've address two concern thank review - ''''''...\n",
       "31246    like sound discussion merry christmas happy ho...\n",
       "Name: comment_text, Length: 31247, dtype: object"
      ]
     },
     "execution_count": 2,
     "metadata": {},
     "output_type": "execute_result"
    }
   ],
   "source": [
    "toxic1= pd.read_csv(r'C:\\Users\\warmp\\Documents\\pythonlearning\\AML\\balanced_dataset\\balanced_dataset\\toxic1.csv')\n",
    "toxic1['comment_text']"
   ]
  },
  {
   "cell_type": "code",
   "execution_count": 3,
   "metadata": {},
   "outputs": [
    {
     "data": {
      "text/plain": [
       "0                              cocksucker piss around work\n",
       "1        hey   | talk exclusive group wp talibanswho go...\n",
       "2                  bye look come think comming back tosser\n",
       "3        gay antisemmitian archangel white tiger meow g...\n",
       "4                               fuck filthy mother ass dry\n",
       "5        i'm sorry i'm sorry screw around someones talk...\n",
       "6        get fuck get fuckeeed get drink cant put down ...\n",
       "7        stupid peace shit stop delete stuff asshole go...\n",
       "8           tony sidaway obviously fistfuckee love arm ass\n",
       "9        band page's deletion think go delete comment p...\n",
       "10       can't believe fat artie see recent appearence ...\n",
       "11       edit good cunts like revert good edit stupid u...\n",
       "12                    hi back last warn stop undo edit die\n",
       "13          would shut run wikipedia especially stupid kid\n",
       "14                    pair jew hating weiner nazi schmucks\n",
       "15       sorry puck one ever say dick number one clearl...\n",
       "16       unblock i'll get lawyers block constitutional ...\n",
       "17       fire moronic wimp lazy research make sick peop...\n",
       "18       think fagget get oife burn hell hate 'm sorry ...\n",
       "19                         stupid fuck mother's cunt stink\n",
       "20       blatant pov push neither guy make contribution...\n",
       "21       give permanat block raseac remember muslims do...\n",
       "22                                 fuck block faggot pussy\n",
       "23       kill niggers hard others say include racists s...\n",
       "24       burn deck that'd guy's burn deck like think bl...\n",
       "25       u r tw  fuck u gay boyu r smellyfuck ur mum po...\n",
       "26                                  atheism full bias shit\n",
       "27       hey spread misconceptions try spread false inf...\n",
       "28           let know crawl arses '''''' dick laurent dead\n",
       "29               user worthless goddamn faggot fuck faggot\n",
       "                               ...                        \n",
       "31217    indent line bulleted list itemsmall textsubscr...\n",
       "31218    matter many ip addresses connect accuse sock p...\n",
       "31219    january hi edit make rca record revert appear ...\n",
       "31220    idea include name article online petition anyo...\n",
       "31221    content dispute whispertome eye smith dispute ...\n",
       "31222    ps hitler declare war stalin list stalin go fa...\n",
       "31223    september utc disruptve add ukrainian israeli ...\n",
       "31224    alan watt's book alan watt's book mean purchas...\n",
       "31225    concern username admiinship big deal hello tha...\n",
       "31226    soon find public statement mark bellinghaus re...\n",
       "31227    well particular see anything non trivial ssb c...\n",
       "31228           redirect talknobelman v american save bank\n",
       "31229    see sunnis bother fact jinnah bhutto khan shia...\n",
       "31230                             project want imformation\n",
       "31231    higher alexa number propose use different alex...\n",
       "31232    try avoid create new section useful way identi...\n",
       "31233    mccrillis nsiah  i'm welcome three day block l...\n",
       "31234    unblock request heya notice user block make un...\n",
       "31235    update recent wikileaks document show unite st...\n",
       "31236    also depite wether contention minor eye decide...\n",
       "31237    tag nix discussion talkquantum electrodynamics...\n",
       "31238    hello seem previous experience rjecina user co...\n",
       "31239    happy holiday pack wonderful trip excite  well...\n",
       "31240    page get delete people create fill nothing see...\n",
       "31241    hong kong agree taiwanese lantern festival mid...\n",
       "31242    move http  wwwfreearchiveorg wiki indexphp tap...\n",
       "31243       slow film    regina viarum queen roads spot...\n",
       "31244    argument without end citations historical tran...\n",
       "31245    i've address two concern thank review   ''''''...\n",
       "31246    like sound discussion merry christmas happy ho...\n",
       "Name: comment_text, Length: 31247, dtype: object"
      ]
     },
     "execution_count": 3,
     "metadata": {},
     "output_type": "execute_result"
    }
   ],
   "source": [
    "toxic1['comment_text'] = toxic1['comment_text'].str.replace(\"@\",\" \")\n",
    "toxic1['comment_text'] = toxic1['comment_text'].str.replace(\"/\",\" \")\n",
    "toxic1['comment_text'] = toxic1['comment_text'].str.replace(\"=\",\" \")\n",
    "toxic1['comment_text'] = toxic1['comment_text'].str.replace(\"-\",\" \")\n",
    "toxic1['comment_text'] = toxic1['comment_text'].str.replace(\"±\",\" \")\n",
    "toxic1['comment_text'] = toxic1['comment_text'].str.replace(\"*\",\" \")\n",
    "toxic1['comment_text'] = toxic1['comment_text'].str.replace(\"+\",\" \")\n",
    "toxic1['comment_text'] = toxic1['comment_text'].str.replace(\"-\",\" \")\n",
    "toxic1['comment_text'] = toxic1['comment_text'].str.replace(\"#\",\" \")\n",
    "toxic1['comment_text'] = toxic1['comment_text'].str.replace(\"€\",\" \")\n",
    "toxic1['comment_text'] = toxic1['comment_text'].str.replace(\"Ã\",\" \")\n",
    "toxic1['comment_text'] = toxic1['comment_text'].str.replace(\"©\",\" \")\n",
    "toxic1['comment_text'] = toxic1['comment_text'].str.replace(\"Â\",\" \")\n",
    "toxic1['comment_text'] = toxic1['comment_text'].str.replace(\"$\",\" \")\n",
    "toxic1['comment_text'] = toxic1['comment_text'].str.replace(\"Ù\",\" \")\n",
    "toxic1['comment_text'] = toxic1['comment_text'].str.replace(\"#\",\" \")\n",
    "toxic1['comment_text'] = toxic1['comment_text'].str.replace(\"Ø\",\" \")\n",
    "toxic1['comment_text'] = toxic1['comment_text'].str.replace(\"§\",\" \")\n",
    "toxic1['comment_text'] = toxic1['comment_text'].str.replace(\"%\",\" \")\n",
    "toxic1['comment_text'] = toxic1['comment_text'].str.replace(\"¶\",\" \")\n",
    "toxic1['comment_text'] = toxic1['comment_text'].str.replace(\"?\",\" \")\n",
    "toxic1['comment_text'] = toxic1['comment_text'].str.replace(\"&\",\" \")\n",
    "toxic1['comment_text'] = toxic1['comment_text'].str.replace(\"_\",\" \")\n",
    "toxic1['comment_text'] = toxic1['comment_text'].str.replace(\"â\",\" \")\n",
    "toxic1['comment_text'] = toxic1['comment_text'].str.replace(\"Ž\",\" \")\n",
    "toxic1['comment_text'] = toxic1['comment_text'].str.replace(\"¢\",\" \")\n",
    "toxic1['comment_text'] = toxic1['comment_text'].str.replace(\"Ý\",\" \")\n",
    "toxic1['comment_text'] = toxic1['comment_text'].str.replace(\"£\",\" \")\n",
    "toxic1['comment_text'] = toxic1['comment_text'].str.replace(\"»\",\" \")\n",
    "toxic1['comment_text'] = toxic1['comment_text'].str.replace(\"œ\",\" \")\n",
    "toxic1['comment_text'] = toxic1['comment_text'].str.replace(\"¬\",\" \")\n",
    "toxic1['comment_text'] = toxic1['comment_text'].str.replace(\"Ð\",\" \")\n",
    "toxic1['comment_text'] = toxic1['comment_text'].str.replace(\"Ç\",\" \")\n",
    "toxic1['comment_text'] = toxic1['comment_text'].str.replace(\"~\",\" \")\n",
    "toxic1['comment_text'] = toxic1['comment_text'].str.replace(\"™\",\" \")\n",
    "toxic1['comment_text'] = toxic1['comment_text'].str.replace(\"·\",\" \")\n",
    "toxic1['comment_text'] = toxic1['comment_text'].str.replace(\"†\",\" \")\n",
    "toxic1['comment_text'] = toxic1['comment_text'].str.replace(\"ˆ\",\" \")\n",
    "toxic1['comment_text'] = toxic1['comment_text'].str.replace(\"Î\",\" \")                                            \n",
    "toxic1['comment_text']"
   ]
  },
  {
   "cell_type": "code",
   "execution_count": 4,
   "metadata": {
    "collapsed": true
   },
   "outputs": [],
   "source": [
    "toxic1.to_csv('toxic1.csv')"
   ]
  },
  {
   "cell_type": "code",
   "execution_count": null,
   "metadata": {
    "collapsed": true
   },
   "outputs": [],
   "source": []
  }
 ],
 "metadata": {
  "kernelspec": {
   "display_name": "Python 3",
   "language": "python",
   "name": "python3"
  },
  "language_info": {
   "codemirror_mode": {
    "name": "ipython",
    "version": 3
   },
   "file_extension": ".py",
   "mimetype": "text/x-python",
   "name": "python",
   "nbconvert_exporter": "python",
   "pygments_lexer": "ipython3",
   "version": "3.6.3"
  }
 },
 "nbformat": 4,
 "nbformat_minor": 2
}
