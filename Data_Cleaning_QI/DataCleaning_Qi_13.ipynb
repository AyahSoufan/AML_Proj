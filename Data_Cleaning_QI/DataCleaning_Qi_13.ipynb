{
 "cells": [
  {
   "cell_type": "code",
   "execution_count": 1,
   "metadata": {
    "collapsed": true
   },
   "outputs": [],
   "source": [
    "import pandas as pd\n",
    "import os"
   ]
  },
  {
   "cell_type": "code",
   "execution_count": 3,
   "metadata": {},
   "outputs": [
    {
     "data": {
      "text/plain": [
       "'C:\\\\Users\\\\warmp\\\\Documents\\\\pythonlearning\\\\AML'"
      ]
     },
     "execution_count": 3,
     "metadata": {},
     "output_type": "execute_result"
    }
   ],
   "source": [
    "os.getcwd()"
   ]
  },
  {
   "cell_type": "code",
   "execution_count": 2,
   "metadata": {},
   "outputs": [
    {
     "data": {
      "text/plain": [
       "0                              cocksucker piss around work\n",
       "1        gay antisemmitian archangel white tiger meow g...\n",
       "2                               fuck filthy mother ass dry\n",
       "3        get fuck get fuckeeed get drink cant put down/...\n",
       "4        stupid peace shit stop delete stuff asshole go...\n",
       "5          =tony sidaway obviously fistfuckee love arm ass\n",
       "6        band page's deletion think go delete comment p...\n",
       "7        edit good cunts like revert good edit stupid u...\n",
       "8                     pair jew-hating weiner nazi schmucks\n",
       "9        think fagget get oife burn hell hate 'm sorry ...\n",
       "10                         stupid fuck mother's cunt stink\n",
       "11       blatant pov push neither guy make contribution...\n",
       "12                                 fuck block faggot pussy\n",
       "13       kill niggers hard others say include racists s...\n",
       "14       burn deck that'd guy's burn deck like think bl...\n",
       "15       u r tw@ fuck u gay boyu r smellyfuck ur mum po...\n",
       "16               user worthless goddamn faggot fuck faggot\n",
       "17                       fuck administrator authority tell\n",
       "18                                 fuck fuck award go fuck\n",
       "19       matt hardy fucky''italic textmediaexampleogg''...\n",
       "20       fuck -userthe bohemian shinobis yeah that's ri...\n",
       "21       thank racist experiment page katherine heigl w...\n",
       "22       gay existence cdvf proof sad twat also ugly wi...\n",
       "23       never fuck make mother fuck article fuck edit ...\n",
       "24                            fuck wrong muchacho july utc\n",
       "25                                        hi im fuck bitch\n",
       "26       f**k rid worlds fun hate rid worlds fun sh_tty...\n",
       "27                      hello get somebody fix shit around\n",
       "28       dictionaries dare call contribution spam kurd ...\n",
       "29         know dead plane crash jeezz quit bust nut folks\n",
       "                               ...                        \n",
       "17288    hi hi eastern iowa stumble upon user page read...\n",
       "17289    usergodhatesnazis inappropiate username link w...\n",
       "17290                                need balance maintain\n",
       "17291    remove speedy tag please stop remove speedy de...\n",
       "17292    cluebot cluebot incredibly crappy piece softwa...\n",
       "17293       look like vendetta stupid piss talk - contribs\n",
       "17294    glue theory hate ugly dog stop delete people p...\n",
       "17295    article look like fully delete remember save c...\n",
       "17296    go make brilliant proposals fear may insult le...\n",
       "17297    go time india source article know say much deb...\n",
       "17298    unit measure universal term widely use account...\n",
       "17299    pathetic dencord want go around bully cause ca...\n",
       "17300    sorry discover comment https//enwikipediaorg/w...\n",
       "17301    matter curiosity== matter curiosity person cir...\n",
       "17302    hypocrisy amuse look userpage webhost write lo...\n",
       "17303                redirect talkpropellant mass fraction\n",
       "17304    i'm worry minute headway completely arbitrary ...\n",
       "17305    max intensity someone verify interpret shakema...\n",
       "17306    sum thoughts shortly adoption help adoptee shi...\n",
       "17307    true remark obscure webpage either wpor conseq...\n",
       "17308    world view polish view follow nationality thre...\n",
       "17309    hard nail i've make recent editions exist article\n",
       "17310    hello apologies hi drop note let know i'm stil...\n",
       "17311    thank experiment page brisley wikipedia test w...\n",
       "17312                        defamation quote user's write\n",
       "17313    heaven god understand heaven god must understa...\n",
       "17314    also mention fact muhammed use religion invent...\n",
       "17315                          thank i'll definately check\n",
       "17316                       know carry weak force accurate\n",
       "17317    oops well suppose actually prove point thank c...\n",
       "Name: comment_text, Length: 17318, dtype: object"
      ]
     },
     "execution_count": 2,
     "metadata": {},
     "output_type": "execute_result"
    }
   ],
   "source": [
    "obscene3 = pd.read_csv(r'C:\\Users\\warmp\\Documents\\pythonlearning\\AML\\balanced_dataset\\balanced_dataset\\obscene3.csv')\n",
    "obscene3['comment_text']"
   ]
  },
  {
   "cell_type": "code",
   "execution_count": 3,
   "metadata": {},
   "outputs": [
    {
     "data": {
      "text/plain": [
       "0                              cocksucker piss around work\n",
       "1        gay antisemmitian archangel white tiger meow g...\n",
       "2                               fuck filthy mother ass dry\n",
       "3        get fuck get fuckeeed get drink cant put down ...\n",
       "4        stupid peace shit stop delete stuff asshole go...\n",
       "5           tony sidaway obviously fistfuckee love arm ass\n",
       "6        band page's deletion think go delete comment p...\n",
       "7        edit good cunts like revert good edit stupid u...\n",
       "8                     pair jew hating weiner nazi schmucks\n",
       "9        think fagget get oife burn hell hate 'm sorry ...\n",
       "10                         stupid fuck mother's cunt stink\n",
       "11       blatant pov push neither guy make contribution...\n",
       "12                                 fuck block faggot pussy\n",
       "13       kill niggers hard others say include racists s...\n",
       "14       burn deck that'd guy's burn deck like think bl...\n",
       "15       u r tw  fuck u gay boyu r smellyfuck ur mum po...\n",
       "16               user worthless goddamn faggot fuck faggot\n",
       "17                       fuck administrator authority tell\n",
       "18                                 fuck fuck award go fuck\n",
       "19       matt hardy fucky''italic textmediaexampleogg''...\n",
       "20       fuck  userthe bohemian shinobis yeah that's ri...\n",
       "21       thank racist experiment page katherine heigl w...\n",
       "22       gay existence cdvf proof sad twat also ugly wi...\n",
       "23       never fuck make mother fuck article fuck edit ...\n",
       "24                            fuck wrong muchacho july utc\n",
       "25                                        hi im fuck bitch\n",
       "26       f  k rid worlds fun hate rid worlds fun sh tty...\n",
       "27                      hello get somebody fix shit around\n",
       "28       dictionaries dare call contribution spam kurd ...\n",
       "29         know dead plane crash jeezz quit bust nut folks\n",
       "                               ...                        \n",
       "17288    hi hi eastern iowa stumble upon user page read...\n",
       "17289    usergodhatesnazis inappropiate username link w...\n",
       "17290                                need balance maintain\n",
       "17291    remove speedy tag please stop remove speedy de...\n",
       "17292    cluebot cluebot incredibly crappy piece softwa...\n",
       "17293       look like vendetta stupid piss talk   contribs\n",
       "17294    glue theory hate ugly dog stop delete people p...\n",
       "17295    article look like fully delete remember save c...\n",
       "17296    go make brilliant proposals fear may insult le...\n",
       "17297    go time india source article know say much deb...\n",
       "17298    unit measure universal term widely use account...\n",
       "17299    pathetic dencord want go around bully cause ca...\n",
       "17300    sorry discover comment https  enwikipediaorg w...\n",
       "17301    matter curiosity   matter curiosity person cir...\n",
       "17302    hypocrisy amuse look userpage webhost write lo...\n",
       "17303                redirect talkpropellant mass fraction\n",
       "17304    i'm worry minute headway completely arbitrary ...\n",
       "17305    max intensity someone verify interpret shakema...\n",
       "17306    sum thoughts shortly adoption help adoptee shi...\n",
       "17307    true remark obscure webpage either wpor conseq...\n",
       "17308    world view polish view follow nationality thre...\n",
       "17309    hard nail i've make recent editions exist article\n",
       "17310    hello apologies hi drop note let know i'm stil...\n",
       "17311    thank experiment page brisley wikipedia test w...\n",
       "17312                        defamation quote user's write\n",
       "17313    heaven god understand heaven god must understa...\n",
       "17314    also mention fact muhammed use religion invent...\n",
       "17315                          thank i'll definately check\n",
       "17316                       know carry weak force accurate\n",
       "17317    oops well suppose actually prove point thank c...\n",
       "Name: comment_text, Length: 17318, dtype: object"
      ]
     },
     "execution_count": 3,
     "metadata": {},
     "output_type": "execute_result"
    }
   ],
   "source": [
    "obscene3['comment_text'] = obscene3['comment_text'].str.replace(\"@\",\" \")\n",
    "obscene3['comment_text'] = obscene3['comment_text'].str.replace(\"/\",\" \")\n",
    "obscene3['comment_text'] = obscene3['comment_text'].str.replace(\"=\",\" \")\n",
    "obscene3['comment_text'] = obscene3['comment_text'].str.replace(\"-\",\" \")\n",
    "obscene3['comment_text'] = obscene3['comment_text'].str.replace(\"±\",\" \")\n",
    "obscene3['comment_text'] = obscene3['comment_text'].str.replace(\"*\",\" \")\n",
    "obscene3['comment_text'] = obscene3['comment_text'].str.replace(\"+\",\" \")\n",
    "obscene3['comment_text'] = obscene3['comment_text'].str.replace(\"-\",\" \")\n",
    "obscene3['comment_text'] = obscene3['comment_text'].str.replace(\"#\",\" \")\n",
    "obscene3['comment_text'] = obscene3['comment_text'].str.replace(\"€\",\" \")\n",
    "obscene3['comment_text'] = obscene3['comment_text'].str.replace(\"Ã\",\" \")\n",
    "obscene3['comment_text'] = obscene3['comment_text'].str.replace(\"©\",\" \")\n",
    "obscene3['comment_text'] = obscene3['comment_text'].str.replace(\"Â\",\" \")\n",
    "obscene3['comment_text'] = obscene3['comment_text'].str.replace(\"$\",\" \")\n",
    "obscene3['comment_text'] = obscene3['comment_text'].str.replace(\"Ù\",\" \")\n",
    "obscene3['comment_text'] = obscene3['comment_text'].str.replace(\"#\",\" \")\n",
    "obscene3['comment_text'] = obscene3['comment_text'].str.replace(\"Ø\",\" \")\n",
    "obscene3['comment_text'] = obscene3['comment_text'].str.replace(\"§\",\" \")\n",
    "obscene3['comment_text'] = obscene3['comment_text'].str.replace(\"%\",\" \")\n",
    "obscene3['comment_text'] = obscene3['comment_text'].str.replace(\"¶\",\" \")\n",
    "obscene3['comment_text'] = obscene3['comment_text'].str.replace(\"?\",\" \")\n",
    "obscene3['comment_text'] = obscene3['comment_text'].str.replace(\"&\",\" \")\n",
    "obscene3['comment_text'] = obscene3['comment_text'].str.replace(\"_\",\" \")\n",
    "obscene3['comment_text'] = obscene3['comment_text'].str.replace(\"â\",\" \")\n",
    "obscene3['comment_text'] = obscene3['comment_text'].str.replace(\"Ž\",\" \")\n",
    "obscene3['comment_text'] = obscene3['comment_text'].str.replace(\"¢\",\" \")\n",
    "obscene3['comment_text'] = obscene3['comment_text'].str.replace(\"Ý\",\" \")\n",
    "obscene3['comment_text'] = obscene3['comment_text'].str.replace(\"£\",\" \")\n",
    "obscene3['comment_text'] = obscene3['comment_text'].str.replace(\"»\",\" \")\n",
    "obscene3['comment_text'] = obscene3['comment_text'].str.replace(\"œ\",\" \")\n",
    "obscene3['comment_text'] = obscene3['comment_text'].str.replace(\"¬\",\" \")\n",
    "obscene3['comment_text'] = obscene3['comment_text'].str.replace(\"Ð\",\" \")\n",
    "obscene3['comment_text'] = obscene3['comment_text'].str.replace(\"Ç\",\" \")\n",
    "obscene3['comment_text'] = obscene3['comment_text'].str.replace(\"~\",\" \")\n",
    "obscene3['comment_text'] = obscene3['comment_text'].str.replace(\"™\",\" \")\n",
    "obscene3['comment_text'] = obscene3['comment_text'].str.replace(\"·\",\" \")\n",
    "obscene3['comment_text'] = obscene3['comment_text'].str.replace(\"†\",\" \")\n",
    "obscene3['comment_text'] = obscene3['comment_text'].str.replace(\"ˆ\",\" \")\n",
    "obscene3['comment_text'] = obscene3['comment_text'].str.replace(\"Î\",\" \")                                            \n",
    "obscene3['comment_text']"
   ]
  },
  {
   "cell_type": "code",
   "execution_count": 4,
   "metadata": {
    "collapsed": true
   },
   "outputs": [],
   "source": [
    "obscene3.to_csv('obscene3.csv')"
   ]
  },
  {
   "cell_type": "code",
   "execution_count": null,
   "metadata": {
    "collapsed": true
   },
   "outputs": [],
   "source": []
  }
 ],
 "metadata": {
  "kernelspec": {
   "display_name": "Python 3",
   "language": "python",
   "name": "python3"
  },
  "language_info": {
   "codemirror_mode": {
    "name": "ipython",
    "version": 3
   },
   "file_extension": ".py",
   "mimetype": "text/x-python",
   "name": "python",
   "nbconvert_exporter": "python",
   "pygments_lexer": "ipython3",
   "version": "3.6.3"
  }
 },
 "nbformat": 4,
 "nbformat_minor": 2
}
