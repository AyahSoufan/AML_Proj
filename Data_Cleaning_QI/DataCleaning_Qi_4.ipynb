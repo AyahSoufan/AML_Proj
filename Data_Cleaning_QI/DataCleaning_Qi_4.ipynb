{
 "cells": [
  {
   "cell_type": "code",
   "execution_count": 1,
   "metadata": {
    "collapsed": true
   },
   "outputs": [],
   "source": [
    "import pandas as pd\n",
    "import os"
   ]
  },
  {
   "cell_type": "code",
   "execution_count": 3,
   "metadata": {},
   "outputs": [
    {
     "data": {
      "text/plain": [
       "'C:\\\\Users\\\\warmp\\\\Documents\\\\pythonlearning\\\\AML'"
      ]
     },
     "execution_count": 3,
     "metadata": {},
     "output_type": "execute_result"
    }
   ],
   "source": [
    "os.getcwd()"
   ]
  },
  {
   "cell_type": "code",
   "execution_count": 2,
   "metadata": {},
   "outputs": [
    {
     "data": {
      "text/plain": [
       "0       gay antisemmitian archangel white tiger meow g...\n",
       "1                    pair jew-hating weiner nazi schmucks\n",
       "2       think fagget get oife burn hell hate 'm sorry ...\n",
       "3       kill niggers hard others say include racists s...\n",
       "4       u r tw@ fuck u gay boyu r smellyfuck ur mum po...\n",
       "5       gay existence cdvf proof sad twat also ugly wi...\n",
       "6       dictionaries dare call contribution spam kurd ...\n",
       "7       gay motherfucker know livei go sand face offth...\n",
       "8       studid cock sucker u stop callin ok frank garr...\n",
       "9       first time bitch fuck i'll find live sodomize ...\n",
       "10      fuck faggot care get block long everyone know ...\n",
       "11      hey freak hermaphrodite please unprotect user ...\n",
       "12                                     ghe fag learn know\n",
       "13                                 shut fat poop kick ass\n",
       "14                               good edit polar bear gay\n",
       "15      demonte morton u bastard stop deletin' shit u ...\n",
       "16                             bla bla blasuck irishguy =\n",
       "17      evidence present tone evidence reject go ficti...\n",
       "18                                        faggot get life\n",
       "19           i'm glad wikipedia bias fill retard children\n",
       "20      fuck gay wad fuck mum oh wait gay dont mom hah...\n",
       "21      aaron swartz stop fuck revert goddamn edit thi...\n",
       "22      gay homo hope choke penis die send big bleck g...\n",
       "23                        racist goddamn neo-nazi big boy\n",
       "24      fascit nazi socialist bastard filthy hippy dar...\n",
       "25      usernhrhs homo like mitt romney usernhrhs homo...\n",
       "26      fuck nazi propaganda odpierdalcie sie jebani f...\n",
       "27      im sorry fuck stupid nice person give warn fuc...\n",
       "28      actually fully arabic islamic correct spell un...\n",
       "29      pedophiles sex criminals imperial japan nazi g...\n",
       "                              ...                        \n",
       "2792    need happen throw much focus date perhaps try ...\n",
       "2793    every paper highlight far emphasize much resea...\n",
       "2794                            care explain cj swarm u /\n",
       "2795    greek love hi allstar message talk greek love#...\n",
       "2796    start |importance=high wikiproject mongolia |c...\n",
       "2797    removal need infobox tag article infobox tag r...\n",
       "2798    cancellation october helwan governorates numbe...\n",
       "2799    speedy deletion polycorns tag place polycorns ...\n",
       "2800          also agree use get fatalites casualties mix\n",
       "2801    ask wikisourcewikisourcescriptorium#possible t...\n",
       "2802    contributions vs talk iiispirit vandalize crim...\n",
       "2803    somewhat earlier correctly observe citation fo...\n",
       "2804    olsen twin need excuse old-fashioned need publ...\n",
       "2805    article take k k edit summaries like later att...\n",
       "2806    speedy deletion dan chamberlain please refrain...\n",
       "2807    dont delete yet yet finish book might informat...\n",
       "2808                                            suck dick\n",
       "2809    know whole inthe grind revert edit disservice ...\n",
       "2810    keep clearly state begin andalism addition rem...\n",
       "2811    would useful keep detail number case refer num...\n",
       "2812    report = report gods wikipedia expect wikilice...\n",
       "2813    yeah pretty much sum regular editor's view poi...\n",
       "2814    michael french hire pr firm manage wikipedia p...\n",
       "2815                              |listas = niels denmark\n",
       "2816                                hey afraid i'm zombie\n",
       "2817    spell correct best unobjectionable edit midst ...\n",
       "2818    reluctant add detail janjalani's involvement b...\n",
       "2819    move back talk page move london victory parade...\n",
       "2820    still unsure difference objective term call em...\n",
       "2821                          face direction decipherment\n",
       "Name: comment_text, Length: 2822, dtype: object"
      ]
     },
     "execution_count": 2,
     "metadata": {},
     "output_type": "execute_result"
    }
   ],
   "source": [
    "identity_hate4 = pd.read_csv(r'C:\\Users\\warmp\\Documents\\pythonlearning\\AML\\balanced_dataset\\balanced_dataset\\identity_hate4.csv')\n",
    "identity_hate4['comment_text']"
   ]
  },
  {
   "cell_type": "code",
   "execution_count": 3,
   "metadata": {},
   "outputs": [
    {
     "data": {
      "text/plain": [
       "0       gay antisemmitian archangel white tiger meow g...\n",
       "1                    pair jew hating weiner nazi schmucks\n",
       "2       think fagget get oife burn hell hate 'm sorry ...\n",
       "3       kill niggers hard others say include racists s...\n",
       "4       u r tw  fuck u gay boyu r smellyfuck ur mum po...\n",
       "5       gay existence cdvf proof sad twat also ugly wi...\n",
       "6       dictionaries dare call contribution spam kurd ...\n",
       "7       gay motherfucker know livei go sand face offth...\n",
       "8       studid cock sucker u stop callin ok frank garr...\n",
       "9       first time bitch fuck i'll find live sodomize ...\n",
       "10      fuck faggot care get block long everyone know ...\n",
       "11      hey freak hermaphrodite please unprotect user ...\n",
       "12                                     ghe fag learn know\n",
       "13                                 shut fat poop kick ass\n",
       "14                               good edit polar bear gay\n",
       "15      demonte morton u bastard stop deletin' shit u ...\n",
       "16                             bla bla blasuck irishguy  \n",
       "17      evidence present tone evidence reject go ficti...\n",
       "18                                        faggot get life\n",
       "19           i'm glad wikipedia bias fill retard children\n",
       "20      fuck gay wad fuck mum oh wait gay dont mom hah...\n",
       "21      aaron swartz stop fuck revert goddamn edit thi...\n",
       "22      gay homo hope choke penis die send big bleck g...\n",
       "23                        racist goddamn neo nazi big boy\n",
       "24      fascit nazi socialist bastard filthy hippy dar...\n",
       "25      usernhrhs homo like mitt romney usernhrhs homo...\n",
       "26      fuck nazi propaganda odpierdalcie sie jebani f...\n",
       "27      im sorry fuck stupid nice person give warn fuc...\n",
       "28      actually fully arabic islamic correct spell un...\n",
       "29      pedophiles sex criminals imperial japan nazi g...\n",
       "                              ...                        \n",
       "2792    need happen throw much focus date perhaps try ...\n",
       "2793    every paper highlight far emphasize much resea...\n",
       "2794                            care explain cj swarm u  \n",
       "2795    greek love hi allstar message talk greek love ...\n",
       "2796    start |importance high wikiproject mongolia |c...\n",
       "2797    removal need infobox tag article infobox tag r...\n",
       "2798    cancellation october helwan governorates numbe...\n",
       "2799    speedy deletion polycorns tag place polycorns ...\n",
       "2800          also agree use get fatalites casualties mix\n",
       "2801    ask wikisourcewikisourcescriptorium possible t...\n",
       "2802    contributions vs talk iiispirit vandalize crim...\n",
       "2803    somewhat earlier correctly observe citation fo...\n",
       "2804    olsen twin need excuse old fashioned need publ...\n",
       "2805    article take k k edit summaries like later att...\n",
       "2806    speedy deletion dan chamberlain please refrain...\n",
       "2807    dont delete yet yet finish book might informat...\n",
       "2808                                            suck dick\n",
       "2809    know whole inthe grind revert edit disservice ...\n",
       "2810    keep clearly state begin andalism addition rem...\n",
       "2811    would useful keep detail number case refer num...\n",
       "2812    report   report gods wikipedia expect wikilice...\n",
       "2813    yeah pretty much sum regular editor's view poi...\n",
       "2814    michael french hire pr firm manage wikipedia p...\n",
       "2815                              |listas   niels denmark\n",
       "2816                                hey afraid i'm zombie\n",
       "2817    spell correct best unobjectionable edit midst ...\n",
       "2818    reluctant add detail janjalani's involvement b...\n",
       "2819    move back talk page move london victory parade...\n",
       "2820    still unsure difference objective term call em...\n",
       "2821                          face direction decipherment\n",
       "Name: comment_text, Length: 2822, dtype: object"
      ]
     },
     "execution_count": 3,
     "metadata": {},
     "output_type": "execute_result"
    }
   ],
   "source": [
    "identity_hate4['comment_text'] = identity_hate4['comment_text'].str.replace(\"@\",\" \")\n",
    "identity_hate4['comment_text'] = identity_hate4['comment_text'].str.replace(\"/\",\" \")\n",
    "identity_hate4['comment_text'] = identity_hate4['comment_text'].str.replace(\"=\",\" \")\n",
    "identity_hate4['comment_text'] = identity_hate4['comment_text'].str.replace(\"-\",\" \")\n",
    "identity_hate4['comment_text'] = identity_hate4['comment_text'].str.replace(\"±\",\" \")\n",
    "identity_hate4['comment_text'] = identity_hate4['comment_text'].str.replace(\"*\",\" \")\n",
    "identity_hate4['comment_text'] = identity_hate4['comment_text'].str.replace(\"+\",\" \")\n",
    "identity_hate4['comment_text'] = identity_hate4['comment_text'].str.replace(\"-\",\" \")\n",
    "identity_hate4['comment_text'] = identity_hate4['comment_text'].str.replace(\"#\",\" \")\n",
    "identity_hate4['comment_text'] = identity_hate4['comment_text'].str.replace(\"€\",\" \")\n",
    "identity_hate4['comment_text'] = identity_hate4['comment_text'].str.replace(\"Ã\",\" \")\n",
    "identity_hate4['comment_text'] = identity_hate4['comment_text'].str.replace(\"©\",\" \")\n",
    "identity_hate4['comment_text'] = identity_hate4['comment_text'].str.replace(\"Â\",\" \")\n",
    "identity_hate4['comment_text'] = identity_hate4['comment_text'].str.replace(\"$\",\" \")\n",
    "identity_hate4['comment_text'] = identity_hate4['comment_text'].str.replace(\"Ù\",\" \")\n",
    "identity_hate4['comment_text'] = identity_hate4['comment_text'].str.replace(\"#\",\" \")\n",
    "identity_hate4['comment_text'] = identity_hate4['comment_text'].str.replace(\"Ø\",\" \")\n",
    "identity_hate4['comment_text'] = identity_hate4['comment_text'].str.replace(\"§\",\" \")\n",
    "identity_hate4['comment_text'] = identity_hate4['comment_text'].str.replace(\"%\",\" \")\n",
    "identity_hate4['comment_text'] = identity_hate4['comment_text'].str.replace(\"¶\",\" \")\n",
    "identity_hate4['comment_text'] = identity_hate4['comment_text'].str.replace(\"?\",\" \")\n",
    "identity_hate4['comment_text'] = identity_hate4['comment_text'].str.replace(\"&\",\" \")\n",
    "identity_hate4['comment_text'] = identity_hate4['comment_text'].str.replace(\"_\",\" \")\n",
    "identity_hate4['comment_text'] = identity_hate4['comment_text'].str.replace(\"â\",\" \")\n",
    "identity_hate4['comment_text'] = identity_hate4['comment_text'].str.replace(\"Ž\",\" \")\n",
    "identity_hate4['comment_text'] = identity_hate4['comment_text'].str.replace(\"¢\",\" \")\n",
    "identity_hate4['comment_text'] = identity_hate4['comment_text'].str.replace(\"Ý\",\" \")\n",
    "identity_hate4['comment_text'] = identity_hate4['comment_text'].str.replace(\"£\",\" \")\n",
    "identity_hate4['comment_text'] = identity_hate4['comment_text'].str.replace(\"»\",\" \")\n",
    "identity_hate4['comment_text'] = identity_hate4['comment_text'].str.replace(\"œ\",\" \")\n",
    "identity_hate4['comment_text'] = identity_hate4['comment_text'].str.replace(\"¬\",\" \")\n",
    "identity_hate4['comment_text'] = identity_hate4['comment_text'].str.replace(\"Ð\",\" \")\n",
    "identity_hate4['comment_text'] = identity_hate4['comment_text'].str.replace(\"Ç\",\" \")\n",
    "identity_hate4['comment_text'] = identity_hate4['comment_text'].str.replace(\"~\",\" \")\n",
    "identity_hate4['comment_text'] = identity_hate4['comment_text'].str.replace(\"™\",\" \")\n",
    "identity_hate4['comment_text'] = identity_hate4['comment_text'].str.replace(\"·\",\" \")\n",
    "identity_hate4['comment_text'] = identity_hate4['comment_text'].str.replace(\"†\",\" \")\n",
    "identity_hate4['comment_text'] = identity_hate4['comment_text'].str.replace(\"ˆ\",\" \")\n",
    "identity_hate4['comment_text'] = identity_hate4['comment_text'].str.replace(\"Î\",\" \")                                            \n",
    "identity_hate4['comment_text']"
   ]
  },
  {
   "cell_type": "code",
   "execution_count": 4,
   "metadata": {
    "collapsed": true
   },
   "outputs": [],
   "source": [
    "identity_hate4.to_csv('identity_hate4.csv')"
   ]
  },
  {
   "cell_type": "code",
   "execution_count": null,
   "metadata": {
    "collapsed": true
   },
   "outputs": [],
   "source": []
  }
 ],
 "metadata": {
  "kernelspec": {
   "display_name": "Python 3",
   "language": "python",
   "name": "python3"
  },
  "language_info": {
   "codemirror_mode": {
    "name": "ipython",
    "version": 3
   },
   "file_extension": ".py",
   "mimetype": "text/x-python",
   "name": "python",
   "nbconvert_exporter": "python",
   "pygments_lexer": "ipython3",
   "version": "3.6.3"
  }
 },
 "nbformat": 4,
 "nbformat_minor": 2
}
