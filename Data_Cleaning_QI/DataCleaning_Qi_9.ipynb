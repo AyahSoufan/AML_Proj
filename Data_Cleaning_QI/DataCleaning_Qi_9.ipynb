{
 "cells": [
  {
   "cell_type": "code",
   "execution_count": 1,
   "metadata": {
    "collapsed": true
   },
   "outputs": [],
   "source": [
    "import pandas as pd\n",
    "import os"
   ]
  },
  {
   "cell_type": "code",
   "execution_count": 3,
   "metadata": {},
   "outputs": [
    {
     "data": {
      "text/plain": [
       "'C:\\\\Users\\\\warmp\\\\Documents\\\\pythonlearning\\\\AML'"
      ]
     },
     "execution_count": 3,
     "metadata": {},
     "output_type": "execute_result"
    }
   ],
   "source": [
    "os.getcwd()"
   ]
  },
  {
   "cell_type": "code",
   "execution_count": 2,
   "metadata": {},
   "outputs": [
    {
     "data": {
      "text/plain": [
       "0                              cocksucker piss around work\n",
       "1        gay antisemmitian archangel white tiger meow g...\n",
       "2                               fuck filthy mother ass dry\n",
       "3        stupid peace shit stop delete stuff asshole go...\n",
       "4          =tony sidaway obviously fistfuckee love arm ass\n",
       "5        edit good cunts like revert good edit stupid u...\n",
       "6           would shut run wikipedia especially stupid kid\n",
       "7                     pair jew-hating weiner nazi schmucks\n",
       "8        fire moronic wimp lazy research make sick peop...\n",
       "9        think fagget get oife burn hell hate 'm sorry ...\n",
       "10       reply loser un define vietnam part southeast a...\n",
       "11                         stupid fuck mother's cunt stink\n",
       "12                                 fuck block faggot pussy\n",
       "13       kill niggers hard others say include racists s...\n",
       "14       burn deck that'd guy's burn deck like think bl...\n",
       "15       u r tw@ fuck u gay boyu r smellyfuck ur mum po...\n",
       "16               user worthless goddamn faggot fuck faggot\n",
       "17                                 fuck fuck award go fuck\n",
       "18       keep eye one care ok people put want clean wan...\n",
       "19       fuck -userthe bohemian shinobis yeah that's ri...\n",
       "20       dear mokele right tell people die fire ip addr...\n",
       "21       thank racist experiment page katherine heigl w...\n",
       "22       gay existence cdvf proof sad twat also ugly wi...\n",
       "23       never fuck make mother fuck article fuck edit ...\n",
       "24                                        hi im fuck bitch\n",
       "25       f**k rid worlds fun hate rid worlds fun sh_tty...\n",
       "26                             nazi filth impolite jan utc\n",
       "27       dictionaries dare call contribution spam kurd ...\n",
       "28             motherfucking piece crap fuckheads block us\n",
       "29                                    sir imbecile pervert\n",
       "                               ...                        \n",
       "15787    want vanish want flee tommevlie image let go p...\n",
       "15788    corvus cornix john reave admirer femme fatale ...\n",
       "15789    e heck vandalism gross exaggeration talk page ...\n",
       "15790    islam attack islam serious attack people write...\n",
       "15791                             == help desk question ==\n",
       "15792                                       uhthanks share\n",
       "15793    ordu vandalism ok discuss dispute argue pov st...\n",
       "15794    object list past boyfriends trivia like relati...\n",
       "15795    ok - change component spiritual approach three...\n",
       "15796    article still start class i'm afraid ask secon...\n",
       "15797                            side agree interpretation\n",
       "15798    sound like brain call case could derogatory re...\n",
       "15799    organisation article primarily world cricket l...\n",
       "15800    hirschfeld transvestite wonder find proof hirs...\n",
       "15801    hello thank hello blast unblock good behavior ...\n",
       "15802    strange think war war dont see extend honeymoo...\n",
       "15803    future plan alright i'm work completely redo a...\n",
       "15804    would like direct oral sex perform accuse vand...\n",
       "15805    dear sir /mam want job india driverlast year w...\n",
       "15806    age consent -== want six months ago add info m...\n",
       "15807    please stop continue vandalize page high rolle...\n",
       "15808    i'm honestly slat way guy great job sd know se...\n",
       "15809              whats wrong one giant loss - boston fan\n",
       "15810    give minutes blog scream censorship censorship...\n",
       "15811    personal bias article contain personal bias in...\n",
       "15812    specifics mention white picket fence mention w...\n",
       "15813    also support point view block article point vi...\n",
       "15814    disruptive lil' ol' wiki's tutti frutti pillar...\n",
       "15815    even buy peel sessions there's plenty media ar...\n",
       "15816    ga actually think could nominate good article ...\n",
       "Name: comment_text, Length: 15817, dtype: object"
      ]
     },
     "execution_count": 2,
     "metadata": {},
     "output_type": "execute_result"
    }
   ],
   "source": [
    "insult4 = pd.read_csv(r'C:\\Users\\warmp\\Documents\\pythonlearning\\AML\\balanced_dataset\\balanced_dataset\\insult4.csv')\n",
    "insult4['comment_text']"
   ]
  },
  {
   "cell_type": "code",
   "execution_count": 3,
   "metadata": {},
   "outputs": [
    {
     "data": {
      "text/plain": [
       "0                              cocksucker piss around work\n",
       "1        gay antisemmitian archangel white tiger meow g...\n",
       "2                               fuck filthy mother ass dry\n",
       "3        stupid peace shit stop delete stuff asshole go...\n",
       "4           tony sidaway obviously fistfuckee love arm ass\n",
       "5        edit good cunts like revert good edit stupid u...\n",
       "6           would shut run wikipedia especially stupid kid\n",
       "7                     pair jew hating weiner nazi schmucks\n",
       "8        fire moronic wimp lazy research make sick peop...\n",
       "9        think fagget get oife burn hell hate 'm sorry ...\n",
       "10       reply loser un define vietnam part southeast a...\n",
       "11                         stupid fuck mother's cunt stink\n",
       "12                                 fuck block faggot pussy\n",
       "13       kill niggers hard others say include racists s...\n",
       "14       burn deck that'd guy's burn deck like think bl...\n",
       "15       u r tw  fuck u gay boyu r smellyfuck ur mum po...\n",
       "16               user worthless goddamn faggot fuck faggot\n",
       "17                                 fuck fuck award go fuck\n",
       "18       keep eye one care ok people put want clean wan...\n",
       "19       fuck  userthe bohemian shinobis yeah that's ri...\n",
       "20       dear mokele right tell people die fire ip addr...\n",
       "21       thank racist experiment page katherine heigl w...\n",
       "22       gay existence cdvf proof sad twat also ugly wi...\n",
       "23       never fuck make mother fuck article fuck edit ...\n",
       "24                                        hi im fuck bitch\n",
       "25       f  k rid worlds fun hate rid worlds fun sh tty...\n",
       "26                             nazi filth impolite jan utc\n",
       "27       dictionaries dare call contribution spam kurd ...\n",
       "28             motherfucking piece crap fuckheads block us\n",
       "29                                    sir imbecile pervert\n",
       "                               ...                        \n",
       "15787    want vanish want flee tommevlie image let go p...\n",
       "15788    corvus cornix john reave admirer femme fatale ...\n",
       "15789    e heck vandalism gross exaggeration talk page ...\n",
       "15790    islam attack islam serious attack people write...\n",
       "15791                                help desk question   \n",
       "15792                                       uhthanks share\n",
       "15793    ordu vandalism ok discuss dispute argue pov st...\n",
       "15794    object list past boyfriends trivia like relati...\n",
       "15795    ok   change component spiritual approach three...\n",
       "15796    article still start class i'm afraid ask secon...\n",
       "15797                            side agree interpretation\n",
       "15798    sound like brain call case could derogatory re...\n",
       "15799    organisation article primarily world cricket l...\n",
       "15800    hirschfeld transvestite wonder find proof hirs...\n",
       "15801    hello thank hello blast unblock good behavior ...\n",
       "15802    strange think war war dont see extend honeymoo...\n",
       "15803    future plan alright i'm work completely redo a...\n",
       "15804    would like direct oral sex perform accuse vand...\n",
       "15805    dear sir  mam want job india driverlast year w...\n",
       "15806    age consent     want six months ago add info m...\n",
       "15807    please stop continue vandalize page high rolle...\n",
       "15808    i'm honestly slat way guy great job sd know se...\n",
       "15809              whats wrong one giant loss   boston fan\n",
       "15810    give minutes blog scream censorship censorship...\n",
       "15811    personal bias article contain personal bias in...\n",
       "15812    specifics mention white picket fence mention w...\n",
       "15813    also support point view block article point vi...\n",
       "15814    disruptive lil' ol' wiki's tutti frutti pillar...\n",
       "15815    even buy peel sessions there's plenty media ar...\n",
       "15816    ga actually think could nominate good article ...\n",
       "Name: comment_text, Length: 15817, dtype: object"
      ]
     },
     "execution_count": 3,
     "metadata": {},
     "output_type": "execute_result"
    }
   ],
   "source": [
    "insult4['comment_text'] = insult4['comment_text'].str.replace(\"@\",\" \")\n",
    "insult4['comment_text'] = insult4['comment_text'].str.replace(\"/\",\" \")\n",
    "insult4['comment_text'] = insult4['comment_text'].str.replace(\"=\",\" \")\n",
    "insult4['comment_text'] = insult4['comment_text'].str.replace(\"-\",\" \")\n",
    "insult4['comment_text'] = insult4['comment_text'].str.replace(\"±\",\" \")\n",
    "insult4['comment_text'] = insult4['comment_text'].str.replace(\"*\",\" \")\n",
    "insult4['comment_text'] = insult4['comment_text'].str.replace(\"+\",\" \")\n",
    "insult4['comment_text'] = insult4['comment_text'].str.replace(\"-\",\" \")\n",
    "insult4['comment_text'] = insult4['comment_text'].str.replace(\"#\",\" \")\n",
    "insult4['comment_text'] = insult4['comment_text'].str.replace(\"€\",\" \")\n",
    "insult4['comment_text'] = insult4['comment_text'].str.replace(\"Ã\",\" \")\n",
    "insult4['comment_text'] = insult4['comment_text'].str.replace(\"©\",\" \")\n",
    "insult4['comment_text'] = insult4['comment_text'].str.replace(\"Â\",\" \")\n",
    "insult4['comment_text'] = insult4['comment_text'].str.replace(\"$\",\" \")\n",
    "insult4['comment_text'] = insult4['comment_text'].str.replace(\"Ù\",\" \")\n",
    "insult4['comment_text'] = insult4['comment_text'].str.replace(\"#\",\" \")\n",
    "insult4['comment_text'] = insult4['comment_text'].str.replace(\"Ø\",\" \")\n",
    "insult4['comment_text'] = insult4['comment_text'].str.replace(\"§\",\" \")\n",
    "insult4['comment_text'] = insult4['comment_text'].str.replace(\"%\",\" \")\n",
    "insult4['comment_text'] = insult4['comment_text'].str.replace(\"¶\",\" \")\n",
    "insult4['comment_text'] = insult4['comment_text'].str.replace(\"?\",\" \")\n",
    "insult4['comment_text'] = insult4['comment_text'].str.replace(\"&\",\" \")\n",
    "insult4['comment_text'] = insult4['comment_text'].str.replace(\"_\",\" \")\n",
    "insult4['comment_text'] = insult4['comment_text'].str.replace(\"â\",\" \")\n",
    "insult4['comment_text'] = insult4['comment_text'].str.replace(\"Ž\",\" \")\n",
    "insult4['comment_text'] = insult4['comment_text'].str.replace(\"¢\",\" \")\n",
    "insult4['comment_text'] = insult4['comment_text'].str.replace(\"Ý\",\" \")\n",
    "insult4['comment_text'] = insult4['comment_text'].str.replace(\"£\",\" \")\n",
    "insult4['comment_text'] = insult4['comment_text'].str.replace(\"»\",\" \")\n",
    "insult4['comment_text'] = insult4['comment_text'].str.replace(\"œ\",\" \")\n",
    "insult4['comment_text'] = insult4['comment_text'].str.replace(\"¬\",\" \")\n",
    "insult4['comment_text'] = insult4['comment_text'].str.replace(\"Ð\",\" \")\n",
    "insult4['comment_text'] = insult4['comment_text'].str.replace(\"Ç\",\" \")\n",
    "insult4['comment_text'] = insult4['comment_text'].str.replace(\"~\",\" \")\n",
    "insult4['comment_text'] = insult4['comment_text'].str.replace(\"™\",\" \")\n",
    "insult4['comment_text'] = insult4['comment_text'].str.replace(\"·\",\" \")\n",
    "insult4['comment_text'] = insult4['comment_text'].str.replace(\"†\",\" \")\n",
    "insult4['comment_text'] = insult4['comment_text'].str.replace(\"ˆ\",\" \")\n",
    "insult4['comment_text'] = insult4['comment_text'].str.replace(\"Î\",\" \")                                            \n",
    "insult4['comment_text']"
   ]
  },
  {
   "cell_type": "code",
   "execution_count": 4,
   "metadata": {
    "collapsed": true
   },
   "outputs": [],
   "source": [
    "insult4.to_csv('insult4.csv')"
   ]
  },
  {
   "cell_type": "code",
   "execution_count": null,
   "metadata": {
    "collapsed": true
   },
   "outputs": [],
   "source": []
  }
 ],
 "metadata": {
  "kernelspec": {
   "display_name": "Python 3",
   "language": "python",
   "name": "python3"
  },
  "language_info": {
   "codemirror_mode": {
    "name": "ipython",
    "version": 3
   },
   "file_extension": ".py",
   "mimetype": "text/x-python",
   "name": "python",
   "nbconvert_exporter": "python",
   "pygments_lexer": "ipython3",
   "version": "3.6.3"
  }
 },
 "nbformat": 4,
 "nbformat_minor": 2
}
