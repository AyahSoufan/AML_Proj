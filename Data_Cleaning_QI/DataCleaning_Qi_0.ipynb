{
 "cells": [
  {
   "cell_type": "code",
   "execution_count": 2,
   "metadata": {
    "collapsed": true
   },
   "outputs": [],
   "source": [
    "import pandas as pd\n",
    "import os"
   ]
  },
  {
   "cell_type": "code",
   "execution_count": 3,
   "metadata": {},
   "outputs": [
    {
     "data": {
      "text/plain": [
       "'C:\\\\Users\\\\warmp\\\\Documents\\\\pythonlearning\\\\AML'"
      ]
     },
     "execution_count": 3,
     "metadata": {},
     "output_type": "execute_result"
    }
   ],
   "source": [
    "os.getcwd()"
   ]
  },
  {
   "cell_type": "code",
   "execution_count": 25,
   "metadata": {},
   "outputs": [
    {
     "data": {
      "text/plain": [
       "0       gay antisemmitian archangel white tiger meow g...\n",
       "1                    pair jew-hating weiner nazi schmucks\n",
       "2       think fagget get oife burn hell hate 'm sorry ...\n",
       "3       kill niggers hard others say include racists s...\n",
       "4       u r tw@ fuck u gay boyu r smellyfuck ur mum po...\n",
       "5       gay existence cdvf proof sad twat also ugly wi...\n",
       "6       dictionaries dare call contribution spam kurd ...\n",
       "7       gay motherfucker know livei go sand face offth...\n",
       "8       studid cock sucker u stop callin ok frank garr...\n",
       "9       first time bitch fuck i'll find live sodomize ...\n",
       "10      fuck faggot care get block long everyone know ...\n",
       "11      hey freak hermaphrodite please unprotect user ...\n",
       "12                                     ghe fag learn know\n",
       "13                                 shut fat poop kick ass\n",
       "14                               good edit polar bear gay\n",
       "15      demonte morton u bastard stop deletin' shit u ...\n",
       "16                             bla bla blasuck irishguy =\n",
       "17      evidence present tone evidence reject go ficti...\n",
       "18                                        faggot get life\n",
       "19           i'm glad wikipedia bias fill retard children\n",
       "20      fuck gay wad fuck mum oh wait gay dont mom hah...\n",
       "21      aaron swartz stop fuck revert goddamn edit thi...\n",
       "22      gay homo hope choke penis die send big bleck g...\n",
       "23                        racist goddamn neo-nazi big boy\n",
       "24      fascit nazi socialist bastard filthy hippy dar...\n",
       "25      usernhrhs homo like mitt romney usernhrhs homo...\n",
       "26      fuck nazi propaganda odpierdalcie sie jebani f...\n",
       "27      im sorry fuck stupid nice person give warn fuc...\n",
       "28      actually fully arabic islamic correct spell un...\n",
       "29      pedophiles sex criminals imperial japan nazi g...\n",
       "                              ...                        \n",
       "2788    spengler columnist i'm curious spengler column...\n",
       "2789    good place post xiii info simplewikipediaorg/w...\n",
       "2790    == speedy deletion request == everyone post ra...\n",
       "2791    lot turkish university students claim autobiog...\n",
       "2792    need either/or cold war americans share techno...\n",
       "2793    welcome welcome wikipedia fastifex name ryan a...\n",
       "2794    one could list edit well essentially revert sn...\n",
       "2795    help reply post usertalk page please see helpu...\n",
       "2796    madeline la framboise see edit madeline la fra...\n",
       "2797    request unblock grant follow reason agree cook...\n",
       "2798    note list auditors solicitors' apprentice deba...\n",
       "2799    | style=background-color#ffffa pad cellpadding...\n",
       "2800    confuse apologies idea warn particularly never...\n",
       "2801    origin huns roman historians themistius- claud...\n",
       "2802      utc probably one give fuck miss upton september\n",
       "2803    important hi i've notice currently use much se...\n",
       "2804                                                  NaN\n",
       "2805                               best idea yet — • -- z\n",
       "2806    i'd appreciate acknowledgment fact misread com...\n",
       "2807    wikiproject germany invitation hello stilfehle...\n",
       "2808    longest monosyllabic squirrelled anybody prono...\n",
       "2809    agree well receive hope keyless entry joke thi...\n",
       "2810    vermont liberal lunatics go state could qualif...\n",
       "2811    sockpuppetry case accuse sockpuppetry please r...\n",
       "2812    note term moronic/juvenile/obscene apply nick ...\n",
       "2813    butthurt much dinna like move move back alpha ...\n",
       "2814                                 look much like puupy\n",
       "2815                 though small change please take look\n",
       "2816             type response til internet stop work get\n",
       "2817    question bias edit australian politics wikiped...\n",
       "Name: comment_text, Length: 2818, dtype: object"
      ]
     },
     "execution_count": 25,
     "metadata": {},
     "output_type": "execute_result"
    }
   ],
   "source": [
    "identity_hate0 = pd.read_csv(r'C:\\Users\\warmp\\Documents\\pythonlearning\\AML\\balanced_dataset\\balanced_dataset\\identity_hate0.csv')\n",
    "identity_hate0['comment_text']"
   ]
  },
  {
   "cell_type": "code",
   "execution_count": 26,
   "metadata": {},
   "outputs": [
    {
     "data": {
      "text/plain": [
       "0       gay antisemmitian archangel white tiger meow g...\n",
       "1                    pair jew hating weiner nazi schmucks\n",
       "2       think fagget get oife burn hell hate 'm sorry ...\n",
       "3       kill niggers hard others say include racists s...\n",
       "4       u r tw  fuck u gay boyu r smellyfuck ur mum po...\n",
       "5       gay existence cdvf proof sad twat also ugly wi...\n",
       "6       dictionaries dare call contribution spam kurd ...\n",
       "7       gay motherfucker know livei go sand face offth...\n",
       "8       studid cock sucker u stop callin ok frank garr...\n",
       "9       first time bitch fuck i'll find live sodomize ...\n",
       "10      fuck faggot care get block long everyone know ...\n",
       "11      hey freak hermaphrodite please unprotect user ...\n",
       "12                                     ghe fag learn know\n",
       "13                                 shut fat poop kick ass\n",
       "14                               good edit polar bear gay\n",
       "15      demonte morton u bastard stop deletin' shit u ...\n",
       "16                             bla bla blasuck irishguy  \n",
       "17      evidence present tone evidence reject go ficti...\n",
       "18                                        faggot get life\n",
       "19           i'm glad wikipedia bias fill retard children\n",
       "20      fuck gay wad fuck mum oh wait gay dont mom hah...\n",
       "21      aaron swartz stop fuck revert goddamn edit thi...\n",
       "22      gay homo hope choke penis die send big bleck g...\n",
       "23                        racist goddamn neo nazi big boy\n",
       "24      fascit nazi socialist bastard filthy hippy dar...\n",
       "25      usernhrhs homo like mitt romney usernhrhs homo...\n",
       "26      fuck nazi propaganda odpierdalcie sie jebani f...\n",
       "27      im sorry fuck stupid nice person give warn fuc...\n",
       "28      actually fully arabic islamic correct spell un...\n",
       "29      pedophiles sex criminals imperial japan nazi g...\n",
       "                              ...                        \n",
       "2788    spengler columnist i'm curious spengler column...\n",
       "2789    good place post xiii info simplewikipediaorg w...\n",
       "2790       speedy deletion request    everyone post ra...\n",
       "2791    lot turkish university students claim autobiog...\n",
       "2792    need either or cold war americans share techno...\n",
       "2793    welcome welcome wikipedia fastifex name ryan a...\n",
       "2794    one could list edit well essentially revert sn...\n",
       "2795    help reply post usertalk page please see helpu...\n",
       "2796    madeline la framboise see edit madeline la fra...\n",
       "2797    request unblock grant follow reason agree cook...\n",
       "2798    note list auditors solicitors' apprentice deba...\n",
       "2799    | style background color ffffa pad cellpadding...\n",
       "2800    confuse apologies idea warn particularly never...\n",
       "2801    origin huns roman historians themistius  claud...\n",
       "2802      utc probably one give fuck miss upton september\n",
       "2803    important hi i've notice currently use much se...\n",
       "2804                                                  NaN\n",
       "2805                               best idea yet — •    z\n",
       "2806    i'd appreciate acknowledgment fact misread com...\n",
       "2807    wikiproject germany invitation hello stilfehle...\n",
       "2808    longest monosyllabic squirrelled anybody prono...\n",
       "2809    agree well receive hope keyless entry joke thi...\n",
       "2810    vermont liberal lunatics go state could qualif...\n",
       "2811    sockpuppetry case accuse sockpuppetry please r...\n",
       "2812    note term moronic juvenile obscene apply nick ...\n",
       "2813    butthurt much dinna like move move back alpha ...\n",
       "2814                                 look much like puupy\n",
       "2815                 though small change please take look\n",
       "2816             type response til internet stop work get\n",
       "2817    question bias edit australian politics wikiped...\n",
       "Name: comment_text, Length: 2818, dtype: object"
      ]
     },
     "execution_count": 26,
     "metadata": {},
     "output_type": "execute_result"
    }
   ],
   "source": [
    "identity_hate0['comment_text'] = identity_hate0['comment_text'].str.replace(\"@\",\" \")\n",
    "identity_hate0['comment_text'] = identity_hate0['comment_text'].str.replace(\"/\",\" \")\n",
    "identity_hate0['comment_text'] = identity_hate0['comment_text'].str.replace(\"=\",\" \")\n",
    "identity_hate0['comment_text'] = identity_hate0['comment_text'].str.replace(\"-\",\" \")\n",
    "identity_hate0['comment_text'] = identity_hate0['comment_text'].str.replace(\"±\",\" \")\n",
    "identity_hate0['comment_text'] = identity_hate0['comment_text'].str.replace(\"*\",\" \")\n",
    "identity_hate0['comment_text'] = identity_hate0['comment_text'].str.replace(\"+\",\" \")\n",
    "identity_hate0['comment_text'] = identity_hate0['comment_text'].str.replace(\"-\",\" \")\n",
    "identity_hate0['comment_text'] = identity_hate0['comment_text'].str.replace(\"#\",\" \")\n",
    "identity_hate0['comment_text'] = identity_hate0['comment_text'].str.replace(\"€\",\" \")\n",
    "identity_hate0['comment_text'] = identity_hate0['comment_text'].str.replace(\"Ã\",\" \")\n",
    "identity_hate0['comment_text'] = identity_hate0['comment_text'].str.replace(\"©\",\" \")\n",
    "identity_hate0['comment_text'] = identity_hate0['comment_text'].str.replace(\"Â\",\" \")\n",
    "identity_hate0['comment_text'] = identity_hate0['comment_text'].str.replace(\"$\",\" \")\n",
    "identity_hate0['comment_text'] = identity_hate0['comment_text'].str.replace(\"Ù\",\" \")\n",
    "identity_hate0['comment_text'] = identity_hate0['comment_text'].str.replace(\"#\",\" \")\n",
    "identity_hate0['comment_text'] = identity_hate0['comment_text'].str.replace(\"Ø\",\" \")\n",
    "identity_hate0['comment_text'] = identity_hate0['comment_text'].str.replace(\"§\",\" \")\n",
    "identity_hate0['comment_text'] = identity_hate0['comment_text'].str.replace(\"%\",\" \")\n",
    "identity_hate0['comment_text'] = identity_hate0['comment_text'].str.replace(\"¶\",\" \")\n",
    "identity_hate0['comment_text'] = identity_hate0['comment_text'].str.replace(\"?\",\" \")\n",
    "identity_hate0['comment_text'] = identity_hate0['comment_text'].str.replace(\"&\",\" \")\n",
    "identity_hate0['comment_text'] = identity_hate0['comment_text'].str.replace(\"_\",\" \")\n",
    "identity_hate0['comment_text'] = identity_hate0['comment_text'].str.replace(\"â\",\" \")\n",
    "identity_hate0['comment_text'] = identity_hate0['comment_text'].str.replace(\"Ž\",\" \")\n",
    "identity_hate0['comment_text'] = identity_hate0['comment_text'].str.replace(\"¢\",\" \")\n",
    "identity_hate0['comment_text'] = identity_hate0['comment_text'].str.replace(\"Ý\",\" \")\n",
    "identity_hate0['comment_text'] = identity_hate0['comment_text'].str.replace(\"£\",\" \")\n",
    "identity_hate0['comment_text'] = identity_hate0['comment_text'].str.replace(\"»\",\" \")\n",
    "identity_hate0['comment_text'] = identity_hate0['comment_text'].str.replace(\"œ\",\" \")\n",
    "identity_hate0['comment_text'] = identity_hate0['comment_text'].str.replace(\"¬\",\" \")\n",
    "identity_hate0['comment_text'] = identity_hate0['comment_text'].str.replace(\"Ð\",\" \")\n",
    "identity_hate0['comment_text'] = identity_hate0['comment_text'].str.replace(\"Ç\",\" \")\n",
    "identity_hate0['comment_text'] = identity_hate0['comment_text'].str.replace(\"~\",\" \")\n",
    "identity_hate0['comment_text'] = identity_hate0['comment_text'].str.replace(\"™\",\" \")\n",
    "identity_hate0['comment_text'] = identity_hate0['comment_text'].str.replace(\"·\",\" \")\n",
    "identity_hate0['comment_text'] = identity_hate0['comment_text'].str.replace(\"†\",\" \")\n",
    "identity_hate0['comment_text'] = identity_hate0['comment_text'].str.replace(\"ˆ\",\" \")\n",
    "identity_hate0['comment_text'] = identity_hate0['comment_text'].str.replace(\"Î\",\" \")                                            \n",
    "identity_hate0['comment_text']"
   ]
  },
  {
   "cell_type": "code",
   "execution_count": 31,
   "metadata": {
    "collapsed": true
   },
   "outputs": [],
   "source": [
    "identity_hate0.to_csv('identity_hate0.csv')"
   ]
  },
  {
   "cell_type": "code",
   "execution_count": null,
   "metadata": {
    "collapsed": true
   },
   "outputs": [],
   "source": []
  }
 ],
 "metadata": {
  "kernelspec": {
   "display_name": "Python 3",
   "language": "python",
   "name": "python3"
  },
  "language_info": {
   "codemirror_mode": {
    "name": "ipython",
    "version": 3
   },
   "file_extension": ".py",
   "mimetype": "text/x-python",
   "name": "python",
   "nbconvert_exporter": "python",
   "pygments_lexer": "ipython3",
   "version": "3.6.3"
  }
 },
 "nbformat": 4,
 "nbformat_minor": 2
}
