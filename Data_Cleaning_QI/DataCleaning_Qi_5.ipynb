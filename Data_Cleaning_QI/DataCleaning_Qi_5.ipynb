{
 "cells": [
  {
   "cell_type": "code",
   "execution_count": 1,
   "metadata": {
    "collapsed": true
   },
   "outputs": [],
   "source": [
    "import pandas as pd\n",
    "import os"
   ]
  },
  {
   "cell_type": "code",
   "execution_count": 3,
   "metadata": {},
   "outputs": [
    {
     "data": {
      "text/plain": [
       "'C:\\\\Users\\\\warmp\\\\Documents\\\\pythonlearning\\\\AML'"
      ]
     },
     "execution_count": 3,
     "metadata": {},
     "output_type": "execute_result"
    }
   ],
   "source": [
    "os.getcwd()"
   ]
  },
  {
   "cell_type": "code",
   "execution_count": 2,
   "metadata": {},
   "outputs": [
    {
     "data": {
      "text/plain": [
       "0                              cocksucker piss around work\n",
       "1        gay antisemmitian archangel white tiger meow g...\n",
       "2                               fuck filthy mother ass dry\n",
       "3        stupid peace shit stop delete stuff asshole go...\n",
       "4          =tony sidaway obviously fistfuckee love arm ass\n",
       "5        edit good cunts like revert good edit stupid u...\n",
       "6           would shut run wikipedia especially stupid kid\n",
       "7                     pair jew-hating weiner nazi schmucks\n",
       "8        fire moronic wimp lazy research make sick peop...\n",
       "9        think fagget get oife burn hell hate 'm sorry ...\n",
       "10       reply loser un define vietnam part southeast a...\n",
       "11                         stupid fuck mother's cunt stink\n",
       "12                                 fuck block faggot pussy\n",
       "13       kill niggers hard others say include racists s...\n",
       "14       burn deck that'd guy's burn deck like think bl...\n",
       "15       u r tw@ fuck u gay boyu r smellyfuck ur mum po...\n",
       "16               user worthless goddamn faggot fuck faggot\n",
       "17                                 fuck fuck award go fuck\n",
       "18       keep eye one care ok people put want clean wan...\n",
       "19       fuck -userthe bohemian shinobis yeah that's ri...\n",
       "20       dear mokele right tell people die fire ip addr...\n",
       "21       thank racist experiment page katherine heigl w...\n",
       "22       gay existence cdvf proof sad twat also ugly wi...\n",
       "23       never fuck make mother fuck article fuck edit ...\n",
       "24                                        hi im fuck bitch\n",
       "25       f**k rid worlds fun hate rid worlds fun sh_tty...\n",
       "26                             nazi filth impolite jan utc\n",
       "27       dictionaries dare call contribution spam kurd ...\n",
       "28             motherfucking piece crap fuckheads block us\n",
       "29                                    sir imbecile pervert\n",
       "                               ...                        \n",
       "15856         hey miskin may reason believe case take word\n",
       "15857    pbs - falklands absolutely example occupy terr...\n",
       "15858          uk us please add answer dab article=== talk\n",
       "15859    follow-up new medal icons medals table well fi...\n",
       "15860    know ipa pronunciation hey slp know ipa pronun...\n",
       "15861    khalifa ezzat source ahlm take quick glance ar...\n",
       "15862    also worldwide influence singers key point - a...\n",
       "15863    july utc someone watch arbcom case would like ...\n",
       "15864    report subversive activities control board aut...\n",
       "15865    message care dc article reason care article ca...\n",
       "15866    thank ian know wpnotcensored also hate speech ...\n",
       "15867    propose modify lead base discussion current ar...\n",
       "15868    let know revert vandalism count towards rr rev...\n",
       "15869                negro league baseball task-force talk\n",
       "15870    award patent especially foundation computers w...\n",
       "15871    independent reliable source need independent e...\n",
       "15872                          like sex inflatable animals\n",
       "15873                       quite see wikipediaspeedy keep\n",
       "15874    note biographical information charles c carson...\n",
       "15875    apology hereby apologies nuisence may cause ho...\n",
       "15876    fix last issue mention would like article re-r...\n",
       "15877                                 also link page exist\n",
       "15878    michael dorosh + post battlefront forum last t...\n",
       "15879    vijnana bhairavaand tantra bhairava supreme re...\n",
       "15880               messgae dear bf thank message i'll see\n",
       "15881    over-emphasized wp use quotations appropriate ...\n",
       "15882    fredom/opennes/licenses free software license ...\n",
       "15883      dont see topic could meet notability guidelines\n",
       "15884    filewest ruislip station jpg|a picture west ru...\n",
       "15885    ed poor appreciate attention dispute please no...\n",
       "Name: comment_text, Length: 15886, dtype: object"
      ]
     },
     "execution_count": 2,
     "metadata": {},
     "output_type": "execute_result"
    }
   ],
   "source": [
    "insult0 = pd.read_csv(r'C:\\Users\\warmp\\Documents\\pythonlearning\\AML\\balanced_dataset\\balanced_dataset\\insult0.csv')\n",
    "insult0['comment_text']"
   ]
  },
  {
   "cell_type": "code",
   "execution_count": 3,
   "metadata": {},
   "outputs": [
    {
     "data": {
      "text/plain": [
       "0                              cocksucker piss around work\n",
       "1        gay antisemmitian archangel white tiger meow g...\n",
       "2                               fuck filthy mother ass dry\n",
       "3        stupid peace shit stop delete stuff asshole go...\n",
       "4           tony sidaway obviously fistfuckee love arm ass\n",
       "5        edit good cunts like revert good edit stupid u...\n",
       "6           would shut run wikipedia especially stupid kid\n",
       "7                     pair jew hating weiner nazi schmucks\n",
       "8        fire moronic wimp lazy research make sick peop...\n",
       "9        think fagget get oife burn hell hate 'm sorry ...\n",
       "10       reply loser un define vietnam part southeast a...\n",
       "11                         stupid fuck mother's cunt stink\n",
       "12                                 fuck block faggot pussy\n",
       "13       kill niggers hard others say include racists s...\n",
       "14       burn deck that'd guy's burn deck like think bl...\n",
       "15       u r tw  fuck u gay boyu r smellyfuck ur mum po...\n",
       "16               user worthless goddamn faggot fuck faggot\n",
       "17                                 fuck fuck award go fuck\n",
       "18       keep eye one care ok people put want clean wan...\n",
       "19       fuck  userthe bohemian shinobis yeah that's ri...\n",
       "20       dear mokele right tell people die fire ip addr...\n",
       "21       thank racist experiment page katherine heigl w...\n",
       "22       gay existence cdvf proof sad twat also ugly wi...\n",
       "23       never fuck make mother fuck article fuck edit ...\n",
       "24                                        hi im fuck bitch\n",
       "25       f  k rid worlds fun hate rid worlds fun sh tty...\n",
       "26                             nazi filth impolite jan utc\n",
       "27       dictionaries dare call contribution spam kurd ...\n",
       "28             motherfucking piece crap fuckheads block us\n",
       "29                                    sir imbecile pervert\n",
       "                               ...                        \n",
       "15856         hey miskin may reason believe case take word\n",
       "15857    pbs   falklands absolutely example occupy terr...\n",
       "15858          uk us please add answer dab article    talk\n",
       "15859    follow up new medal icons medals table well fi...\n",
       "15860    know ipa pronunciation hey slp know ipa pronun...\n",
       "15861    khalifa ezzat source ahlm take quick glance ar...\n",
       "15862    also worldwide influence singers key point   a...\n",
       "15863    july utc someone watch arbcom case would like ...\n",
       "15864    report subversive activities control board aut...\n",
       "15865    message care dc article reason care article ca...\n",
       "15866    thank ian know wpnotcensored also hate speech ...\n",
       "15867    propose modify lead base discussion current ar...\n",
       "15868    let know revert vandalism count towards rr rev...\n",
       "15869                negro league baseball task force talk\n",
       "15870    award patent especially foundation computers w...\n",
       "15871    independent reliable source need independent e...\n",
       "15872                          like sex inflatable animals\n",
       "15873                       quite see wikipediaspeedy keep\n",
       "15874    note biographical information charles c carson...\n",
       "15875    apology hereby apologies nuisence may cause ho...\n",
       "15876    fix last issue mention would like article re r...\n",
       "15877                                 also link page exist\n",
       "15878    michael dorosh   post battlefront forum last t...\n",
       "15879    vijnana bhairavaand tantra bhairava supreme re...\n",
       "15880               messgae dear bf thank message i'll see\n",
       "15881    over emphasized wp use quotations appropriate ...\n",
       "15882    fredom opennes licenses free software license ...\n",
       "15883      dont see topic could meet notability guidelines\n",
       "15884    filewest ruislip station jpg|a picture west ru...\n",
       "15885    ed poor appreciate attention dispute please no...\n",
       "Name: comment_text, Length: 15886, dtype: object"
      ]
     },
     "execution_count": 3,
     "metadata": {},
     "output_type": "execute_result"
    }
   ],
   "source": [
    "insult0['comment_text'] = insult0['comment_text'].str.replace(\"@\",\" \")\n",
    "insult0['comment_text'] = insult0['comment_text'].str.replace(\"/\",\" \")\n",
    "insult0['comment_text'] = insult0['comment_text'].str.replace(\"=\",\" \")\n",
    "insult0['comment_text'] = insult0['comment_text'].str.replace(\"-\",\" \")\n",
    "insult0['comment_text'] = insult0['comment_text'].str.replace(\"±\",\" \")\n",
    "insult0['comment_text'] = insult0['comment_text'].str.replace(\"*\",\" \")\n",
    "insult0['comment_text'] = insult0['comment_text'].str.replace(\"+\",\" \")\n",
    "insult0['comment_text'] = insult0['comment_text'].str.replace(\"-\",\" \")\n",
    "insult0['comment_text'] = insult0['comment_text'].str.replace(\"#\",\" \")\n",
    "insult0['comment_text'] = insult0['comment_text'].str.replace(\"€\",\" \")\n",
    "insult0['comment_text'] = insult0['comment_text'].str.replace(\"Ã\",\" \")\n",
    "insult0['comment_text'] = insult0['comment_text'].str.replace(\"©\",\" \")\n",
    "insult0['comment_text'] = insult0['comment_text'].str.replace(\"Â\",\" \")\n",
    "insult0['comment_text'] = insult0['comment_text'].str.replace(\"$\",\" \")\n",
    "insult0['comment_text'] = insult0['comment_text'].str.replace(\"Ù\",\" \")\n",
    "insult0['comment_text'] = insult0['comment_text'].str.replace(\"#\",\" \")\n",
    "insult0['comment_text'] = insult0['comment_text'].str.replace(\"Ø\",\" \")\n",
    "insult0['comment_text'] = insult0['comment_text'].str.replace(\"§\",\" \")\n",
    "insult0['comment_text'] = insult0['comment_text'].str.replace(\"%\",\" \")\n",
    "insult0['comment_text'] = insult0['comment_text'].str.replace(\"¶\",\" \")\n",
    "insult0['comment_text'] = insult0['comment_text'].str.replace(\"?\",\" \")\n",
    "insult0['comment_text'] = insult0['comment_text'].str.replace(\"&\",\" \")\n",
    "insult0['comment_text'] = insult0['comment_text'].str.replace(\"_\",\" \")\n",
    "insult0['comment_text'] = insult0['comment_text'].str.replace(\"â\",\" \")\n",
    "insult0['comment_text'] = insult0['comment_text'].str.replace(\"Ž\",\" \")\n",
    "insult0['comment_text'] = insult0['comment_text'].str.replace(\"¢\",\" \")\n",
    "insult0['comment_text'] = insult0['comment_text'].str.replace(\"Ý\",\" \")\n",
    "insult0['comment_text'] = insult0['comment_text'].str.replace(\"£\",\" \")\n",
    "insult0['comment_text'] = insult0['comment_text'].str.replace(\"»\",\" \")\n",
    "insult0['comment_text'] = insult0['comment_text'].str.replace(\"œ\",\" \")\n",
    "insult0['comment_text'] = insult0['comment_text'].str.replace(\"¬\",\" \")\n",
    "insult0['comment_text'] = insult0['comment_text'].str.replace(\"Ð\",\" \")\n",
    "insult0['comment_text'] = insult0['comment_text'].str.replace(\"Ç\",\" \")\n",
    "insult0['comment_text'] = insult0['comment_text'].str.replace(\"~\",\" \")\n",
    "insult0['comment_text'] = insult0['comment_text'].str.replace(\"™\",\" \")\n",
    "insult0['comment_text'] = insult0['comment_text'].str.replace(\"·\",\" \")\n",
    "insult0['comment_text'] = insult0['comment_text'].str.replace(\"†\",\" \")\n",
    "insult0['comment_text'] = insult0['comment_text'].str.replace(\"ˆ\",\" \")\n",
    "insult0['comment_text'] = insult0['comment_text'].str.replace(\"Î\",\" \")                                            \n",
    "insult0['comment_text']"
   ]
  },
  {
   "cell_type": "code",
   "execution_count": 4,
   "metadata": {
    "collapsed": true
   },
   "outputs": [],
   "source": [
    "insult0.to_csv('insult0.csv')"
   ]
  },
  {
   "cell_type": "code",
   "execution_count": null,
   "metadata": {
    "collapsed": true
   },
   "outputs": [],
   "source": []
  }
 ],
 "metadata": {
  "kernelspec": {
   "display_name": "Python 3",
   "language": "python",
   "name": "python3"
  },
  "language_info": {
   "codemirror_mode": {
    "name": "ipython",
    "version": 3
   },
   "file_extension": ".py",
   "mimetype": "text/x-python",
   "name": "python",
   "nbconvert_exporter": "python",
   "pygments_lexer": "ipython3",
   "version": "3.6.3"
  }
 },
 "nbformat": 4,
 "nbformat_minor": 2
}
