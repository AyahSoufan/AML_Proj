{
 "cells": [
  {
   "cell_type": "code",
   "execution_count": 1,
   "metadata": {
    "collapsed": true
   },
   "outputs": [],
   "source": [
    "import pandas as pd\n",
    "import os"
   ]
  },
  {
   "cell_type": "code",
   "execution_count": 3,
   "metadata": {},
   "outputs": [
    {
     "data": {
      "text/plain": [
       "'C:\\\\Users\\\\warmp\\\\Documents\\\\pythonlearning\\\\AML'"
      ]
     },
     "execution_count": 3,
     "metadata": {},
     "output_type": "execute_result"
    }
   ],
   "source": [
    "os.getcwd()"
   ]
  },
  {
   "cell_type": "code",
   "execution_count": 2,
   "metadata": {},
   "outputs": [
    {
     "data": {
      "text/plain": [
       "0                              cocksucker piss around work\n",
       "1        gay antisemmitian archangel white tiger meow g...\n",
       "2                               fuck filthy mother ass dry\n",
       "3        get fuck get fuckeeed get drink cant put down/...\n",
       "4        stupid peace shit stop delete stuff asshole go...\n",
       "5          =tony sidaway obviously fistfuckee love arm ass\n",
       "6        band page's deletion think go delete comment p...\n",
       "7        edit good cunts like revert good edit stupid u...\n",
       "8                     pair jew-hating weiner nazi schmucks\n",
       "9        think fagget get oife burn hell hate 'm sorry ...\n",
       "10                         stupid fuck mother's cunt stink\n",
       "11       blatant pov push neither guy make contribution...\n",
       "12                                 fuck block faggot pussy\n",
       "13       kill niggers hard others say include racists s...\n",
       "14       burn deck that'd guy's burn deck like think bl...\n",
       "15       u r tw@ fuck u gay boyu r smellyfuck ur mum po...\n",
       "16               user worthless goddamn faggot fuck faggot\n",
       "17                       fuck administrator authority tell\n",
       "18                                 fuck fuck award go fuck\n",
       "19       matt hardy fucky''italic textmediaexampleogg''...\n",
       "20       fuck -userthe bohemian shinobis yeah that's ri...\n",
       "21       thank racist experiment page katherine heigl w...\n",
       "22       gay existence cdvf proof sad twat also ugly wi...\n",
       "23       never fuck make mother fuck article fuck edit ...\n",
       "24                            fuck wrong muchacho july utc\n",
       "25                                        hi im fuck bitch\n",
       "26       f**k rid worlds fun hate rid worlds fun sh_tty...\n",
       "27                      hello get somebody fix shit around\n",
       "28       dictionaries dare call contribution spam kurd ...\n",
       "29         know dead plane crash jeezz quit bust nut folks\n",
       "                               ...                        \n",
       "17291                   oh somebody elses eunuchs thats ok\n",
       "17292    sound believable would make live daylights lic...\n",
       "17293    eh extend ban -day ban worth sockpuppeting get...\n",
       "17294           oh know hit wprr mark article — say whaaat\n",
       "17295    article monument place probably nutty mayor ha...\n",
       "17296    january utc avoid greatest story like plague r...\n",
       "17297    please stop continue vandalize wikipedia block...\n",
       "17298    start talk category list list madrean sky isla...\n",
       "17299             back contributions hour block ip address\n",
       "17300    page oddly return redirect aagin luckly write ...\n",
       "17301                            hey def hangin noww later\n",
       "17302    discussion censorship section editors wish rel...\n",
       "17303    arsenal fac hi nichalp question one objections...\n",
       "17304    regard people glass house comment bias yank re...\n",
       "17305    well know uncyclopedia make myke's page believ...\n",
       "17306    i've correct cia factbook figure count interna...\n",
       "17307            new complaint hi perhaps help kind regard\n",
       "17308       go spill philosophies elsewhere church mailbox\n",
       "17309    satisfy request conclusion word shall remove a...\n",
       "17310    list ah goddess episodes season oppose last fl...\n",
       "17311                           sort problem collaboration\n",
       "17312    i'd also like point thing 순혈주의/純血主義 korean lex...\n",
       "17313    email sean black want text publicly know since...\n",
       "17314    omnovia web conference tag place omnovia web c...\n",
       "17315    concur milkncookie intend move page byu cougar...\n",
       "17316    framework base di code example highly discoura...\n",
       "17317    never come across rule can't use source title ...\n",
       "17318    hey theoriginalsoni please stop post threats p...\n",
       "17319                             also automatically watch\n",
       "17320    note admins consider unblock i'm indifferent w...\n",
       "Name: comment_text, Length: 17321, dtype: object"
      ]
     },
     "execution_count": 2,
     "metadata": {},
     "output_type": "execute_result"
    }
   ],
   "source": [
    "obscene2 = pd.read_csv(r'C:\\Users\\warmp\\Documents\\pythonlearning\\AML\\balanced_dataset\\balanced_dataset\\obscene2.csv')\n",
    "obscene2['comment_text']"
   ]
  },
  {
   "cell_type": "code",
   "execution_count": 3,
   "metadata": {},
   "outputs": [
    {
     "data": {
      "text/plain": [
       "0                              cocksucker piss around work\n",
       "1        gay antisemmitian archangel white tiger meow g...\n",
       "2                               fuck filthy mother ass dry\n",
       "3        get fuck get fuckeeed get drink cant put down ...\n",
       "4        stupid peace shit stop delete stuff asshole go...\n",
       "5           tony sidaway obviously fistfuckee love arm ass\n",
       "6        band page's deletion think go delete comment p...\n",
       "7        edit good cunts like revert good edit stupid u...\n",
       "8                     pair jew hating weiner nazi schmucks\n",
       "9        think fagget get oife burn hell hate 'm sorry ...\n",
       "10                         stupid fuck mother's cunt stink\n",
       "11       blatant pov push neither guy make contribution...\n",
       "12                                 fuck block faggot pussy\n",
       "13       kill niggers hard others say include racists s...\n",
       "14       burn deck that'd guy's burn deck like think bl...\n",
       "15       u r tw  fuck u gay boyu r smellyfuck ur mum po...\n",
       "16               user worthless goddamn faggot fuck faggot\n",
       "17                       fuck administrator authority tell\n",
       "18                                 fuck fuck award go fuck\n",
       "19       matt hardy fucky''italic textmediaexampleogg''...\n",
       "20       fuck  userthe bohemian shinobis yeah that's ri...\n",
       "21       thank racist experiment page katherine heigl w...\n",
       "22       gay existence cdvf proof sad twat also ugly wi...\n",
       "23       never fuck make mother fuck article fuck edit ...\n",
       "24                            fuck wrong muchacho july utc\n",
       "25                                        hi im fuck bitch\n",
       "26       f  k rid worlds fun hate rid worlds fun sh tty...\n",
       "27                      hello get somebody fix shit around\n",
       "28       dictionaries dare call contribution spam kurd ...\n",
       "29         know dead plane crash jeezz quit bust nut folks\n",
       "                               ...                        \n",
       "17291                   oh somebody elses eunuchs thats ok\n",
       "17292    sound believable would make live daylights lic...\n",
       "17293    eh extend ban  day ban worth sockpuppeting get...\n",
       "17294           oh know hit wprr mark article — say whaaat\n",
       "17295    article monument place probably nutty mayor ha...\n",
       "17296    january utc avoid greatest story like plague r...\n",
       "17297    please stop continue vandalize wikipedia block...\n",
       "17298    start talk category list list madrean sky isla...\n",
       "17299             back contributions hour block ip address\n",
       "17300    page oddly return redirect aagin luckly write ...\n",
       "17301                            hey def hangin noww later\n",
       "17302    discussion censorship section editors wish rel...\n",
       "17303    arsenal fac hi nichalp question one objections...\n",
       "17304    regard people glass house comment bias yank re...\n",
       "17305    well know uncyclopedia make myke's page believ...\n",
       "17306    i've correct cia factbook figure count interna...\n",
       "17307            new complaint hi perhaps help kind regard\n",
       "17308       go spill philosophies elsewhere church mailbox\n",
       "17309    satisfy request conclusion word shall remove a...\n",
       "17310    list ah goddess episodes season oppose last fl...\n",
       "17311                           sort problem collaboration\n",
       "17312    i'd also like point thing 순혈주의 純血主義 korean lex...\n",
       "17313    email sean black want text publicly know since...\n",
       "17314    omnovia web conference tag place omnovia web c...\n",
       "17315    concur milkncookie intend move page byu cougar...\n",
       "17316    framework base di code example highly discoura...\n",
       "17317    never come across rule can't use source title ...\n",
       "17318    hey theoriginalsoni please stop post threats p...\n",
       "17319                             also automatically watch\n",
       "17320    note admins consider unblock i'm indifferent w...\n",
       "Name: comment_text, Length: 17321, dtype: object"
      ]
     },
     "execution_count": 3,
     "metadata": {},
     "output_type": "execute_result"
    }
   ],
   "source": [
    "obscene2['comment_text'] = obscene2['comment_text'].str.replace(\"@\",\" \")\n",
    "obscene2['comment_text'] = obscene2['comment_text'].str.replace(\"/\",\" \")\n",
    "obscene2['comment_text'] = obscene2['comment_text'].str.replace(\"=\",\" \")\n",
    "obscene2['comment_text'] = obscene2['comment_text'].str.replace(\"-\",\" \")\n",
    "obscene2['comment_text'] = obscene2['comment_text'].str.replace(\"±\",\" \")\n",
    "obscene2['comment_text'] = obscene2['comment_text'].str.replace(\"*\",\" \")\n",
    "obscene2['comment_text'] = obscene2['comment_text'].str.replace(\"+\",\" \")\n",
    "obscene2['comment_text'] = obscene2['comment_text'].str.replace(\"-\",\" \")\n",
    "obscene2['comment_text'] = obscene2['comment_text'].str.replace(\"#\",\" \")\n",
    "obscene2['comment_text'] = obscene2['comment_text'].str.replace(\"€\",\" \")\n",
    "obscene2['comment_text'] = obscene2['comment_text'].str.replace(\"Ã\",\" \")\n",
    "obscene2['comment_text'] = obscene2['comment_text'].str.replace(\"©\",\" \")\n",
    "obscene2['comment_text'] = obscene2['comment_text'].str.replace(\"Â\",\" \")\n",
    "obscene2['comment_text'] = obscene2['comment_text'].str.replace(\"$\",\" \")\n",
    "obscene2['comment_text'] = obscene2['comment_text'].str.replace(\"Ù\",\" \")\n",
    "obscene2['comment_text'] = obscene2['comment_text'].str.replace(\"#\",\" \")\n",
    "obscene2['comment_text'] = obscene2['comment_text'].str.replace(\"Ø\",\" \")\n",
    "obscene2['comment_text'] = obscene2['comment_text'].str.replace(\"§\",\" \")\n",
    "obscene2['comment_text'] = obscene2['comment_text'].str.replace(\"%\",\" \")\n",
    "obscene2['comment_text'] = obscene2['comment_text'].str.replace(\"¶\",\" \")\n",
    "obscene2['comment_text'] = obscene2['comment_text'].str.replace(\"?\",\" \")\n",
    "obscene2['comment_text'] = obscene2['comment_text'].str.replace(\"&\",\" \")\n",
    "obscene2['comment_text'] = obscene2['comment_text'].str.replace(\"_\",\" \")\n",
    "obscene2['comment_text'] = obscene2['comment_text'].str.replace(\"â\",\" \")\n",
    "obscene2['comment_text'] = obscene2['comment_text'].str.replace(\"Ž\",\" \")\n",
    "obscene2['comment_text'] = obscene2['comment_text'].str.replace(\"¢\",\" \")\n",
    "obscene2['comment_text'] = obscene2['comment_text'].str.replace(\"Ý\",\" \")\n",
    "obscene2['comment_text'] = obscene2['comment_text'].str.replace(\"£\",\" \")\n",
    "obscene2['comment_text'] = obscene2['comment_text'].str.replace(\"»\",\" \")\n",
    "obscene2['comment_text'] = obscene2['comment_text'].str.replace(\"œ\",\" \")\n",
    "obscene2['comment_text'] = obscene2['comment_text'].str.replace(\"¬\",\" \")\n",
    "obscene2['comment_text'] = obscene2['comment_text'].str.replace(\"Ð\",\" \")\n",
    "obscene2['comment_text'] = obscene2['comment_text'].str.replace(\"Ç\",\" \")\n",
    "obscene2['comment_text'] = obscene2['comment_text'].str.replace(\"~\",\" \")\n",
    "obscene2['comment_text'] = obscene2['comment_text'].str.replace(\"™\",\" \")\n",
    "obscene2['comment_text'] = obscene2['comment_text'].str.replace(\"·\",\" \")\n",
    "obscene2['comment_text'] = obscene2['comment_text'].str.replace(\"†\",\" \")\n",
    "obscene2['comment_text'] = obscene2['comment_text'].str.replace(\"ˆ\",\" \")\n",
    "obscene2['comment_text'] = obscene2['comment_text'].str.replace(\"Î\",\" \")                                            \n",
    "obscene2['comment_text']"
   ]
  },
  {
   "cell_type": "code",
   "execution_count": 4,
   "metadata": {
    "collapsed": true
   },
   "outputs": [],
   "source": [
    "obscene2.to_csv('obscene2.csv')"
   ]
  },
  {
   "cell_type": "code",
   "execution_count": null,
   "metadata": {
    "collapsed": true
   },
   "outputs": [],
   "source": []
  }
 ],
 "metadata": {
  "kernelspec": {
   "display_name": "Python 3",
   "language": "python",
   "name": "python3"
  },
  "language_info": {
   "codemirror_mode": {
    "name": "ipython",
    "version": 3
   },
   "file_extension": ".py",
   "mimetype": "text/x-python",
   "name": "python",
   "nbconvert_exporter": "python",
   "pygments_lexer": "ipython3",
   "version": "3.6.3"
  }
 },
 "nbformat": 4,
 "nbformat_minor": 2
}
