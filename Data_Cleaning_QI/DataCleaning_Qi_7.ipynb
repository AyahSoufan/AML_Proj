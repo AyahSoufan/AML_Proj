{
 "cells": [
  {
   "cell_type": "code",
   "execution_count": 1,
   "metadata": {
    "collapsed": true
   },
   "outputs": [],
   "source": [
    "import pandas as pd\n",
    "import os"
   ]
  },
  {
   "cell_type": "code",
   "execution_count": 3,
   "metadata": {},
   "outputs": [
    {
     "data": {
      "text/plain": [
       "'C:\\\\Users\\\\warmp\\\\Documents\\\\pythonlearning\\\\AML'"
      ]
     },
     "execution_count": 3,
     "metadata": {},
     "output_type": "execute_result"
    }
   ],
   "source": [
    "os.getcwd()"
   ]
  },
  {
   "cell_type": "code",
   "execution_count": 2,
   "metadata": {},
   "outputs": [
    {
     "data": {
      "text/plain": [
       "0                              cocksucker piss around work\n",
       "1        gay antisemmitian archangel white tiger meow g...\n",
       "2                               fuck filthy mother ass dry\n",
       "3        stupid peace shit stop delete stuff asshole go...\n",
       "4          =tony sidaway obviously fistfuckee love arm ass\n",
       "5        edit good cunts like revert good edit stupid u...\n",
       "6           would shut run wikipedia especially stupid kid\n",
       "7                     pair jew-hating weiner nazi schmucks\n",
       "8        fire moronic wimp lazy research make sick peop...\n",
       "9        think fagget get oife burn hell hate 'm sorry ...\n",
       "10       reply loser un define vietnam part southeast a...\n",
       "11                         stupid fuck mother's cunt stink\n",
       "12                                 fuck block faggot pussy\n",
       "13       kill niggers hard others say include racists s...\n",
       "14       burn deck that'd guy's burn deck like think bl...\n",
       "15       u r tw@ fuck u gay boyu r smellyfuck ur mum po...\n",
       "16               user worthless goddamn faggot fuck faggot\n",
       "17                                 fuck fuck award go fuck\n",
       "18       keep eye one care ok people put want clean wan...\n",
       "19       fuck -userthe bohemian shinobis yeah that's ri...\n",
       "20       dear mokele right tell people die fire ip addr...\n",
       "21       thank racist experiment page katherine heigl w...\n",
       "22       gay existence cdvf proof sad twat also ugly wi...\n",
       "23       never fuck make mother fuck article fuck edit ...\n",
       "24                                        hi im fuck bitch\n",
       "25       f**k rid worlds fun hate rid worlds fun sh_tty...\n",
       "26                             nazi filth impolite jan utc\n",
       "27       dictionaries dare call contribution spam kurd ...\n",
       "28             motherfucking piece crap fuckheads block us\n",
       "29                                    sir imbecile pervert\n",
       "                               ...                        \n",
       "15873                             seem likely descriptions\n",
       "15874    filecti measurementsjpg list deletion file upl...\n",
       "15875    really sorry relatives reasonable person know ...\n",
       "15876    neutrality get professional that's employ huma...\n",
       "15877    assume i'm native speaker english simply accep...\n",
       "15878    would value opinion recent ugly behavior user ...\n",
       "15879    reply mr burdak glad see least reference quote...\n",
       "15880       user page thank revert vandalism talk|contribs\n",
       "15881    i'm gay i'm gay care know sorry sudden outburs...\n",
       "15882    evidence redux i'll frank block come bite late...\n",
       "15883    january utc wikipedia host us us laws copyrigh...\n",
       "15884    discard vandalism complaints recent vandalism ...\n",
       "15885    merge complete remove section recently add con...\n",
       "15886    trust mr want world know he's gay i'm hte minu...\n",
       "15887    see news today press un parque nacional españo...\n",
       "15888    need must careful present historical context w...\n",
       "15889    vergina sun pic within fair use make person kn...\n",
       "15890                                      talk • contribs\n",
       "15891    also please look wikipedia's notability guidel...\n",
       "15892    notice report say i'm webmeister um really mem...\n",
       "15893                        – masada end jewish-roman war\n",
       "15894                         people anti-catholic biggots\n",
       "15895                                               ignore\n",
       "15896                                  userdrk say article\n",
       "15897    laseractive hi schuminweb confuse removal lase...\n",
       "15898                                  list islamic jihads\n",
       "15899    url update update previous post check today ve...\n",
       "15900    person live canada much right anyone else worl...\n",
       "15901    thank give misuse tool itchy trigger finger ex...\n",
       "15902    base discussion abundantly clear consensus ins...\n",
       "Name: comment_text, Length: 15903, dtype: object"
      ]
     },
     "execution_count": 2,
     "metadata": {},
     "output_type": "execute_result"
    }
   ],
   "source": [
    "insult2 = pd.read_csv(r'C:\\Users\\warmp\\Documents\\pythonlearning\\AML\\balanced_dataset\\balanced_dataset\\insult2.csv')\n",
    "insult2['comment_text']"
   ]
  },
  {
   "cell_type": "code",
   "execution_count": 3,
   "metadata": {},
   "outputs": [
    {
     "data": {
      "text/plain": [
       "0                              cocksucker piss around work\n",
       "1        gay antisemmitian archangel white tiger meow g...\n",
       "2                               fuck filthy mother ass dry\n",
       "3        stupid peace shit stop delete stuff asshole go...\n",
       "4           tony sidaway obviously fistfuckee love arm ass\n",
       "5        edit good cunts like revert good edit stupid u...\n",
       "6           would shut run wikipedia especially stupid kid\n",
       "7                     pair jew hating weiner nazi schmucks\n",
       "8        fire moronic wimp lazy research make sick peop...\n",
       "9        think fagget get oife burn hell hate 'm sorry ...\n",
       "10       reply loser un define vietnam part southeast a...\n",
       "11                         stupid fuck mother's cunt stink\n",
       "12                                 fuck block faggot pussy\n",
       "13       kill niggers hard others say include racists s...\n",
       "14       burn deck that'd guy's burn deck like think bl...\n",
       "15       u r tw  fuck u gay boyu r smellyfuck ur mum po...\n",
       "16               user worthless goddamn faggot fuck faggot\n",
       "17                                 fuck fuck award go fuck\n",
       "18       keep eye one care ok people put want clean wan...\n",
       "19       fuck  userthe bohemian shinobis yeah that's ri...\n",
       "20       dear mokele right tell people die fire ip addr...\n",
       "21       thank racist experiment page katherine heigl w...\n",
       "22       gay existence cdvf proof sad twat also ugly wi...\n",
       "23       never fuck make mother fuck article fuck edit ...\n",
       "24                                        hi im fuck bitch\n",
       "25       f  k rid worlds fun hate rid worlds fun sh tty...\n",
       "26                             nazi filth impolite jan utc\n",
       "27       dictionaries dare call contribution spam kurd ...\n",
       "28             motherfucking piece crap fuckheads block us\n",
       "29                                    sir imbecile pervert\n",
       "                               ...                        \n",
       "15873                             seem likely descriptions\n",
       "15874    filecti measurementsjpg list deletion file upl...\n",
       "15875    really sorry relatives reasonable person know ...\n",
       "15876    neutrality get professional that's employ huma...\n",
       "15877    assume i'm native speaker english simply accep...\n",
       "15878    would value opinion recent ugly behavior user ...\n",
       "15879    reply mr burdak glad see least reference quote...\n",
       "15880       user page thank revert vandalism talk|contribs\n",
       "15881    i'm gay i'm gay care know sorry sudden outburs...\n",
       "15882    evidence redux i'll frank block come bite late...\n",
       "15883    january utc wikipedia host us us laws copyrigh...\n",
       "15884    discard vandalism complaints recent vandalism ...\n",
       "15885    merge complete remove section recently add con...\n",
       "15886    trust mr want world know he's gay i'm hte minu...\n",
       "15887    see news today press un parque nacional españo...\n",
       "15888    need must careful present historical context w...\n",
       "15889    vergina sun pic within fair use make person kn...\n",
       "15890                                      talk • contribs\n",
       "15891    also please look wikipedia's notability guidel...\n",
       "15892    notice report say i'm webmeister um really mem...\n",
       "15893                        – masada end jewish roman war\n",
       "15894                         people anti catholic biggots\n",
       "15895                                               ignore\n",
       "15896                                  userdrk say article\n",
       "15897    laseractive hi schuminweb confuse removal lase...\n",
       "15898                                  list islamic jihads\n",
       "15899    url update update previous post check today ve...\n",
       "15900    person live canada much right anyone else worl...\n",
       "15901    thank give misuse tool itchy trigger finger ex...\n",
       "15902    base discussion abundantly clear consensus ins...\n",
       "Name: comment_text, Length: 15903, dtype: object"
      ]
     },
     "execution_count": 3,
     "metadata": {},
     "output_type": "execute_result"
    }
   ],
   "source": [
    "insult2['comment_text'] = insult2['comment_text'].str.replace(\"@\",\" \")\n",
    "insult2['comment_text'] = insult2['comment_text'].str.replace(\"/\",\" \")\n",
    "insult2['comment_text'] = insult2['comment_text'].str.replace(\"=\",\" \")\n",
    "insult2['comment_text'] = insult2['comment_text'].str.replace(\"-\",\" \")\n",
    "insult2['comment_text'] = insult2['comment_text'].str.replace(\"±\",\" \")\n",
    "insult2['comment_text'] = insult2['comment_text'].str.replace(\"*\",\" \")\n",
    "insult2['comment_text'] = insult2['comment_text'].str.replace(\"+\",\" \")\n",
    "insult2['comment_text'] = insult2['comment_text'].str.replace(\"-\",\" \")\n",
    "insult2['comment_text'] = insult2['comment_text'].str.replace(\"#\",\" \")\n",
    "insult2['comment_text'] = insult2['comment_text'].str.replace(\"€\",\" \")\n",
    "insult2['comment_text'] = insult2['comment_text'].str.replace(\"Ã\",\" \")\n",
    "insult2['comment_text'] = insult2['comment_text'].str.replace(\"©\",\" \")\n",
    "insult2['comment_text'] = insult2['comment_text'].str.replace(\"Â\",\" \")\n",
    "insult2['comment_text'] = insult2['comment_text'].str.replace(\"$\",\" \")\n",
    "insult2['comment_text'] = insult2['comment_text'].str.replace(\"Ù\",\" \")\n",
    "insult2['comment_text'] = insult2['comment_text'].str.replace(\"#\",\" \")\n",
    "insult2['comment_text'] = insult2['comment_text'].str.replace(\"Ø\",\" \")\n",
    "insult2['comment_text'] = insult2['comment_text'].str.replace(\"§\",\" \")\n",
    "insult2['comment_text'] = insult2['comment_text'].str.replace(\"%\",\" \")\n",
    "insult2['comment_text'] = insult2['comment_text'].str.replace(\"¶\",\" \")\n",
    "insult2['comment_text'] = insult2['comment_text'].str.replace(\"?\",\" \")\n",
    "insult2['comment_text'] = insult2['comment_text'].str.replace(\"&\",\" \")\n",
    "insult2['comment_text'] = insult2['comment_text'].str.replace(\"_\",\" \")\n",
    "insult2['comment_text'] = insult2['comment_text'].str.replace(\"â\",\" \")\n",
    "insult2['comment_text'] = insult2['comment_text'].str.replace(\"Ž\",\" \")\n",
    "insult2['comment_text'] = insult2['comment_text'].str.replace(\"¢\",\" \")\n",
    "insult2['comment_text'] = insult2['comment_text'].str.replace(\"Ý\",\" \")\n",
    "insult2['comment_text'] = insult2['comment_text'].str.replace(\"£\",\" \")\n",
    "insult2['comment_text'] = insult2['comment_text'].str.replace(\"»\",\" \")\n",
    "insult2['comment_text'] = insult2['comment_text'].str.replace(\"œ\",\" \")\n",
    "insult2['comment_text'] = insult2['comment_text'].str.replace(\"¬\",\" \")\n",
    "insult2['comment_text'] = insult2['comment_text'].str.replace(\"Ð\",\" \")\n",
    "insult2['comment_text'] = insult2['comment_text'].str.replace(\"Ç\",\" \")\n",
    "insult2['comment_text'] = insult2['comment_text'].str.replace(\"~\",\" \")\n",
    "insult2['comment_text'] = insult2['comment_text'].str.replace(\"™\",\" \")\n",
    "insult2['comment_text'] = insult2['comment_text'].str.replace(\"·\",\" \")\n",
    "insult2['comment_text'] = insult2['comment_text'].str.replace(\"†\",\" \")\n",
    "insult2['comment_text'] = insult2['comment_text'].str.replace(\"ˆ\",\" \")\n",
    "insult2['comment_text'] = insult2['comment_text'].str.replace(\"Î\",\" \")                                            \n",
    "insult2['comment_text']"
   ]
  },
  {
   "cell_type": "code",
   "execution_count": 4,
   "metadata": {
    "collapsed": true
   },
   "outputs": [],
   "source": [
    "insult2.to_csv('insult2.csv')"
   ]
  },
  {
   "cell_type": "code",
   "execution_count": null,
   "metadata": {
    "collapsed": true
   },
   "outputs": [],
   "source": []
  }
 ],
 "metadata": {
  "kernelspec": {
   "display_name": "Python 3",
   "language": "python",
   "name": "python3"
  },
  "language_info": {
   "codemirror_mode": {
    "name": "ipython",
    "version": 3
   },
   "file_extension": ".py",
   "mimetype": "text/x-python",
   "name": "python",
   "nbconvert_exporter": "python",
   "pygments_lexer": "ipython3",
   "version": "3.6.3"
  }
 },
 "nbformat": 4,
 "nbformat_minor": 2
}
