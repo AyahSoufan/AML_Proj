{
 "cells": [
  {
   "cell_type": "code",
   "execution_count": 1,
   "metadata": {
    "collapsed": true
   },
   "outputs": [],
   "source": [
    "import pandas as pd\n",
    "import os"
   ]
  },
  {
   "cell_type": "code",
   "execution_count": 3,
   "metadata": {},
   "outputs": [
    {
     "data": {
      "text/plain": [
       "'C:\\\\Users\\\\warmp\\\\Documents\\\\pythonlearning\\\\AML'"
      ]
     },
     "execution_count": 3,
     "metadata": {},
     "output_type": "execute_result"
    }
   ],
   "source": [
    "os.getcwd()"
   ]
  },
  {
   "cell_type": "code",
   "execution_count": 2,
   "metadata": {},
   "outputs": [
    {
     "data": {
      "text/plain": [
       "0                              cocksucker piss around work\n",
       "1        gay antisemmitian archangel white tiger meow g...\n",
       "2                               fuck filthy mother ass dry\n",
       "3        get fuck get fuckeeed get drink cant put down/...\n",
       "4        stupid peace shit stop delete stuff asshole go...\n",
       "5          =tony sidaway obviously fistfuckee love arm ass\n",
       "6        band page's deletion think go delete comment p...\n",
       "7        edit good cunts like revert good edit stupid u...\n",
       "8                     pair jew-hating weiner nazi schmucks\n",
       "9        think fagget get oife burn hell hate 'm sorry ...\n",
       "10                         stupid fuck mother's cunt stink\n",
       "11       blatant pov push neither guy make contribution...\n",
       "12                                 fuck block faggot pussy\n",
       "13       kill niggers hard others say include racists s...\n",
       "14       burn deck that'd guy's burn deck like think bl...\n",
       "15       u r tw@ fuck u gay boyu r smellyfuck ur mum po...\n",
       "16               user worthless goddamn faggot fuck faggot\n",
       "17                       fuck administrator authority tell\n",
       "18                                 fuck fuck award go fuck\n",
       "19       matt hardy fucky''italic textmediaexampleogg''...\n",
       "20       fuck -userthe bohemian shinobis yeah that's ri...\n",
       "21       thank racist experiment page katherine heigl w...\n",
       "22       gay existence cdvf proof sad twat also ugly wi...\n",
       "23       never fuck make mother fuck article fuck edit ...\n",
       "24                            fuck wrong muchacho july utc\n",
       "25                                        hi im fuck bitch\n",
       "26       f**k rid worlds fun hate rid worlds fun sh_tty...\n",
       "27                      hello get somebody fix shit around\n",
       "28       dictionaries dare call contribution spam kurd ...\n",
       "29         know dead plane crash jeezz quit bust nut folks\n",
       "                               ...                        \n",
       "17259    hi mention avoid bias would best take current ...\n",
       "17260                                  vandalism vandalism\n",
       "17261    nice source think say something make article m...\n",
       "17262    dont care ban u want go ban anyway everytime m...\n",
       "17263    one final point seriously open rfc think categ...\n",
       "17264    mutual masturbation nothing masturbation non-p...\n",
       "17265    redirect complete let guy know redirect articl...\n",
       "17266                well end youngs basically need - talk\n",
       "17267    falklands war demonstrate continue importance ...\n",
       "17268    time peer review time another peer review part...\n",
       "17269    seem pretty useless seem useless list surely e...\n",
       "17270    lock page lock lgbt right per wikipediasockpup...\n",
       "17271                 wrong grotesquely ugly freak - thank\n",
       "17272                                         know comment\n",
       "17273    okay-so maybe mad keep delete mine however one...\n",
       "17274    kirstie alley resistance make e-penis harder t...\n",
       "17275    first british club beat real madrid bernabeu a...\n",
       "17276                                         keep dec utc\n",
       "17277    user vandal make two entries vandalism suggest...\n",
       "17278    cliftonian remove word jew wikipedia article i...\n",
       "17279    actually quick look online show may indeed wro...\n",
       "17280    move templates please use move command move pa...\n",
       "17281    say editor spew stuff net effect destroy reput...\n",
       "17282    notice hello message send inform currently dis...\n",
       "17283    really jewish == friend jamal say jesus jew co...\n",
       "17284    move page christopher graham disambiguation bo...\n",
       "17285    stupidity arguments argument wpyoutube indeed ...\n",
       "17286    pie edit please add nonsense wikipedia conside...\n",
       "17287    gareth hughes nothing anti-semite hat assyrian...\n",
       "17288    year prior actual formation explanation give e...\n",
       "Name: comment_text, Length: 17289, dtype: object"
      ]
     },
     "execution_count": 2,
     "metadata": {},
     "output_type": "execute_result"
    }
   ],
   "source": [
    "obscene1 = pd.read_csv(r'C:\\Users\\warmp\\Documents\\pythonlearning\\AML\\balanced_dataset\\balanced_dataset\\obscene1.csv')\n",
    "obscene1['comment_text']"
   ]
  },
  {
   "cell_type": "code",
   "execution_count": 3,
   "metadata": {},
   "outputs": [
    {
     "data": {
      "text/plain": [
       "0                              cocksucker piss around work\n",
       "1        gay antisemmitian archangel white tiger meow g...\n",
       "2                               fuck filthy mother ass dry\n",
       "3        get fuck get fuckeeed get drink cant put down ...\n",
       "4        stupid peace shit stop delete stuff asshole go...\n",
       "5           tony sidaway obviously fistfuckee love arm ass\n",
       "6        band page's deletion think go delete comment p...\n",
       "7        edit good cunts like revert good edit stupid u...\n",
       "8                     pair jew hating weiner nazi schmucks\n",
       "9        think fagget get oife burn hell hate 'm sorry ...\n",
       "10                         stupid fuck mother's cunt stink\n",
       "11       blatant pov push neither guy make contribution...\n",
       "12                                 fuck block faggot pussy\n",
       "13       kill niggers hard others say include racists s...\n",
       "14       burn deck that'd guy's burn deck like think bl...\n",
       "15       u r tw  fuck u gay boyu r smellyfuck ur mum po...\n",
       "16               user worthless goddamn faggot fuck faggot\n",
       "17                       fuck administrator authority tell\n",
       "18                                 fuck fuck award go fuck\n",
       "19       matt hardy fucky''italic textmediaexampleogg''...\n",
       "20       fuck  userthe bohemian shinobis yeah that's ri...\n",
       "21       thank racist experiment page katherine heigl w...\n",
       "22       gay existence cdvf proof sad twat also ugly wi...\n",
       "23       never fuck make mother fuck article fuck edit ...\n",
       "24                            fuck wrong muchacho july utc\n",
       "25                                        hi im fuck bitch\n",
       "26       f  k rid worlds fun hate rid worlds fun sh tty...\n",
       "27                      hello get somebody fix shit around\n",
       "28       dictionaries dare call contribution spam kurd ...\n",
       "29         know dead plane crash jeezz quit bust nut folks\n",
       "                               ...                        \n",
       "17259    hi mention avoid bias would best take current ...\n",
       "17260                                  vandalism vandalism\n",
       "17261    nice source think say something make article m...\n",
       "17262    dont care ban u want go ban anyway everytime m...\n",
       "17263    one final point seriously open rfc think categ...\n",
       "17264    mutual masturbation nothing masturbation non p...\n",
       "17265    redirect complete let guy know redirect articl...\n",
       "17266                well end youngs basically need   talk\n",
       "17267    falklands war demonstrate continue importance ...\n",
       "17268    time peer review time another peer review part...\n",
       "17269    seem pretty useless seem useless list surely e...\n",
       "17270    lock page lock lgbt right per wikipediasockpup...\n",
       "17271                 wrong grotesquely ugly freak   thank\n",
       "17272                                         know comment\n",
       "17273    okay so maybe mad keep delete mine however one...\n",
       "17274    kirstie alley resistance make e penis harder t...\n",
       "17275    first british club beat real madrid bernabeu a...\n",
       "17276                                         keep dec utc\n",
       "17277    user vandal make two entries vandalism suggest...\n",
       "17278    cliftonian remove word jew wikipedia article i...\n",
       "17279    actually quick look online show may indeed wro...\n",
       "17280    move templates please use move command move pa...\n",
       "17281    say editor spew stuff net effect destroy reput...\n",
       "17282    notice hello message send inform currently dis...\n",
       "17283    really jewish    friend jamal say jesus jew co...\n",
       "17284    move page christopher graham disambiguation bo...\n",
       "17285    stupidity arguments argument wpyoutube indeed ...\n",
       "17286    pie edit please add nonsense wikipedia conside...\n",
       "17287    gareth hughes nothing anti semite hat assyrian...\n",
       "17288    year prior actual formation explanation give e...\n",
       "Name: comment_text, Length: 17289, dtype: object"
      ]
     },
     "execution_count": 3,
     "metadata": {},
     "output_type": "execute_result"
    }
   ],
   "source": [
    "obscene1['comment_text'] = obscene1['comment_text'].str.replace(\"@\",\" \")\n",
    "obscene1['comment_text'] = obscene1['comment_text'].str.replace(\"/\",\" \")\n",
    "obscene1['comment_text'] = obscene1['comment_text'].str.replace(\"=\",\" \")\n",
    "obscene1['comment_text'] = obscene1['comment_text'].str.replace(\"-\",\" \")\n",
    "obscene1['comment_text'] = obscene1['comment_text'].str.replace(\"±\",\" \")\n",
    "obscene1['comment_text'] = obscene1['comment_text'].str.replace(\"*\",\" \")\n",
    "obscene1['comment_text'] = obscene1['comment_text'].str.replace(\"+\",\" \")\n",
    "obscene1['comment_text'] = obscene1['comment_text'].str.replace(\"-\",\" \")\n",
    "obscene1['comment_text'] = obscene1['comment_text'].str.replace(\"#\",\" \")\n",
    "obscene1['comment_text'] = obscene1['comment_text'].str.replace(\"€\",\" \")\n",
    "obscene1['comment_text'] = obscene1['comment_text'].str.replace(\"Ã\",\" \")\n",
    "obscene1['comment_text'] = obscene1['comment_text'].str.replace(\"©\",\" \")\n",
    "obscene1['comment_text'] = obscene1['comment_text'].str.replace(\"Â\",\" \")\n",
    "obscene1['comment_text'] = obscene1['comment_text'].str.replace(\"$\",\" \")\n",
    "obscene1['comment_text'] = obscene1['comment_text'].str.replace(\"Ù\",\" \")\n",
    "obscene1['comment_text'] = obscene1['comment_text'].str.replace(\"#\",\" \")\n",
    "obscene1['comment_text'] = obscene1['comment_text'].str.replace(\"Ø\",\" \")\n",
    "obscene1['comment_text'] = obscene1['comment_text'].str.replace(\"§\",\" \")\n",
    "obscene1['comment_text'] = obscene1['comment_text'].str.replace(\"%\",\" \")\n",
    "obscene1['comment_text'] = obscene1['comment_text'].str.replace(\"¶\",\" \")\n",
    "obscene1['comment_text'] = obscene1['comment_text'].str.replace(\"?\",\" \")\n",
    "obscene1['comment_text'] = obscene1['comment_text'].str.replace(\"&\",\" \")\n",
    "obscene1['comment_text'] = obscene1['comment_text'].str.replace(\"_\",\" \")\n",
    "obscene1['comment_text'] = obscene1['comment_text'].str.replace(\"â\",\" \")\n",
    "obscene1['comment_text'] = obscene1['comment_text'].str.replace(\"Ž\",\" \")\n",
    "obscene1['comment_text'] = obscene1['comment_text'].str.replace(\"¢\",\" \")\n",
    "obscene1['comment_text'] = obscene1['comment_text'].str.replace(\"Ý\",\" \")\n",
    "obscene1['comment_text'] = obscene1['comment_text'].str.replace(\"£\",\" \")\n",
    "obscene1['comment_text'] = obscene1['comment_text'].str.replace(\"»\",\" \")\n",
    "obscene1['comment_text'] = obscene1['comment_text'].str.replace(\"œ\",\" \")\n",
    "obscene1['comment_text'] = obscene1['comment_text'].str.replace(\"¬\",\" \")\n",
    "obscene1['comment_text'] = obscene1['comment_text'].str.replace(\"Ð\",\" \")\n",
    "obscene1['comment_text'] = obscene1['comment_text'].str.replace(\"Ç\",\" \")\n",
    "obscene1['comment_text'] = obscene1['comment_text'].str.replace(\"~\",\" \")\n",
    "obscene1['comment_text'] = obscene1['comment_text'].str.replace(\"™\",\" \")\n",
    "obscene1['comment_text'] = obscene1['comment_text'].str.replace(\"·\",\" \")\n",
    "obscene1['comment_text'] = obscene1['comment_text'].str.replace(\"†\",\" \")\n",
    "obscene1['comment_text'] = obscene1['comment_text'].str.replace(\"ˆ\",\" \")\n",
    "obscene1['comment_text'] = obscene1['comment_text'].str.replace(\"Î\",\" \")                                            \n",
    "obscene1['comment_text']"
   ]
  },
  {
   "cell_type": "code",
   "execution_count": 4,
   "metadata": {
    "collapsed": true
   },
   "outputs": [],
   "source": [
    "obscene1.to_csv('obscene1.csv')"
   ]
  },
  {
   "cell_type": "code",
   "execution_count": null,
   "metadata": {
    "collapsed": true
   },
   "outputs": [],
   "source": []
  }
 ],
 "metadata": {
  "kernelspec": {
   "display_name": "Python 3",
   "language": "python",
   "name": "python3"
  },
  "language_info": {
   "codemirror_mode": {
    "name": "ipython",
    "version": 3
   },
   "file_extension": ".py",
   "mimetype": "text/x-python",
   "name": "python",
   "nbconvert_exporter": "python",
   "pygments_lexer": "ipython3",
   "version": "3.6.3"
  }
 },
 "nbformat": 4,
 "nbformat_minor": 2
}
