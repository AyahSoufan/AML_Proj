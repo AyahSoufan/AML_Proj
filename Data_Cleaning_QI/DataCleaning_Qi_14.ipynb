{
 "cells": [
  {
   "cell_type": "code",
   "execution_count": 2,
   "metadata": {
    "collapsed": true
   },
   "outputs": [],
   "source": [
    "import pandas as pd\n",
    "import os"
   ]
  },
  {
   "cell_type": "code",
   "execution_count": 3,
   "metadata": {},
   "outputs": [
    {
     "data": {
      "text/plain": [
       "'C:\\\\Users\\\\warmp\\\\Documents\\\\pythonlearning\\\\AML'"
      ]
     },
     "execution_count": 3,
     "metadata": {},
     "output_type": "execute_result"
    }
   ],
   "source": [
    "os.getcwd()"
   ]
  },
  {
   "cell_type": "code",
   "execution_count": 3,
   "metadata": {},
   "outputs": [
    {
     "data": {
      "text/plain": [
       "0                              cocksucker piss around work\n",
       "1        gay antisemmitian archangel white tiger meow g...\n",
       "2                               fuck filthy mother ass dry\n",
       "3        get fuck get fuckeeed get drink cant put down/...\n",
       "4        stupid peace shit stop delete stuff asshole go...\n",
       "5          =tony sidaway obviously fistfuckee love arm ass\n",
       "6        band page's deletion think go delete comment p...\n",
       "7        edit good cunts like revert good edit stupid u...\n",
       "8                     pair jew-hating weiner nazi schmucks\n",
       "9        think fagget get oife burn hell hate 'm sorry ...\n",
       "10                         stupid fuck mother's cunt stink\n",
       "11       blatant pov push neither guy make contribution...\n",
       "12                                 fuck block faggot pussy\n",
       "13       kill niggers hard others say include racists s...\n",
       "14       burn deck that'd guy's burn deck like think bl...\n",
       "15       u r tw@ fuck u gay boyu r smellyfuck ur mum po...\n",
       "16               user worthless goddamn faggot fuck faggot\n",
       "17                       fuck administrator authority tell\n",
       "18                                 fuck fuck award go fuck\n",
       "19       matt hardy fucky''italic textmediaexampleogg''...\n",
       "20       fuck -userthe bohemian shinobis yeah that's ri...\n",
       "21       thank racist experiment page katherine heigl w...\n",
       "22       gay existence cdvf proof sad twat also ugly wi...\n",
       "23       never fuck make mother fuck article fuck edit ...\n",
       "24                            fuck wrong muchacho july utc\n",
       "25                                        hi im fuck bitch\n",
       "26       f**k rid worlds fun hate rid worlds fun sh_tty...\n",
       "27                      hello get somebody fix shit around\n",
       "28       dictionaries dare call contribution spam kurd ...\n",
       "29         know dead plane crash jeezz quit bust nut folks\n",
       "                               ...                        \n",
       "17299    two years later still tell great graphic make ...\n",
       "17300    gt pro series gt cube separate game many regar...\n",
       "17301    notice make claim contain reliable source rele...\n",
       "17302    stick energy mass charge gravity cant mass wit...\n",
       "17303    consistency nomenclature air force like suffix...\n",
       "17304    oh sorry come back clarify neutral rfa real-li...\n",
       "17305                                maylene sons disaster\n",
       "17306    hi бидэрбат welcome wikipedia hope like place ...\n",
       "17307    instrument say kim hyung joong able play violi...\n",
       "17308    team raider even appear game darkness time tak...\n",
       "17309    i'm sure problem page problem portugese wikipe...\n",
       "17310    notability park lot proposal article park lot ...\n",
       "17311    concur i'm sure gavin understand can't keep wi...\n",
       "17312    david duke jewish anti-racist organisations co...\n",
       "17313               fix aretaeus quote misattributed plato\n",
       "17314                        talk page place discuss stuff\n",
       "17315    welcome hello prahal welcome wikipedia thank c...\n",
       "17316    argument create - seem zealous wikipedians ide...\n",
       "17317    review comment article need expansion emphasis...\n",
       "17318    korean article hi notice take part discussion ...\n",
       "17319    macedonian disambiguation ask u administrative...\n",
       "17320    image source problem imageb caddjpg thank uplo...\n",
       "17321    guthrie-meyer race guthrie-meyer race shut per...\n",
       "17322    talkback goddammit much easier sysop get bite ...\n",
       "17323    mostly use frank's downfall quote surrender ja...\n",
       "17324    teen sorry able reply sooner computer days hop...\n",
       "17325    utc lol would spend much time find quote come ...\n",
       "17326    simply wrong insert article remarkably first t...\n",
       "17327                                 yo wrong get ya mean\n",
       "17328    think i'd let know description wake fright pos...\n",
       "Name: comment_text, Length: 17329, dtype: object"
      ]
     },
     "execution_count": 3,
     "metadata": {},
     "output_type": "execute_result"
    }
   ],
   "source": [
    "obscene4 = pd.read_csv(r'C:\\Users\\warmp\\Documents\\pythonlearning\\AML\\balanced_dataset\\balanced_dataset\\obscene4.csv')\n",
    "obscene4['comment_text']"
   ]
  },
  {
   "cell_type": "code",
   "execution_count": 4,
   "metadata": {},
   "outputs": [
    {
     "data": {
      "text/plain": [
       "0                              cocksucker piss around work\n",
       "1        gay antisemmitian archangel white tiger meow g...\n",
       "2                               fuck filthy mother ass dry\n",
       "3        get fuck get fuckeeed get drink cant put down ...\n",
       "4        stupid peace shit stop delete stuff asshole go...\n",
       "5           tony sidaway obviously fistfuckee love arm ass\n",
       "6        band page's deletion think go delete comment p...\n",
       "7        edit good cunts like revert good edit stupid u...\n",
       "8                     pair jew hating weiner nazi schmucks\n",
       "9        think fagget get oife burn hell hate 'm sorry ...\n",
       "10                         stupid fuck mother's cunt stink\n",
       "11       blatant pov push neither guy make contribution...\n",
       "12                                 fuck block faggot pussy\n",
       "13       kill niggers hard others say include racists s...\n",
       "14       burn deck that'd guy's burn deck like think bl...\n",
       "15       u r tw  fuck u gay boyu r smellyfuck ur mum po...\n",
       "16               user worthless goddamn faggot fuck faggot\n",
       "17                       fuck administrator authority tell\n",
       "18                                 fuck fuck award go fuck\n",
       "19       matt hardy fucky''italic textmediaexampleogg''...\n",
       "20       fuck  userthe bohemian shinobis yeah that's ri...\n",
       "21       thank racist experiment page katherine heigl w...\n",
       "22       gay existence cdvf proof sad twat also ugly wi...\n",
       "23       never fuck make mother fuck article fuck edit ...\n",
       "24                            fuck wrong muchacho july utc\n",
       "25                                        hi im fuck bitch\n",
       "26       f  k rid worlds fun hate rid worlds fun sh tty...\n",
       "27                      hello get somebody fix shit around\n",
       "28       dictionaries dare call contribution spam kurd ...\n",
       "29         know dead plane crash jeezz quit bust nut folks\n",
       "                               ...                        \n",
       "17299    two years later still tell great graphic make ...\n",
       "17300    gt pro series gt cube separate game many regar...\n",
       "17301    notice make claim contain reliable source rele...\n",
       "17302    stick energy mass charge gravity cant mass wit...\n",
       "17303    consistency nomenclature air force like suffix...\n",
       "17304    oh sorry come back clarify neutral rfa real li...\n",
       "17305                                maylene sons disaster\n",
       "17306    hi бидэрбат welcome wikipedia hope like place ...\n",
       "17307    instrument say kim hyung joong able play violi...\n",
       "17308    team raider even appear game darkness time tak...\n",
       "17309    i'm sure problem page problem portugese wikipe...\n",
       "17310    notability park lot proposal article park lot ...\n",
       "17311    concur i'm sure gavin understand can't keep wi...\n",
       "17312    david duke jewish anti racist organisations co...\n",
       "17313               fix aretaeus quote misattributed plato\n",
       "17314                        talk page place discuss stuff\n",
       "17315    welcome hello prahal welcome wikipedia thank c...\n",
       "17316    argument create   seem zealous wikipedians ide...\n",
       "17317    review comment article need expansion emphasis...\n",
       "17318    korean article hi notice take part discussion ...\n",
       "17319    macedonian disambiguation ask u administrative...\n",
       "17320    image source problem imageb caddjpg thank uplo...\n",
       "17321    guthrie meyer race guthrie meyer race shut per...\n",
       "17322    talkback goddammit much easier sysop get bite ...\n",
       "17323    mostly use frank's downfall quote surrender ja...\n",
       "17324    teen sorry able reply sooner computer days hop...\n",
       "17325    utc lol would spend much time find quote come ...\n",
       "17326    simply wrong insert article remarkably first t...\n",
       "17327                                 yo wrong get ya mean\n",
       "17328    think i'd let know description wake fright pos...\n",
       "Name: comment_text, Length: 17329, dtype: object"
      ]
     },
     "execution_count": 4,
     "metadata": {},
     "output_type": "execute_result"
    }
   ],
   "source": [
    "obscene4['comment_text'] = obscene4['comment_text'].str.replace(\"@\",\" \")\n",
    "obscene4['comment_text'] = obscene4['comment_text'].str.replace(\"/\",\" \")\n",
    "obscene4['comment_text'] = obscene4['comment_text'].str.replace(\"=\",\" \")\n",
    "obscene4['comment_text'] = obscene4['comment_text'].str.replace(\"-\",\" \")\n",
    "obscene4['comment_text'] = obscene4['comment_text'].str.replace(\"±\",\" \")\n",
    "obscene4['comment_text'] = obscene4['comment_text'].str.replace(\"*\",\" \")\n",
    "obscene4['comment_text'] = obscene4['comment_text'].str.replace(\"+\",\" \")\n",
    "obscene4['comment_text'] = obscene4['comment_text'].str.replace(\"-\",\" \")\n",
    "obscene4['comment_text'] = obscene4['comment_text'].str.replace(\"#\",\" \")\n",
    "obscene4['comment_text'] = obscene4['comment_text'].str.replace(\"€\",\" \")\n",
    "obscene4['comment_text'] = obscene4['comment_text'].str.replace(\"Ã\",\" \")\n",
    "obscene4['comment_text'] = obscene4['comment_text'].str.replace(\"©\",\" \")\n",
    "obscene4['comment_text'] = obscene4['comment_text'].str.replace(\"Â\",\" \")\n",
    "obscene4['comment_text'] = obscene4['comment_text'].str.replace(\"$\",\" \")\n",
    "obscene4['comment_text'] = obscene4['comment_text'].str.replace(\"Ù\",\" \")\n",
    "obscene4['comment_text'] = obscene4['comment_text'].str.replace(\"#\",\" \")\n",
    "obscene4['comment_text'] = obscene4['comment_text'].str.replace(\"Ø\",\" \")\n",
    "obscene4['comment_text'] = obscene4['comment_text'].str.replace(\"§\",\" \")\n",
    "obscene4['comment_text'] = obscene4['comment_text'].str.replace(\"%\",\" \")\n",
    "obscene4['comment_text'] = obscene4['comment_text'].str.replace(\"¶\",\" \")\n",
    "obscene4['comment_text'] = obscene4['comment_text'].str.replace(\"?\",\" \")\n",
    "obscene4['comment_text'] = obscene4['comment_text'].str.replace(\"&\",\" \")\n",
    "obscene4['comment_text'] = obscene4['comment_text'].str.replace(\"_\",\" \")\n",
    "obscene4['comment_text'] = obscene4['comment_text'].str.replace(\"â\",\" \")\n",
    "obscene4['comment_text'] = obscene4['comment_text'].str.replace(\"Ž\",\" \")\n",
    "obscene4['comment_text'] = obscene4['comment_text'].str.replace(\"¢\",\" \")\n",
    "obscene4['comment_text'] = obscene4['comment_text'].str.replace(\"Ý\",\" \")\n",
    "obscene4['comment_text'] = obscene4['comment_text'].str.replace(\"£\",\" \")\n",
    "obscene4['comment_text'] = obscene4['comment_text'].str.replace(\"»\",\" \")\n",
    "obscene4['comment_text'] = obscene4['comment_text'].str.replace(\"œ\",\" \")\n",
    "obscene4['comment_text'] = obscene4['comment_text'].str.replace(\"¬\",\" \")\n",
    "obscene4['comment_text'] = obscene4['comment_text'].str.replace(\"Ð\",\" \")\n",
    "obscene4['comment_text'] = obscene4['comment_text'].str.replace(\"Ç\",\" \")\n",
    "obscene4['comment_text'] = obscene4['comment_text'].str.replace(\"~\",\" \")\n",
    "obscene4['comment_text'] = obscene4['comment_text'].str.replace(\"™\",\" \")\n",
    "obscene4['comment_text'] = obscene4['comment_text'].str.replace(\"·\",\" \")\n",
    "obscene4['comment_text'] = obscene4['comment_text'].str.replace(\"†\",\" \")\n",
    "obscene4['comment_text'] = obscene4['comment_text'].str.replace(\"ˆ\",\" \")\n",
    "obscene4['comment_text'] = obscene4['comment_text'].str.replace(\"Î\",\" \")                                            \n",
    "obscene4['comment_text']"
   ]
  },
  {
   "cell_type": "code",
   "execution_count": 5,
   "metadata": {
    "collapsed": true
   },
   "outputs": [],
   "source": [
    "obscene4.to_csv('obscene4.csv')"
   ]
  },
  {
   "cell_type": "code",
   "execution_count": null,
   "metadata": {
    "collapsed": true
   },
   "outputs": [],
   "source": []
  }
 ],
 "metadata": {
  "kernelspec": {
   "display_name": "Python 3",
   "language": "python",
   "name": "python3"
  },
  "language_info": {
   "codemirror_mode": {
    "name": "ipython",
    "version": 3
   },
   "file_extension": ".py",
   "mimetype": "text/x-python",
   "name": "python",
   "nbconvert_exporter": "python",
   "pygments_lexer": "ipython3",
   "version": "3.6.3"
  }
 },
 "nbformat": 4,
 "nbformat_minor": 2
}
